{
  "cells": [
    {
      "cell_type": "markdown",
      "metadata": {
        "id": "7r_tfOXJFAPz"
      },
      "source": [
        "# Задание 1"
      ]
    },
    {
      "cell_type": "code",
      "execution_count": 135,
      "metadata": {
        "colab": {
          "base_uri": "https://localhost:8080/"
        },
        "id": "r_nwpe1WJLVo",
        "outputId": "67a73ae6-e12e-4b22-e03e-a9cdf3443faa"
      },
      "outputs": [
        {
          "output_type": "stream",
          "name": "stdout",
          "text": [
            "Requirement already satisfied: scikit-learn in /usr/local/lib/python3.7/dist-packages (1.0.2)\n",
            "Requirement already satisfied: numpy>=1.14.6 in /usr/local/lib/python3.7/dist-packages (from scikit-learn) (1.21.5)\n",
            "Requirement already satisfied: scipy>=1.1.0 in /usr/local/lib/python3.7/dist-packages (from scikit-learn) (1.4.1)\n",
            "Requirement already satisfied: joblib>=0.11 in /usr/local/lib/python3.7/dist-packages (from scikit-learn) (1.1.0)\n",
            "Requirement already satisfied: threadpoolctl>=2.0.0 in /usr/local/lib/python3.7/dist-packages (from scikit-learn) (3.1.0)\n"
          ]
        }
      ],
      "source": [
        "# https://scikit-learn.org/stable/install.html\n",
        "\n",
        "!pip install scikit-learn"
      ]
    },
    {
      "cell_type": "code",
      "execution_count": 136,
      "metadata": {
        "id": "WoY_ywGz4Cdj"
      },
      "outputs": [],
      "source": [
        "import pandas as pd\n",
        "import seaborn as sns\n",
        "\n",
        "dataset = pd.read_csv('balanced_bank_preprocessed.csv')\n",
        "del dataset['Unnamed: 0.1']\n",
        "del dataset['Unnamed: 0']"
      ]
    },
    {
      "cell_type": "code",
      "execution_count": 137,
      "metadata": {
        "colab": {
          "base_uri": "https://localhost:8080/",
          "height": 300
        },
        "id": "N27Xpvxy4Fr7",
        "outputId": "eb73fffd-b415-4a4f-d42d-31660417c955"
      },
      "outputs": [
        {
          "output_type": "execute_result",
          "data": {
            "text/plain": [
              "   age  job_cl  marital_cl  education_cl  default_cl  housing_cl  loan_cl  \\\n",
              "0   35       0           1             0           0           0        0   \n",
              "1   42       2           0             3           0           1        0   \n",
              "2   36       0           0             0           0           1        0   \n",
              "3   37       0           0             1           0           0        1   \n",
              "4   31       4           1             0           0           0        0   \n",
              "\n",
              "   contact_cl  month_cl  day_of_week_cl  ...  campaign  pdays  previous  \\\n",
              "0           0         2               3  ...         1    999         1   \n",
              "1           1         2               1  ...         1    999         0   \n",
              "2           0         5               0  ...         2    999         0   \n",
              "3           1         4               2  ...         2    999         0   \n",
              "4           0         1               3  ...         1    999         0   \n",
              "\n",
              "   poutcome_cl  emp.var.rate  cons.price.idx  cons.conf.idx  euribor3m  \\\n",
              "0            1          -1.8          92.893          -46.2      1.266   \n",
              "1            0           1.1          93.994          -36.4      4.857   \n",
              "2            0           1.4          93.444          -36.1      4.965   \n",
              "3            0           1.4          93.918          -42.7      4.963   \n",
              "4            0          -1.8          93.075          -47.1      1.365   \n",
              "\n",
              "   nr.employed  y_cl  \n",
              "0       5099.1     0  \n",
              "1       5191.0     1  \n",
              "2       5228.1     1  \n",
              "3       5228.1     1  \n",
              "4       5099.1     0  \n",
              "\n",
              "[5 rows x 21 columns]"
            ],
            "text/html": [
              "\n",
              "  <div id=\"df-8afc7237-d83e-49aa-a71d-7776da21ca63\">\n",
              "    <div class=\"colab-df-container\">\n",
              "      <div>\n",
              "<style scoped>\n",
              "    .dataframe tbody tr th:only-of-type {\n",
              "        vertical-align: middle;\n",
              "    }\n",
              "\n",
              "    .dataframe tbody tr th {\n",
              "        vertical-align: top;\n",
              "    }\n",
              "\n",
              "    .dataframe thead th {\n",
              "        text-align: right;\n",
              "    }\n",
              "</style>\n",
              "<table border=\"1\" class=\"dataframe\">\n",
              "  <thead>\n",
              "    <tr style=\"text-align: right;\">\n",
              "      <th></th>\n",
              "      <th>age</th>\n",
              "      <th>job_cl</th>\n",
              "      <th>marital_cl</th>\n",
              "      <th>education_cl</th>\n",
              "      <th>default_cl</th>\n",
              "      <th>housing_cl</th>\n",
              "      <th>loan_cl</th>\n",
              "      <th>contact_cl</th>\n",
              "      <th>month_cl</th>\n",
              "      <th>day_of_week_cl</th>\n",
              "      <th>...</th>\n",
              "      <th>campaign</th>\n",
              "      <th>pdays</th>\n",
              "      <th>previous</th>\n",
              "      <th>poutcome_cl</th>\n",
              "      <th>emp.var.rate</th>\n",
              "      <th>cons.price.idx</th>\n",
              "      <th>cons.conf.idx</th>\n",
              "      <th>euribor3m</th>\n",
              "      <th>nr.employed</th>\n",
              "      <th>y_cl</th>\n",
              "    </tr>\n",
              "  </thead>\n",
              "  <tbody>\n",
              "    <tr>\n",
              "      <th>0</th>\n",
              "      <td>35</td>\n",
              "      <td>0</td>\n",
              "      <td>1</td>\n",
              "      <td>0</td>\n",
              "      <td>0</td>\n",
              "      <td>0</td>\n",
              "      <td>0</td>\n",
              "      <td>0</td>\n",
              "      <td>2</td>\n",
              "      <td>3</td>\n",
              "      <td>...</td>\n",
              "      <td>1</td>\n",
              "      <td>999</td>\n",
              "      <td>1</td>\n",
              "      <td>1</td>\n",
              "      <td>-1.8</td>\n",
              "      <td>92.893</td>\n",
              "      <td>-46.2</td>\n",
              "      <td>1.266</td>\n",
              "      <td>5099.1</td>\n",
              "      <td>0</td>\n",
              "    </tr>\n",
              "    <tr>\n",
              "      <th>1</th>\n",
              "      <td>42</td>\n",
              "      <td>2</td>\n",
              "      <td>0</td>\n",
              "      <td>3</td>\n",
              "      <td>0</td>\n",
              "      <td>1</td>\n",
              "      <td>0</td>\n",
              "      <td>1</td>\n",
              "      <td>2</td>\n",
              "      <td>1</td>\n",
              "      <td>...</td>\n",
              "      <td>1</td>\n",
              "      <td>999</td>\n",
              "      <td>0</td>\n",
              "      <td>0</td>\n",
              "      <td>1.1</td>\n",
              "      <td>93.994</td>\n",
              "      <td>-36.4</td>\n",
              "      <td>4.857</td>\n",
              "      <td>5191.0</td>\n",
              "      <td>1</td>\n",
              "    </tr>\n",
              "    <tr>\n",
              "      <th>2</th>\n",
              "      <td>36</td>\n",
              "      <td>0</td>\n",
              "      <td>0</td>\n",
              "      <td>0</td>\n",
              "      <td>0</td>\n",
              "      <td>1</td>\n",
              "      <td>0</td>\n",
              "      <td>0</td>\n",
              "      <td>5</td>\n",
              "      <td>0</td>\n",
              "      <td>...</td>\n",
              "      <td>2</td>\n",
              "      <td>999</td>\n",
              "      <td>0</td>\n",
              "      <td>0</td>\n",
              "      <td>1.4</td>\n",
              "      <td>93.444</td>\n",
              "      <td>-36.1</td>\n",
              "      <td>4.965</td>\n",
              "      <td>5228.1</td>\n",
              "      <td>1</td>\n",
              "    </tr>\n",
              "    <tr>\n",
              "      <th>3</th>\n",
              "      <td>37</td>\n",
              "      <td>0</td>\n",
              "      <td>0</td>\n",
              "      <td>1</td>\n",
              "      <td>0</td>\n",
              "      <td>0</td>\n",
              "      <td>1</td>\n",
              "      <td>1</td>\n",
              "      <td>4</td>\n",
              "      <td>2</td>\n",
              "      <td>...</td>\n",
              "      <td>2</td>\n",
              "      <td>999</td>\n",
              "      <td>0</td>\n",
              "      <td>0</td>\n",
              "      <td>1.4</td>\n",
              "      <td>93.918</td>\n",
              "      <td>-42.7</td>\n",
              "      <td>4.963</td>\n",
              "      <td>5228.1</td>\n",
              "      <td>1</td>\n",
              "    </tr>\n",
              "    <tr>\n",
              "      <th>4</th>\n",
              "      <td>31</td>\n",
              "      <td>4</td>\n",
              "      <td>1</td>\n",
              "      <td>0</td>\n",
              "      <td>0</td>\n",
              "      <td>0</td>\n",
              "      <td>0</td>\n",
              "      <td>0</td>\n",
              "      <td>1</td>\n",
              "      <td>3</td>\n",
              "      <td>...</td>\n",
              "      <td>1</td>\n",
              "      <td>999</td>\n",
              "      <td>0</td>\n",
              "      <td>0</td>\n",
              "      <td>-1.8</td>\n",
              "      <td>93.075</td>\n",
              "      <td>-47.1</td>\n",
              "      <td>1.365</td>\n",
              "      <td>5099.1</td>\n",
              "      <td>0</td>\n",
              "    </tr>\n",
              "  </tbody>\n",
              "</table>\n",
              "<p>5 rows × 21 columns</p>\n",
              "</div>\n",
              "      <button class=\"colab-df-convert\" onclick=\"convertToInteractive('df-8afc7237-d83e-49aa-a71d-7776da21ca63')\"\n",
              "              title=\"Convert this dataframe to an interactive table.\"\n",
              "              style=\"display:none;\">\n",
              "        \n",
              "  <svg xmlns=\"http://www.w3.org/2000/svg\" height=\"24px\"viewBox=\"0 0 24 24\"\n",
              "       width=\"24px\">\n",
              "    <path d=\"M0 0h24v24H0V0z\" fill=\"none\"/>\n",
              "    <path d=\"M18.56 5.44l.94 2.06.94-2.06 2.06-.94-2.06-.94-.94-2.06-.94 2.06-2.06.94zm-11 1L8.5 8.5l.94-2.06 2.06-.94-2.06-.94L8.5 2.5l-.94 2.06-2.06.94zm10 10l.94 2.06.94-2.06 2.06-.94-2.06-.94-.94-2.06-.94 2.06-2.06.94z\"/><path d=\"M17.41 7.96l-1.37-1.37c-.4-.4-.92-.59-1.43-.59-.52 0-1.04.2-1.43.59L10.3 9.45l-7.72 7.72c-.78.78-.78 2.05 0 2.83L4 21.41c.39.39.9.59 1.41.59.51 0 1.02-.2 1.41-.59l7.78-7.78 2.81-2.81c.8-.78.8-2.07 0-2.86zM5.41 20L4 18.59l7.72-7.72 1.47 1.35L5.41 20z\"/>\n",
              "  </svg>\n",
              "      </button>\n",
              "      \n",
              "  <style>\n",
              "    .colab-df-container {\n",
              "      display:flex;\n",
              "      flex-wrap:wrap;\n",
              "      gap: 12px;\n",
              "    }\n",
              "\n",
              "    .colab-df-convert {\n",
              "      background-color: #E8F0FE;\n",
              "      border: none;\n",
              "      border-radius: 50%;\n",
              "      cursor: pointer;\n",
              "      display: none;\n",
              "      fill: #1967D2;\n",
              "      height: 32px;\n",
              "      padding: 0 0 0 0;\n",
              "      width: 32px;\n",
              "    }\n",
              "\n",
              "    .colab-df-convert:hover {\n",
              "      background-color: #E2EBFA;\n",
              "      box-shadow: 0px 1px 2px rgba(60, 64, 67, 0.3), 0px 1px 3px 1px rgba(60, 64, 67, 0.15);\n",
              "      fill: #174EA6;\n",
              "    }\n",
              "\n",
              "    [theme=dark] .colab-df-convert {\n",
              "      background-color: #3B4455;\n",
              "      fill: #D2E3FC;\n",
              "    }\n",
              "\n",
              "    [theme=dark] .colab-df-convert:hover {\n",
              "      background-color: #434B5C;\n",
              "      box-shadow: 0px 1px 3px 1px rgba(0, 0, 0, 0.15);\n",
              "      filter: drop-shadow(0px 1px 2px rgba(0, 0, 0, 0.3));\n",
              "      fill: #FFFFFF;\n",
              "    }\n",
              "  </style>\n",
              "\n",
              "      <script>\n",
              "        const buttonEl =\n",
              "          document.querySelector('#df-8afc7237-d83e-49aa-a71d-7776da21ca63 button.colab-df-convert');\n",
              "        buttonEl.style.display =\n",
              "          google.colab.kernel.accessAllowed ? 'block' : 'none';\n",
              "\n",
              "        async function convertToInteractive(key) {\n",
              "          const element = document.querySelector('#df-8afc7237-d83e-49aa-a71d-7776da21ca63');\n",
              "          const dataTable =\n",
              "            await google.colab.kernel.invokeFunction('convertToInteractive',\n",
              "                                                     [key], {});\n",
              "          if (!dataTable) return;\n",
              "\n",
              "          const docLinkHtml = 'Like what you see? Visit the ' +\n",
              "            '<a target=\"_blank\" href=https://colab.research.google.com/notebooks/data_table.ipynb>data table notebook</a>'\n",
              "            + ' to learn more about interactive tables.';\n",
              "          element.innerHTML = '';\n",
              "          dataTable['output_type'] = 'display_data';\n",
              "          await google.colab.output.renderOutput(dataTable, element);\n",
              "          const docLink = document.createElement('div');\n",
              "          docLink.innerHTML = docLinkHtml;\n",
              "          element.appendChild(docLink);\n",
              "        }\n",
              "      </script>\n",
              "    </div>\n",
              "  </div>\n",
              "  "
            ]
          },
          "metadata": {},
          "execution_count": 137
        }
      ],
      "source": [
        "dataset.head()"
      ]
    },
    {
      "cell_type": "code",
      "source": [
        "dataset.describe()"
      ],
      "metadata": {
        "colab": {
          "base_uri": "https://localhost:8080/",
          "height": 394
        },
        "id": "s0g1ZGb9c1ef",
        "outputId": "c857cdc1-850e-4039-9d5e-7f13c08046eb"
      },
      "execution_count": 138,
      "outputs": [
        {
          "output_type": "execute_result",
          "data": {
            "text/plain": [
              "               age       job_cl   marital_cl  education_cl   default_cl  \\\n",
              "count  9280.000000  9280.000000  9280.000000   9280.000000  9280.000000   \n",
              "mean     40.458836     2.638578     0.529203      1.774677     0.161961   \n",
              "std      11.963006     2.822053     0.688934      1.790512     0.368435   \n",
              "min      17.000000     0.000000     0.000000      0.000000     0.000000   \n",
              "25%      32.000000     0.000000     0.000000      0.000000     0.000000   \n",
              "50%      38.000000     2.000000     0.000000      1.000000     0.000000   \n",
              "75%      48.000000     4.000000     1.000000      3.000000     0.000000   \n",
              "max      98.000000    11.000000     3.000000      7.000000     1.000000   \n",
              "\n",
              "        housing_cl      loan_cl   contact_cl     month_cl  day_of_week_cl  \\\n",
              "count  9280.000000  9280.000000  9280.000000  9280.000000     9280.000000   \n",
              "mean      0.491487     0.194720     0.286099     3.698276        1.986746   \n",
              "std       0.544924     0.451452     0.451961     2.204815        1.395085   \n",
              "min       0.000000     0.000000     0.000000     0.000000        0.000000   \n",
              "25%       0.000000     0.000000     0.000000     2.000000        1.000000   \n",
              "50%       0.000000     0.000000     0.000000     3.000000        2.000000   \n",
              "75%       1.000000     0.000000     1.000000     5.000000        3.000000   \n",
              "max       2.000000     2.000000     1.000000     9.000000        4.000000   \n",
              "\n",
              "       ...     campaign        pdays     previous  poutcome_cl  emp.var.rate  \\\n",
              "count  ...  9280.000000  9280.000000  9280.000000  9280.000000   9280.000000   \n",
              "mean   ...     2.320905   888.347198     0.316703     0.324784     -0.492748   \n",
              "std    ...     2.294474   312.500496     0.699808     0.651716      1.723356   \n",
              "min    ...     1.000000     0.000000     0.000000     0.000000     -3.400000   \n",
              "25%    ...     1.000000   999.000000     0.000000     0.000000     -1.800000   \n",
              "50%    ...     2.000000   999.000000     0.000000     0.000000     -0.100000   \n",
              "75%    ...     3.000000   999.000000     0.000000     0.000000      1.400000   \n",
              "max    ...    35.000000   999.000000     6.000000     2.000000      1.400000   \n",
              "\n",
              "       cons.price.idx  cons.conf.idx    euribor3m  nr.employed         y_cl  \n",
              "count     9280.000000    9280.000000  9280.000000  9280.000000  9280.000000  \n",
              "mean        93.482002     -40.181897     2.968123  5135.510938     0.500000  \n",
              "std          0.634630       5.359290     1.890823    87.040463     0.500027  \n",
              "min         92.201000     -50.800000     0.634000  4963.600000     0.000000  \n",
              "25%         92.893000     -42.700000     1.244000  5076.200000     0.000000  \n",
              "50%         93.444000     -41.800000     4.021000  5191.000000     0.500000  \n",
              "75%         93.994000     -36.400000     4.959000  5228.100000     1.000000  \n",
              "max         94.767000     -26.900000     5.045000  5228.100000     1.000000  \n",
              "\n",
              "[8 rows x 21 columns]"
            ],
            "text/html": [
              "\n",
              "  <div id=\"df-04e93ae3-086a-47ca-b97d-cae4f34f7335\">\n",
              "    <div class=\"colab-df-container\">\n",
              "      <div>\n",
              "<style scoped>\n",
              "    .dataframe tbody tr th:only-of-type {\n",
              "        vertical-align: middle;\n",
              "    }\n",
              "\n",
              "    .dataframe tbody tr th {\n",
              "        vertical-align: top;\n",
              "    }\n",
              "\n",
              "    .dataframe thead th {\n",
              "        text-align: right;\n",
              "    }\n",
              "</style>\n",
              "<table border=\"1\" class=\"dataframe\">\n",
              "  <thead>\n",
              "    <tr style=\"text-align: right;\">\n",
              "      <th></th>\n",
              "      <th>age</th>\n",
              "      <th>job_cl</th>\n",
              "      <th>marital_cl</th>\n",
              "      <th>education_cl</th>\n",
              "      <th>default_cl</th>\n",
              "      <th>housing_cl</th>\n",
              "      <th>loan_cl</th>\n",
              "      <th>contact_cl</th>\n",
              "      <th>month_cl</th>\n",
              "      <th>day_of_week_cl</th>\n",
              "      <th>...</th>\n",
              "      <th>campaign</th>\n",
              "      <th>pdays</th>\n",
              "      <th>previous</th>\n",
              "      <th>poutcome_cl</th>\n",
              "      <th>emp.var.rate</th>\n",
              "      <th>cons.price.idx</th>\n",
              "      <th>cons.conf.idx</th>\n",
              "      <th>euribor3m</th>\n",
              "      <th>nr.employed</th>\n",
              "      <th>y_cl</th>\n",
              "    </tr>\n",
              "  </thead>\n",
              "  <tbody>\n",
              "    <tr>\n",
              "      <th>count</th>\n",
              "      <td>9280.000000</td>\n",
              "      <td>9280.000000</td>\n",
              "      <td>9280.000000</td>\n",
              "      <td>9280.000000</td>\n",
              "      <td>9280.000000</td>\n",
              "      <td>9280.000000</td>\n",
              "      <td>9280.000000</td>\n",
              "      <td>9280.000000</td>\n",
              "      <td>9280.000000</td>\n",
              "      <td>9280.000000</td>\n",
              "      <td>...</td>\n",
              "      <td>9280.000000</td>\n",
              "      <td>9280.000000</td>\n",
              "      <td>9280.000000</td>\n",
              "      <td>9280.000000</td>\n",
              "      <td>9280.000000</td>\n",
              "      <td>9280.000000</td>\n",
              "      <td>9280.000000</td>\n",
              "      <td>9280.000000</td>\n",
              "      <td>9280.000000</td>\n",
              "      <td>9280.000000</td>\n",
              "    </tr>\n",
              "    <tr>\n",
              "      <th>mean</th>\n",
              "      <td>40.458836</td>\n",
              "      <td>2.638578</td>\n",
              "      <td>0.529203</td>\n",
              "      <td>1.774677</td>\n",
              "      <td>0.161961</td>\n",
              "      <td>0.491487</td>\n",
              "      <td>0.194720</td>\n",
              "      <td>0.286099</td>\n",
              "      <td>3.698276</td>\n",
              "      <td>1.986746</td>\n",
              "      <td>...</td>\n",
              "      <td>2.320905</td>\n",
              "      <td>888.347198</td>\n",
              "      <td>0.316703</td>\n",
              "      <td>0.324784</td>\n",
              "      <td>-0.492748</td>\n",
              "      <td>93.482002</td>\n",
              "      <td>-40.181897</td>\n",
              "      <td>2.968123</td>\n",
              "      <td>5135.510938</td>\n",
              "      <td>0.500000</td>\n",
              "    </tr>\n",
              "    <tr>\n",
              "      <th>std</th>\n",
              "      <td>11.963006</td>\n",
              "      <td>2.822053</td>\n",
              "      <td>0.688934</td>\n",
              "      <td>1.790512</td>\n",
              "      <td>0.368435</td>\n",
              "      <td>0.544924</td>\n",
              "      <td>0.451452</td>\n",
              "      <td>0.451961</td>\n",
              "      <td>2.204815</td>\n",
              "      <td>1.395085</td>\n",
              "      <td>...</td>\n",
              "      <td>2.294474</td>\n",
              "      <td>312.500496</td>\n",
              "      <td>0.699808</td>\n",
              "      <td>0.651716</td>\n",
              "      <td>1.723356</td>\n",
              "      <td>0.634630</td>\n",
              "      <td>5.359290</td>\n",
              "      <td>1.890823</td>\n",
              "      <td>87.040463</td>\n",
              "      <td>0.500027</td>\n",
              "    </tr>\n",
              "    <tr>\n",
              "      <th>min</th>\n",
              "      <td>17.000000</td>\n",
              "      <td>0.000000</td>\n",
              "      <td>0.000000</td>\n",
              "      <td>0.000000</td>\n",
              "      <td>0.000000</td>\n",
              "      <td>0.000000</td>\n",
              "      <td>0.000000</td>\n",
              "      <td>0.000000</td>\n",
              "      <td>0.000000</td>\n",
              "      <td>0.000000</td>\n",
              "      <td>...</td>\n",
              "      <td>1.000000</td>\n",
              "      <td>0.000000</td>\n",
              "      <td>0.000000</td>\n",
              "      <td>0.000000</td>\n",
              "      <td>-3.400000</td>\n",
              "      <td>92.201000</td>\n",
              "      <td>-50.800000</td>\n",
              "      <td>0.634000</td>\n",
              "      <td>4963.600000</td>\n",
              "      <td>0.000000</td>\n",
              "    </tr>\n",
              "    <tr>\n",
              "      <th>25%</th>\n",
              "      <td>32.000000</td>\n",
              "      <td>0.000000</td>\n",
              "      <td>0.000000</td>\n",
              "      <td>0.000000</td>\n",
              "      <td>0.000000</td>\n",
              "      <td>0.000000</td>\n",
              "      <td>0.000000</td>\n",
              "      <td>0.000000</td>\n",
              "      <td>2.000000</td>\n",
              "      <td>1.000000</td>\n",
              "      <td>...</td>\n",
              "      <td>1.000000</td>\n",
              "      <td>999.000000</td>\n",
              "      <td>0.000000</td>\n",
              "      <td>0.000000</td>\n",
              "      <td>-1.800000</td>\n",
              "      <td>92.893000</td>\n",
              "      <td>-42.700000</td>\n",
              "      <td>1.244000</td>\n",
              "      <td>5076.200000</td>\n",
              "      <td>0.000000</td>\n",
              "    </tr>\n",
              "    <tr>\n",
              "      <th>50%</th>\n",
              "      <td>38.000000</td>\n",
              "      <td>2.000000</td>\n",
              "      <td>0.000000</td>\n",
              "      <td>1.000000</td>\n",
              "      <td>0.000000</td>\n",
              "      <td>0.000000</td>\n",
              "      <td>0.000000</td>\n",
              "      <td>0.000000</td>\n",
              "      <td>3.000000</td>\n",
              "      <td>2.000000</td>\n",
              "      <td>...</td>\n",
              "      <td>2.000000</td>\n",
              "      <td>999.000000</td>\n",
              "      <td>0.000000</td>\n",
              "      <td>0.000000</td>\n",
              "      <td>-0.100000</td>\n",
              "      <td>93.444000</td>\n",
              "      <td>-41.800000</td>\n",
              "      <td>4.021000</td>\n",
              "      <td>5191.000000</td>\n",
              "      <td>0.500000</td>\n",
              "    </tr>\n",
              "    <tr>\n",
              "      <th>75%</th>\n",
              "      <td>48.000000</td>\n",
              "      <td>4.000000</td>\n",
              "      <td>1.000000</td>\n",
              "      <td>3.000000</td>\n",
              "      <td>0.000000</td>\n",
              "      <td>1.000000</td>\n",
              "      <td>0.000000</td>\n",
              "      <td>1.000000</td>\n",
              "      <td>5.000000</td>\n",
              "      <td>3.000000</td>\n",
              "      <td>...</td>\n",
              "      <td>3.000000</td>\n",
              "      <td>999.000000</td>\n",
              "      <td>0.000000</td>\n",
              "      <td>0.000000</td>\n",
              "      <td>1.400000</td>\n",
              "      <td>93.994000</td>\n",
              "      <td>-36.400000</td>\n",
              "      <td>4.959000</td>\n",
              "      <td>5228.100000</td>\n",
              "      <td>1.000000</td>\n",
              "    </tr>\n",
              "    <tr>\n",
              "      <th>max</th>\n",
              "      <td>98.000000</td>\n",
              "      <td>11.000000</td>\n",
              "      <td>3.000000</td>\n",
              "      <td>7.000000</td>\n",
              "      <td>1.000000</td>\n",
              "      <td>2.000000</td>\n",
              "      <td>2.000000</td>\n",
              "      <td>1.000000</td>\n",
              "      <td>9.000000</td>\n",
              "      <td>4.000000</td>\n",
              "      <td>...</td>\n",
              "      <td>35.000000</td>\n",
              "      <td>999.000000</td>\n",
              "      <td>6.000000</td>\n",
              "      <td>2.000000</td>\n",
              "      <td>1.400000</td>\n",
              "      <td>94.767000</td>\n",
              "      <td>-26.900000</td>\n",
              "      <td>5.045000</td>\n",
              "      <td>5228.100000</td>\n",
              "      <td>1.000000</td>\n",
              "    </tr>\n",
              "  </tbody>\n",
              "</table>\n",
              "<p>8 rows × 21 columns</p>\n",
              "</div>\n",
              "      <button class=\"colab-df-convert\" onclick=\"convertToInteractive('df-04e93ae3-086a-47ca-b97d-cae4f34f7335')\"\n",
              "              title=\"Convert this dataframe to an interactive table.\"\n",
              "              style=\"display:none;\">\n",
              "        \n",
              "  <svg xmlns=\"http://www.w3.org/2000/svg\" height=\"24px\"viewBox=\"0 0 24 24\"\n",
              "       width=\"24px\">\n",
              "    <path d=\"M0 0h24v24H0V0z\" fill=\"none\"/>\n",
              "    <path d=\"M18.56 5.44l.94 2.06.94-2.06 2.06-.94-2.06-.94-.94-2.06-.94 2.06-2.06.94zm-11 1L8.5 8.5l.94-2.06 2.06-.94-2.06-.94L8.5 2.5l-.94 2.06-2.06.94zm10 10l.94 2.06.94-2.06 2.06-.94-2.06-.94-.94-2.06-.94 2.06-2.06.94z\"/><path d=\"M17.41 7.96l-1.37-1.37c-.4-.4-.92-.59-1.43-.59-.52 0-1.04.2-1.43.59L10.3 9.45l-7.72 7.72c-.78.78-.78 2.05 0 2.83L4 21.41c.39.39.9.59 1.41.59.51 0 1.02-.2 1.41-.59l7.78-7.78 2.81-2.81c.8-.78.8-2.07 0-2.86zM5.41 20L4 18.59l7.72-7.72 1.47 1.35L5.41 20z\"/>\n",
              "  </svg>\n",
              "      </button>\n",
              "      \n",
              "  <style>\n",
              "    .colab-df-container {\n",
              "      display:flex;\n",
              "      flex-wrap:wrap;\n",
              "      gap: 12px;\n",
              "    }\n",
              "\n",
              "    .colab-df-convert {\n",
              "      background-color: #E8F0FE;\n",
              "      border: none;\n",
              "      border-radius: 50%;\n",
              "      cursor: pointer;\n",
              "      display: none;\n",
              "      fill: #1967D2;\n",
              "      height: 32px;\n",
              "      padding: 0 0 0 0;\n",
              "      width: 32px;\n",
              "    }\n",
              "\n",
              "    .colab-df-convert:hover {\n",
              "      background-color: #E2EBFA;\n",
              "      box-shadow: 0px 1px 2px rgba(60, 64, 67, 0.3), 0px 1px 3px 1px rgba(60, 64, 67, 0.15);\n",
              "      fill: #174EA6;\n",
              "    }\n",
              "\n",
              "    [theme=dark] .colab-df-convert {\n",
              "      background-color: #3B4455;\n",
              "      fill: #D2E3FC;\n",
              "    }\n",
              "\n",
              "    [theme=dark] .colab-df-convert:hover {\n",
              "      background-color: #434B5C;\n",
              "      box-shadow: 0px 1px 3px 1px rgba(0, 0, 0, 0.15);\n",
              "      filter: drop-shadow(0px 1px 2px rgba(0, 0, 0, 0.3));\n",
              "      fill: #FFFFFF;\n",
              "    }\n",
              "  </style>\n",
              "\n",
              "      <script>\n",
              "        const buttonEl =\n",
              "          document.querySelector('#df-04e93ae3-086a-47ca-b97d-cae4f34f7335 button.colab-df-convert');\n",
              "        buttonEl.style.display =\n",
              "          google.colab.kernel.accessAllowed ? 'block' : 'none';\n",
              "\n",
              "        async function convertToInteractive(key) {\n",
              "          const element = document.querySelector('#df-04e93ae3-086a-47ca-b97d-cae4f34f7335');\n",
              "          const dataTable =\n",
              "            await google.colab.kernel.invokeFunction('convertToInteractive',\n",
              "                                                     [key], {});\n",
              "          if (!dataTable) return;\n",
              "\n",
              "          const docLinkHtml = 'Like what you see? Visit the ' +\n",
              "            '<a target=\"_blank\" href=https://colab.research.google.com/notebooks/data_table.ipynb>data table notebook</a>'\n",
              "            + ' to learn more about interactive tables.';\n",
              "          element.innerHTML = '';\n",
              "          dataTable['output_type'] = 'display_data';\n",
              "          await google.colab.output.renderOutput(dataTable, element);\n",
              "          const docLink = document.createElement('div');\n",
              "          docLink.innerHTML = docLinkHtml;\n",
              "          element.appendChild(docLink);\n",
              "        }\n",
              "      </script>\n",
              "    </div>\n",
              "  </div>\n",
              "  "
            ]
          },
          "metadata": {},
          "execution_count": 138
        }
      ]
    },
    {
      "cell_type": "code",
      "execution_count": 139,
      "metadata": {
        "colab": {
          "base_uri": "https://localhost:8080/"
        },
        "id": "KhuaRCdnZ3Us",
        "outputId": "c271a185-b14c-48ae-9cc5-84e2b56a21ae"
      },
      "outputs": [
        {
          "output_type": "execute_result",
          "data": {
            "text/plain": [
              "array([0, 1])"
            ]
          },
          "metadata": {},
          "execution_count": 139
        }
      ],
      "source": [
        "dataset[\"y_cl\"].unique()"
      ]
    },
    {
      "cell_type": "code",
      "source": [
        "dataset_2 = dataset.drop(['marital_cl',\n",
        "                                  'education_cl', 'default_cl',\\\n",
        "                                  'housing_cl', 'loan_cl',\\\n",
        "                                  'contact_cl', 'month_cl',\\\n",
        "                                  'day_of_week_cl', 'job_cl',\\\n",
        "                                  'poutcome_cl'], axis=1)"
      ],
      "metadata": {
        "id": "RspHQqfwr-z7"
      },
      "execution_count": 140,
      "outputs": []
    },
    {
      "cell_type": "code",
      "execution_count": 141,
      "metadata": {
        "id": "m1KPJlC84Hpk"
      },
      "outputs": [],
      "source": [
        "X = dataset_2.iloc[:, :-1].values\n",
        "y = dataset_2[\"y_cl\"]"
      ]
    },
    {
      "cell_type": "code",
      "execution_count": 142,
      "metadata": {
        "id": "gXrc12mv4KPy"
      },
      "outputs": [],
      "source": [
        "# https://scikit-learn.org/stable/modules/generated/sklearn.model_selection.train_test_split.html\n",
        "from sklearn.model_selection import train_test_split\n",
        "X_train, X_test, y_train, y_test = train_test_split(X, y, test_size=0.20) # Разбитие на обучающие и тестовые выборки"
      ]
    },
    {
      "cell_type": "code",
      "execution_count": 143,
      "metadata": {
        "cellView": "code",
        "id": "52DfYDfT4ZyT"
      },
      "outputs": [],
      "source": [
        "# https://scikit-learn.org/stable/modules/generated/sklearn.preprocessing.StandardScaler.html\n",
        "\n",
        "# Стандартизация и подготовка данных\n",
        "\n",
        "from sklearn.preprocessing import StandardScaler\n",
        "scaler = StandardScaler()\n",
        "scaler.fit(X_train)\n",
        "\n",
        "X_train = scaler.transform(X_train) \n",
        "X_test = scaler.transform(X_test) "
      ]
    },
    {
      "cell_type": "code",
      "execution_count": 144,
      "metadata": {
        "colab": {
          "base_uri": "https://localhost:8080/"
        },
        "id": "mL2AoRqV6yET",
        "outputId": "d0f5fc27-045f-45e5-dcd4-2ca263a650c3"
      },
      "outputs": [
        {
          "output_type": "execute_result",
          "data": {
            "text/plain": [
              "array([[-0.53673455,  0.3423023 , -0.56939349, ..., -0.30213001,\n",
              "         1.00693366,  1.0663203 ],\n",
              "       [-0.37156835, -0.96054976, -0.56939349, ..., -1.12076833,\n",
              "        -0.86543724, -0.41344427],\n",
              "       [-0.78448387,  1.79958725,  0.29488319, ..., -1.28821708,\n",
              "        -0.82416996, -0.41344427],\n",
              "       ...,\n",
              "       [-0.78448387, -0.89877661, -0.56939349, ..., -1.12076833,\n",
              "        -0.89771038, -0.41344427],\n",
              "       [-0.78448387,  1.39244598,  1.15915987, ..., -1.28821708,\n",
              "        -0.82416996, -0.41344427],\n",
              "       [-0.70190076, -0.84261919, -0.56939349, ..., -0.33934084,\n",
              "         0.62970833,  0.6958056 ]])"
            ]
          },
          "metadata": {},
          "execution_count": 144
        }
      ],
      "source": [
        "X_train"
      ]
    },
    {
      "cell_type": "markdown",
      "metadata": {
        "id": "8pNqV3CmvsLS"
      },
      "source": [
        "# Классификация\n",
        "\n",
        "**Классификация** — один из разделов машинного обучения, посвященный решению следующей задачи. Имеется множество объектов (ситуаций), разделённых некоторым образом на классы. Задано конечное множество объектов, для которых известно, к каким классам они относятся. Это множество называется обучающей выборкой. Классовая принадлежность остальных объектов не известна. Требуется построить алгоритм, способный классифицировать произвольный объект из исходного множества.\n",
        "\n",
        "**Классифицировать объект** — значит, указать номер (или наименование класса), к которому относится данный объект.\n"
      ]
    },
    {
      "cell_type": "markdown",
      "metadata": {
        "id": "GpANvD33vzxa"
      },
      "source": [
        "## Формальные постановки задачи классификации\n",
        "\n",
        "### **Классическая постановка**\n",
        "Пусть $X$ — множество описаний объектов, $Y$ — конечное множество номеров (имён, меток) классов. Существует неизвестная целевая зависимость — отображение $y^{*}:\\; X\\to Y$, значения которой известны только на объектах конечной обучающей выборки $X^m = \\{(x_1,y_1),\\dots,(x_m,y_m)\\}$. Требуется построить алгоритм $a:\\; X\\to Y$, способный классифицировать произвольный объект $x \\in X$.\n",
        "\n",
        "### **Вероятностная постановка**\n",
        "Более общей считается вероятностная постановка задачи. Предполагается, что множество пар «объект, класс» $X \\times Y$ является вероятностным пространством с неизвестной вероятностной мерой $\\mathsf P$. Имеется конечная обучающая выборка наблюдений $X^m = \\{(x_1,y_1),\\dots,(x_m,y_m)\\}$, сгенерированная согласно вероятностной мере $\\mathsf P$. Требуется построить алгоритм $a:\\; X\\to Y$, способный классифицировать произвольный объект $x \\in X$."
      ]
    },
    {
      "cell_type": "markdown",
      "metadata": {
        "id": "ezRZuQ36EneM"
      },
      "source": [
        "## Метод k-ближайших соседей (K-Nearest Neighbors)"
      ]
    },
    {
      "cell_type": "markdown",
      "metadata": {
        "id": "jTdWBwnNxxf7"
      },
      "source": [
        "Этот метод работает с помощью поиска кратчайшей дистанции между тестируемым объектом и ближайшими к нему классифицированным объектами из обучающего набора. Классифицируемый объект будет относится к тому классу, к которому принадлежит ближайший объект набора.\n",
        "\n",
        "https://stackabuse.com/k-nearest-neighbors-algorithm-in-python-and-scikit-learn/"
      ]
    },
    {
      "cell_type": "code",
      "execution_count": 145,
      "metadata": {
        "colab": {
          "base_uri": "https://localhost:8080/"
        },
        "id": "pDylEwmj4fiC",
        "outputId": "9c54d823-b508-4dc2-fe4b-1de6eb4e089a"
      },
      "outputs": [
        {
          "output_type": "execute_result",
          "data": {
            "text/plain": [
              "KNeighborsClassifier(n_neighbors=21)"
            ]
          },
          "metadata": {},
          "execution_count": 145
        }
      ],
      "source": [
        "# https://scikit-learn.org/stable/modules/generated/sklearn.neighbors.KNeighborsClassifier.html\n",
        "from sklearn.neighbors import KNeighborsClassifier\n",
        "clf = KNeighborsClassifier(n_neighbors=21)\n",
        "clf.fit(X_train, y_train) # алгоритм оценки для классификатора"
      ]
    },
    {
      "cell_type": "code",
      "execution_count": 146,
      "metadata": {
        "colab": {
          "base_uri": "https://localhost:8080/"
        },
        "id": "3Mv4ILtg5Zxb",
        "outputId": "5c4031a5-55f6-4c39-d2cf-f19e2f41b15a"
      },
      "outputs": [
        {
          "output_type": "stream",
          "name": "stdout",
          "text": [
            "[[794 150]\n",
            " [104 808]]\n",
            "              precision    recall  f1-score   support\n",
            "\n",
            "           0       0.88      0.84      0.86       944\n",
            "           1       0.84      0.89      0.86       912\n",
            "\n",
            "    accuracy                           0.86      1856\n",
            "   macro avg       0.86      0.86      0.86      1856\n",
            "weighted avg       0.86      0.86      0.86      1856\n",
            "\n"
          ]
        }
      ],
      "source": [
        "# https://scikit-learn.org/stable/modules/generated/sklearn.metrics.classification_report.html\n",
        "# https://scikit-learn.org/stable/modules/generated/sklearn.metrics.confusion_matrix.html\n",
        "from sklearn.metrics import classification_report, confusion_matrix\n",
        "\n",
        "y_pred = clf.predict(X_test)\n",
        "print(confusion_matrix(y_test, y_pred))\n",
        "print(classification_report(y_test, y_pred))\n",
        "#https://towardsdatascience.com/accuracy-precision-recall-or-f1-331fb37c5cb9"
      ]
    },
    {
      "cell_type": "markdown",
      "metadata": {
        "id": "fO2iu8jO9AGb"
      },
      "source": [
        "## Классификатор дерева решений (Decision Tree Classifier)"
      ]
    },
    {
      "cell_type": "markdown",
      "metadata": {
        "id": "odJU4VYdHs4s"
      },
      "source": [
        "Этот классификатор разбивает данные на всё меньшие и меньшие подмножества на основе разных критериев, т. е. у каждого подмножества своя сортирующая категория. С каждым разделением количество объектов определённого критерия уменьшается.\n",
        "\n",
        "Классификация подойдёт к концу, когда сеть дойдёт до подмножества только с одним объектом. Если объединить несколько подобных деревьев решений, то получится так называемый Случайный Лес (англ. Random Forest).\n",
        "\n",
        "https://stackabuse.com/decision-trees-in-python-with-scikit-learn/"
      ]
    },
    {
      "cell_type": "code",
      "execution_count": 147,
      "metadata": {
        "id": "reVnBBzL9DNr"
      },
      "outputs": [],
      "source": [
        "# https://scikit-learn.org/stable/modules/tree.html\n",
        "from sklearn import tree\n",
        "\n",
        "clf = tree.DecisionTreeClassifier()\n",
        "clf = clf.fit(X_train, y_train)"
      ]
    },
    {
      "cell_type": "code",
      "execution_count": 148,
      "metadata": {
        "colab": {
          "base_uri": "https://localhost:8080/"
        },
        "id": "Sc4c08EB978a",
        "outputId": "ff4ed8ca-5878-4ad6-f0f7-33a61f86d4b3"
      },
      "outputs": [
        {
          "output_type": "stream",
          "name": "stdout",
          "text": [
            "[[792 152]\n",
            " [146 766]]\n",
            "              precision    recall  f1-score   support\n",
            "\n",
            "           0       0.84      0.84      0.84       944\n",
            "           1       0.83      0.84      0.84       912\n",
            "\n",
            "    accuracy                           0.84      1856\n",
            "   macro avg       0.84      0.84      0.84      1856\n",
            "weighted avg       0.84      0.84      0.84      1856\n",
            "\n"
          ]
        }
      ],
      "source": [
        "y_pred = clf.predict(X_test)\n",
        "print(confusion_matrix(y_test, y_pred))\n",
        "print(classification_report(y_test, y_pred))"
      ]
    },
    {
      "cell_type": "markdown",
      "metadata": {
        "id": "KhlGvZSf_20s"
      },
      "source": [
        "## Наивный байесовский классификатор (Naive Bayes)"
      ]
    },
    {
      "cell_type": "markdown",
      "metadata": {
        "id": "LQEQoLGBHxxj"
      },
      "source": [
        "Такой классификатор вычисляет вероятность принадлежности объекта к какому-то классу. Эта вероятность вычисляется из шанса, что какое-то событие произойдёт, с опорой на уже на произошедшие события.\n",
        "\n",
        "Каждый параметр классифицируемого объекта считается независимым от других параметров.\n",
        "\n",
        "https://stackabuse.com/the-naive-bayes-algorithm-in-python-with-scikit-learn/"
      ]
    },
    {
      "cell_type": "code",
      "execution_count": 149,
      "metadata": {
        "colab": {
          "base_uri": "https://localhost:8080/"
        },
        "id": "t5SZ8-41AD7T",
        "outputId": "161ec37b-7040-4bdf-f359-7d12105a2172"
      },
      "outputs": [
        {
          "output_type": "execute_result",
          "data": {
            "text/plain": [
              "GaussianNB()"
            ]
          },
          "metadata": {},
          "execution_count": 149
        }
      ],
      "source": [
        "# https://scikit-learn.org/stable/modules/generated/sklearn.naive_bayes.GaussianNB.html\n",
        "from sklearn.naive_bayes import GaussianNB\n",
        "\n",
        "clf = GaussianNB()\n",
        "clf.fit(X_train, y_train)"
      ]
    },
    {
      "cell_type": "code",
      "execution_count": 150,
      "metadata": {
        "colab": {
          "base_uri": "https://localhost:8080/"
        },
        "id": "F1FwdF_3Adqj",
        "outputId": "e38079d0-3076-43af-8814-ca56042355ed"
      },
      "outputs": [
        {
          "output_type": "stream",
          "name": "stdout",
          "text": [
            "[[769 175]\n",
            " [233 679]]\n",
            "              precision    recall  f1-score   support\n",
            "\n",
            "           0       0.77      0.81      0.79       944\n",
            "           1       0.80      0.74      0.77       912\n",
            "\n",
            "    accuracy                           0.78      1856\n",
            "   macro avg       0.78      0.78      0.78      1856\n",
            "weighted avg       0.78      0.78      0.78      1856\n",
            "\n"
          ]
        }
      ],
      "source": [
        "y_pred = clf.predict(X_test)\n",
        "print(confusion_matrix(y_test, y_pred))\n",
        "print(classification_report(y_test, y_pred))"
      ]
    },
    {
      "cell_type": "markdown",
      "metadata": {
        "id": "be-gSxzoBefL"
      },
      "source": [
        "## Метод опорных векторов (Support Vector Machines)"
      ]
    },
    {
      "cell_type": "markdown",
      "metadata": {
        "id": "whG1wh_FH22s"
      },
      "source": [
        "Работа метода опорных векторов заключается в рисовании линии между разными кластерами точек, которые нужно сгруппировать в классы. С одной стороны линии будут точки, принадлежащие одному классу, с другой стороны — к другому классу.\n",
        "\n",
        "Классификатор будет пытаться увеличить расстояние между рисуемыми линиями и точками на разных сторонах, чтобы увеличить свою «уверенность» определения класса. Когда все точки построены, сторона, на которую они падают — это класс, которому эти точки принадлежат.\n",
        "\n",
        "https://stackabuse.com/implementing-svm-and-kernel-svm-with-pythons-scikit-learn/"
      ]
    },
    {
      "cell_type": "code",
      "execution_count": 151,
      "metadata": {
        "colab": {
          "base_uri": "https://localhost:8080/"
        },
        "id": "DhmuMLCkAwRb",
        "outputId": "5ac21d11-01f2-4922-b495-b36392a2c483"
      },
      "outputs": [
        {
          "output_type": "execute_result",
          "data": {
            "text/plain": [
              "SVC()"
            ]
          },
          "metadata": {},
          "execution_count": 151
        }
      ],
      "source": [
        "# https://scikit-learn.org/stable/modules/svm.html\n",
        "from sklearn import svm\n",
        "clf = svm.SVC()\n",
        "clf.fit(X_train, y_train)"
      ]
    },
    {
      "cell_type": "code",
      "execution_count": 152,
      "metadata": {
        "colab": {
          "base_uri": "https://localhost:8080/"
        },
        "id": "87JsABK4C48U",
        "outputId": "02f4e875-a640-4651-ef96-42e2552c18c6"
      },
      "outputs": [
        {
          "output_type": "stream",
          "name": "stdout",
          "text": [
            "[[778 166]\n",
            " [ 78 834]]\n",
            "              precision    recall  f1-score   support\n",
            "\n",
            "           0       0.91      0.82      0.86       944\n",
            "           1       0.83      0.91      0.87       912\n",
            "\n",
            "    accuracy                           0.87      1856\n",
            "   macro avg       0.87      0.87      0.87      1856\n",
            "weighted avg       0.87      0.87      0.87      1856\n",
            "\n"
          ]
        }
      ],
      "source": [
        "y_pred = clf.predict(X_test)\n",
        "print(confusion_matrix(y_test, y_pred))\n",
        "print(classification_report(y_test, y_pred))"
      ]
    },
    {
      "cell_type": "markdown",
      "metadata": {
        "id": "2O9HRxFuDsAz"
      },
      "source": [
        "## Логистическая регрессия (Logistic Regression)\n"
      ]
    },
    {
      "cell_type": "markdown",
      "metadata": {
        "id": "YqqsXN4rH47j"
      },
      "source": [
        "\n",
        "\n",
        "Логистическая регрессия выводит прогнозы о точках в бинарном масштабе — нулевом или единичном. Если значение чего-либо равно либо больше 0.5, то объект классифицируется в большую сторону (к единице). Если значение меньше 0.5 — в меньшую (к нулю).\n",
        "\n",
        "У каждого признака есть своя метка, равная только 0 или только 1. Логистическая регрессия является линейным классификатором и поэтому используется, когда в данных прослеживается какая-то линейная зависимость.\n",
        "\n",
        "https://ru.wikipedia.org/wiki/Логистическая_регрессия"
      ]
    },
    {
      "cell_type": "code",
      "execution_count": 153,
      "metadata": {
        "colab": {
          "base_uri": "https://localhost:8080/"
        },
        "id": "sVLskEW9Du_b",
        "outputId": "a62b6abc-60f5-4c80-bdb9-798582f74ad3"
      },
      "outputs": [
        {
          "output_type": "execute_result",
          "data": {
            "text/plain": [
              "LogisticRegression()"
            ]
          },
          "metadata": {},
          "execution_count": 153
        }
      ],
      "source": [
        "# https://scikit-learn.org/stable/modules/generated/sklearn.linear_model.LogisticRegression.html\n",
        "from sklearn.linear_model import LogisticRegression\n",
        "\n",
        "clf = LogisticRegression()\n",
        "clf.fit(X_train, y_train)"
      ]
    },
    {
      "cell_type": "code",
      "execution_count": 154,
      "metadata": {
        "colab": {
          "base_uri": "https://localhost:8080/"
        },
        "id": "yZcw3VF_D60r",
        "outputId": "3efffe8b-e389-4a9f-ab31-e1f2129830c2"
      },
      "outputs": [
        {
          "output_type": "stream",
          "name": "stdout",
          "text": [
            "[[792 152]\n",
            " [148 764]]\n",
            "              precision    recall  f1-score   support\n",
            "\n",
            "           0       0.84      0.84      0.84       944\n",
            "           1       0.83      0.84      0.84       912\n",
            "\n",
            "    accuracy                           0.84      1856\n",
            "   macro avg       0.84      0.84      0.84      1856\n",
            "weighted avg       0.84      0.84      0.84      1856\n",
            "\n"
          ]
        }
      ],
      "source": [
        "y_pred = clf.predict(X_test)\n",
        "print(confusion_matrix(y_test, y_pred))\n",
        "print(classification_report(y_test, y_pred))"
      ]
    },
    {
      "cell_type": "markdown",
      "metadata": {
        "id": "h8cXVToX_eRd"
      },
      "source": [
        "## from sklearn.linear_model import Perceptron"
      ]
    },
    {
      "cell_type": "code",
      "execution_count": 155,
      "metadata": {
        "colab": {
          "base_uri": "https://localhost:8080/"
        },
        "id": "oAtOuTbb_gjG",
        "outputId": "5048586a-f188-440c-8611-f3fea12fc5e1"
      },
      "outputs": [
        {
          "output_type": "execute_result",
          "data": {
            "text/plain": [
              "Perceptron()"
            ]
          },
          "metadata": {},
          "execution_count": 155
        }
      ],
      "source": [
        "from sklearn.linear_model import Perceptron\n",
        "\n",
        "clf = Perceptron()\n",
        "clf.fit(X_train, y_train)"
      ]
    },
    {
      "cell_type": "code",
      "source": [
        ""
      ],
      "metadata": {
        "id": "hBe6UtuhklCv"
      },
      "execution_count": 155,
      "outputs": []
    },
    {
      "cell_type": "markdown",
      "metadata": {
        "id": "ik2jokpPNHha"
      },
      "source": [
        "# Разделение выборки"
      ]
    },
    {
      "cell_type": "code",
      "execution_count": 156,
      "metadata": {
        "id": "wsFrnzfbOqBb"
      },
      "outputs": [],
      "source": [
        "import pandas as pd\n",
        "\n",
        "dataset = pd.read_csv('balanced_bank_preprocessed.csv')\n",
        "del dataset['Unnamed: 0']\n",
        "del dataset['Unnamed: 0.1']"
      ]
    },
    {
      "cell_type": "code",
      "source": [
        "dataset_2 = dataset.drop(['marital_cl',\n",
        "                                  'education_cl', 'default_cl',\\\n",
        "                                  'housing_cl', 'loan_cl',\\\n",
        "                                  'contact_cl', 'month_cl',\\\n",
        "                                  'day_of_week_cl', 'job_cl',\\\n",
        "                                  'poutcome_cl'], axis=1)"
      ],
      "metadata": {
        "id": "zzAzftPj8Oy9"
      },
      "execution_count": 157,
      "outputs": []
    },
    {
      "cell_type": "code",
      "execution_count": 158,
      "metadata": {
        "id": "t2BUa2OqO67C"
      },
      "outputs": [],
      "source": [
        "X = dataset_2.iloc[:, :-1].values\n",
        "y = dataset_2[\"y_cl\"]"
      ]
    },
    {
      "cell_type": "code",
      "execution_count": 159,
      "metadata": {
        "colab": {
          "base_uri": "https://localhost:8080/"
        },
        "id": "vKgLP7OSOxUz",
        "outputId": "ccce9434-3919-489d-c352-453b4637ef10"
      },
      "outputs": [
        {
          "output_type": "stream",
          "name": "stdout",
          "text": [
            "dict_values([3747, 3677])\n",
            "dict_values([893, 963])\n"
          ]
        }
      ],
      "source": [
        "from sklearn.model_selection import train_test_split\n",
        "\n",
        "from collections import Counter\n",
        "\n",
        "X_train, X_test, y_train, y_test = train_test_split(X, y, test_size=0.20)\n",
        "print(Counter(y_train).values())\n",
        "print(Counter(y_test).values())"
      ]
    },
    {
      "cell_type": "code",
      "execution_count": 160,
      "metadata": {
        "colab": {
          "base_uri": "https://localhost:8080/"
        },
        "id": "XrTxB6H9QnB8",
        "outputId": "f64054d0-be9b-4a25-a266-a35b5127e06a"
      },
      "outputs": [
        {
          "output_type": "stream",
          "name": "stdout",
          "text": [
            "dict_values([3712, 3712])\n",
            "dict_values([928, 928])\n"
          ]
        }
      ],
      "source": [
        "from sklearn.model_selection import train_test_split\n",
        "X_train, X_test, y_train, y_test = train_test_split(X, y, test_size=0.20, stratify=y)\n",
        "print(Counter(y_train).values())\n",
        "print(Counter(y_test).values())"
      ]
    },
    {
      "cell_type": "markdown",
      "metadata": {
        "id": "yn_MmhpSM0a6"
      },
      "source": [
        "# Кросс-валидация"
      ]
    },
    {
      "cell_type": "code",
      "execution_count": 161,
      "metadata": {
        "id": "nBKQ7kCtTPib"
      },
      "outputs": [],
      "source": [
        "import pandas as pd\n",
        "\n",
        "dataset = pd.read_csv('balanced_bank_preprocessed.csv')\n",
        "del dataset['Unnamed: 0']\n",
        "del dataset['Unnamed: 0.1']"
      ]
    },
    {
      "cell_type": "code",
      "source": [
        "dataset_2 = dataset.drop(['marital_cl',\n",
        "                                  'education_cl', 'default_cl',\\\n",
        "                                  'housing_cl', 'loan_cl',\\\n",
        "                                  'contact_cl', 'month_cl',\\\n",
        "                                  'day_of_week_cl', 'job_cl',\\\n",
        "                                  'poutcome_cl'], axis=1)"
      ],
      "metadata": {
        "id": "lS7WJMqP8Tmk"
      },
      "execution_count": 162,
      "outputs": []
    },
    {
      "cell_type": "code",
      "execution_count": 163,
      "metadata": {
        "id": "FvMsRqj5TSqT"
      },
      "outputs": [],
      "source": [
        "X = dataset_2.iloc[:, :-1].values\n",
        "y = dataset_2[\"y_cl\"]"
      ]
    },
    {
      "cell_type": "code",
      "execution_count": 164,
      "metadata": {
        "colab": {
          "base_uri": "https://localhost:8080/"
        },
        "id": "RRJyNONgNqQi",
        "outputId": "2a0a3a43-d60f-4221-b02a-46a57e591e53"
      },
      "outputs": [
        {
          "output_type": "stream",
          "name": "stdout",
          "text": [
            "TRAIN: [1754 1758 1760 ... 9277 9278 9279] TEST: [   0    1    2 ... 1959 1961 1963]\n",
            "TRAIN: [   0    1    2 ... 9277 9278 9279] TEST: [1754 1758 1760 ... 3777 3779 3780]\n",
            "TRAIN: [   0    1    2 ... 9277 9278 9279] TEST: [3645 3646 3648 ... 5608 5609 5610]\n",
            "TRAIN: [   0    1    2 ... 9277 9278 9279] TEST: [5528 5529 5530 ... 7439 7440 7442]\n",
            "TRAIN: [   0    1    2 ... 7439 7440 7442] TEST: [7405 7408 7410 ... 9277 9278 9279]\n"
          ]
        }
      ],
      "source": [
        "from sklearn.model_selection import StratifiedKFold\n",
        "\n",
        "skf = StratifiedKFold(n_splits=5)\n",
        "for train_index, test_index in skf.split(X, y):\n",
        "  print(\"TRAIN:\", train_index, \"TEST:\", test_index)\n",
        "  X_train, X_test = X[train_index], X[test_index]\n",
        "  y_train, y_test = y[train_index], y[test_index]"
      ]
    },
    {
      "cell_type": "code",
      "execution_count": 165,
      "metadata": {
        "colab": {
          "base_uri": "https://localhost:8080/"
        },
        "id": "bepAcDhYTu-D",
        "outputId": "674b7a52-f46f-4ccf-c93a-a12a7373cf61"
      },
      "outputs": [
        {
          "output_type": "stream",
          "name": "stdout",
          "text": [
            "              precision    recall  f1-score   support\n",
            "\n",
            "           0       0.87      0.83      0.85       928\n",
            "           1       0.84      0.87      0.85       928\n",
            "\n",
            "    accuracy                           0.85      1856\n",
            "   macro avg       0.85      0.85      0.85      1856\n",
            "weighted avg       0.85      0.85      0.85      1856\n",
            "\n",
            "0.8502155172413793\n",
            "              precision    recall  f1-score   support\n",
            "\n",
            "           0       0.88      0.83      0.86       928\n",
            "           1       0.84      0.89      0.87       928\n",
            "\n",
            "    accuracy                           0.86      1856\n",
            "   macro avg       0.86      0.86      0.86      1856\n",
            "weighted avg       0.86      0.86      0.86      1856\n",
            "\n",
            "0.8620689655172413\n",
            "              precision    recall  f1-score   support\n",
            "\n",
            "           0       0.85      0.85      0.85       928\n",
            "           1       0.85      0.85      0.85       928\n",
            "\n",
            "    accuracy                           0.85      1856\n",
            "   macro avg       0.85      0.85      0.85      1856\n",
            "weighted avg       0.85      0.85      0.85      1856\n",
            "\n",
            "0.8480603448275862\n",
            "              precision    recall  f1-score   support\n",
            "\n",
            "           0       0.86      0.83      0.85       928\n",
            "           1       0.84      0.86      0.85       928\n",
            "\n",
            "    accuracy                           0.85      1856\n",
            "   macro avg       0.85      0.85      0.85      1856\n",
            "weighted avg       0.85      0.85      0.85      1856\n",
            "\n",
            "0.8485991379310345\n",
            "              precision    recall  f1-score   support\n",
            "\n",
            "           0       0.87      0.84      0.86       928\n",
            "           1       0.85      0.88      0.86       928\n",
            "\n",
            "    accuracy                           0.86      1856\n",
            "   macro avg       0.86      0.86      0.86      1856\n",
            "weighted avg       0.86      0.86      0.86      1856\n",
            "\n",
            "0.8599137931034483\n"
          ]
        }
      ],
      "source": [
        "from sklearn.model_selection import StratifiedKFold\n",
        "\n",
        "skf = StratifiedKFold(n_splits=5)\n",
        "for train_index, test_index in skf.split(X, y):\n",
        "  X_train, X_test = X[train_index], X[test_index]\n",
        "  y_train, y_test = y[train_index], y[test_index]\n",
        "  clf = KNeighborsClassifier(n_neighbors=5)\n",
        "  clf.fit(X_train, y_train)\n",
        "  y_pred = clf.predict(X_test)\n",
        "  print(classification_report(y_test, y_pred))\n",
        "  print(clf.score(X_test, y_test))"
      ]
    },
    {
      "cell_type": "markdown",
      "metadata": {
        "id": "1g8Ca3-nM6e6"
      },
      "source": [
        "# Подбор гиперпараметров"
      ]
    },
    {
      "cell_type": "code",
      "execution_count": 166,
      "metadata": {
        "colab": {
          "base_uri": "https://localhost:8080/"
        },
        "id": "qQ9_wRWLUP67",
        "outputId": "e9819ac1-5363-48b3-b26e-0261e50b7131"
      },
      "outputs": [
        {
          "output_type": "execute_result",
          "data": {
            "text/plain": [
              "{'mean_fit_time': array([0.00830274, 0.00785151, 0.01201181, 0.01674457, 0.01311054,\n",
              "        0.01440907, 0.01391196, 0.01192183, 0.01458764, 0.02078609,\n",
              "        0.01823545, 0.01934443, 0.0160882 , 0.01283817, 0.01538358,\n",
              "        0.0194489 , 0.01764803, 0.01561608, 0.02786264, 0.02119727]),\n",
              " 'mean_score_time': array([0.05390363, 0.05305929, 0.09416418, 0.09465508, 0.11051426,\n",
              "        0.11546516, 0.13658037, 0.11874728, 0.11547055, 0.1325778 ,\n",
              "        0.12924609, 0.16098013, 0.12835231, 0.12808022, 0.13801985,\n",
              "        0.18534136, 0.17099943, 0.14181271, 0.20686469, 0.21042686]),\n",
              " 'mean_test_score': array([0.81721365, 0.79485366, 0.8378227 , 0.83149156, 0.84725122,\n",
              "        0.84267191, 0.85263897, 0.85088885, 0.85452476, 0.8541219 ,\n",
              "        0.85775854, 0.85533375, 0.85735432, 0.85506466, 0.85668055,\n",
              "        0.85425595, 0.85762268, 0.85654542, 0.85748836, 0.8553333 ]),\n",
              " 'param_n_neighbors': masked_array(data=[1, 2, 3, 4, 5, 6, 7, 8, 9, 10, 11, 12, 13, 14, 15, 16,\n",
              "                    17, 18, 19, 20],\n",
              "              mask=[False, False, False, False, False, False, False, False,\n",
              "                    False, False, False, False, False, False, False, False,\n",
              "                    False, False, False, False],\n",
              "        fill_value='?',\n",
              "             dtype=object),\n",
              " 'params': [{'n_neighbors': 1},\n",
              "  {'n_neighbors': 2},\n",
              "  {'n_neighbors': 3},\n",
              "  {'n_neighbors': 4},\n",
              "  {'n_neighbors': 5},\n",
              "  {'n_neighbors': 6},\n",
              "  {'n_neighbors': 7},\n",
              "  {'n_neighbors': 8},\n",
              "  {'n_neighbors': 9},\n",
              "  {'n_neighbors': 10},\n",
              "  {'n_neighbors': 11},\n",
              "  {'n_neighbors': 12},\n",
              "  {'n_neighbors': 13},\n",
              "  {'n_neighbors': 14},\n",
              "  {'n_neighbors': 15},\n",
              "  {'n_neighbors': 16},\n",
              "  {'n_neighbors': 17},\n",
              "  {'n_neighbors': 18},\n",
              "  {'n_neighbors': 19},\n",
              "  {'n_neighbors': 20}],\n",
              " 'rank_test_score': array([19, 20, 17, 18, 15, 16, 13, 14, 10, 12,  1,  7,  4,  9,  5, 11,  2,\n",
              "         6,  3,  8], dtype=int32),\n",
              " 'split0_test_score': array([0.8013468 , 0.78518519, 0.82356902, 0.82222222, 0.83771044,\n",
              "        0.83501684, 0.84646465, 0.84175084, 0.84444444, 0.84444444,\n",
              "        0.84915825, 0.84983165, 0.85117845, 0.84848485, 0.84848485,\n",
              "        0.84781145, 0.85319865, 0.84983165, 0.85454545, 0.84848485]),\n",
              " 'split1_test_score': array([0.82828283, 0.7993266 , 0.84309764, 0.83367003, 0.85185185,\n",
              "        0.84646465, 0.86127946, 0.85925926, 0.86397306, 0.85521886,\n",
              "        0.86397306, 0.85723906, 0.86397306, 0.85925926, 0.86464646,\n",
              "        0.86127946, 0.86262626, 0.86262626, 0.86060606, 0.86329966]),\n",
              " 'split2_test_score': array([0.82087542, 0.8020202 , 0.83838384, 0.83569024, 0.85521886,\n",
              "        0.84713805, 0.85993266, 0.85454545, 0.86464646, 0.86060606,\n",
              "        0.86397306, 0.85858586, 0.86127946, 0.85858586, 0.86464646,\n",
              "        0.85925926, 0.86801347, 0.86195286, 0.86195286, 0.85723906]),\n",
              " 'split3_test_score': array([0.82424242, 0.7993266 , 0.85050505, 0.84107744, 0.85117845,\n",
              "        0.84579125, 0.85117845, 0.84915825, 0.85319865, 0.85521886,\n",
              "        0.85454545, 0.85791246, 0.85454545, 0.85387205, 0.85252525,\n",
              "        0.85252525, 0.85589226, 0.85858586, 0.85925926, 0.85791246]),\n",
              " 'split4_test_score': array([0.81132075, 0.7884097 , 0.83355795, 0.82479784, 0.8402965 ,\n",
              "        0.83894879, 0.84433962, 0.84973046, 0.84636119, 0.85512129,\n",
              "        0.85714286, 0.85309973, 0.85579515, 0.85512129, 0.85309973,\n",
              "        0.85040431, 0.84838275, 0.84973046, 0.85107817, 0.84973046]),\n",
              " 'std_fit_time': array([9.91731734e-04, 3.04308792e-05, 3.94234998e-03, 3.67443572e-03,\n",
              "        1.51194985e-03, 2.59045765e-03, 2.59452482e-03, 3.37103954e-04,\n",
              "        3.64326296e-03, 7.87868241e-03, 7.58157368e-03, 6.91788557e-03,\n",
              "        5.75880044e-03, 1.69719317e-03, 3.62387794e-03, 5.02264690e-03,\n",
              "        5.70669081e-03, 3.37746400e-03, 1.21256750e-02, 9.72341471e-03]),\n",
              " 'std_score_time': array([0.00549458, 0.00301569, 0.01088176, 0.00562241, 0.0117929 ,\n",
              "        0.01945721, 0.02626377, 0.02389004, 0.0174784 , 0.0400884 ,\n",
              "        0.02232343, 0.04655711, 0.02079373, 0.01591522, 0.02905444,\n",
              "        0.03945654, 0.06642099, 0.0277021 , 0.06976789, 0.03555443]),\n",
              " 'std_test_score': array([0.00971413, 0.00672871, 0.00905911, 0.00699986, 0.0069205 ,\n",
              "        0.00482749, 0.00688463, 0.00585277, 0.0085057 , 0.00527452,\n",
              "        0.00569049, 0.00335023, 0.00464062, 0.00386556, 0.00669582,\n",
              "        0.00517155, 0.00694186, 0.00569032, 0.00406298, 0.00551435])}"
            ]
          },
          "metadata": {},
          "execution_count": 166
        }
      ],
      "source": [
        "# https://scikit-learn.org/stable/modules/generated/sklearn.model_selection.GridSearchCV.html\n",
        "from sklearn.model_selection import GridSearchCV\n",
        "import numpy as np\n",
        "\n",
        "from sklearn.neighbors import KNeighborsClassifier\n",
        "\n",
        "parameters = { 'n_neighbors': np.arange(1, 21, 1) }\n",
        "\n",
        "knn = KNeighborsClassifier()\n",
        "\n",
        "clf = GridSearchCV(knn, parameters)\n",
        "\n",
        "clf.fit(X_train, y_train)\n",
        "\n",
        "clf.best_params_\n",
        "\n",
        "clf.cv_results_"
      ]
    },
    {
      "cell_type": "code",
      "source": [
        "y_pred = clf.predict(X_test)\n",
        "print(confusion_matrix(y_test, y_pred))\n",
        "print(classification_report(y_test, y_pred))\n",
        "print(clf.score(X_test, y_test))"
      ],
      "metadata": {
        "colab": {
          "base_uri": "https://localhost:8080/"
        },
        "id": "o21H9xU2qQEz",
        "outputId": "2f90e987-5236-4b75-858c-192e7f766f03"
      },
      "execution_count": 167,
      "outputs": [
        {
          "output_type": "stream",
          "name": "stdout",
          "text": [
            "[[780 148]\n",
            " [ 99 829]]\n",
            "              precision    recall  f1-score   support\n",
            "\n",
            "           0       0.89      0.84      0.86       928\n",
            "           1       0.85      0.89      0.87       928\n",
            "\n",
            "    accuracy                           0.87      1856\n",
            "   macro avg       0.87      0.87      0.87      1856\n",
            "weighted avg       0.87      0.87      0.87      1856\n",
            "\n",
            "0.8669181034482759\n"
          ]
        }
      ]
    },
    {
      "cell_type": "markdown",
      "source": [
        "# Задание 2"
      ],
      "metadata": {
        "id": "mcRBV_pw8Sg6"
      }
    },
    {
      "cell_type": "code",
      "source": [
        "from sklearn.metrics import accuracy_score, recall_score, roc_curve, roc_auc_score\n",
        "from scipy.stats import mode\n",
        "import matplotlib.pyplot as plt"
      ],
      "metadata": {
        "id": "SROw1S7v9LOI"
      },
      "execution_count": 384,
      "outputs": []
    },
    {
      "cell_type": "code",
      "source": [
        "Loss = ({'model' : [], 'test_accuracy' : [], 'test_recall' :[] , 'test_auc' :[]}) #Датафрейм для метрик качества\n",
        "df_Loss = pd.DataFrame(Loss)"
      ],
      "metadata": {
        "id": "JCK5r7En8We5"
      },
      "execution_count": 385,
      "outputs": []
    },
    {
      "cell_type": "code",
      "source": [
        "dataset_2 = dataset.drop(['marital_cl',\n",
        "                                  'education_cl', 'default_cl',\\\n",
        "                                  'housing_cl', 'loan_cl',\\\n",
        "                                  'contact_cl', 'month_cl',\\\n",
        "                                  'day_of_week_cl', 'job_cl',\\\n",
        "                                  'poutcome_cl'], axis=1)"
      ],
      "metadata": {
        "id": "UeIPMB_KWsLV"
      },
      "execution_count": 386,
      "outputs": []
    },
    {
      "cell_type": "code",
      "source": [
        "X = dataset_2.iloc[:, :-1].values\n",
        "y = dataset_2[\"y_cl\"]"
      ],
      "metadata": {
        "id": "PcVro3xT8uVB"
      },
      "execution_count": 387,
      "outputs": []
    },
    {
      "cell_type": "code",
      "source": [
        "scaler = StandardScaler()\n",
        "scaler.fit(X_train)\n",
        "\n",
        "X_train = scaler.transform(X_train) \n",
        "X_test = scaler.transform(X_test) "
      ],
      "metadata": {
        "id": "lS091v6C9GbB"
      },
      "execution_count": 388,
      "outputs": []
    },
    {
      "cell_type": "code",
      "source": [
        "def loss_func(df, model, y_test, y_pred):  # функция для оценки качества обученной модели\n",
        "  te_ac = accuracy_score(y_test, y_pred).round(4)\n",
        "  te_rec = recall_score(y_test, y_pred).round(4)\n",
        "  te_auc = roc_auc_score(y_test, y_pred).round(4)\n",
        "  new_row = {'model' : model, 'test_accuracy' : te_ac, 'test_recall' : te_rec, 'test_auc' : te_auc}\n",
        "  print(\"model: {0}\".format(model), \"test_accuracy: {0}\".format(te_ac), \"test_recall: {0}\".format(te_rec), \"test_auc: {0}\".format(te_auc), sep='\\n')"
      ],
      "metadata": {
        "id": "qCtJIVibrPIK"
      },
      "execution_count": 389,
      "outputs": []
    },
    {
      "cell_type": "markdown",
      "source": [
        "## KNN"
      ],
      "metadata": {
        "id": "KBEPqYSaydwq"
      }
    },
    {
      "cell_type": "markdown",
      "source": [
        "Шаг 1. Выяснить соответствующее метрику расстояния для расчета расстояния между точками данных.\n",
        "\n",
        "Шаг 2. Сохранить расстояние в массиве и рассортировать его в соответствии с порученным порядком их расстояний.\n",
        "\n",
        "Шаг 3. Выберите первые элементы K в отсортированном списке.\n",
        "\n",
        "Шаг 4. Выполните голосование большинства, и класс с максимальным количеством вхождений будет назначен в качестве нового класса для точки данных для классификации."
      ],
      "metadata": {
        "id": "HV8E4YD2pHMj"
      }
    },
    {
      "cell_type": "code",
      "source": [
        "def euclidian_metric(x, y):\n",
        "    return np.sqrt(np.sum((x - y)**2))"
      ],
      "metadata": {
        "id": "CPLM4LWLX0Hj"
      },
      "execution_count": 373,
      "outputs": []
    },
    {
      "cell_type": "code",
      "source": [
        "def predict(x_train, y, x_input, k):\n",
        "    op_labels = []\n",
        "    y = np.array(y)\n",
        "    #Перебрать точки данных, которые нужно классифицировать\n",
        "    for item in x_input: \n",
        "        \n",
        "        #Массив для хранения расстояний\n",
        "        point_dist = []\n",
        "        \n",
        "        #Пройтись по точкам дынных, которые нужно классифицировать\n",
        "        for j in range(len(x_train)): \n",
        "            distances = euclidian_metric(np.array(x_train[j,:]) , item) \n",
        "            #Измерение расстояния\n",
        "            point_dist.append(distances) \n",
        "        point_dist = np.array(point_dist) \n",
        "        \n",
        "        #Сортировка массива с сохранением индекса\n",
        "        #Сохранение первых K точек данных\n",
        "        dist = np.argsort(point_dist)[:k] #Возвращает индексы, которые будут сортировать массив\n",
        "        \n",
        "        # Метки K точек данных сверху\n",
        "        labels = y[dist]\n",
        "        \n",
        "        #Выполните голосование большинства\n",
        "        lab = mode(labels) #Возвращает наиболее встречающееся значение\n",
        "        lab = lab.mode[0]\n",
        "        op_labels.append(lab)\n",
        "\n",
        "    return op_labels"
      ],
      "metadata": {
        "id": "M4eHRmdDfNW3"
      },
      "execution_count": 374,
      "outputs": []
    },
    {
      "cell_type": "code",
      "source": [
        "y_pred_knn = predict(X_train, y_train, X_test , 21)"
      ],
      "metadata": {
        "id": "tQaKcizbfVRP"
      },
      "execution_count": 375,
      "outputs": []
    },
    {
      "cell_type": "code",
      "source": [
        "loss_func(df_Loss, \"KNN\", y_test, y_pred_knn)"
      ],
      "metadata": {
        "colab": {
          "base_uri": "https://localhost:8080/"
        },
        "id": "7W5BcuuR-JuZ",
        "outputId": "2b4f6279-70f8-4d34-f72e-617c811cce30"
      },
      "execution_count": 376,
      "outputs": [
        {
          "output_type": "stream",
          "name": "stdout",
          "text": [
            "model: KNN\n",
            "test_accuracy: 0.8642\n",
            "test_recall: 0.9001\n",
            "test_auc: 0.8642\n"
          ]
        }
      ]
    },
    {
      "cell_type": "markdown",
      "source": [
        "## Naive Bayes"
      ],
      "metadata": {
        "id": "Pmy0QMJDCEGI"
      }
    },
    {
      "cell_type": "code",
      "source": [
        "#Разбиваем выборку на обучающую тестовую\n",
        "X = dataset_2.drop(columns=['y_cl'])\n",
        "y = dataset_2['y_cl']\n",
        "(X_train, X_test, \n",
        "y_train, y_test) = train_test_split(X, y, \n",
        "                                     test_size=0.3, \n",
        "                                     random_state=dataset_2.shape[0], stratify = y)"
      ],
      "metadata": {
        "id": "yquEm14pHKx7"
      },
      "execution_count": 405,
      "outputs": []
    },
    {
      "cell_type": "markdown",
      "source": [
        "![image.png](data:image/png;base64,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)"
      ],
      "metadata": {
        "id": "kdDHWBBYK4n2"
      }
    },
    {
      "cell_type": "code",
      "source": [
        "means = X_train.groupby(y_train).apply(np.mean)\n",
        "standards = X_train.groupby(y_train).apply(np.std)\n",
        " \n",
        "#Априорная вероятность - вероятность, присвоенная событию при отсутствии знания,\n",
        "#поддерживающего его наступление\n",
        "probs = X_train.groupby(y_train).apply(lambda x: len(x)) / X_train.shape[0]\n",
        "op_labels = []\n",
        "#каждый элемент в тестовой части данных\n",
        "for elem in range(X_test.shape[0]):\n",
        "   p = {}\n",
        "   #для каждого возможного класса\n",
        "   for classes in np.unique(y_train):\n",
        "       #априорная вероятность взятого ранее класса\n",
        "       p[classes] = probs.iloc[classes]\n",
        "       #для каждого столбца в датасете\n",
        "       for index, parametres in enumerate(X_test.iloc[elem]):\n",
        "           #умножаем вероятность того, что данное значение столбца\n",
        "           #будет принадлежать распределению для выбранного класса\n",
        "           p[classes] *= np.exp((-((parametres - means.iloc[classes, index])/standards.iloc[classes, index])**2)/2)/((2*3.1416)**0.5) # плотность вероятности для нормы\n",
        "   op_labels.append(pd.Series(p).values.argmax())"
      ],
      "metadata": {
        "id": "IaWMTpdIzEbc"
      },
      "execution_count": 412,
      "outputs": []
    },
    {
      "cell_type": "code",
      "source": [
        "loss_func(df_Loss, \"Naive Bayes\", y_test, op_labels)"
      ],
      "metadata": {
        "colab": {
          "base_uri": "https://localhost:8080/"
        },
        "id": "64fqgwhmHtBB",
        "outputId": "051db31b-6ab5-401c-93fd-32f108f3826e"
      },
      "execution_count": 413,
      "outputs": [
        {
          "output_type": "stream",
          "name": "stdout",
          "text": [
            "model: Naive Bayes\n",
            "test_accuracy: 0.7665\n",
            "test_recall: 0.8649\n",
            "test_auc: 0.7665\n"
          ]
        }
      ]
    },
    {
      "cell_type": "markdown",
      "source": [
        "# Результаты"
      ],
      "metadata": {
        "id": "E_SW_PApO2-3"
      }
    },
    {
      "cell_type": "code",
      "source": [
        "plt.figure(figsize = (15,10))\n",
        "models = ['KNN', 'Naive Bayes']\n",
        "y_native = []\n",
        "y_native.append(y_pred_knn)\n",
        "y_native.append(y_pred_NB)\n",
        "for n in range(len(y_native)):\n",
        "    fpr, tpr, _ = roc_curve(y_test, y_native[n])\n",
        "    auc = roc_auc_score(y_test, y_native[n])\n",
        "    lw = 1.5\n",
        "    plt.plot(fpr,tpr,label=str(models[n])+\" AUC=\"+str(auc.round(4)),lw=lw)\n",
        "plt.plot([0, 1], [0, 1], lw=lw, linestyle='--')\n",
        "plt.ylabel('True Positive Rate')\n",
        "plt.xlabel('False Positive Rate')\n",
        "plt.legend(loc=0)\n",
        "plt.show()"
      ],
      "metadata": {
        "colab": {
          "base_uri": "https://localhost:8080/",
          "height": 606
        },
        "id": "GQsH9VfYOMee",
        "outputId": "d5984d18-93c9-4015-b2fa-22ca796c7a3a"
      },
      "execution_count": 404,
      "outputs": [
        {
          "output_type": "display_data",
          "data": {
            "text/plain": [
              "<Figure size 1080x720 with 1 Axes>"
            ],
            "image/png": "[encoded data removed]"
          },
          "metadata": {
            "needs_background": "light"
          }
        }
      ]
    }
  ],
  "metadata": {
    "colab": {
      "collapsed_sections": [],
      "name": "2_Classification.ipynb",
      "provenance": []
    },
    "kernelspec": {
      "display_name": "Python 3",
      "name": "python3"
    }
  },
  "nbformat": 4,
  "nbformat_minor": 0
}