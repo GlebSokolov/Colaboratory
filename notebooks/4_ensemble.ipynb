{
  "nbformat": 4,
  "nbformat_minor": 0,
  "metadata": {
    "colab": {
      "name": "4_ensemble.ipynb",
      "provenance": [],
      "collapsed_sections": []
    },
    "kernelspec": {
      "name": "python3",
      "display_name": "Python 3"
    },
    "language_info": {
      "name": "python"
    },
    "widgets": {
      "application/vnd.jupyter.widget-state+json": {
        "308527d5e26742889be256633106c20f": {
          "model_module": "catboost-widget",
          "model_name": "CatboostWidgetModel",
          "model_module_version": "^1.0.0",
          "state": {
            "_dom_classes": [],
            "_model_module": "catboost-widget",
            "_model_module_version": "^1.0.0",
            "_model_name": "CatboostWidgetModel",
            "_view_count": null,
            "_view_module": "catboost-widget",
            "_view_module_version": "^1.0.0",
            "_view_name": "CatboostWidgetView",
            "data": {
              "catboost_info": {
                "path": "catboost_info",
                "name": "catboost_info",
                "content": {
                  "passed_iterations": 199,
                  "total_iterations": 200,
                  "data": {
                    "iterations": [
                      {
                        "learn": [
                          0.5957721579
                        ],
                        "iteration": 0,
                        "passed_time": 0.05046322851,
                        "remaining_time": 10.04218247,
                        "test": [
                          0.595545523
                        ]
                      },
                      {
                        "learn": [
                          0.5444811942
                        ],
                        "iteration": 1,
                        "passed_time": 0.05370162618,
                        "remaining_time": 5.316460991,
                        "test": [
                          0.5459403074
                        ]
                      },
                      {
                        "learn": [
                          0.4848486188
                        ],
                        "iteration": 2,
                        "passed_time": 0.05695628771,
                        "remaining_time": 3.740129559,
                        "test": [
                          0.4887821142
                        ]
                      },
                      {
                        "learn": [
                          0.4467394248
                        ],
                        "iteration": 3,
                        "passed_time": 0.06073281254,
                        "remaining_time": 2.975907814,
                        "test": [
                          0.4521110987
                        ]
                      },
                      {
                        "learn": [
                          0.417028528
                        ],
                        "iteration": 4,
                        "passed_time": 0.06428126232,
                        "remaining_time": 2.50696923,
                        "test": [
                          0.4242813105
                        ]
                      },
                      {
                        "learn": [
                          0.3974700577
                        ],
                        "iteration": 5,
                        "passed_time": 0.06754211894,
                        "remaining_time": 2.183861846,
                        "test": [
                          0.4041863392
                        ]
                      },
                      {
                        "learn": [
                          0.3789232978
                        ],
                        "iteration": 6,
                        "passed_time": 0.07084667118,
                        "remaining_time": 1.953343934,
                        "test": [
                          0.386505019
                        ]
                      },
                      {
                        "learn": [
                          0.366152919
                        ],
                        "iteration": 7,
                        "passed_time": 0.07411580109,
                        "remaining_time": 1.778779226,
                        "test": [
                          0.3746839194
                        ]
                      },
                      {
                        "learn": [
                          0.3542339106
                        ],
                        "iteration": 8,
                        "passed_time": 0.07789364185,
                        "remaining_time": 1.653076177,
                        "test": [
                          0.3635646328
                        ]
                      },
                      {
                        "learn": [
                          0.3410286739
                        ],
                        "iteration": 9,
                        "passed_time": 0.08187831144,
                        "remaining_time": 1.555687917,
                        "test": [
                          0.3505721751
                        ]
                      },
                      {
                        "learn": [
                          0.3332750693
                        ],
                        "iteration": 10,
                        "passed_time": 0.08547316188,
                        "remaining_time": 1.468584327,
                        "test": [
                          0.3439367435
                        ]
                      },
                      {
                        "learn": [
                          0.3245231541
                        ],
                        "iteration": 11,
                        "passed_time": 0.08924752668,
                        "remaining_time": 1.398211251,
                        "test": [
                          0.33560082
                        ]
                      },
                      {
                        "learn": [
                          0.3200344393
                        ],
                        "iteration": 12,
                        "passed_time": 0.09260977837,
                        "remaining_time": 1.332156043,
                        "test": [
                          0.3321951762
                        ]
                      },
                      {
                        "learn": [
                          0.3144583165
                        ],
                        "iteration": 13,
                        "passed_time": 0.09616913422,
                        "remaining_time": 1.27767564,
                        "test": [
                          0.3277856511
                        ]
                      },
                      {
                        "learn": [
                          0.3089564532
                        ],
                        "iteration": 14,
                        "passed_time": 0.09980260975,
                        "remaining_time": 1.230898854,
                        "test": [
                          0.3216095316
                        ]
                      },
                      {
                        "learn": [
                          0.3062906901
                        ],
                        "iteration": 15,
                        "passed_time": 0.1032727361,
                        "remaining_time": 1.187636466,
                        "test": [
                          0.3199316302
                        ]
                      },
                      {
                        "learn": [
                          0.3023782314
                        ],
                        "iteration": 16,
                        "passed_time": 0.1068628542,
                        "remaining_time": 1.150347196,
                        "test": [
                          0.3168367517
                        ]
                      },
                      {
                        "learn": [
                          0.2992673326
                        ],
                        "iteration": 17,
                        "passed_time": 0.1103906428,
                        "remaining_time": 1.116172055,
                        "test": [
                          0.3154819015
                        ]
                      },
                      {
                        "learn": [
                          0.2967712402
                        ],
                        "iteration": 18,
                        "passed_time": 0.113702327,
                        "remaining_time": 1.083164273,
                        "test": [
                          0.3140331164
                        ]
                      },
                      {
                        "learn": [
                          0.2928766711
                        ],
                        "iteration": 19,
                        "passed_time": 0.1170253049,
                        "remaining_time": 1.053227744,
                        "test": [
                          0.3107023157
                        ]
                      },
                      {
                        "learn": [
                          0.2903874364
                        ],
                        "iteration": 20,
                        "passed_time": 0.1205332069,
                        "remaining_time": 1.027402097,
                        "test": [
                          0.3090915953
                        ]
                      },
                      {
                        "learn": [
                          0.2884503244
                        ],
                        "iteration": 21,
                        "passed_time": 0.123897244,
                        "remaining_time": 1.002441338,
                        "test": [
                          0.3076911256
                        ]
                      },
                      {
                        "learn": [
                          0.2866162881
                        ],
                        "iteration": 22,
                        "passed_time": 0.1272872507,
                        "remaining_time": 0.9795584074,
                        "test": [
                          0.3063376564
                        ]
                      },
                      {
                        "learn": [
                          0.2838711969
                        ],
                        "iteration": 23,
                        "passed_time": 0.1306734486,
                        "remaining_time": 0.9582719565,
                        "test": [
                          0.3038896464
                        ]
                      },
                      {
                        "learn": [
                          0.2814999986
                        ],
                        "iteration": 24,
                        "passed_time": 0.1339194341,
                        "remaining_time": 0.9374360388,
                        "test": [
                          0.3031479846
                        ]
                      },
                      {
                        "learn": [
                          0.2795738834
                        ],
                        "iteration": 25,
                        "passed_time": 0.1372465039,
                        "remaining_time": 0.9184958341,
                        "test": [
                          0.3010014235
                        ]
                      },
                      {
                        "learn": [
                          0.278417197
                        ],
                        "iteration": 26,
                        "passed_time": 0.140620289,
                        "remaining_time": 0.9010114812,
                        "test": [
                          0.3001880456
                        ]
                      },
                      {
                        "learn": [
                          0.2769236071
                        ],
                        "iteration": 27,
                        "passed_time": 0.1438852034,
                        "remaining_time": 0.8838662493,
                        "test": [
                          0.2992470113
                        ]
                      },
                      {
                        "learn": [
                          0.2760582409
                        ],
                        "iteration": 28,
                        "passed_time": 0.1471554992,
                        "remaining_time": 0.8677100127,
                        "test": [
                          0.2985909983
                        ]
                      },
                      {
                        "learn": [
                          0.2748714052
                        ],
                        "iteration": 29,
                        "passed_time": 0.1504809799,
                        "remaining_time": 0.852725553,
                        "test": [
                          0.2979529036
                        ]
                      },
                      {
                        "learn": [
                          0.2741744995
                        ],
                        "iteration": 30,
                        "passed_time": 0.1540886319,
                        "remaining_time": 0.840031574,
                        "test": [
                          0.2975468092
                        ]
                      },
                      {
                        "learn": [
                          0.2728644886
                        ],
                        "iteration": 31,
                        "passed_time": 0.1575307516,
                        "remaining_time": 0.8270364457,
                        "test": [
                          0.2968231538
                        ]
                      },
                      {
                        "learn": [
                          0.2713936466
                        ],
                        "iteration": 32,
                        "passed_time": 0.1610820228,
                        "remaining_time": 0.8151726606,
                        "test": [
                          0.2959236615
                        ]
                      },
                      {
                        "learn": [
                          0.2706724671
                        ],
                        "iteration": 33,
                        "passed_time": 0.1644931042,
                        "remaining_time": 0.8031133912,
                        "test": [
                          0.2955697089
                        ]
                      },
                      {
                        "learn": [
                          0.2697908423
                        ],
                        "iteration": 34,
                        "passed_time": 0.1679190686,
                        "remaining_time": 0.7916184664,
                        "test": [
                          0.2949869698
                        ]
                      },
                      {
                        "learn": [
                          0.2690113638
                        ],
                        "iteration": 35,
                        "passed_time": 0.1728541349,
                        "remaining_time": 0.7874466144,
                        "test": [
                          0.2947701599
                        ]
                      },
                      {
                        "learn": [
                          0.2680077915
                        ],
                        "iteration": 36,
                        "passed_time": 0.1761407409,
                        "remaining_time": 0.7759713722,
                        "test": [
                          0.2944897848
                        ]
                      },
                      {
                        "learn": [
                          0.267225454
                        ],
                        "iteration": 37,
                        "passed_time": 0.1794844055,
                        "remaining_time": 0.7651703605,
                        "test": [
                          0.2940648211
                        ]
                      },
                      {
                        "learn": [
                          0.2654407896
                        ],
                        "iteration": 38,
                        "passed_time": 0.1830403277,
                        "remaining_time": 0.7556280195,
                        "test": [
                          0.2930725741
                        ]
                      },
                      {
                        "learn": [
                          0.2646345818
                        ],
                        "iteration": 39,
                        "passed_time": 0.1863661671,
                        "remaining_time": 0.7454646683,
                        "test": [
                          0.2927766674
                        ]
                      },
                      {
                        "learn": [
                          0.2637839833
                        ],
                        "iteration": 40,
                        "passed_time": 0.1899051867,
                        "remaining_time": 0.7364615778,
                        "test": [
                          0.2927109846
                        ]
                      },
                      {
                        "learn": [
                          0.2630776241
                        ],
                        "iteration": 41,
                        "passed_time": 0.1933280756,
                        "remaining_time": 0.7272818083,
                        "test": [
                          0.2923893005
                        ]
                      },
                      {
                        "learn": [
                          0.2624770767
                        ],
                        "iteration": 42,
                        "passed_time": 0.1967328766,
                        "remaining_time": 0.7183037586,
                        "test": [
                          0.2916423953
                        ]
                      },
                      {
                        "learn": [
                          0.2611697142
                        ],
                        "iteration": 43,
                        "passed_time": 0.2003422445,
                        "remaining_time": 0.7103043213,
                        "test": [
                          0.2913569875
                        ]
                      },
                      {
                        "learn": [
                          0.2602099539
                        ],
                        "iteration": 44,
                        "passed_time": 0.2037698548,
                        "remaining_time": 0.7018739444,
                        "test": [
                          0.2908521484
                        ]
                      },
                      {
                        "learn": [
                          0.2595108383
                        ],
                        "iteration": 45,
                        "passed_time": 0.2083734623,
                        "remaining_time": 0.6975981128,
                        "test": [
                          0.290247716
                        ]
                      },
                      {
                        "learn": [
                          0.2592695214
                        ],
                        "iteration": 46,
                        "passed_time": 0.2117549647,
                        "remaining_time": 0.6893299914,
                        "test": [
                          0.2900279113
                        ]
                      },
                      {
                        "learn": [
                          0.2585212795
                        ],
                        "iteration": 47,
                        "passed_time": 0.2157344315,
                        "remaining_time": 0.683159033,
                        "test": [
                          0.289925541
                        ]
                      },
                      {
                        "learn": [
                          0.25782041
                        ],
                        "iteration": 48,
                        "passed_time": 0.21913063,
                        "remaining_time": 0.6752801047,
                        "test": [
                          0.2898786631
                        ]
                      },
                      {
                        "learn": [
                          0.257148199
                        ],
                        "iteration": 49,
                        "passed_time": 0.2225041228,
                        "remaining_time": 0.6675123683,
                        "test": [
                          0.2895277426
                        ]
                      },
                      {
                        "learn": [
                          0.2565024891
                        ],
                        "iteration": 50,
                        "passed_time": 0.2258626835,
                        "remaining_time": 0.6598733302,
                        "test": [
                          0.2892867743
                        ]
                      },
                      {
                        "learn": [
                          0.2556007473
                        ],
                        "iteration": 51,
                        "passed_time": 0.2293367936,
                        "remaining_time": 0.6527277972,
                        "test": [
                          0.2891822354
                        ]
                      },
                      {
                        "learn": [
                          0.2547896813
                        ],
                        "iteration": 52,
                        "passed_time": 0.2325398158,
                        "remaining_time": 0.644968923,
                        "test": [
                          0.2890365045
                        ]
                      },
                      {
                        "learn": [
                          0.254031337
                        ],
                        "iteration": 53,
                        "passed_time": 0.2379867074,
                        "remaining_time": 0.6434455423,
                        "test": [
                          0.2887746089
                        ]
                      },
                      {
                        "learn": [
                          0.2532628202
                        ],
                        "iteration": 54,
                        "passed_time": 0.2413119163,
                        "remaining_time": 0.6361859612,
                        "test": [
                          0.2884823989
                        ]
                      },
                      {
                        "learn": [
                          0.252154313
                        ],
                        "iteration": 55,
                        "passed_time": 0.2444780357,
                        "remaining_time": 0.628657806,
                        "test": [
                          0.2877552097
                        ]
                      },
                      {
                        "learn": [
                          0.2516785019
                        ],
                        "iteration": 56,
                        "passed_time": 0.2514738888,
                        "remaining_time": 0.6308906333,
                        "test": [
                          0.287469547
                        ]
                      },
                      {
                        "learn": [
                          0.2512742492
                        ],
                        "iteration": 57,
                        "passed_time": 0.2546411668,
                        "remaining_time": 0.6234318223,
                        "test": [
                          0.2872321872
                        ]
                      },
                      {
                        "learn": [
                          0.2509666706
                        ],
                        "iteration": 58,
                        "passed_time": 0.2578868082,
                        "remaining_time": 0.6163057621,
                        "test": [
                          0.2873495842
                        ]
                      },
                      {
                        "learn": [
                          0.2502296886
                        ],
                        "iteration": 59,
                        "passed_time": 0.2613677748,
                        "remaining_time": 0.6098581412,
                        "test": [
                          0.2872642588
                        ]
                      },
                      {
                        "learn": [
                          0.2494112212
                        ],
                        "iteration": 60,
                        "passed_time": 0.2646273896,
                        "remaining_time": 0.6030033959,
                        "test": [
                          0.2863405845
                        ]
                      },
                      {
                        "learn": [
                          0.2487468325
                        ],
                        "iteration": 61,
                        "passed_time": 0.267987204,
                        "remaining_time": 0.5964876475,
                        "test": [
                          0.2860783887
                        ]
                      },
                      {
                        "learn": [
                          0.2479069677
                        ],
                        "iteration": 62,
                        "passed_time": 0.2712487606,
                        "remaining_time": 0.5898584159,
                        "test": [
                          0.2856369459
                        ]
                      },
                      {
                        "learn": [
                          0.2473851171
                        ],
                        "iteration": 63,
                        "passed_time": 0.2744219501,
                        "remaining_time": 0.5831466439,
                        "test": [
                          0.2855274762
                        ]
                      },
                      {
                        "learn": [
                          0.2466546771
                        ],
                        "iteration": 64,
                        "passed_time": 0.2779738217,
                        "remaining_time": 0.5773302451,
                        "test": [
                          0.2853667596
                        ]
                      },
                      {
                        "learn": [
                          0.2461221805
                        ],
                        "iteration": 65,
                        "passed_time": 0.2813403789,
                        "remaining_time": 0.5712062239,
                        "test": [
                          0.2849636794
                        ]
                      },
                      {
                        "learn": [
                          0.2456902515
                        ],
                        "iteration": 66,
                        "passed_time": 0.2853902822,
                        "remaining_time": 0.5665210079,
                        "test": [
                          0.2849172027
                        ]
                      },
                      {
                        "learn": [
                          0.2452153348
                        ],
                        "iteration": 67,
                        "passed_time": 0.2912534293,
                        "remaining_time": 0.5653743038,
                        "test": [
                          0.2848964197
                        ]
                      },
                      {
                        "learn": [
                          0.244922331
                        ],
                        "iteration": 68,
                        "passed_time": 0.2959648287,
                        "remaining_time": 0.56190424,
                        "test": [
                          0.2846217235
                        ]
                      },
                      {
                        "learn": [
                          0.244079432
                        ],
                        "iteration": 69,
                        "passed_time": 0.3002483066,
                        "remaining_time": 0.557603998,
                        "test": [
                          0.2842969767
                        ]
                      },
                      {
                        "learn": [
                          0.2438051246
                        ],
                        "iteration": 70,
                        "passed_time": 0.3044218316,
                        "remaining_time": 0.5531044546,
                        "test": [
                          0.2842823673
                        ]
                      },
                      {
                        "learn": [
                          0.2431994208
                        ],
                        "iteration": 71,
                        "passed_time": 0.3078692399,
                        "remaining_time": 0.5473230932,
                        "test": [
                          0.2840394579
                        ]
                      },
                      {
                        "learn": [
                          0.2427726307
                        ],
                        "iteration": 72,
                        "passed_time": 0.3115572558,
                        "remaining_time": 0.5420242669,
                        "test": [
                          0.283958093
                        ]
                      },
                      {
                        "learn": [
                          0.2423952125
                        ],
                        "iteration": 73,
                        "passed_time": 0.3151528776,
                        "remaining_time": 0.5366116565,
                        "test": [
                          0.2834779003
                        ]
                      },
                      {
                        "learn": [
                          0.2422779653
                        ],
                        "iteration": 74,
                        "passed_time": 0.3186114361,
                        "remaining_time": 0.5310190602,
                        "test": [
                          0.2833488792
                        ]
                      },
                      {
                        "learn": [
                          0.2419121753
                        ],
                        "iteration": 75,
                        "passed_time": 0.321851647,
                        "remaining_time": 0.5251263714,
                        "test": [
                          0.2831372289
                        ]
                      },
                      {
                        "learn": [
                          0.2417945599
                        ],
                        "iteration": 76,
                        "passed_time": 0.3250003661,
                        "remaining_time": 0.519156429,
                        "test": [
                          0.2831819057
                        ]
                      },
                      {
                        "learn": [
                          0.2413968492
                        ],
                        "iteration": 77,
                        "passed_time": 0.3304919152,
                        "remaining_time": 0.516923252,
                        "test": [
                          0.2825758814
                        ]
                      },
                      {
                        "learn": [
                          0.2410179927
                        ],
                        "iteration": 78,
                        "passed_time": 0.3354210555,
                        "remaining_time": 0.5137461735,
                        "test": [
                          0.2823753275
                        ]
                      },
                      {
                        "learn": [
                          0.2404803923
                        ],
                        "iteration": 79,
                        "passed_time": 0.3402298167,
                        "remaining_time": 0.5103447251,
                        "test": [
                          0.2820402027
                        ]
                      },
                      {
                        "learn": [
                          0.2400482704
                        ],
                        "iteration": 80,
                        "passed_time": 0.3456642709,
                        "remaining_time": 0.5078277561,
                        "test": [
                          0.281875956
                        ]
                      },
                      {
                        "learn": [
                          0.2394349197
                        ],
                        "iteration": 81,
                        "passed_time": 0.3505635903,
                        "remaining_time": 0.5044695568,
                        "test": [
                          0.2817350179
                        ]
                      },
                      {
                        "learn": [
                          0.2390860722
                        ],
                        "iteration": 82,
                        "passed_time": 0.3541254562,
                        "remaining_time": 0.499188896,
                        "test": [
                          0.2816725451
                        ]
                      },
                      {
                        "learn": [
                          0.2387870701
                        ],
                        "iteration": 83,
                        "passed_time": 0.3575140469,
                        "remaining_time": 0.4937098742,
                        "test": [
                          0.2814756523
                        ]
                      },
                      {
                        "learn": [
                          0.2381839445
                        ],
                        "iteration": 84,
                        "passed_time": 0.360885131,
                        "remaining_time": 0.4882563536,
                        "test": [
                          0.2812426809
                        ]
                      },
                      {
                        "learn": [
                          0.237859704
                        ],
                        "iteration": 85,
                        "passed_time": 0.3641598696,
                        "remaining_time": 0.4827235481,
                        "test": [
                          0.2813239078
                        ]
                      },
                      {
                        "learn": [
                          0.2373298031
                        ],
                        "iteration": 86,
                        "passed_time": 0.3675564099,
                        "remaining_time": 0.4774008543,
                        "test": [
                          0.2816071623
                        ]
                      },
                      {
                        "learn": [
                          0.2368371722
                        ],
                        "iteration": 87,
                        "passed_time": 0.3708355496,
                        "remaining_time": 0.4719725176,
                        "test": [
                          0.2816299178
                        ]
                      },
                      {
                        "learn": [
                          0.2363636236
                        ],
                        "iteration": 88,
                        "passed_time": 0.3741421736,
                        "remaining_time": 0.4666267559,
                        "test": [
                          0.2815018288
                        ]
                      },
                      {
                        "learn": [
                          0.2356563173
                        ],
                        "iteration": 89,
                        "passed_time": 0.3774037203,
                        "remaining_time": 0.4612712137,
                        "test": [
                          0.2813160044
                        ]
                      },
                      {
                        "learn": [
                          0.2350867085
                        ],
                        "iteration": 90,
                        "passed_time": 0.3805144107,
                        "remaining_time": 0.4557809974,
                        "test": [
                          0.2812325946
                        ]
                      },
                      {
                        "learn": [
                          0.2348089985
                        ],
                        "iteration": 91,
                        "passed_time": 0.3836742363,
                        "remaining_time": 0.4504001905,
                        "test": [
                          0.281130347
                        ]
                      },
                      {
                        "learn": [
                          0.2343119654
                        ],
                        "iteration": 92,
                        "passed_time": 0.3870032298,
                        "remaining_time": 0.4452617805,
                        "test": [
                          0.2813689889
                        ]
                      },
                      {
                        "learn": [
                          0.2342514915
                        ],
                        "iteration": 93,
                        "passed_time": 0.3898096359,
                        "remaining_time": 0.4395725681,
                        "test": [
                          0.2814088478
                        ]
                      },
                      {
                        "learn": [
                          0.2335291545
                        ],
                        "iteration": 94,
                        "passed_time": 0.3930816113,
                        "remaining_time": 0.434458623,
                        "test": [
                          0.2809060134
                        ]
                      },
                      {
                        "learn": [
                          0.2330696194
                        ],
                        "iteration": 95,
                        "passed_time": 0.3964335774,
                        "remaining_time": 0.4294697089,
                        "test": [
                          0.2805219502
                        ]
                      },
                      {
                        "learn": [
                          0.2323768002
                        ],
                        "iteration": 96,
                        "passed_time": 0.399709392,
                        "remaining_time": 0.4244336843,
                        "test": [
                          0.2802818555
                        ]
                      },
                      {
                        "learn": [
                          0.2314790046
                        ],
                        "iteration": 97,
                        "passed_time": 0.4032231153,
                        "remaining_time": 0.4196812017,
                        "test": [
                          0.2798442123
                        ]
                      },
                      {
                        "learn": [
                          0.231085854
                        ],
                        "iteration": 98,
                        "passed_time": 0.4064479692,
                        "remaining_time": 0.4146590393,
                        "test": [
                          0.2796248215
                        ]
                      },
                      {
                        "learn": [
                          0.229936306
                        ],
                        "iteration": 99,
                        "passed_time": 0.4098085609,
                        "remaining_time": 0.4098085609,
                        "test": [
                          0.2796860256
                        ]
                      },
                      {
                        "learn": [
                          0.2297038462
                        ],
                        "iteration": 100,
                        "passed_time": 0.4132144668,
                        "remaining_time": 0.4050320021,
                        "test": [
                          0.279307367
                        ]
                      },
                      {
                        "learn": [
                          0.2290876016
                        ],
                        "iteration": 101,
                        "passed_time": 0.4195449205,
                        "remaining_time": 0.4030921785,
                        "test": [
                          0.2791617959
                        ]
                      },
                      {
                        "learn": [
                          0.22871206
                        ],
                        "iteration": 102,
                        "passed_time": 0.44490537,
                        "remaining_time": 0.4189885523,
                        "test": [
                          0.2792140732
                        ]
                      },
                      {
                        "learn": [
                          0.2285455112
                        ],
                        "iteration": 103,
                        "passed_time": 0.454663765,
                        "remaining_time": 0.4196896292,
                        "test": [
                          0.2790735041
                        ]
                      },
                      {
                        "learn": [
                          0.2277796077
                        ],
                        "iteration": 104,
                        "passed_time": 0.4631375263,
                        "remaining_time": 0.4190291905,
                        "test": [
                          0.2789487893
                        ]
                      },
                      {
                        "learn": [
                          0.2269044372
                        ],
                        "iteration": 105,
                        "passed_time": 0.4676312549,
                        "remaining_time": 0.4146918676,
                        "test": [
                          0.2782170959
                        ]
                      },
                      {
                        "learn": [
                          0.22656022
                        ],
                        "iteration": 106,
                        "passed_time": 0.4806142214,
                        "remaining_time": 0.4177301177,
                        "test": [
                          0.2779864798
                        ]
                      },
                      {
                        "learn": [
                          0.225922578
                        ],
                        "iteration": 107,
                        "passed_time": 0.4866382631,
                        "remaining_time": 0.4145437056,
                        "test": [
                          0.2780401969
                        ]
                      },
                      {
                        "learn": [
                          0.22528676
                        ],
                        "iteration": 108,
                        "passed_time": 0.4967212358,
                        "remaining_time": 0.4146938758,
                        "test": [
                          0.2779998824
                        ]
                      },
                      {
                        "learn": [
                          0.2245719296
                        ],
                        "iteration": 109,
                        "passed_time": 0.500598318,
                        "remaining_time": 0.409580442,
                        "test": [
                          0.2777249844
                        ]
                      },
                      {
                        "learn": [
                          0.2238947024
                        ],
                        "iteration": 110,
                        "passed_time": 0.5059736455,
                        "remaining_time": 0.4056905806,
                        "test": [
                          0.2775830851
                        ]
                      },
                      {
                        "learn": [
                          0.2231489861
                        ],
                        "iteration": 111,
                        "passed_time": 0.5188776145,
                        "remaining_time": 0.4076895543,
                        "test": [
                          0.2778929143
                        ]
                      },
                      {
                        "learn": [
                          0.2227611849
                        ],
                        "iteration": 112,
                        "passed_time": 0.5276155282,
                        "remaining_time": 0.4062172651,
                        "test": [
                          0.2777305712
                        ]
                      },
                      {
                        "learn": [
                          0.2220720138
                        ],
                        "iteration": 113,
                        "passed_time": 0.5314280731,
                        "remaining_time": 0.4009018797,
                        "test": [
                          0.2773659308
                        ]
                      },
                      {
                        "learn": [
                          0.2216956829
                        ],
                        "iteration": 114,
                        "passed_time": 0.5432745681,
                        "remaining_time": 0.4015507677,
                        "test": [
                          0.277353176
                        ]
                      },
                      {
                        "learn": [
                          0.2212824328
                        ],
                        "iteration": 115,
                        "passed_time": 0.5520494564,
                        "remaining_time": 0.3997599512,
                        "test": [
                          0.2773258824
                        ]
                      },
                      {
                        "learn": [
                          0.2208413661
                        ],
                        "iteration": 116,
                        "passed_time": 0.5555606179,
                        "remaining_time": 0.394115652,
                        "test": [
                          0.2774415367
                        ]
                      },
                      {
                        "learn": [
                          0.2206308124
                        ],
                        "iteration": 117,
                        "passed_time": 0.5631086357,
                        "remaining_time": 0.3913127807,
                        "test": [
                          0.2774025791
                        ]
                      },
                      {
                        "learn": [
                          0.2201600173
                        ],
                        "iteration": 118,
                        "passed_time": 0.5732914485,
                        "remaining_time": 0.390223591,
                        "test": [
                          0.277377612
                        ]
                      },
                      {
                        "learn": [
                          0.2196758051
                        ],
                        "iteration": 119,
                        "passed_time": 0.5834210655,
                        "remaining_time": 0.388947377,
                        "test": [
                          0.2770699631
                        ]
                      },
                      {
                        "learn": [
                          0.2195410542
                        ],
                        "iteration": 120,
                        "passed_time": 0.5931105795,
                        "remaining_time": 0.3872374858,
                        "test": [
                          0.2771400878
                        ]
                      },
                      {
                        "learn": [
                          0.2189777243
                        ],
                        "iteration": 121,
                        "passed_time": 0.6069650434,
                        "remaining_time": 0.3880596179,
                        "test": [
                          0.2770583055
                        ]
                      },
                      {
                        "learn": [
                          0.2186614639
                        ],
                        "iteration": 122,
                        "passed_time": 0.6106546543,
                        "remaining_time": 0.3822797429,
                        "test": [
                          0.2768292762
                        ]
                      },
                      {
                        "learn": [
                          0.2181635363
                        ],
                        "iteration": 123,
                        "passed_time": 0.6178307072,
                        "remaining_time": 0.3786704335,
                        "test": [
                          0.27687904
                        ]
                      },
                      {
                        "learn": [
                          0.2172038111
                        ],
                        "iteration": 124,
                        "passed_time": 0.6266760356,
                        "remaining_time": 0.3760056214,
                        "test": [
                          0.2769943342
                        ]
                      },
                      {
                        "learn": [
                          0.2166621943
                        ],
                        "iteration": 125,
                        "passed_time": 0.6316975654,
                        "remaining_time": 0.3709969828,
                        "test": [
                          0.2770163645
                        ]
                      },
                      {
                        "learn": [
                          0.2161913115
                        ],
                        "iteration": 126,
                        "passed_time": 0.6445270302,
                        "remaining_time": 0.370476167,
                        "test": [
                          0.2768690461
                        ]
                      },
                      {
                        "learn": [
                          0.2156687419
                        ],
                        "iteration": 127,
                        "passed_time": 0.6541408917,
                        "remaining_time": 0.3679542516,
                        "test": [
                          0.2769678938
                        ]
                      },
                      {
                        "learn": [
                          0.215371862
                        ],
                        "iteration": 128,
                        "passed_time": 0.6636134208,
                        "remaining_time": 0.365244596,
                        "test": [
                          0.2768150361
                        ]
                      },
                      {
                        "learn": [
                          0.2149487726
                        ],
                        "iteration": 129,
                        "passed_time": 0.6747254586,
                        "remaining_time": 0.3633137085,
                        "test": [
                          0.2771659757
                        ]
                      },
                      {
                        "learn": [
                          0.2143179006
                        ],
                        "iteration": 130,
                        "passed_time": 0.6845106881,
                        "remaining_time": 0.3605437975,
                        "test": [
                          0.2769819316
                        ]
                      },
                      {
                        "learn": [
                          0.2139602837
                        ],
                        "iteration": 131,
                        "passed_time": 0.6942779627,
                        "remaining_time": 0.3576583444,
                        "test": [
                          0.2771098187
                        ]
                      },
                      {
                        "learn": [
                          0.2136905363
                        ],
                        "iteration": 132,
                        "passed_time": 0.7043426325,
                        "remaining_time": 0.3548192209,
                        "test": [
                          0.277125304
                        ]
                      },
                      {
                        "learn": [
                          0.213264781
                        ],
                        "iteration": 133,
                        "passed_time": 0.7153661044,
                        "remaining_time": 0.3523444992,
                        "test": [
                          0.2772490348
                        ]
                      },
                      {
                        "learn": [
                          0.2128181194
                        ],
                        "iteration": 134,
                        "passed_time": 0.7377590555,
                        "remaining_time": 0.355217323,
                        "test": [
                          0.2772516555
                        ]
                      },
                      {
                        "learn": [
                          0.2121664288
                        ],
                        "iteration": 135,
                        "passed_time": 0.7555939062,
                        "remaining_time": 0.3555736029,
                        "test": [
                          0.2771431782
                        ]
                      },
                      {
                        "learn": [
                          0.2116783405
                        ],
                        "iteration": 136,
                        "passed_time": 0.7666100585,
                        "remaining_time": 0.3525287131,
                        "test": [
                          0.2768327948
                        ]
                      },
                      {
                        "learn": [
                          0.2112319596
                        ],
                        "iteration": 137,
                        "passed_time": 0.7789703031,
                        "remaining_time": 0.3499721651,
                        "test": [
                          0.2767688558
                        ]
                      },
                      {
                        "learn": [
                          0.2108753599
                        ],
                        "iteration": 138,
                        "passed_time": 0.7900291265,
                        "remaining_time": 0.3467034296,
                        "test": [
                          0.2767696092
                        ]
                      },
                      {
                        "learn": [
                          0.2103859211
                        ],
                        "iteration": 139,
                        "passed_time": 0.8117579441,
                        "remaining_time": 0.3478962617,
                        "test": [
                          0.276994391
                        ]
                      },
                      {
                        "learn": [
                          0.2099450824
                        ],
                        "iteration": 140,
                        "passed_time": 0.8239347674,
                        "remaining_time": 0.3447670303,
                        "test": [
                          0.2769429057
                        ]
                      },
                      {
                        "learn": [
                          0.2096832977
                        ],
                        "iteration": 141,
                        "passed_time": 0.8339391749,
                        "remaining_time": 0.3406230433,
                        "test": [
                          0.276869184
                        ]
                      },
                      {
                        "learn": [
                          0.2093080016
                        ],
                        "iteration": 142,
                        "passed_time": 0.8431545158,
                        "remaining_time": 0.3360825692,
                        "test": [
                          0.276875902
                        ]
                      },
                      {
                        "learn": [
                          0.2089847959
                        ],
                        "iteration": 143,
                        "passed_time": 0.8522581497,
                        "remaining_time": 0.3314337249,
                        "test": [
                          0.2769988067
                        ]
                      },
                      {
                        "learn": [
                          0.2086438409
                        ],
                        "iteration": 144,
                        "passed_time": 0.8589507586,
                        "remaining_time": 0.3258089084,
                        "test": [
                          0.277228163
                        ]
                      },
                      {
                        "learn": [
                          0.2083107433
                        ],
                        "iteration": 145,
                        "passed_time": 0.8710567854,
                        "remaining_time": 0.3221716878,
                        "test": [
                          0.2771794236
                        ]
                      },
                      {
                        "learn": [
                          0.2082489014
                        ],
                        "iteration": 146,
                        "passed_time": 0.8798338278,
                        "remaining_time": 0.3172189992,
                        "test": [
                          0.2772011586
                        ]
                      },
                      {
                        "learn": [
                          0.2082201026
                        ],
                        "iteration": 147,
                        "passed_time": 0.8986785437,
                        "remaining_time": 0.3157519208,
                        "test": [
                          0.2772161704
                        ]
                      },
                      {
                        "learn": [
                          0.2079395163
                        ],
                        "iteration": 148,
                        "passed_time": 0.9072450236,
                        "remaining_time": 0.3105335316,
                        "test": [
                          0.277236351
                        ]
                      },
                      {
                        "learn": [
                          0.2076839754
                        ],
                        "iteration": 149,
                        "passed_time": 0.9182665583,
                        "remaining_time": 0.3060888528,
                        "test": [
                          0.2770630975
                        ]
                      },
                      {
                        "learn": [
                          0.2071426041
                        ],
                        "iteration": 150,
                        "passed_time": 0.9303430225,
                        "remaining_time": 0.3018993914,
                        "test": [
                          0.2766512171
                        ]
                      },
                      {
                        "learn": [
                          0.2065294112
                        ],
                        "iteration": 151,
                        "passed_time": 0.9506640588,
                        "remaining_time": 0.3002097028,
                        "test": [
                          0.2763376989
                        ]
                      },
                      {
                        "learn": [
                          0.2063076151
                        ],
                        "iteration": 152,
                        "passed_time": 0.968771881,
                        "remaining_time": 0.2975965909,
                        "test": [
                          0.2763546419
                        ]
                      },
                      {
                        "learn": [
                          0.2057570359
                        ],
                        "iteration": 153,
                        "passed_time": 0.9819182622,
                        "remaining_time": 0.2933002601,
                        "test": [
                          0.2763660831
                        ]
                      },
                      {
                        "learn": [
                          0.2050904723
                        ],
                        "iteration": 154,
                        "passed_time": 0.9900748749,
                        "remaining_time": 0.2874410927,
                        "test": [
                          0.2762443937
                        ]
                      },
                      {
                        "learn": [
                          0.2046796777
                        ],
                        "iteration": 155,
                        "passed_time": 0.9994345638,
                        "remaining_time": 0.2818918,
                        "test": [
                          0.2763795827
                        ]
                      },
                      {
                        "learn": [
                          0.2040400713
                        ],
                        "iteration": 156,
                        "passed_time": 1.010001745,
                        "remaining_time": 0.2766246817,
                        "test": [
                          0.2765316267
                        ]
                      },
                      {
                        "learn": [
                          0.2040306705
                        ],
                        "iteration": 157,
                        "passed_time": 1.018196239,
                        "remaining_time": 0.2706597598,
                        "test": [
                          0.2765117643
                        ]
                      },
                      {
                        "learn": [
                          0.2036051257
                        ],
                        "iteration": 158,
                        "passed_time": 1.027805307,
                        "remaining_time": 0.2650315572,
                        "test": [
                          0.2764861127
                        ]
                      },
                      {
                        "learn": [
                          0.2032690289
                        ],
                        "iteration": 159,
                        "passed_time": 1.037153246,
                        "remaining_time": 0.2592883116,
                        "test": [
                          0.2765142017
                        ]
                      },
                      {
                        "learn": [
                          0.2028479214
                        ],
                        "iteration": 160,
                        "passed_time": 1.049403151,
                        "remaining_time": 0.2542032478,
                        "test": [
                          0.2765770117
                        ]
                      },
                      {
                        "learn": [
                          0.2027290783
                        ],
                        "iteration": 161,
                        "passed_time": 1.058592774,
                        "remaining_time": 0.2483118853,
                        "test": [
                          0.2764576636
                        ]
                      },
                      {
                        "learn": [
                          0.2023172137
                        ],
                        "iteration": 162,
                        "passed_time": 1.067954125,
                        "remaining_time": 0.2424190345,
                        "test": [
                          0.2763386391
                        ]
                      },
                      {
                        "learn": [
                          0.2020337686
                        ],
                        "iteration": 163,
                        "passed_time": 1.075114932,
                        "remaining_time": 0.2360008386,
                        "test": [
                          0.2761991782
                        ]
                      },
                      {
                        "learn": [
                          0.2018535395
                        ],
                        "iteration": 164,
                        "passed_time": 1.081603723,
                        "remaining_time": 0.2294310929,
                        "test": [
                          0.2763006332
                        ]
                      },
                      {
                        "learn": [
                          0.201386831
                        ],
                        "iteration": 165,
                        "passed_time": 1.090556622,
                        "remaining_time": 0.223367019,
                        "test": [
                          0.2760956358
                        ]
                      },
                      {
                        "learn": [
                          0.2012548688
                        ],
                        "iteration": 166,
                        "passed_time": 1.105364805,
                        "remaining_time": 0.2184253807,
                        "test": [
                          0.2761177155
                        ]
                      },
                      {
                        "learn": [
                          0.2010592757
                        ],
                        "iteration": 167,
                        "passed_time": 1.111568962,
                        "remaining_time": 0.2117274214,
                        "test": [
                          0.2759995615
                        ]
                      },
                      {
                        "learn": [
                          0.2007283178
                        ],
                        "iteration": 168,
                        "passed_time": 1.120233171,
                        "remaining_time": 0.205486558,
                        "test": [
                          0.2759529165
                        ]
                      },
                      {
                        "learn": [
                          0.200458132
                        ],
                        "iteration": 169,
                        "passed_time": 1.123512052,
                        "remaining_time": 0.1982668327,
                        "test": [
                          0.276124603
                        ]
                      },
                      {
                        "learn": [
                          0.2003457957
                        ],
                        "iteration": 170,
                        "passed_time": 1.126821488,
                        "remaining_time": 0.191098381,
                        "test": [
                          0.2760621004
                        ]
                      },
                      {
                        "learn": [
                          0.2000334992
                        ],
                        "iteration": 171,
                        "passed_time": 1.134511858,
                        "remaining_time": 0.1846879769,
                        "test": [
                          0.2760194573
                        ]
                      },
                      {
                        "learn": [
                          0.1996944384
                        ],
                        "iteration": 172,
                        "passed_time": 1.138177882,
                        "remaining_time": 0.1776346984,
                        "test": [
                          0.275995641
                        ]
                      },
                      {
                        "learn": [
                          0.199395103
                        ],
                        "iteration": 173,
                        "passed_time": 1.14143486,
                        "remaining_time": 0.170559232,
                        "test": [
                          0.275962308
                        ]
                      },
                      {
                        "learn": [
                          0.1990242092
                        ],
                        "iteration": 174,
                        "passed_time": 1.144739994,
                        "remaining_time": 0.1635342849,
                        "test": [
                          0.2759913257
                        ]
                      },
                      {
                        "learn": [
                          0.1985447675
                        ],
                        "iteration": 175,
                        "passed_time": 1.147940262,
                        "remaining_time": 0.1565373085,
                        "test": [
                          0.2763340539
                        ]
                      },
                      {
                        "learn": [
                          0.1982077763
                        ],
                        "iteration": 176,
                        "passed_time": 1.151302834,
                        "remaining_time": 0.149604323,
                        "test": [
                          0.276265594
                        ]
                      },
                      {
                        "learn": [
                          0.1979351877
                        ],
                        "iteration": 177,
                        "passed_time": 1.154571937,
                        "remaining_time": 0.1426999023,
                        "test": [
                          0.2763720548
                        ]
                      },
                      {
                        "learn": [
                          0.1978689961
                        ],
                        "iteration": 178,
                        "passed_time": 1.157659125,
                        "remaining_time": 0.1358147576,
                        "test": [
                          0.2763297746
                        ]
                      },
                      {
                        "learn": [
                          0.1974547288
                        ],
                        "iteration": 179,
                        "passed_time": 1.160951709,
                        "remaining_time": 0.1289946343,
                        "test": [
                          0.2763329641
                        ]
                      },
                      {
                        "learn": [
                          0.1969893181
                        ],
                        "iteration": 180,
                        "passed_time": 1.164168152,
                        "remaining_time": 0.1222054967,
                        "test": [
                          0.2763034056
                        ]
                      },
                      {
                        "learn": [
                          0.1964987218
                        ],
                        "iteration": 181,
                        "passed_time": 1.167607465,
                        "remaining_time": 0.1154776614,
                        "test": [
                          0.2764664033
                        ]
                      },
                      {
                        "learn": [
                          0.1960359245
                        ],
                        "iteration": 182,
                        "passed_time": 1.171174582,
                        "remaining_time": 0.1087976388,
                        "test": [
                          0.2762720999
                        ]
                      },
                      {
                        "learn": [
                          0.1956971618
                        ],
                        "iteration": 183,
                        "passed_time": 1.174655296,
                        "remaining_time": 0.1021439388,
                        "test": [
                          0.2765541839
                        ]
                      },
                      {
                        "learn": [
                          0.1954058768
                        ],
                        "iteration": 184,
                        "passed_time": 1.177820898,
                        "remaining_time": 0.09549899172,
                        "test": [
                          0.2766578275
                        ]
                      },
                      {
                        "learn": [
                          0.1950003788
                        ],
                        "iteration": 185,
                        "passed_time": 1.181078526,
                        "remaining_time": 0.08889838366,
                        "test": [
                          0.2766119115
                        ]
                      },
                      {
                        "learn": [
                          0.1946084033
                        ],
                        "iteration": 186,
                        "passed_time": 1.184491822,
                        "remaining_time": 0.08234435128,
                        "test": [
                          0.276636703
                        ]
                      },
                      {
                        "learn": [
                          0.1943803108
                        ],
                        "iteration": 187,
                        "passed_time": 1.187671551,
                        "remaining_time": 0.07580882237,
                        "test": [
                          0.2767407979
                        ]
                      },
                      {
                        "learn": [
                          0.1940059443
                        ],
                        "iteration": 188,
                        "passed_time": 1.190984426,
                        "remaining_time": 0.06931655387,
                        "test": [
                          0.2765257789
                        ]
                      },
                      {
                        "learn": [
                          0.1936022002
                        ],
                        "iteration": 189,
                        "passed_time": 1.194292504,
                        "remaining_time": 0.06285750022,
                        "test": [
                          0.2765368177
                        ]
                      },
                      {
                        "learn": [
                          0.1933083019
                        ],
                        "iteration": 190,
                        "passed_time": 1.197744756,
                        "remaining_time": 0.05643823459,
                        "test": [
                          0.2766627328
                        ]
                      },
                      {
                        "learn": [
                          0.1929794662
                        ],
                        "iteration": 191,
                        "passed_time": 1.201177355,
                        "remaining_time": 0.05004905647,
                        "test": [
                          0.2768338312
                        ]
                      },
                      {
                        "learn": [
                          0.1929019446
                        ],
                        "iteration": 192,
                        "passed_time": 1.206874246,
                        "remaining_time": 0.04377264106,
                        "test": [
                          0.2768595741
                        ]
                      },
                      {
                        "learn": [
                          0.1926589089
                        ],
                        "iteration": 193,
                        "passed_time": 1.210160908,
                        "remaining_time": 0.03742765696,
                        "test": [
                          0.277009166
                        ]
                      },
                      {
                        "learn": [
                          0.1923485591
                        ],
                        "iteration": 194,
                        "passed_time": 1.213510779,
                        "remaining_time": 0.03111566099,
                        "test": [
                          0.2767610878
                        ]
                      },
                      {
                        "learn": [
                          0.192066938
                        ],
                        "iteration": 195,
                        "passed_time": 1.2167633,
                        "remaining_time": 0.02483190407,
                        "test": [
                          0.2768591263
                        ]
                      },
                      {
                        "learn": [
                          0.1919037567
                        ],
                        "iteration": 196,
                        "passed_time": 1.219870724,
                        "remaining_time": 0.01857671153,
                        "test": [
                          0.276880822
                        ]
                      },
                      {
                        "learn": [
                          0.1912284763
                        ],
                        "iteration": 197,
                        "passed_time": 1.22322392,
                        "remaining_time": 0.01235579717,
                        "test": [
                          0.2769747243
                        ]
                      },
                      {
                        "learn": [
                          0.19083273
                        ],
                        "iteration": 198,
                        "passed_time": 1.22647294,
                        "remaining_time": 0.006163180604,
                        "test": [
                          0.2769525407
                        ]
                      },
                      {
                        "learn": [
                          0.190570805
                        ],
                        "iteration": 199,
                        "passed_time": 1.229682311,
                        "remaining_time": 0,
                        "test": [
                          0.2768242543
                        ]
                      }
                    ],
                    "meta": {
                      "test_sets": [
                        "test"
                      ],
                      "test_metrics": [
                        {
                          "best_value": "Min",
                          "name": "CrossEntropy"
                        }
                      ],
                      "learn_metrics": [
                        {
                          "best_value": "Min",
                          "name": "CrossEntropy"
                        }
                      ],
                      "launch_mode": "Train",
                      "parameters": "",
                      "iteration_count": 200,
                      "learn_sets": [
                        "learn"
                      ],
                      "name": "experiment"
                    }
                  }
                }
              }
            },
            "layout": "IPY_MODEL_d7e09ecbadc0403c90c237c4646bdac9"
          }
        },
        "2c765a3fddc347e2b70b461a04508177": {
          "model_module": "catboost-widget",
          "model_name": "CatboostWidgetModel",
          "model_module_version": "^1.0.0",
          "state": {
            "_dom_classes": [],
            "_model_module": "catboost-widget",
            "_model_module_version": "^1.0.0",
            "_model_name": "CatboostWidgetModel",
            "_view_count": null,
            "_view_module": "catboost-widget",
            "_view_module_version": "^1.0.0",
            "_view_name": "CatboostWidgetView",
            "data": {
              "catboost_info": {
                "path": "catboost_info",
                "name": "catboost_info",
                "content": {
                  "passed_iterations": 999,
                  "total_iterations": 1000,
                  "data": {
                    "iterations": [
                      {
                        "learn": [
                          78.78044451
                        ],
                        "iteration": 0,
                        "passed_time": 0.002920803623,
                        "remaining_time": 2.91788282,
                        "test": [
                          78.65748284
                        ]
                      },
                      {
                        "learn": [
                          71.18121234
                        ],
                        "iteration": 1,
                        "passed_time": 0.005316650269,
                        "remaining_time": 2.653008484,
                        "test": [
                          71.07005649
                        ]
                      },
                      {
                        "learn": [
                          64.32196542
                        ],
                        "iteration": 2,
                        "passed_time": 0.007691917078,
                        "remaining_time": 2.556280442,
                        "test": [
                          64.22195392
                        ]
                      },
                      {
                        "learn": [
                          58.16650896
                        ],
                        "iteration": 3,
                        "passed_time": 0.01001829501,
                        "remaining_time": 2.494555458,
                        "test": [
                          58.06618124
                        ]
                      },
                      {
                        "learn": [
                          52.76202968
                        ],
                        "iteration": 4,
                        "passed_time": 0.01216175263,
                        "remaining_time": 2.420188774,
                        "test": [
                          52.6795941
                        ]
                      },
                      {
                        "learn": [
                          47.71922058
                        ],
                        "iteration": 5,
                        "passed_time": 0.01369366568,
                        "remaining_time": 2.268583948,
                        "test": [
                          47.63467472
                        ]
                      },
                      {
                        "learn": [
                          43.27824789
                        ],
                        "iteration": 6,
                        "passed_time": 0.01626985988,
                        "remaining_time": 2.307995838,
                        "test": [
                          43.18529321
                        ]
                      },
                      {
                        "learn": [
                          39.20415681
                        ],
                        "iteration": 7,
                        "passed_time": 0.01865714141,
                        "remaining_time": 2.313485534,
                        "test": [
                          39.1003116
                        ]
                      },
                      {
                        "learn": [
                          35.46917376
                        ],
                        "iteration": 8,
                        "passed_time": 0.02102708087,
                        "remaining_time": 2.315315238,
                        "test": [
                          35.36930538
                        ]
                      },
                      {
                        "learn": [
                          32.04104252
                        ],
                        "iteration": 9,
                        "passed_time": 0.02333160577,
                        "remaining_time": 2.309828971,
                        "test": [
                          31.95667327
                        ]
                      },
                      {
                        "learn": [
                          28.93297318
                        ],
                        "iteration": 10,
                        "passed_time": 0.02554273298,
                        "remaining_time": 2.296523901,
                        "test": [
                          28.85429025
                        ]
                      },
                      {
                        "learn": [
                          26.14697025
                        ],
                        "iteration": 11,
                        "passed_time": 0.02793683096,
                        "remaining_time": 2.300132416,
                        "test": [
                          26.07418024
                        ]
                      },
                      {
                        "learn": [
                          23.74344445
                        ],
                        "iteration": 12,
                        "passed_time": 0.03019629522,
                        "remaining_time": 2.292595645,
                        "test": [
                          23.67924891
                        ]
                      },
                      {
                        "learn": [
                          21.55091466
                        ],
                        "iteration": 13,
                        "passed_time": 0.03257240523,
                        "remaining_time": 2.294027968,
                        "test": [
                          21.49130198
                        ]
                      },
                      {
                        "learn": [
                          19.48761878
                        ],
                        "iteration": 14,
                        "passed_time": 0.03480900371,
                        "remaining_time": 2.285791244,
                        "test": [
                          19.4339012
                        ]
                      },
                      {
                        "learn": [
                          17.7472403
                        ],
                        "iteration": 15,
                        "passed_time": 0.03708196998,
                        "remaining_time": 2.280541154,
                        "test": [
                          17.6981619
                        ]
                      },
                      {
                        "learn": [
                          16.13614243
                        ],
                        "iteration": 16,
                        "passed_time": 0.03965685416,
                        "remaining_time": 2.293099273,
                        "test": [
                          16.08958855
                        ]
                      },
                      {
                        "learn": [
                          14.57453685
                        ],
                        "iteration": 17,
                        "passed_time": 0.04196678822,
                        "remaining_time": 2.289521446,
                        "test": [
                          14.53327668
                        ]
                      },
                      {
                        "learn": [
                          13.21173619
                        ],
                        "iteration": 18,
                        "passed_time": 0.0442170069,
                        "remaining_time": 2.282993883,
                        "test": [
                          13.17398053
                        ]
                      },
                      {
                        "learn": [
                          12.00071807
                        ],
                        "iteration": 19,
                        "passed_time": 0.04700248633,
                        "remaining_time": 2.30312183,
                        "test": [
                          11.96225033
                        ]
                      },
                      {
                        "learn": [
                          10.86747896
                        ],
                        "iteration": 20,
                        "passed_time": 0.04934612724,
                        "remaining_time": 2.300469456,
                        "test": [
                          10.83146424
                        ]
                      },
                      {
                        "learn": [
                          9.904552683
                        ],
                        "iteration": 21,
                        "passed_time": 0.05182210639,
                        "remaining_time": 2.303728184,
                        "test": [
                          9.874271633
                        ]
                      },
                      {
                        "learn": [
                          8.975813885
                        ],
                        "iteration": 22,
                        "passed_time": 0.05408395704,
                        "remaining_time": 2.297392436,
                        "test": [
                          8.948796393
                        ]
                      },
                      {
                        "learn": [
                          8.137764023
                        ],
                        "iteration": 23,
                        "passed_time": 0.0563650957,
                        "remaining_time": 2.292180559,
                        "test": [
                          8.115366067
                        ]
                      },
                      {
                        "learn": [
                          7.374209616
                        ],
                        "iteration": 24,
                        "passed_time": 0.05860808655,
                        "remaining_time": 2.285715375,
                        "test": [
                          7.356351681
                        ]
                      },
                      {
                        "learn": [
                          6.698051339
                        ],
                        "iteration": 25,
                        "passed_time": 0.06105384708,
                        "remaining_time": 2.287171041,
                        "test": [
                          6.682293842
                        ]
                      },
                      {
                        "learn": [
                          6.080260301
                        ],
                        "iteration": 26,
                        "passed_time": 0.06356108303,
                        "remaining_time": 2.290553103,
                        "test": [
                          6.06862392
                        ]
                      },
                      {
                        "learn": [
                          5.552527336
                        ],
                        "iteration": 27,
                        "passed_time": 0.06609136885,
                        "remaining_time": 2.294314662,
                        "test": [
                          5.542552669
                        ]
                      },
                      {
                        "learn": [
                          5.065271283
                        ],
                        "iteration": 28,
                        "passed_time": 0.0685206587,
                        "remaining_time": 2.294260676,
                        "test": [
                          5.056231092
                        ]
                      },
                      {
                        "learn": [
                          4.63322726
                        ],
                        "iteration": 29,
                        "passed_time": 0.07082475087,
                        "remaining_time": 2.290000278,
                        "test": [
                          4.626576785
                        ]
                      },
                      {
                        "learn": [
                          4.251276818
                        ],
                        "iteration": 30,
                        "passed_time": 0.07278074674,
                        "remaining_time": 2.274985277,
                        "test": [
                          4.246790488
                        ]
                      },
                      {
                        "learn": [
                          3.913432565
                        ],
                        "iteration": 31,
                        "passed_time": 0.07501805296,
                        "remaining_time": 2.269296102,
                        "test": [
                          3.907707813
                        ]
                      },
                      {
                        "learn": [
                          3.596439665
                        ],
                        "iteration": 32,
                        "passed_time": 0.077364778,
                        "remaining_time": 2.267022434,
                        "test": [
                          3.592518031
                        ]
                      },
                      {
                        "learn": [
                          3.32180625
                        ],
                        "iteration": 33,
                        "passed_time": 0.07962603501,
                        "remaining_time": 2.262316171,
                        "test": [
                          3.320023382
                        ]
                      },
                      {
                        "learn": [
                          3.06929115
                        ],
                        "iteration": 34,
                        "passed_time": 0.08209821819,
                        "remaining_time": 2.263565159,
                        "test": [
                          3.06849469
                        ]
                      },
                      {
                        "learn": [
                          2.875336764
                        ],
                        "iteration": 35,
                        "passed_time": 0.08442920756,
                        "remaining_time": 2.260826558,
                        "test": [
                          2.87837537
                        ]
                      },
                      {
                        "learn": [
                          2.681603007
                        ],
                        "iteration": 36,
                        "passed_time": 0.08855418186,
                        "remaining_time": 2.304802085,
                        "test": [
                          2.687631745
                        ]
                      },
                      {
                        "learn": [
                          2.484954713
                        ],
                        "iteration": 37,
                        "passed_time": 0.09147409593,
                        "remaining_time": 2.315738955,
                        "test": [
                          2.496657952
                        ]
                      },
                      {
                        "learn": [
                          2.33147126
                        ],
                        "iteration": 38,
                        "passed_time": 0.09391112725,
                        "remaining_time": 2.314066495,
                        "test": [
                          2.34930984
                        ]
                      },
                      {
                        "learn": [
                          2.197099269
                        ],
                        "iteration": 39,
                        "passed_time": 0.09963926107,
                        "remaining_time": 2.391342266,
                        "test": [
                          2.216358933
                        ]
                      },
                      {
                        "learn": [
                          2.071240017
                        ],
                        "iteration": 40,
                        "passed_time": 0.105639021,
                        "remaining_time": 2.470922467,
                        "test": [
                          2.094244479
                        ]
                      },
                      {
                        "learn": [
                          1.960598641
                        ],
                        "iteration": 41,
                        "passed_time": 0.1102412866,
                        "remaining_time": 2.514551252,
                        "test": [
                          1.98918336
                        ]
                      },
                      {
                        "learn": [
                          1.85914396
                        ],
                        "iteration": 42,
                        "passed_time": 0.1126189098,
                        "remaining_time": 2.506425505,
                        "test": [
                          1.894905855
                        ]
                      },
                      {
                        "learn": [
                          1.770206989
                        ],
                        "iteration": 43,
                        "passed_time": 0.1150425019,
                        "remaining_time": 2.499559813,
                        "test": [
                          1.807831557
                        ]
                      },
                      {
                        "learn": [
                          1.710087074
                        ],
                        "iteration": 44,
                        "passed_time": 0.1166955398,
                        "remaining_time": 2.476538678,
                        "test": [
                          1.7517831
                        ]
                      },
                      {
                        "learn": [
                          1.636643525
                        ],
                        "iteration": 45,
                        "passed_time": 0.1188785453,
                        "remaining_time": 2.465437656,
                        "test": [
                          1.681736537
                        ]
                      },
                      {
                        "learn": [
                          1.565575397
                        ],
                        "iteration": 46,
                        "passed_time": 0.1212352545,
                        "remaining_time": 2.458238246,
                        "test": [
                          1.607922494
                        ]
                      },
                      {
                        "learn": [
                          1.515799506
                        ],
                        "iteration": 47,
                        "passed_time": 0.1241782889,
                        "remaining_time": 2.462869397,
                        "test": [
                          1.564509942
                        ]
                      },
                      {
                        "learn": [
                          1.475037493
                        ],
                        "iteration": 48,
                        "passed_time": 0.1265449683,
                        "remaining_time": 2.456005406,
                        "test": [
                          1.525481182
                        ]
                      },
                      {
                        "learn": [
                          1.436197237
                        ],
                        "iteration": 49,
                        "passed_time": 0.128488859,
                        "remaining_time": 2.441288322,
                        "test": [
                          1.490902883
                        ]
                      },
                      {
                        "learn": [
                          1.3881877
                        ],
                        "iteration": 50,
                        "passed_time": 0.1308595785,
                        "remaining_time": 2.43501451,
                        "test": [
                          1.442477002
                        ]
                      },
                      {
                        "learn": [
                          1.353658335
                        ],
                        "iteration": 51,
                        "passed_time": 0.1333203484,
                        "remaining_time": 2.430532505,
                        "test": [
                          1.406814959
                        ]
                      },
                      {
                        "learn": [
                          1.319453305
                        ],
                        "iteration": 52,
                        "passed_time": 0.1357262624,
                        "remaining_time": 2.425146613,
                        "test": [
                          1.377392305
                        ]
                      },
                      {
                        "learn": [
                          1.292084737
                        ],
                        "iteration": 53,
                        "passed_time": 0.138097251,
                        "remaining_time": 2.419259249,
                        "test": [
                          1.351686287
                        ]
                      },
                      {
                        "learn": [
                          1.248213159
                        ],
                        "iteration": 54,
                        "passed_time": 0.1406204963,
                        "remaining_time": 2.416115799,
                        "test": [
                          1.302498396
                        ]
                      },
                      {
                        "learn": [
                          1.229643669
                        ],
                        "iteration": 55,
                        "passed_time": 0.1429640781,
                        "remaining_time": 2.409965887,
                        "test": [
                          1.286028958
                        ]
                      },
                      {
                        "learn": [
                          1.203445506
                        ],
                        "iteration": 56,
                        "passed_time": 0.1452642202,
                        "remaining_time": 2.403230871,
                        "test": [
                          1.263524051
                        ]
                      },
                      {
                        "learn": [
                          1.180476731
                        ],
                        "iteration": 57,
                        "passed_time": 0.1474231348,
                        "remaining_time": 2.394355052,
                        "test": [
                          1.239947586
                        ]
                      },
                      {
                        "learn": [
                          1.152420766
                        ],
                        "iteration": 58,
                        "passed_time": 0.149831073,
                        "remaining_time": 2.389678639,
                        "test": [
                          1.210736183
                        ]
                      },
                      {
                        "learn": [
                          1.137794436
                        ],
                        "iteration": 59,
                        "passed_time": 0.1524369704,
                        "remaining_time": 2.388179202,
                        "test": [
                          1.199445502
                        ]
                      },
                      {
                        "learn": [
                          1.116959973
                        ],
                        "iteration": 60,
                        "passed_time": 0.1549138963,
                        "remaining_time": 2.384658175,
                        "test": [
                          1.178470914
                        ]
                      },
                      {
                        "learn": [
                          1.105130197
                        ],
                        "iteration": 61,
                        "passed_time": 0.1572268709,
                        "remaining_time": 2.378690402,
                        "test": [
                          1.169993109
                        ]
                      },
                      {
                        "learn": [
                          1.069659442
                        ],
                        "iteration": 62,
                        "passed_time": 0.1595443664,
                        "remaining_time": 2.372905894,
                        "test": [
                          1.131524713
                        ]
                      },
                      {
                        "learn": [
                          1.051433847
                        ],
                        "iteration": 63,
                        "passed_time": 0.162059843,
                        "remaining_time": 2.370125203,
                        "test": [
                          1.113855534
                        ]
                      },
                      {
                        "learn": [
                          1.036642676
                        ],
                        "iteration": 64,
                        "passed_time": 0.1645065285,
                        "remaining_time": 2.366363141,
                        "test": [
                          1.10148335
                        ]
                      },
                      {
                        "learn": [
                          1.027143894
                        ],
                        "iteration": 65,
                        "passed_time": 0.1677659887,
                        "remaining_time": 2.374142932,
                        "test": [
                          1.091564319
                        ]
                      },
                      {
                        "learn": [
                          1.018677718
                        ],
                        "iteration": 66,
                        "passed_time": 0.1702489393,
                        "remaining_time": 2.370780006,
                        "test": [
                          1.084004326
                        ]
                      },
                      {
                        "learn": [
                          0.9941898508
                        ],
                        "iteration": 67,
                        "passed_time": 0.1728642355,
                        "remaining_time": 2.369256874,
                        "test": [
                          1.058120632
                        ]
                      },
                      {
                        "learn": [
                          0.9822166527
                        ],
                        "iteration": 68,
                        "passed_time": 0.1763809907,
                        "remaining_time": 2.379865251,
                        "test": [
                          1.049079321
                        ]
                      },
                      {
                        "learn": [
                          0.9538503881
                        ],
                        "iteration": 69,
                        "passed_time": 0.1787744855,
                        "remaining_time": 2.375146736,
                        "test": [
                          1.01961982
                        ]
                      },
                      {
                        "learn": [
                          0.9475020563
                        ],
                        "iteration": 70,
                        "passed_time": 0.1813990504,
                        "remaining_time": 2.373517152,
                        "test": [
                          1.014186943
                        ]
                      },
                      {
                        "learn": [
                          0.9279576833
                        ],
                        "iteration": 71,
                        "passed_time": 0.1837462304,
                        "remaining_time": 2.368284748,
                        "test": [
                          0.9944378617
                        ]
                      },
                      {
                        "learn": [
                          0.9170061196
                        ],
                        "iteration": 72,
                        "passed_time": 0.1861075011,
                        "remaining_time": 2.363310323,
                        "test": [
                          0.9859722304
                        ]
                      },
                      {
                        "learn": [
                          0.9031081724
                        ],
                        "iteration": 73,
                        "passed_time": 0.1886544908,
                        "remaining_time": 2.36073052,
                        "test": [
                          0.9750181449
                        ]
                      },
                      {
                        "learn": [
                          0.8795324411
                        ],
                        "iteration": 74,
                        "passed_time": 0.1915471622,
                        "remaining_time": 2.362415001,
                        "test": [
                          0.9510978577
                        ]
                      },
                      {
                        "learn": [
                          0.8636508384
                        ],
                        "iteration": 75,
                        "passed_time": 0.1939354433,
                        "remaining_time": 2.357846706,
                        "test": [
                          0.9348302182
                        ]
                      },
                      {
                        "learn": [
                          0.8542435308
                        ],
                        "iteration": 76,
                        "passed_time": 0.1964612586,
                        "remaining_time": 2.354983659,
                        "test": [
                          0.9264236767
                        ]
                      },
                      {
                        "learn": [
                          0.8417000387
                        ],
                        "iteration": 77,
                        "passed_time": 0.1988464892,
                        "remaining_time": 2.350467475,
                        "test": [
                          0.9142833398
                        ]
                      },
                      {
                        "learn": [
                          0.8160186547
                        ],
                        "iteration": 78,
                        "passed_time": 0.2010404307,
                        "remaining_time": 2.343775148,
                        "test": [
                          0.8858587569
                        ]
                      },
                      {
                        "learn": [
                          0.8094857676
                        ],
                        "iteration": 79,
                        "passed_time": 0.2034902554,
                        "remaining_time": 2.340137937,
                        "test": [
                          0.8807894268
                        ]
                      },
                      {
                        "learn": [
                          0.8002856288
                        ],
                        "iteration": 80,
                        "passed_time": 0.2133999193,
                        "remaining_time": 2.421166986,
                        "test": [
                          0.8736449788
                        ]
                      },
                      {
                        "learn": [
                          0.7881437606
                        ],
                        "iteration": 81,
                        "passed_time": 0.2160886538,
                        "remaining_time": 2.419138831,
                        "test": [
                          0.8621736324
                        ]
                      },
                      {
                        "learn": [
                          0.771698098
                        ],
                        "iteration": 82,
                        "passed_time": 0.2184047043,
                        "remaining_time": 2.412977275,
                        "test": [
                          0.8462840473
                        ]
                      },
                      {
                        "learn": [
                          0.7627871786
                        ],
                        "iteration": 83,
                        "passed_time": 0.2207431924,
                        "remaining_time": 2.407151955,
                        "test": [
                          0.8396573383
                        ]
                      },
                      {
                        "learn": [
                          0.7574226116
                        ],
                        "iteration": 84,
                        "passed_time": 0.2229026239,
                        "remaining_time": 2.399481186,
                        "test": [
                          0.8349069534
                        ]
                      },
                      {
                        "learn": [
                          0.7416545951
                        ],
                        "iteration": 85,
                        "passed_time": 0.2250855934,
                        "remaining_time": 2.392188749,
                        "test": [
                          0.8183773487
                        ]
                      },
                      {
                        "learn": [
                          0.727620628
                        ],
                        "iteration": 86,
                        "passed_time": 0.2274151009,
                        "remaining_time": 2.386551576,
                        "test": [
                          0.805070885
                        ]
                      },
                      {
                        "learn": [
                          0.7152496247
                        ],
                        "iteration": 87,
                        "passed_time": 0.2299602647,
                        "remaining_time": 2.383224561,
                        "test": [
                          0.7927869906
                        ]
                      },
                      {
                        "learn": [
                          0.7027100701
                        ],
                        "iteration": 88,
                        "passed_time": 0.2327426104,
                        "remaining_time": 2.3823429,
                        "test": [
                          0.7792509752
                        ]
                      },
                      {
                        "learn": [
                          0.6899447615
                        ],
                        "iteration": 89,
                        "passed_time": 0.2351064953,
                        "remaining_time": 2.377187897,
                        "test": [
                          0.76101325
                        ]
                      },
                      {
                        "learn": [
                          0.6812989362
                        ],
                        "iteration": 90,
                        "passed_time": 0.2374258036,
                        "remaining_time": 2.371648961,
                        "test": [
                          0.7530238049
                        ]
                      },
                      {
                        "learn": [
                          0.6756568063
                        ],
                        "iteration": 91,
                        "passed_time": 0.239747891,
                        "remaining_time": 2.366207446,
                        "test": [
                          0.7485792273
                        ]
                      },
                      {
                        "learn": [
                          0.6715753061
                        ],
                        "iteration": 92,
                        "passed_time": 0.2418778039,
                        "remaining_time": 2.358958797,
                        "test": [
                          0.7447376136
                        ]
                      },
                      {
                        "learn": [
                          0.6674289198
                        ],
                        "iteration": 93,
                        "passed_time": 0.2440778173,
                        "remaining_time": 2.352494707,
                        "test": [
                          0.7413709658
                        ]
                      },
                      {
                        "learn": [
                          0.6555922247
                        ],
                        "iteration": 94,
                        "passed_time": 0.2471637801,
                        "remaining_time": 2.354560221,
                        "test": [
                          0.7288286397
                        ]
                      },
                      {
                        "learn": [
                          0.6521179767
                        ],
                        "iteration": 95,
                        "passed_time": 0.2493006944,
                        "remaining_time": 2.347581539,
                        "test": [
                          0.7257197705
                        ]
                      },
                      {
                        "learn": [
                          0.648227949
                        ],
                        "iteration": 96,
                        "passed_time": 0.2517713398,
                        "remaining_time": 2.343809483,
                        "test": [
                          0.7220837755
                        ]
                      },
                      {
                        "learn": [
                          0.6410136752
                        ],
                        "iteration": 97,
                        "passed_time": 0.2542277728,
                        "remaining_time": 2.339933174,
                        "test": [
                          0.7145950554
                        ]
                      },
                      {
                        "learn": [
                          0.6293606763
                        ],
                        "iteration": 98,
                        "passed_time": 0.2568297996,
                        "remaining_time": 2.337410601,
                        "test": [
                          0.7043943719
                        ]
                      },
                      {
                        "learn": [
                          0.621200679
                        ],
                        "iteration": 99,
                        "passed_time": 0.2591607804,
                        "remaining_time": 2.332447023,
                        "test": [
                          0.6961919202
                        ]
                      },
                      {
                        "learn": [
                          0.6188360291
                        ],
                        "iteration": 100,
                        "passed_time": 0.2612505463,
                        "remaining_time": 2.325388526,
                        "test": [
                          0.6946044924
                        ]
                      },
                      {
                        "learn": [
                          0.6136571603
                        ],
                        "iteration": 101,
                        "passed_time": 0.2637743784,
                        "remaining_time": 2.322248939,
                        "test": [
                          0.692033372
                        ]
                      },
                      {
                        "learn": [
                          0.6115700434
                        ],
                        "iteration": 102,
                        "passed_time": 0.2658633457,
                        "remaining_time": 2.315334185,
                        "test": [
                          0.6919537845
                        ]
                      },
                      {
                        "learn": [
                          0.6072399459
                        ],
                        "iteration": 103,
                        "passed_time": 0.2685094995,
                        "remaining_time": 2.313312611,
                        "test": [
                          0.6884327618
                        ]
                      },
                      {
                        "learn": [
                          0.6052890729
                        ],
                        "iteration": 104,
                        "passed_time": 0.2707990219,
                        "remaining_time": 2.308239282,
                        "test": [
                          0.68800544
                        ]
                      },
                      {
                        "learn": [
                          0.6009546251
                        ],
                        "iteration": 105,
                        "passed_time": 0.2729979354,
                        "remaining_time": 2.302454285,
                        "test": [
                          0.6846122375
                        ]
                      },
                      {
                        "learn": [
                          0.5944216906
                        ],
                        "iteration": 106,
                        "passed_time": 0.2752613874,
                        "remaining_time": 2.297274943,
                        "test": [
                          0.6790240514
                        ]
                      },
                      {
                        "learn": [
                          0.5898078166
                        ],
                        "iteration": 107,
                        "passed_time": 0.2775426233,
                        "remaining_time": 2.292296482,
                        "test": [
                          0.6750983675
                        ]
                      },
                      {
                        "learn": [
                          0.5868784132
                        ],
                        "iteration": 108,
                        "passed_time": 0.2797522973,
                        "remaining_time": 2.286782541,
                        "test": [
                          0.6727584409
                        ]
                      },
                      {
                        "learn": [
                          0.5840558851
                        ],
                        "iteration": 109,
                        "passed_time": 0.2818304749,
                        "remaining_time": 2.280264752,
                        "test": [
                          0.6704471041
                        ]
                      },
                      {
                        "learn": [
                          0.5793065054
                        ],
                        "iteration": 110,
                        "passed_time": 0.2841940439,
                        "remaining_time": 2.276112658,
                        "test": [
                          0.6679758316
                        ]
                      },
                      {
                        "learn": [
                          0.5756846318
                        ],
                        "iteration": 111,
                        "passed_time": 0.2864104971,
                        "remaining_time": 2.270826084,
                        "test": [
                          0.6650808582
                        ]
                      },
                      {
                        "learn": [
                          0.5693568447
                        ],
                        "iteration": 112,
                        "passed_time": 0.2886643394,
                        "remaining_time": 2.265887337,
                        "test": [
                          0.6600426587
                        ]
                      },
                      {
                        "learn": [
                          0.5646781311
                        ],
                        "iteration": 113,
                        "passed_time": 0.2909183977,
                        "remaining_time": 2.260997372,
                        "test": [
                          0.6553404413
                        ]
                      },
                      {
                        "learn": [
                          0.5623321038
                        ],
                        "iteration": 114,
                        "passed_time": 0.2931558462,
                        "remaining_time": 2.256025425,
                        "test": [
                          0.6529134908
                        ]
                      },
                      {
                        "learn": [
                          0.560789759
                        ],
                        "iteration": 115,
                        "passed_time": 0.2953186409,
                        "remaining_time": 2.250531712,
                        "test": [
                          0.6528303882
                        ]
                      },
                      {
                        "learn": [
                          0.5556307213
                        ],
                        "iteration": 116,
                        "passed_time": 0.2975287886,
                        "remaining_time": 2.24545231,
                        "test": [
                          0.6488979705
                        ]
                      },
                      {
                        "learn": [
                          0.5533026211
                        ],
                        "iteration": 117,
                        "passed_time": 0.2996505936,
                        "remaining_time": 2.239761216,
                        "test": [
                          0.6468482008
                        ]
                      },
                      {
                        "learn": [
                          0.5506765615
                        ],
                        "iteration": 118,
                        "passed_time": 0.3018657604,
                        "remaining_time": 2.234821302,
                        "test": [
                          0.6453071718
                        ]
                      },
                      {
                        "learn": [
                          0.541938172
                        ],
                        "iteration": 119,
                        "passed_time": 0.3043970603,
                        "remaining_time": 2.232245109,
                        "test": [
                          0.6387619377
                        ]
                      },
                      {
                        "learn": [
                          0.5351807652
                        ],
                        "iteration": 120,
                        "passed_time": 0.306790596,
                        "remaining_time": 2.228668875,
                        "test": [
                          0.6337625336
                        ]
                      },
                      {
                        "learn": [
                          0.5325039045
                        ],
                        "iteration": 121,
                        "passed_time": 0.3091349329,
                        "remaining_time": 2.224757959,
                        "test": [
                          0.6303586529
                        ]
                      },
                      {
                        "learn": [
                          0.5308735964
                        ],
                        "iteration": 122,
                        "passed_time": 0.3116398901,
                        "remaining_time": 2.222017753,
                        "test": [
                          0.6299725303
                        ]
                      },
                      {
                        "learn": [
                          0.5247176611
                        ],
                        "iteration": 123,
                        "passed_time": 0.3142413588,
                        "remaining_time": 2.219963148,
                        "test": [
                          0.6239865304
                        ]
                      },
                      {
                        "learn": [
                          0.5194424337
                        ],
                        "iteration": 124,
                        "passed_time": 0.316559143,
                        "remaining_time": 2.215914001,
                        "test": [
                          0.6191308574
                        ]
                      },
                      {
                        "learn": [
                          0.5126119557
                        ],
                        "iteration": 125,
                        "passed_time": 0.3188852559,
                        "remaining_time": 2.211950108,
                        "test": [
                          0.6140163242
                        ]
                      },
                      {
                        "learn": [
                          0.5096436326
                        ],
                        "iteration": 126,
                        "passed_time": 0.3213333306,
                        "remaining_time": 2.208850375,
                        "test": [
                          0.6119209022
                        ]
                      },
                      {
                        "learn": [
                          0.5068389394
                        ],
                        "iteration": 127,
                        "passed_time": 0.3235845611,
                        "remaining_time": 2.204419822,
                        "test": [
                          0.6093202949
                        ]
                      },
                      {
                        "learn": [
                          0.4999950456
                        ],
                        "iteration": 128,
                        "passed_time": 0.326180636,
                        "remaining_time": 2.202351426,
                        "test": [
                          0.6043524509
                        ]
                      },
                      {
                        "learn": [
                          0.4942641916
                        ],
                        "iteration": 129,
                        "passed_time": 0.3284358784,
                        "remaining_time": 2.197993955,
                        "test": [
                          0.6006920834
                        ]
                      },
                      {
                        "learn": [
                          0.4896017103
                        ],
                        "iteration": 130,
                        "passed_time": 0.3307317013,
                        "remaining_time": 2.193937775,
                        "test": [
                          0.5957966199
                        ]
                      },
                      {
                        "learn": [
                          0.4856422755
                        ],
                        "iteration": 131,
                        "passed_time": 0.333523029,
                        "remaining_time": 2.193166585,
                        "test": [
                          0.5916947879
                        ]
                      },
                      {
                        "learn": [
                          0.4794922978
                        ],
                        "iteration": 132,
                        "passed_time": 0.3360095224,
                        "remaining_time": 2.190377864,
                        "test": [
                          0.5868455289
                        ]
                      },
                      {
                        "learn": [
                          0.4746735043
                        ],
                        "iteration": 133,
                        "passed_time": 0.3382978898,
                        "remaining_time": 2.186313228,
                        "test": [
                          0.58224233
                        ]
                      },
                      {
                        "learn": [
                          0.4710990094
                        ],
                        "iteration": 134,
                        "passed_time": 0.340726446,
                        "remaining_time": 2.183173154,
                        "test": [
                          0.5795294451
                        ]
                      },
                      {
                        "learn": [
                          0.4699450975
                        ],
                        "iteration": 135,
                        "passed_time": 0.342867705,
                        "remaining_time": 2.178218361,
                        "test": [
                          0.5790651876
                        ]
                      },
                      {
                        "learn": [
                          0.462400193
                        ],
                        "iteration": 136,
                        "passed_time": 0.3452742154,
                        "remaining_time": 2.174975532,
                        "test": [
                          0.5719837381
                        ]
                      },
                      {
                        "learn": [
                          0.4620041063
                        ],
                        "iteration": 137,
                        "passed_time": 0.3474331432,
                        "remaining_time": 2.17019833,
                        "test": [
                          0.5719120599
                        ]
                      },
                      {
                        "learn": [
                          0.4594942126
                        ],
                        "iteration": 138,
                        "passed_time": 0.349698603,
                        "remaining_time": 2.166118685,
                        "test": [
                          0.5688744678
                        ]
                      },
                      {
                        "learn": [
                          0.4552453808
                        ],
                        "iteration": 139,
                        "passed_time": 0.3519814972,
                        "remaining_time": 2.162172054,
                        "test": [
                          0.5653618725
                        ]
                      },
                      {
                        "learn": [
                          0.4491680864
                        ],
                        "iteration": 140,
                        "passed_time": 0.354289103,
                        "remaining_time": 2.158399571,
                        "test": [
                          0.5597875288
                        ]
                      },
                      {
                        "learn": [
                          0.4461583578
                        ],
                        "iteration": 141,
                        "passed_time": 0.3564032407,
                        "remaining_time": 2.153478736,
                        "test": [
                          0.5562123286
                        ]
                      },
                      {
                        "learn": [
                          0.4441635753
                        ],
                        "iteration": 142,
                        "passed_time": 0.3586137933,
                        "remaining_time": 2.149174971,
                        "test": [
                          0.5547024712
                        ]
                      },
                      {
                        "learn": [
                          0.4416818025
                        ],
                        "iteration": 143,
                        "passed_time": 0.361083261,
                        "remaining_time": 2.146439385,
                        "test": [
                          0.5528833261
                        ]
                      },
                      {
                        "learn": [
                          0.4366516542
                        ],
                        "iteration": 144,
                        "passed_time": 0.3632891191,
                        "remaining_time": 2.142153081,
                        "test": [
                          0.5487400491
                        ]
                      },
                      {
                        "learn": [
                          0.4311419004
                        ],
                        "iteration": 145,
                        "passed_time": 0.3656188798,
                        "remaining_time": 2.138620023,
                        "test": [
                          0.5444164809
                        ]
                      },
                      {
                        "learn": [
                          0.4287481675
                        ],
                        "iteration": 146,
                        "passed_time": 0.3678220651,
                        "remaining_time": 2.134368854,
                        "test": [
                          0.5412407148
                        ]
                      },
                      {
                        "learn": [
                          0.425426269
                        ],
                        "iteration": 147,
                        "passed_time": 0.3701284523,
                        "remaining_time": 2.130739468,
                        "test": [
                          0.5385315369
                        ]
                      },
                      {
                        "learn": [
                          0.4200519557
                        ],
                        "iteration": 148,
                        "passed_time": 0.3723434941,
                        "remaining_time": 2.126606131,
                        "test": [
                          0.5339589022
                        ]
                      },
                      {
                        "learn": [
                          0.4168973226
                        ],
                        "iteration": 149,
                        "passed_time": 0.3747188832,
                        "remaining_time": 2.123407005,
                        "test": [
                          0.5308329651
                        ]
                      },
                      {
                        "learn": [
                          0.4125154671
                        ],
                        "iteration": 150,
                        "passed_time": 0.37699915,
                        "remaining_time": 2.119683963,
                        "test": [
                          0.5274781662
                        ]
                      },
                      {
                        "learn": [
                          0.4091990955
                        ],
                        "iteration": 151,
                        "passed_time": 0.3792375944,
                        "remaining_time": 2.115746579,
                        "test": [
                          0.5250800496
                        ]
                      },
                      {
                        "learn": [
                          0.4059476334
                        ],
                        "iteration": 152,
                        "passed_time": 0.3816131153,
                        "remaining_time": 2.112590253,
                        "test": [
                          0.5223375329
                        ]
                      },
                      {
                        "learn": [
                          0.4025499682
                        ],
                        "iteration": 153,
                        "passed_time": 0.383956468,
                        "remaining_time": 2.10926735,
                        "test": [
                          0.5200361407
                        ]
                      },
                      {
                        "learn": [
                          0.3975662759
                        ],
                        "iteration": 154,
                        "passed_time": 0.386320467,
                        "remaining_time": 2.106069642,
                        "test": [
                          0.51550678
                        ]
                      },
                      {
                        "learn": [
                          0.3950103214
                        ],
                        "iteration": 155,
                        "passed_time": 0.3886213264,
                        "remaining_time": 2.102541022,
                        "test": [
                          0.5130444272
                        ]
                      },
                      {
                        "learn": [
                          0.3923039844
                        ],
                        "iteration": 156,
                        "passed_time": 0.3909773738,
                        "remaining_time": 2.09932437,
                        "test": [
                          0.5112091378
                        ]
                      },
                      {
                        "learn": [
                          0.3893084142
                        ],
                        "iteration": 157,
                        "passed_time": 0.3933116641,
                        "remaining_time": 2.096002666,
                        "test": [
                          0.5084368759
                        ]
                      },
                      {
                        "learn": [
                          0.3874950555
                        ],
                        "iteration": 158,
                        "passed_time": 0.3954506062,
                        "remaining_time": 2.091660125,
                        "test": [
                          0.5066676956
                        ]
                      },
                      {
                        "learn": [
                          0.3838630411
                        ],
                        "iteration": 159,
                        "passed_time": 0.3979980182,
                        "remaining_time": 2.089489596,
                        "test": [
                          0.5052102706
                        ]
                      },
                      {
                        "learn": [
                          0.3801453353
                        ],
                        "iteration": 160,
                        "passed_time": 0.4004099192,
                        "remaining_time": 2.086608212,
                        "test": [
                          0.5026173974
                        ]
                      },
                      {
                        "learn": [
                          0.3770633057
                        ],
                        "iteration": 161,
                        "passed_time": 0.4028190492,
                        "remaining_time": 2.083718291,
                        "test": [
                          0.5003666664
                        ]
                      },
                      {
                        "learn": [
                          0.374593252
                        ],
                        "iteration": 162,
                        "passed_time": 0.4050842185,
                        "remaining_time": 2.080095036,
                        "test": [
                          0.497157755
                        ]
                      },
                      {
                        "learn": [
                          0.3723893369
                        ],
                        "iteration": 163,
                        "passed_time": 0.4074159002,
                        "remaining_time": 2.076827393,
                        "test": [
                          0.4954470645
                        ]
                      },
                      {
                        "learn": [
                          0.370685527
                        ],
                        "iteration": 164,
                        "passed_time": 0.4098219142,
                        "remaining_time": 2.073947263,
                        "test": [
                          0.4955538689
                        ]
                      },
                      {
                        "learn": [
                          0.3680729984
                        ],
                        "iteration": 165,
                        "passed_time": 0.4121505281,
                        "remaining_time": 2.070683979,
                        "test": [
                          0.4932872197
                        ]
                      },
                      {
                        "learn": [
                          0.3637400272
                        ],
                        "iteration": 166,
                        "passed_time": 0.4146254131,
                        "remaining_time": 2.068161492,
                        "test": [
                          0.490035791
                        ]
                      },
                      {
                        "learn": [
                          0.3602187133
                        ],
                        "iteration": 167,
                        "passed_time": 0.4169670758,
                        "remaining_time": 2.064979804,
                        "test": [
                          0.4871970741
                        ]
                      },
                      {
                        "learn": [
                          0.3575316226
                        ],
                        "iteration": 168,
                        "passed_time": 0.4209148144,
                        "remaining_time": 2.069705389,
                        "test": [
                          0.4861600196
                        ]
                      },
                      {
                        "learn": [
                          0.354130728
                        ],
                        "iteration": 169,
                        "passed_time": 0.4233390119,
                        "remaining_time": 2.06689047,
                        "test": [
                          0.4832944512
                        ]
                      },
                      {
                        "learn": [
                          0.3525922471
                        ],
                        "iteration": 170,
                        "passed_time": 0.4255963798,
                        "remaining_time": 2.063271338,
                        "test": [
                          0.4813827472
                        ]
                      },
                      {
                        "learn": [
                          0.3500336657
                        ],
                        "iteration": 171,
                        "passed_time": 0.4282513251,
                        "remaining_time": 2.061581961,
                        "test": [
                          0.4800700247
                        ]
                      },
                      {
                        "learn": [
                          0.3481487533
                        ],
                        "iteration": 172,
                        "passed_time": 0.4306306638,
                        "remaining_time": 2.058563925,
                        "test": [
                          0.4786728676
                        ]
                      },
                      {
                        "learn": [
                          0.3463689157
                        ],
                        "iteration": 173,
                        "passed_time": 0.4328741106,
                        "remaining_time": 2.054908134,
                        "test": [
                          0.4773729269
                        ]
                      },
                      {
                        "learn": [
                          0.3446711536
                        ],
                        "iteration": 174,
                        "passed_time": 0.4352349535,
                        "remaining_time": 2.051821924,
                        "test": [
                          0.4761262971
                        ]
                      },
                      {
                        "learn": [
                          0.3428322677
                        ],
                        "iteration": 175,
                        "passed_time": 0.4444019233,
                        "remaining_time": 2.080609005,
                        "test": [
                          0.4764618016
                        ]
                      },
                      {
                        "learn": [
                          0.3404108657
                        ],
                        "iteration": 176,
                        "passed_time": 0.4471515082,
                        "remaining_time": 2.079128199,
                        "test": [
                          0.4741317936
                        ]
                      },
                      {
                        "learn": [
                          0.337411032
                        ],
                        "iteration": 177,
                        "passed_time": 0.4494843098,
                        "remaining_time": 2.075708442,
                        "test": [
                          0.4674326412
                        ]
                      },
                      {
                        "learn": [
                          0.3357144922
                        ],
                        "iteration": 178,
                        "passed_time": 0.4517348421,
                        "remaining_time": 2.071923494,
                        "test": [
                          0.4656030346
                        ]
                      },
                      {
                        "learn": [
                          0.3348991889
                        ],
                        "iteration": 179,
                        "passed_time": 0.4538841607,
                        "remaining_time": 2.06769451,
                        "test": [
                          0.4652380799
                        ]
                      },
                      {
                        "learn": [
                          0.3322010315
                        ],
                        "iteration": 180,
                        "passed_time": 0.4562515256,
                        "remaining_time": 2.064475135,
                        "test": [
                          0.4637965813
                        ]
                      },
                      {
                        "learn": [
                          0.3301070798
                        ],
                        "iteration": 181,
                        "passed_time": 0.4584642815,
                        "remaining_time": 2.060570232,
                        "test": [
                          0.4624556312
                        ]
                      },
                      {
                        "learn": [
                          0.3276454215
                        ],
                        "iteration": 182,
                        "passed_time": 0.4611686152,
                        "remaining_time": 2.058878463,
                        "test": [
                          0.4606689526
                        ]
                      },
                      {
                        "learn": [
                          0.3265534744
                        ],
                        "iteration": 183,
                        "passed_time": 0.4636785226,
                        "remaining_time": 2.056313448,
                        "test": [
                          0.4578624527
                        ]
                      },
                      {
                        "learn": [
                          0.324082562
                        ],
                        "iteration": 184,
                        "passed_time": 0.4660386037,
                        "remaining_time": 2.053088984,
                        "test": [
                          0.4571341825
                        ]
                      },
                      {
                        "learn": [
                          0.3220808578
                        ],
                        "iteration": 185,
                        "passed_time": 0.4687368133,
                        "remaining_time": 2.051353581,
                        "test": [
                          0.4557593082
                        ]
                      },
                      {
                        "learn": [
                          0.3203376385
                        ],
                        "iteration": 186,
                        "passed_time": 0.471117037,
                        "remaining_time": 2.048225407,
                        "test": [
                          0.4545980093
                        ]
                      },
                      {
                        "learn": [
                          0.3186003365
                        ],
                        "iteration": 187,
                        "passed_time": 0.4734286774,
                        "remaining_time": 2.044808969,
                        "test": [
                          0.4523252495
                        ]
                      },
                      {
                        "learn": [
                          0.3179936359
                        ],
                        "iteration": 188,
                        "passed_time": 0.4754529975,
                        "remaining_time": 2.040171328,
                        "test": [
                          0.4520664883
                        ]
                      },
                      {
                        "learn": [
                          0.3171239425
                        ],
                        "iteration": 189,
                        "passed_time": 0.4777717112,
                        "remaining_time": 2.036816242,
                        "test": [
                          0.4513105239
                        ]
                      },
                      {
                        "learn": [
                          0.3143137295
                        ],
                        "iteration": 190,
                        "passed_time": 0.480204927,
                        "remaining_time": 2.033956995,
                        "test": [
                          0.4494926148
                        ]
                      },
                      {
                        "learn": [
                          0.3122309195
                        ],
                        "iteration": 191,
                        "passed_time": 0.4830326152,
                        "remaining_time": 2.032762256,
                        "test": [
                          0.4490058492
                        ]
                      },
                      {
                        "learn": [
                          0.3103269686
                        ],
                        "iteration": 192,
                        "passed_time": 0.4852697678,
                        "remaining_time": 2.029081361,
                        "test": [
                          0.4474091198
                        ]
                      },
                      {
                        "learn": [
                          0.308879499
                        ],
                        "iteration": 193,
                        "passed_time": 0.487560673,
                        "remaining_time": 2.025638672,
                        "test": [
                          0.4454117589
                        ]
                      },
                      {
                        "learn": [
                          0.3061841555
                        ],
                        "iteration": 194,
                        "passed_time": 0.4897355383,
                        "remaining_time": 2.021728761,
                        "test": [
                          0.4437333047
                        ]
                      },
                      {
                        "learn": [
                          0.3039782296
                        ],
                        "iteration": 195,
                        "passed_time": 0.4920180511,
                        "remaining_time": 2.018278128,
                        "test": [
                          0.4423078374
                        ]
                      },
                      {
                        "learn": [
                          0.3022456383
                        ],
                        "iteration": 196,
                        "passed_time": 0.4941629319,
                        "remaining_time": 2.014278347,
                        "test": [
                          0.441275831
                        ]
                      },
                      {
                        "learn": [
                          0.300711068
                        ],
                        "iteration": 197,
                        "passed_time": 0.4964258176,
                        "remaining_time": 2.010775281,
                        "test": [
                          0.4402429063
                        ]
                      },
                      {
                        "learn": [
                          0.2994557438
                        ],
                        "iteration": 198,
                        "passed_time": 0.4987760804,
                        "remaining_time": 2.007636384,
                        "test": [
                          0.4386113792
                        ]
                      },
                      {
                        "learn": [
                          0.2981556479
                        ],
                        "iteration": 199,
                        "passed_time": 0.5009666355,
                        "remaining_time": 2.003866542,
                        "test": [
                          0.4381722041
                        ]
                      },
                      {
                        "learn": [
                          0.2968425595
                        ],
                        "iteration": 200,
                        "passed_time": 0.5032186769,
                        "remaining_time": 2.00035683,
                        "test": [
                          0.4363541178
                        ]
                      },
                      {
                        "learn": [
                          0.2954320715
                        ],
                        "iteration": 201,
                        "passed_time": 0.5054601768,
                        "remaining_time": 1.996817926,
                        "test": [
                          0.4364145729
                        ]
                      },
                      {
                        "learn": [
                          0.29436179
                        ],
                        "iteration": 202,
                        "passed_time": 0.5077242725,
                        "remaining_time": 1.993380518,
                        "test": [
                          0.4350290175
                        ]
                      },
                      {
                        "learn": [
                          0.2933102618
                        ],
                        "iteration": 203,
                        "passed_time": 0.5100034021,
                        "remaining_time": 1.990013275,
                        "test": [
                          0.4342505231
                        ]
                      },
                      {
                        "learn": [
                          0.2896952705
                        ],
                        "iteration": 204,
                        "passed_time": 0.5123321518,
                        "remaining_time": 1.986849077,
                        "test": [
                          0.4309750397
                        ]
                      },
                      {
                        "learn": [
                          0.2881346864
                        ],
                        "iteration": 205,
                        "passed_time": 0.5148322722,
                        "remaining_time": 1.984353515,
                        "test": [
                          0.4303622805
                        ]
                      },
                      {
                        "learn": [
                          0.2865659612
                        ],
                        "iteration": 206,
                        "passed_time": 0.5171599429,
                        "remaining_time": 1.981197269,
                        "test": [
                          0.4294285677
                        ]
                      },
                      {
                        "learn": [
                          0.2858270226
                        ],
                        "iteration": 207,
                        "passed_time": 0.5194896073,
                        "remaining_time": 1.978056582,
                        "test": [
                          0.4282585739
                        ]
                      },
                      {
                        "learn": [
                          0.2836260418
                        ],
                        "iteration": 208,
                        "passed_time": 0.5220347024,
                        "remaining_time": 1.975738993,
                        "test": [
                          0.4265263999
                        ]
                      },
                      {
                        "learn": [
                          0.2818762934
                        ],
                        "iteration": 209,
                        "passed_time": 0.5243344981,
                        "remaining_time": 1.972496445,
                        "test": [
                          0.4257789332
                        ]
                      },
                      {
                        "learn": [
                          0.2812174866
                        ],
                        "iteration": 210,
                        "passed_time": 0.5267162068,
                        "remaining_time": 1.969569134,
                        "test": [
                          0.4252018533
                        ]
                      },
                      {
                        "learn": [
                          0.279706706
                        ],
                        "iteration": 211,
                        "passed_time": 0.5290103098,
                        "remaining_time": 1.96632134,
                        "test": [
                          0.4240744892
                        ]
                      },
                      {
                        "learn": [
                          0.2773097794
                        ],
                        "iteration": 212,
                        "passed_time": 0.5348631195,
                        "remaining_time": 1.976231338,
                        "test": [
                          0.4184402504
                        ]
                      },
                      {
                        "learn": [
                          0.2759761549
                        ],
                        "iteration": 213,
                        "passed_time": 0.5372130214,
                        "remaining_time": 1.9731282,
                        "test": [
                          0.4175554375
                        ]
                      },
                      {
                        "learn": [
                          0.2745267774
                        ],
                        "iteration": 214,
                        "passed_time": 0.5401604076,
                        "remaining_time": 1.972213581,
                        "test": [
                          0.4164854084
                        ]
                      },
                      {
                        "learn": [
                          0.2731958833
                        ],
                        "iteration": 215,
                        "passed_time": 0.5425425882,
                        "remaining_time": 1.969228653,
                        "test": [
                          0.4156579063
                        ]
                      },
                      {
                        "learn": [
                          0.2722088064
                        ],
                        "iteration": 216,
                        "passed_time": 0.5447927259,
                        "remaining_time": 1.965772831,
                        "test": [
                          0.4155661534
                        ]
                      },
                      {
                        "learn": [
                          0.2708467302
                        ],
                        "iteration": 217,
                        "passed_time": 0.5472634023,
                        "remaining_time": 1.963119177,
                        "test": [
                          0.4147361328
                        ]
                      },
                      {
                        "learn": [
                          0.2694165568
                        ],
                        "iteration": 218,
                        "passed_time": 0.5496409941,
                        "remaining_time": 1.960135235,
                        "test": [
                          0.4137549501
                        ]
                      },
                      {
                        "learn": [
                          0.2686399909
                        ],
                        "iteration": 219,
                        "passed_time": 0.5521968844,
                        "remaining_time": 1.957788954,
                        "test": [
                          0.4131336762
                        ]
                      },
                      {
                        "learn": [
                          0.2673906553
                        ],
                        "iteration": 220,
                        "passed_time": 0.5547838606,
                        "remaining_time": 1.95555035,
                        "test": [
                          0.4117895144
                        ]
                      },
                      {
                        "learn": [
                          0.2663771675
                        ],
                        "iteration": 221,
                        "passed_time": 0.5571709871,
                        "remaining_time": 1.952608234,
                        "test": [
                          0.410771094
                        ]
                      },
                      {
                        "learn": [
                          0.2645256042
                        ],
                        "iteration": 222,
                        "passed_time": 0.5595044697,
                        "remaining_time": 1.949484184,
                        "test": [
                          0.4089691201
                        ]
                      },
                      {
                        "learn": [
                          0.2632206693
                        ],
                        "iteration": 223,
                        "passed_time": 0.5619868975,
                        "remaining_time": 1.946883181,
                        "test": [
                          0.4079121049
                        ]
                      },
                      {
                        "learn": [
                          0.2628344599
                        ],
                        "iteration": 224,
                        "passed_time": 0.5645299667,
                        "remaining_time": 1.944492108,
                        "test": [
                          0.4076636595
                        ]
                      },
                      {
                        "learn": [
                          0.2612301996
                        ],
                        "iteration": 225,
                        "passed_time": 0.5673277495,
                        "remaining_time": 1.942972027,
                        "test": [
                          0.4063818834
                        ]
                      },
                      {
                        "learn": [
                          0.2597438713
                        ],
                        "iteration": 226,
                        "passed_time": 0.5696858215,
                        "remaining_time": 1.939943348,
                        "test": [
                          0.405299904
                        ]
                      },
                      {
                        "learn": [
                          0.2586058171
                        ],
                        "iteration": 227,
                        "passed_time": 0.5720823355,
                        "remaining_time": 1.937050715,
                        "test": [
                          0.4057255728
                        ]
                      },
                      {
                        "learn": [
                          0.2576160748
                        ],
                        "iteration": 228,
                        "passed_time": 0.5742071724,
                        "remaining_time": 1.933247729,
                        "test": [
                          0.4048593838
                        ]
                      },
                      {
                        "learn": [
                          0.2566870913
                        ],
                        "iteration": 229,
                        "passed_time": 0.5765556688,
                        "remaining_time": 1.930208109,
                        "test": [
                          0.4046199823
                        ]
                      },
                      {
                        "learn": [
                          0.2560776082
                        ],
                        "iteration": 230,
                        "passed_time": 0.5786325205,
                        "remaining_time": 1.926270166,
                        "test": [
                          0.4032933108
                        ]
                      },
                      {
                        "learn": [
                          0.2546965442
                        ],
                        "iteration": 231,
                        "passed_time": 0.5810424605,
                        "remaining_time": 1.923450904,
                        "test": [
                          0.4025035633
                        ]
                      },
                      {
                        "learn": [
                          0.2519744863
                        ],
                        "iteration": 232,
                        "passed_time": 0.5833577887,
                        "remaining_time": 1.920323708,
                        "test": [
                          0.4000891268
                        ]
                      },
                      {
                        "learn": [
                          0.2504056109
                        ],
                        "iteration": 233,
                        "passed_time": 0.5855333095,
                        "remaining_time": 1.916745791,
                        "test": [
                          0.3993078779
                        ]
                      },
                      {
                        "learn": [
                          0.2490772801
                        ],
                        "iteration": 234,
                        "passed_time": 0.5877434826,
                        "remaining_time": 1.913292614,
                        "test": [
                          0.398416624
                        ]
                      },
                      {
                        "learn": [
                          0.2482135887
                        ],
                        "iteration": 235,
                        "passed_time": 0.5902777749,
                        "remaining_time": 1.910899237,
                        "test": [
                          0.39796277
                        ]
                      },
                      {
                        "learn": [
                          0.247087895
                        ],
                        "iteration": 236,
                        "passed_time": 0.5932128514,
                        "remaining_time": 1.909794961,
                        "test": [
                          0.3972170026
                        ]
                      },
                      {
                        "learn": [
                          0.2465400959
                        ],
                        "iteration": 237,
                        "passed_time": 0.5959754506,
                        "remaining_time": 1.908123081,
                        "test": [
                          0.3970117249
                        ]
                      },
                      {
                        "learn": [
                          0.2456051712
                        ],
                        "iteration": 238,
                        "passed_time": 0.5982167164,
                        "remaining_time": 1.904782097,
                        "test": [
                          0.3964606549
                        ]
                      },
                      {
                        "learn": [
                          0.2446722652
                        ],
                        "iteration": 239,
                        "passed_time": 0.6005715247,
                        "remaining_time": 1.901809828,
                        "test": [
                          0.3958848792
                        ]
                      },
                      {
                        "learn": [
                          0.2443373481
                        ],
                        "iteration": 240,
                        "passed_time": 0.60325716,
                        "remaining_time": 1.899884583,
                        "test": [
                          0.3958819979
                        ]
                      },
                      {
                        "learn": [
                          0.243011929
                        ],
                        "iteration": 241,
                        "passed_time": 0.6072948867,
                        "remaining_time": 1.902188116,
                        "test": [
                          0.3948760164
                        ]
                      },
                      {
                        "learn": [
                          0.2416988871
                        ],
                        "iteration": 242,
                        "passed_time": 0.6104405517,
                        "remaining_time": 1.901660484,
                        "test": [
                          0.3940748565
                        ]
                      },
                      {
                        "learn": [
                          0.2406991809
                        ],
                        "iteration": 243,
                        "passed_time": 0.6140252488,
                        "remaining_time": 1.902471673,
                        "test": [
                          0.3943448892
                        ]
                      },
                      {
                        "learn": [
                          0.2397867997
                        ],
                        "iteration": 244,
                        "passed_time": 0.6162786712,
                        "remaining_time": 1.899144476,
                        "test": [
                          0.3937407969
                        ]
                      },
                      {
                        "learn": [
                          0.2386784486
                        ],
                        "iteration": 245,
                        "passed_time": 0.6186284335,
                        "remaining_time": 1.896121296,
                        "test": [
                          0.3928139822
                        ]
                      },
                      {
                        "learn": [
                          0.2378903631
                        ],
                        "iteration": 246,
                        "passed_time": 0.6208593151,
                        "remaining_time": 1.892741151,
                        "test": [
                          0.3925201156
                        ]
                      },
                      {
                        "learn": [
                          0.2360909831
                        ],
                        "iteration": 247,
                        "passed_time": 0.6231459402,
                        "remaining_time": 1.889539303,
                        "test": [
                          0.3917149999
                        ]
                      },
                      {
                        "learn": [
                          0.2355849386
                        ],
                        "iteration": 248,
                        "passed_time": 0.625426472,
                        "remaining_time": 1.886326428,
                        "test": [
                          0.3914967798
                        ]
                      },
                      {
                        "learn": [
                          0.2347184438
                        ],
                        "iteration": 249,
                        "passed_time": 0.6276445584,
                        "remaining_time": 1.882933675,
                        "test": [
                          0.3901757323
                        ]
                      },
                      {
                        "learn": [
                          0.2340956617
                        ],
                        "iteration": 250,
                        "passed_time": 0.6299937162,
                        "remaining_time": 1.879941408,
                        "test": [
                          0.3896068001
                        ]
                      },
                      {
                        "learn": [
                          0.2330884219
                        ],
                        "iteration": 251,
                        "passed_time": 0.6324997045,
                        "remaining_time": 1.877419758,
                        "test": [
                          0.3890358731
                        ]
                      },
                      {
                        "learn": [
                          0.2313363618
                        ],
                        "iteration": 252,
                        "passed_time": 0.6349414895,
                        "remaining_time": 1.874708667,
                        "test": [
                          0.3878208686
                        ]
                      },
                      {
                        "learn": [
                          0.2302070204
                        ],
                        "iteration": 253,
                        "passed_time": 0.6371343773,
                        "remaining_time": 1.871268683,
                        "test": [
                          0.3872512055
                        ]
                      },
                      {
                        "learn": [
                          0.2295423575
                        ],
                        "iteration": 254,
                        "passed_time": 0.6394313589,
                        "remaining_time": 1.868142598,
                        "test": [
                          0.3867472086
                        ]
                      },
                      {
                        "learn": [
                          0.2282095389
                        ],
                        "iteration": 255,
                        "passed_time": 0.6418805795,
                        "remaining_time": 1.865465434,
                        "test": [
                          0.3862839496
                        ]
                      },
                      {
                        "learn": [
                          0.2274651331
                        ],
                        "iteration": 256,
                        "passed_time": 0.6441312178,
                        "remaining_time": 1.862215933,
                        "test": [
                          0.3858107984
                        ]
                      },
                      {
                        "learn": [
                          0.2268033849
                        ],
                        "iteration": 257,
                        "passed_time": 0.6463641389,
                        "remaining_time": 1.858923221,
                        "test": [
                          0.385567008
                        ]
                      },
                      {
                        "learn": [
                          0.22615433
                        ],
                        "iteration": 258,
                        "passed_time": 0.6485411684,
                        "remaining_time": 1.855478787,
                        "test": [
                          0.3852770845
                        ]
                      },
                      {
                        "learn": [
                          0.2252494986
                        ],
                        "iteration": 259,
                        "passed_time": 0.6508464828,
                        "remaining_time": 1.85240922,
                        "test": [
                          0.3838953122
                        ]
                      },
                      {
                        "learn": [
                          0.2245487358
                        ],
                        "iteration": 260,
                        "passed_time": 0.6531734808,
                        "remaining_time": 1.849406905,
                        "test": [
                          0.382942286
                        ]
                      },
                      {
                        "learn": [
                          0.2232696866
                        ],
                        "iteration": 261,
                        "passed_time": 0.6554930618,
                        "remaining_time": 1.846388853,
                        "test": [
                          0.3823020981
                        ]
                      },
                      {
                        "learn": [
                          0.222429843
                        ],
                        "iteration": 262,
                        "passed_time": 0.6576991358,
                        "remaining_time": 1.843058034,
                        "test": [
                          0.3825232466
                        ]
                      },
                      {
                        "learn": [
                          0.2216901342
                        ],
                        "iteration": 263,
                        "passed_time": 0.6598935468,
                        "remaining_time": 1.839703221,
                        "test": [
                          0.3820325023
                        ]
                      },
                      {
                        "learn": [
                          0.2206417709
                        ],
                        "iteration": 264,
                        "passed_time": 0.6621232525,
                        "remaining_time": 1.836455059,
                        "test": [
                          0.3812593372
                        ]
                      },
                      {
                        "learn": [
                          0.219883836
                        ],
                        "iteration": 265,
                        "passed_time": 0.6642712442,
                        "remaining_time": 1.832989072,
                        "test": [
                          0.3814680085
                        ]
                      },
                      {
                        "learn": [
                          0.2195460013
                        ],
                        "iteration": 266,
                        "passed_time": 0.6663360217,
                        "remaining_time": 1.829304509,
                        "test": [
                          0.3815391119
                        ]
                      },
                      {
                        "learn": [
                          0.2183592236
                        ],
                        "iteration": 267,
                        "passed_time": 0.6685223081,
                        "remaining_time": 1.825963916,
                        "test": [
                          0.3805454986
                        ]
                      },
                      {
                        "learn": [
                          0.2175629874
                        ],
                        "iteration": 268,
                        "passed_time": 0.6705776903,
                        "remaining_time": 1.822276177,
                        "test": [
                          0.3801569528
                        ]
                      },
                      {
                        "learn": [
                          0.2173508904
                        ],
                        "iteration": 269,
                        "passed_time": 0.6729454571,
                        "remaining_time": 1.819445125,
                        "test": [
                          0.3800918798
                        ]
                      },
                      {
                        "learn": [
                          0.2165339826
                        ],
                        "iteration": 270,
                        "passed_time": 0.675277701,
                        "remaining_time": 1.816521934,
                        "test": [
                          0.3803102734
                        ]
                      },
                      {
                        "learn": [
                          0.2159508878
                        ],
                        "iteration": 271,
                        "passed_time": 0.6776796227,
                        "remaining_time": 1.813789578,
                        "test": [
                          0.3794138571
                        ]
                      },
                      {
                        "learn": [
                          0.2150043909
                        ],
                        "iteration": 272,
                        "passed_time": 0.6799590995,
                        "remaining_time": 1.810733573,
                        "test": [
                          0.3786572087
                        ]
                      },
                      {
                        "learn": [
                          0.2144528002
                        ],
                        "iteration": 273,
                        "passed_time": 0.6820847405,
                        "remaining_time": 1.807275626,
                        "test": [
                          0.3779242772
                        ]
                      },
                      {
                        "learn": [
                          0.2136423174
                        ],
                        "iteration": 274,
                        "passed_time": 0.6845996143,
                        "remaining_time": 1.804853529,
                        "test": [
                          0.3769783766
                        ]
                      },
                      {
                        "learn": [
                          0.2127892259
                        ],
                        "iteration": 275,
                        "passed_time": 0.6870718457,
                        "remaining_time": 1.8023189,
                        "test": [
                          0.3764167043
                        ]
                      },
                      {
                        "learn": [
                          0.2122601853
                        ],
                        "iteration": 276,
                        "passed_time": 0.689178496,
                        "remaining_time": 1.798830515,
                        "test": [
                          0.3757607309
                        ]
                      },
                      {
                        "learn": [
                          0.2114730948
                        ],
                        "iteration": 277,
                        "passed_time": 0.6917393972,
                        "remaining_time": 1.796531816,
                        "test": [
                          0.3752036169
                        ]
                      },
                      {
                        "learn": [
                          0.2108628075
                        ],
                        "iteration": 278,
                        "passed_time": 0.6941929815,
                        "remaining_time": 1.793953906,
                        "test": [
                          0.3754478982
                        ]
                      },
                      {
                        "learn": [
                          0.2101016963
                        ],
                        "iteration": 279,
                        "passed_time": 0.6964288218,
                        "remaining_time": 1.79081697,
                        "test": [
                          0.3749694227
                        ]
                      },
                      {
                        "learn": [
                          0.2091670532
                        ],
                        "iteration": 280,
                        "passed_time": 0.69868171,
                        "remaining_time": 1.787730069,
                        "test": [
                          0.374286477
                        ]
                      },
                      {
                        "learn": [
                          0.2083155932
                        ],
                        "iteration": 281,
                        "passed_time": 0.7008517653,
                        "remaining_time": 1.784438183,
                        "test": [
                          0.3738949304
                        ]
                      },
                      {
                        "learn": [
                          0.2077416567
                        ],
                        "iteration": 282,
                        "passed_time": 0.7029768504,
                        "remaining_time": 1.781040289,
                        "test": [
                          0.3730156141
                        ]
                      },
                      {
                        "learn": [
                          0.2075453763
                        ],
                        "iteration": 283,
                        "passed_time": 0.7050029832,
                        "remaining_time": 1.777401887,
                        "test": [
                          0.373123508
                        ]
                      },
                      {
                        "learn": [
                          0.2069040022
                        ],
                        "iteration": 284,
                        "passed_time": 0.7071874496,
                        "remaining_time": 1.774172023,
                        "test": [
                          0.3727620875
                        ]
                      },
                      {
                        "learn": [
                          0.2059333753
                        ],
                        "iteration": 285,
                        "passed_time": 0.7094499052,
                        "remaining_time": 1.771144169,
                        "test": [
                          0.3720958048
                        ]
                      },
                      {
                        "learn": [
                          0.2050025229
                        ],
                        "iteration": 286,
                        "passed_time": 0.7115444331,
                        "remaining_time": 1.767704463,
                        "test": [
                          0.3703880612
                        ]
                      },
                      {
                        "learn": [
                          0.2038608641
                        ],
                        "iteration": 287,
                        "passed_time": 0.7138232276,
                        "remaining_time": 1.764729646,
                        "test": [
                          0.3693992401
                        ]
                      },
                      {
                        "learn": [
                          0.2030093283
                        ],
                        "iteration": 288,
                        "passed_time": 0.7160747513,
                        "remaining_time": 1.761692554,
                        "test": [
                          0.3686907256
                        ]
                      },
                      {
                        "learn": [
                          0.2024632544
                        ],
                        "iteration": 289,
                        "passed_time": 0.7184913878,
                        "remaining_time": 1.759065122,
                        "test": [
                          0.3678042517
                        ]
                      },
                      {
                        "learn": [
                          0.2017174694
                        ],
                        "iteration": 290,
                        "passed_time": 0.7207778329,
                        "remaining_time": 1.756121936,
                        "test": [
                          0.3674304164
                        ]
                      },
                      {
                        "learn": [
                          0.2011954357
                        ],
                        "iteration": 291,
                        "passed_time": 0.7230326302,
                        "remaining_time": 1.753106514,
                        "test": [
                          0.3664852781
                        ]
                      },
                      {
                        "learn": [
                          0.2002264379
                        ],
                        "iteration": 292,
                        "passed_time": 0.7253909323,
                        "remaining_time": 1.750346038,
                        "test": [
                          0.3650981877
                        ]
                      },
                      {
                        "learn": [
                          0.1994721552
                        ],
                        "iteration": 293,
                        "passed_time": 0.7275628544,
                        "remaining_time": 1.747140732,
                        "test": [
                          0.3644780772
                        ]
                      },
                      {
                        "learn": [
                          0.1990851789
                        ],
                        "iteration": 294,
                        "passed_time": 0.7297446398,
                        "remaining_time": 1.743966004,
                        "test": [
                          0.3643697546
                        ]
                      },
                      {
                        "learn": [
                          0.1981787145
                        ],
                        "iteration": 295,
                        "passed_time": 0.731952787,
                        "remaining_time": 1.740860683,
                        "test": [
                          0.3638232636
                        ]
                      },
                      {
                        "learn": [
                          0.1975084079
                        ],
                        "iteration": 296,
                        "passed_time": 0.7341834326,
                        "remaining_time": 1.737814657,
                        "test": [
                          0.3633200854
                        ]
                      },
                      {
                        "learn": [
                          0.1969623427
                        ],
                        "iteration": 297,
                        "passed_time": 0.7366753407,
                        "remaining_time": 1.735389561,
                        "test": [
                          0.362993536
                        ]
                      },
                      {
                        "learn": [
                          0.1960690751
                        ],
                        "iteration": 298,
                        "passed_time": 0.7389016335,
                        "remaining_time": 1.732341288,
                        "test": [
                          0.3623823695
                        ]
                      },
                      {
                        "learn": [
                          0.1956038746
                        ],
                        "iteration": 299,
                        "passed_time": 0.7412574001,
                        "remaining_time": 1.7296006,
                        "test": [
                          0.3620471042
                        ]
                      },
                      {
                        "learn": [
                          0.19473558
                        ],
                        "iteration": 300,
                        "passed_time": 0.7436070956,
                        "remaining_time": 1.726848372,
                        "test": [
                          0.3616583541
                        ]
                      },
                      {
                        "learn": [
                          0.194053453
                        ],
                        "iteration": 301,
                        "passed_time": 0.7460577094,
                        "remaining_time": 1.724332057,
                        "test": [
                          0.3613821252
                        ]
                      },
                      {
                        "learn": [
                          0.1934432301
                        ],
                        "iteration": 302,
                        "passed_time": 0.7484163064,
                        "remaining_time": 1.721604507,
                        "test": [
                          0.3611015865
                        ]
                      },
                      {
                        "learn": [
                          0.1932395179
                        ],
                        "iteration": 303,
                        "passed_time": 0.7505435311,
                        "remaining_time": 1.718349663,
                        "test": [
                          0.3606184466
                        ]
                      },
                      {
                        "learn": [
                          0.1926334331
                        ],
                        "iteration": 304,
                        "passed_time": 0.7526946861,
                        "remaining_time": 1.715156744,
                        "test": [
                          0.3603428351
                        ]
                      },
                      {
                        "learn": [
                          0.1917585325
                        ],
                        "iteration": 305,
                        "passed_time": 0.7548590376,
                        "remaining_time": 1.712000562,
                        "test": [
                          0.3599772675
                        ]
                      },
                      {
                        "learn": [
                          0.191087558
                        ],
                        "iteration": 306,
                        "passed_time": 0.7569507295,
                        "remaining_time": 1.708686826,
                        "test": [
                          0.3585500541
                        ]
                      },
                      {
                        "learn": [
                          0.190615782
                        ],
                        "iteration": 307,
                        "passed_time": 0.759152393,
                        "remaining_time": 1.705628104,
                        "test": [
                          0.3577807146
                        ]
                      },
                      {
                        "learn": [
                          0.1901392129
                        ],
                        "iteration": 308,
                        "passed_time": 0.7613378362,
                        "remaining_time": 1.702538656,
                        "test": [
                          0.3574964771
                        ]
                      },
                      {
                        "learn": [
                          0.1895966027
                        ],
                        "iteration": 309,
                        "passed_time": 0.7636691555,
                        "remaining_time": 1.699779733,
                        "test": [
                          0.3570264091
                        ]
                      },
                      {
                        "learn": [
                          0.1884962995
                        ],
                        "iteration": 310,
                        "passed_time": 0.7660794524,
                        "remaining_time": 1.69719853,
                        "test": [
                          0.3561505126
                        ]
                      },
                      {
                        "learn": [
                          0.1880658061
                        ],
                        "iteration": 311,
                        "passed_time": 0.768138187,
                        "remaining_time": 1.693843182,
                        "test": [
                          0.3561687235
                        ]
                      },
                      {
                        "learn": [
                          0.1872084814
                        ],
                        "iteration": 312,
                        "passed_time": 0.7707875436,
                        "remaining_time": 1.691792468,
                        "test": [
                          0.3557967902
                        ]
                      },
                      {
                        "learn": [
                          0.1865325678
                        ],
                        "iteration": 313,
                        "passed_time": 0.7729777523,
                        "remaining_time": 1.688734835,
                        "test": [
                          0.3553854711
                        ]
                      },
                      {
                        "learn": [
                          0.1856357726
                        ],
                        "iteration": 314,
                        "passed_time": 0.7752229791,
                        "remaining_time": 1.685802351,
                        "test": [
                          0.3546556485
                        ]
                      },
                      {
                        "learn": [
                          0.1852335178
                        ],
                        "iteration": 315,
                        "passed_time": 0.7773350208,
                        "remaining_time": 1.682585931,
                        "test": [
                          0.3540341697
                        ]
                      },
                      {
                        "learn": [
                          0.1849205201
                        ],
                        "iteration": 316,
                        "passed_time": 0.7794832344,
                        "remaining_time": 1.679454414,
                        "test": [
                          0.3538359861
                        ]
                      },
                      {
                        "learn": [
                          0.183971124
                        ],
                        "iteration": 317,
                        "passed_time": 0.7818545794,
                        "remaining_time": 1.67680762,
                        "test": [
                          0.3535291348
                        ]
                      },
                      {
                        "learn": [
                          0.1836100621
                        ],
                        "iteration": 318,
                        "passed_time": 0.7839845009,
                        "remaining_time": 1.673647163,
                        "test": [
                          0.3532205779
                        ]
                      },
                      {
                        "learn": [
                          0.1832107121
                        ],
                        "iteration": 319,
                        "passed_time": 0.7861598658,
                        "remaining_time": 1.670589715,
                        "test": [
                          0.3528752124
                        ]
                      },
                      {
                        "learn": [
                          0.1827173211
                        ],
                        "iteration": 320,
                        "passed_time": 0.788242488,
                        "remaining_time": 1.667341587,
                        "test": [
                          0.3521382559
                        ]
                      },
                      {
                        "learn": [
                          0.1821453823
                        ],
                        "iteration": 321,
                        "passed_time": 0.7907446907,
                        "remaining_time": 1.664984162,
                        "test": [
                          0.3501780877
                        ]
                      },
                      {
                        "learn": [
                          0.1812744307
                        ],
                        "iteration": 322,
                        "passed_time": 0.7931274094,
                        "remaining_time": 1.662375406,
                        "test": [
                          0.3498810011
                        ]
                      },
                      {
                        "learn": [
                          0.1807556447
                        ],
                        "iteration": 323,
                        "passed_time": 0.8026468346,
                        "remaining_time": 1.674658211,
                        "test": [
                          0.3496659124
                        ]
                      },
                      {
                        "learn": [
                          0.1799781425
                        ],
                        "iteration": 324,
                        "passed_time": 0.8085305102,
                        "remaining_time": 1.679255675,
                        "test": [
                          0.3491756725
                        ]
                      },
                      {
                        "learn": [
                          0.179832961
                        ],
                        "iteration": 325,
                        "passed_time": 0.8159665077,
                        "remaining_time": 1.68699824,
                        "test": [
                          0.3492796175
                        ]
                      },
                      {
                        "learn": [
                          0.1788791306
                        ],
                        "iteration": 326,
                        "passed_time": 0.8243055322,
                        "remaining_time": 1.696506493,
                        "test": [
                          0.3485638629
                        ]
                      },
                      {
                        "learn": [
                          0.1787738267
                        ],
                        "iteration": 327,
                        "passed_time": 0.8278434523,
                        "remaining_time": 1.696069512,
                        "test": [
                          0.3485407821
                        ]
                      },
                      {
                        "learn": [
                          0.1782823992
                        ],
                        "iteration": 328,
                        "passed_time": 0.8359843593,
                        "remaining_time": 1.705001535,
                        "test": [
                          0.3481359109
                        ]
                      },
                      {
                        "learn": [
                          0.1780642302
                        ],
                        "iteration": 329,
                        "passed_time": 0.843862179,
                        "remaining_time": 1.713295939,
                        "test": [
                          0.3480976004
                        ]
                      },
                      {
                        "learn": [
                          0.1778251644
                        ],
                        "iteration": 330,
                        "passed_time": 0.8516615054,
                        "remaining_time": 1.721333979,
                        "test": [
                          0.3480160802
                        ]
                      },
                      {
                        "learn": [
                          0.1777320707
                        ],
                        "iteration": 331,
                        "passed_time": 0.859355647,
                        "remaining_time": 1.729064977,
                        "test": [
                          0.3480018475
                        ]
                      },
                      {
                        "learn": [
                          0.1770064382
                        ],
                        "iteration": 332,
                        "passed_time": 0.8677724775,
                        "remaining_time": 1.738150878,
                        "test": [
                          0.3476385776
                        ]
                      },
                      {
                        "learn": [
                          0.1769328757
                        ],
                        "iteration": 333,
                        "passed_time": 0.8711664674,
                        "remaining_time": 1.737116369,
                        "test": [
                          0.34750483
                        ]
                      },
                      {
                        "learn": [
                          0.1768629879
                        ],
                        "iteration": 334,
                        "passed_time": 0.8782591496,
                        "remaining_time": 1.743409954,
                        "test": [
                          0.3474993783
                        ]
                      },
                      {
                        "learn": [
                          0.1767865659
                        ],
                        "iteration": 335,
                        "passed_time": 0.8815837376,
                        "remaining_time": 1.742177386,
                        "test": [
                          0.3474365962
                        ]
                      },
                      {
                        "learn": [
                          0.1766793078
                        ],
                        "iteration": 336,
                        "passed_time": 0.8842777385,
                        "remaining_time": 1.739691812,
                        "test": [
                          0.3474741907
                        ]
                      },
                      {
                        "learn": [
                          0.1761792824
                        ],
                        "iteration": 337,
                        "passed_time": 0.8880781214,
                        "remaining_time": 1.739371942,
                        "test": [
                          0.347156852
                        ]
                      },
                      {
                        "learn": [
                          0.175647176
                        ],
                        "iteration": 338,
                        "passed_time": 0.8913224141,
                        "remaining_time": 1.737947244,
                        "test": [
                          0.3469643158
                        ]
                      },
                      {
                        "learn": [
                          0.1749179401
                        ],
                        "iteration": 339,
                        "passed_time": 0.896819807,
                        "remaining_time": 1.740885508,
                        "test": [
                          0.3465199721
                        ]
                      },
                      {
                        "learn": [
                          0.1748394542
                        ],
                        "iteration": 340,
                        "passed_time": 0.8998570159,
                        "remaining_time": 1.739019863,
                        "test": [
                          0.3463693117
                        ]
                      },
                      {
                        "learn": [
                          0.1747565295
                        ],
                        "iteration": 341,
                        "passed_time": 0.9027754926,
                        "remaining_time": 1.73691893,
                        "test": [
                          0.3463404457
                        ]
                      },
                      {
                        "learn": [
                          0.1740175536
                        ],
                        "iteration": 342,
                        "passed_time": 0.9057511738,
                        "remaining_time": 1.734922802,
                        "test": [
                          0.3460393293
                        ]
                      },
                      {
                        "learn": [
                          0.1735874839
                        ],
                        "iteration": 343,
                        "passed_time": 0.908731001,
                        "remaining_time": 1.732928886,
                        "test": [
                          0.3456966227
                        ]
                      },
                      {
                        "learn": [
                          0.17279886
                        ],
                        "iteration": 344,
                        "passed_time": 0.9118896258,
                        "remaining_time": 1.73126871,
                        "test": [
                          0.3451056526
                        ]
                      },
                      {
                        "learn": [
                          0.1725674445
                        ],
                        "iteration": 345,
                        "passed_time": 0.915039429,
                        "remaining_time": 1.729583198,
                        "test": [
                          0.3446111171
                        ]
                      },
                      {
                        "learn": [
                          0.171865115
                        ],
                        "iteration": 346,
                        "passed_time": 0.9228535582,
                        "remaining_time": 1.736666783,
                        "test": [
                          0.3442853407
                        ]
                      },
                      {
                        "learn": [
                          0.1712928478
                        ],
                        "iteration": 347,
                        "passed_time": 0.9260097461,
                        "remaining_time": 1.7349378,
                        "test": [
                          0.3428756457
                        ]
                      },
                      {
                        "learn": [
                          0.1709551254
                        ],
                        "iteration": 348,
                        "passed_time": 0.9297870419,
                        "remaining_time": 1.73435921,
                        "test": [
                          0.3426901488
                        ]
                      },
                      {
                        "learn": [
                          0.1702196369
                        ],
                        "iteration": 349,
                        "passed_time": 0.9324915083,
                        "remaining_time": 1.731769944,
                        "test": [
                          0.3427370768
                        ]
                      },
                      {
                        "learn": [
                          0.1698576947
                        ],
                        "iteration": 350,
                        "passed_time": 0.9376353407,
                        "remaining_time": 1.733690416,
                        "test": [
                          0.3425080578
                        ]
                      },
                      {
                        "learn": [
                          0.1694015667
                        ],
                        "iteration": 351,
                        "passed_time": 0.9405870198,
                        "remaining_time": 1.731535195,
                        "test": [
                          0.3422372348
                        ]
                      },
                      {
                        "learn": [
                          0.1690953214
                        ],
                        "iteration": 352,
                        "passed_time": 0.9442216453,
                        "remaining_time": 1.730627208,
                        "test": [
                          0.3422624755
                        ]
                      },
                      {
                        "learn": [
                          0.1687178255
                        ],
                        "iteration": 353,
                        "passed_time": 0.9488347424,
                        "remaining_time": 1.731489389,
                        "test": [
                          0.3420687872
                        ]
                      },
                      {
                        "learn": [
                          0.1679997705
                        ],
                        "iteration": 354,
                        "passed_time": 0.9512401406,
                        "remaining_time": 1.728309551,
                        "test": [
                          0.341518433
                        ]
                      },
                      {
                        "learn": [
                          0.1676309324
                        ],
                        "iteration": 355,
                        "passed_time": 0.9870276059,
                        "remaining_time": 1.785521849,
                        "test": [
                          0.341544853
                        ]
                      },
                      {
                        "learn": [
                          0.167158858
                        ],
                        "iteration": 356,
                        "passed_time": 0.9954421768,
                        "remaining_time": 1.79291126,
                        "test": [
                          0.3412208276
                        ]
                      },
                      {
                        "learn": [
                          0.1665701999
                        ],
                        "iteration": 357,
                        "passed_time": 0.99933008,
                        "remaining_time": 1.792094725,
                        "test": [
                          0.34059319
                        ]
                      },
                      {
                        "learn": [
                          0.1659655527
                        ],
                        "iteration": 358,
                        "passed_time": 1.005980055,
                        "remaining_time": 1.796192799,
                        "test": [
                          0.3403517652
                        ]
                      },
                      {
                        "learn": [
                          0.1654757774
                        ],
                        "iteration": 359,
                        "passed_time": 1.016170259,
                        "remaining_time": 1.806524905,
                        "test": [
                          0.3398292597
                        ]
                      },
                      {
                        "learn": [
                          0.1650284522
                        ],
                        "iteration": 360,
                        "passed_time": 1.019208895,
                        "remaining_time": 1.804084442,
                        "test": [
                          0.339516848
                        ]
                      },
                      {
                        "learn": [
                          0.1646219984
                        ],
                        "iteration": 361,
                        "passed_time": 1.023028205,
                        "remaining_time": 1.80301656,
                        "test": [
                          0.3393013693
                        ]
                      },
                      {
                        "learn": [
                          0.1641703476
                        ],
                        "iteration": 362,
                        "passed_time": 1.025973581,
                        "remaining_time": 1.80039992,
                        "test": [
                          0.3389885435
                        ]
                      },
                      {
                        "learn": [
                          0.1637790804
                        ],
                        "iteration": 363,
                        "passed_time": 1.028239872,
                        "remaining_time": 1.796594941,
                        "test": [
                          0.3387644179
                        ]
                      },
                      {
                        "learn": [
                          0.1634125653
                        ],
                        "iteration": 364,
                        "passed_time": 1.030533263,
                        "remaining_time": 1.792845539,
                        "test": [
                          0.3386260866
                        ]
                      },
                      {
                        "learn": [
                          0.1629331871
                        ],
                        "iteration": 365,
                        "passed_time": 1.034286636,
                        "remaining_time": 1.791633134,
                        "test": [
                          0.3380904098
                        ]
                      },
                      {
                        "learn": [
                          0.1628131723
                        ],
                        "iteration": 366,
                        "passed_time": 1.03657924,
                        "remaining_time": 1.787887353,
                        "test": [
                          0.3381682637
                        ]
                      },
                      {
                        "learn": [
                          0.1622340319
                        ],
                        "iteration": 367,
                        "passed_time": 1.039088707,
                        "remaining_time": 1.784521911,
                        "test": [
                          0.3377449591
                        ]
                      },
                      {
                        "learn": [
                          0.1615447414
                        ],
                        "iteration": 368,
                        "passed_time": 1.042330934,
                        "remaining_time": 1.782414145,
                        "test": [
                          0.3375520107
                        ]
                      },
                      {
                        "learn": [
                          0.1614532642
                        ],
                        "iteration": 369,
                        "passed_time": 1.044563803,
                        "remaining_time": 1.77858161,
                        "test": [
                          0.3376190985
                        ]
                      },
                      {
                        "learn": [
                          0.1611304933
                        ],
                        "iteration": 370,
                        "passed_time": 1.048216618,
                        "remaining_time": 1.777165102,
                        "test": [
                          0.3374986137
                        ]
                      },
                      {
                        "learn": [
                          0.1603637682
                        ],
                        "iteration": 371,
                        "passed_time": 1.05066674,
                        "remaining_time": 1.773706218,
                        "test": [
                          0.3371801824
                        ]
                      },
                      {
                        "learn": [
                          0.1602273842
                        ],
                        "iteration": 372,
                        "passed_time": 1.052939547,
                        "remaining_time": 1.76995468,
                        "test": [
                          0.3372693074
                        ]
                      },
                      {
                        "learn": [
                          0.1601253953
                        ],
                        "iteration": 373,
                        "passed_time": 1.055802511,
                        "remaining_time": 1.767198855,
                        "test": [
                          0.337324662
                        ]
                      },
                      {
                        "learn": [
                          0.1597993101
                        ],
                        "iteration": 374,
                        "passed_time": 1.059165268,
                        "remaining_time": 1.765275446,
                        "test": [
                          0.3372439606
                        ]
                      },
                      {
                        "learn": [
                          0.1597066519
                        ],
                        "iteration": 375,
                        "passed_time": 1.061408825,
                        "remaining_time": 1.761486987,
                        "test": [
                          0.3370433819
                        ]
                      },
                      {
                        "learn": [
                          0.1592926773
                        ],
                        "iteration": 376,
                        "passed_time": 1.063827851,
                        "remaining_time": 1.757996687,
                        "test": [
                          0.3368245311
                        ]
                      },
                      {
                        "learn": [
                          0.1588344628
                        ],
                        "iteration": 377,
                        "passed_time": 1.067736147,
                        "remaining_time": 1.756962655,
                        "test": [
                          0.3371661904
                        ]
                      },
                      {
                        "learn": [
                          0.1587159287
                        ],
                        "iteration": 378,
                        "passed_time": 1.07106969,
                        "remaining_time": 1.754971709,
                        "test": [
                          0.3372424713
                        ]
                      },
                      {
                        "learn": [
                          0.1584122229
                        ],
                        "iteration": 379,
                        "passed_time": 1.07352916,
                        "remaining_time": 1.751547577,
                        "test": [
                          0.3369578818
                        ]
                      },
                      {
                        "learn": [
                          0.1579597257
                        ],
                        "iteration": 380,
                        "passed_time": 1.076794634,
                        "remaining_time": 1.749438002,
                        "test": [
                          0.3358143063
                        ]
                      },
                      {
                        "learn": [
                          0.1573334825
                        ],
                        "iteration": 381,
                        "passed_time": 1.080111404,
                        "remaining_time": 1.74740536,
                        "test": [
                          0.335456849
                        ]
                      },
                      {
                        "learn": [
                          0.1569988894
                        ],
                        "iteration": 382,
                        "passed_time": 1.082795528,
                        "remaining_time": 1.744346842,
                        "test": [
                          0.3353380392
                        ]
                      },
                      {
                        "learn": [
                          0.156562538
                        ],
                        "iteration": 383,
                        "passed_time": 1.084999354,
                        "remaining_time": 1.740519797,
                        "test": [
                          0.3351469917
                        ]
                      },
                      {
                        "learn": [
                          0.1560450278
                        ],
                        "iteration": 384,
                        "passed_time": 1.087961944,
                        "remaining_time": 1.737913235,
                        "test": [
                          0.3347988604
                        ]
                      },
                      {
                        "learn": [
                          0.155671596
                        ],
                        "iteration": 385,
                        "passed_time": 1.09084245,
                        "remaining_time": 1.73517426,
                        "test": [
                          0.334853292
                        ]
                      },
                      {
                        "learn": [
                          0.1555760289
                        ],
                        "iteration": 386,
                        "passed_time": 1.094114847,
                        "remaining_time": 1.7330553,
                        "test": [
                          0.334827532
                        ]
                      },
                      {
                        "learn": [
                          0.1550204146
                        ],
                        "iteration": 387,
                        "passed_time": 1.096488475,
                        "remaining_time": 1.729512749,
                        "test": [
                          0.3346119059
                        ]
                      },
                      {
                        "learn": [
                          0.1541904694
                        ],
                        "iteration": 388,
                        "passed_time": 1.099035474,
                        "remaining_time": 1.726248521,
                        "test": [
                          0.3338344538
                        ]
                      },
                      {
                        "learn": [
                          0.1538921353
                        ],
                        "iteration": 389,
                        "passed_time": 1.102616034,
                        "remaining_time": 1.724604565,
                        "test": [
                          0.3335992249
                        ]
                      },
                      {
                        "learn": [
                          0.1536580832
                        ],
                        "iteration": 390,
                        "passed_time": 1.10485378,
                        "remaining_time": 1.720859212,
                        "test": [
                          0.3336249714
                        ]
                      },
                      {
                        "learn": [
                          0.1530906792
                        ],
                        "iteration": 391,
                        "passed_time": 1.107132016,
                        "remaining_time": 1.717184351,
                        "test": [
                          0.3332232965
                        ]
                      },
                      {
                        "learn": [
                          0.1525842696
                        ],
                        "iteration": 392,
                        "passed_time": 1.11203799,
                        "remaining_time": 1.717575216,
                        "test": [
                          0.333112557
                        ]
                      },
                      {
                        "learn": [
                          0.1522831321
                        ],
                        "iteration": 393,
                        "passed_time": 1.115759645,
                        "remaining_time": 1.716117626,
                        "test": [
                          0.3328814761
                        ]
                      },
                      {
                        "learn": [
                          0.1520284808
                        ],
                        "iteration": 394,
                        "passed_time": 1.123606632,
                        "remaining_time": 1.720967119,
                        "test": [
                          0.3327710765
                        ]
                      },
                      {
                        "learn": [
                          0.1519029873
                        ],
                        "iteration": 395,
                        "passed_time": 1.131288656,
                        "remaining_time": 1.725500879,
                        "test": [
                          0.3326094232
                        ]
                      },
                      {
                        "learn": [
                          0.1516130059
                        ],
                        "iteration": 396,
                        "passed_time": 1.139500074,
                        "remaining_time": 1.73077719,
                        "test": [
                          0.332403406
                        ]
                      },
                      {
                        "learn": [
                          0.151201813
                        ],
                        "iteration": 397,
                        "passed_time": 1.143355313,
                        "remaining_time": 1.729396729,
                        "test": [
                          0.3324130967
                        ]
                      },
                      {
                        "learn": [
                          0.1509023268
                        ],
                        "iteration": 398,
                        "passed_time": 1.152599343,
                        "remaining_time": 1.736120815,
                        "test": [
                          0.33224563
                        ]
                      },
                      {
                        "learn": [
                          0.1505330364
                        ],
                        "iteration": 399,
                        "passed_time": 1.161340862,
                        "remaining_time": 1.742011293,
                        "test": [
                          0.3314359844
                        ]
                      },
                      {
                        "learn": [
                          0.1501669822
                        ],
                        "iteration": 400,
                        "passed_time": 1.169238581,
                        "remaining_time": 1.746568354,
                        "test": [
                          0.3310572098
                        ]
                      },
                      {
                        "learn": [
                          0.1495006833
                        ],
                        "iteration": 401,
                        "passed_time": 1.173320988,
                        "remaining_time": 1.745387937,
                        "test": [
                          0.3306975987
                        ]
                      },
                      {
                        "learn": [
                          0.1490940043
                        ],
                        "iteration": 402,
                        "passed_time": 1.181512347,
                        "remaining_time": 1.750280077,
                        "test": [
                          0.3304808833
                        ]
                      },
                      {
                        "learn": [
                          0.1487771187
                        ],
                        "iteration": 403,
                        "passed_time": 1.190115996,
                        "remaining_time": 1.755715677,
                        "test": [
                          0.3303543915
                        ]
                      },
                      {
                        "learn": [
                          0.148526446
                        ],
                        "iteration": 404,
                        "passed_time": 1.192310092,
                        "remaining_time": 1.751665444,
                        "test": [
                          0.3303198286
                        ]
                      },
                      {
                        "learn": [
                          0.1482618196
                        ],
                        "iteration": 405,
                        "passed_time": 1.194720279,
                        "remaining_time": 1.747940507,
                        "test": [
                          0.3301250839
                        ]
                      },
                      {
                        "learn": [
                          0.1480287505
                        ],
                        "iteration": 406,
                        "passed_time": 1.196927837,
                        "remaining_time": 1.743926799,
                        "test": [
                          0.3299562191
                        ]
                      },
                      {
                        "learn": [
                          0.1476899963
                        ],
                        "iteration": 407,
                        "passed_time": 1.199198226,
                        "remaining_time": 1.740013112,
                        "test": [
                          0.329784517
                        ]
                      },
                      {
                        "learn": [
                          0.1466376778
                        ],
                        "iteration": 408,
                        "passed_time": 1.201524543,
                        "remaining_time": 1.736188277,
                        "test": [
                          0.3286822922
                        ]
                      },
                      {
                        "learn": [
                          0.1461279368
                        ],
                        "iteration": 409,
                        "passed_time": 1.203789871,
                        "remaining_time": 1.732282986,
                        "test": [
                          0.3282878724
                        ]
                      },
                      {
                        "learn": [
                          0.1456987595
                        ],
                        "iteration": 410,
                        "passed_time": 1.205967465,
                        "remaining_time": 1.728259944,
                        "test": [
                          0.3278071825
                        ]
                      },
                      {
                        "learn": [
                          0.1454956521
                        ],
                        "iteration": 411,
                        "passed_time": 1.208119703,
                        "remaining_time": 1.724209673,
                        "test": [
                          0.3279149223
                        ]
                      },
                      {
                        "learn": [
                          0.1453085781
                        ],
                        "iteration": 412,
                        "passed_time": 1.210326692,
                        "remaining_time": 1.720246412,
                        "test": [
                          0.3277304323
                        ]
                      },
                      {
                        "learn": [
                          0.1450078349
                        ],
                        "iteration": 413,
                        "passed_time": 1.212557879,
                        "remaining_time": 1.716325887,
                        "test": [
                          0.3275079401
                        ]
                      },
                      {
                        "learn": [
                          0.1446458101
                        ],
                        "iteration": 414,
                        "passed_time": 1.214854977,
                        "remaining_time": 1.712506414,
                        "test": [
                          0.3274133018
                        ]
                      },
                      {
                        "learn": [
                          0.144134602
                        ],
                        "iteration": 415,
                        "passed_time": 1.217078929,
                        "remaining_time": 1.708591574,
                        "test": [
                          0.3269050291
                        ]
                      },
                      {
                        "learn": [
                          0.1435737642
                        ],
                        "iteration": 416,
                        "passed_time": 1.219434984,
                        "remaining_time": 1.704869534,
                        "test": [
                          0.3266526137
                        ]
                      },
                      {
                        "learn": [
                          0.1431667797
                        ],
                        "iteration": 417,
                        "passed_time": 1.221605433,
                        "remaining_time": 1.700895603,
                        "test": [
                          0.3263950448
                        ]
                      },
                      {
                        "learn": [
                          0.1428852178
                        ],
                        "iteration": 418,
                        "passed_time": 1.223889493,
                        "remaining_time": 1.697087818,
                        "test": [
                          0.3262886649
                        ]
                      },
                      {
                        "learn": [
                          0.1424752986
                        ],
                        "iteration": 419,
                        "passed_time": 1.226151603,
                        "remaining_time": 1.693256976,
                        "test": [
                          0.325880016
                        ]
                      },
                      {
                        "learn": [
                          0.1421806338
                        ],
                        "iteration": 420,
                        "passed_time": 1.228467753,
                        "remaining_time": 1.689507907,
                        "test": [
                          0.3256814101
                        ]
                      },
                      {
                        "learn": [
                          0.1416218871
                        ],
                        "iteration": 421,
                        "passed_time": 1.230871134,
                        "remaining_time": 1.685885108,
                        "test": [
                          0.3253156556
                        ]
                      },
                      {
                        "learn": [
                          0.1413524004
                        ],
                        "iteration": 422,
                        "passed_time": 1.233100373,
                        "remaining_time": 1.682030532,
                        "test": [
                          0.3252116163
                        ]
                      },
                      {
                        "learn": [
                          0.1410906094
                        ],
                        "iteration": 423,
                        "passed_time": 1.235171525,
                        "remaining_time": 1.677968864,
                        "test": [
                          0.3251095274
                        ]
                      },
                      {
                        "learn": [
                          0.1406024979
                        ],
                        "iteration": 424,
                        "passed_time": 1.23745788,
                        "remaining_time": 1.67420772,
                        "test": [
                          0.3247683526
                        ]
                      },
                      {
                        "learn": [
                          0.1400586394
                        ],
                        "iteration": 425,
                        "passed_time": 1.239873806,
                        "remaining_time": 1.670628086,
                        "test": [
                          0.3246136084
                        ]
                      },
                      {
                        "learn": [
                          0.1397215194
                        ],
                        "iteration": 426,
                        "passed_time": 1.241991625,
                        "remaining_time": 1.666653867,
                        "test": [
                          0.3248400878
                        ]
                      },
                      {
                        "learn": [
                          0.1394138906
                        ],
                        "iteration": 427,
                        "passed_time": 1.244090541,
                        "remaining_time": 1.66266306,
                        "test": [
                          0.3244625676
                        ]
                      },
                      {
                        "learn": [
                          0.1391904374
                        ],
                        "iteration": 428,
                        "passed_time": 1.246325614,
                        "remaining_time": 1.658862298,
                        "test": [
                          0.3243770341
                        ]
                      },
                      {
                        "learn": [
                          0.1385200167
                        ],
                        "iteration": 429,
                        "passed_time": 1.248397255,
                        "remaining_time": 1.654852176,
                        "test": [
                          0.3237847861
                        ]
                      },
                      {
                        "learn": [
                          0.1382231089
                        ],
                        "iteration": 430,
                        "passed_time": 1.250728696,
                        "remaining_time": 1.651194032,
                        "test": [
                          0.3240747983
                        ]
                      },
                      {
                        "learn": [
                          0.1381828541
                        ],
                        "iteration": 431,
                        "passed_time": 1.252775629,
                        "remaining_time": 1.647167957,
                        "test": [
                          0.3240042692
                        ]
                      },
                      {
                        "learn": [
                          0.1381033592
                        ],
                        "iteration": 432,
                        "passed_time": 1.254944503,
                        "remaining_time": 1.643310701,
                        "test": [
                          0.3239686308
                        ]
                      },
                      {
                        "learn": [
                          0.1378705441
                        ],
                        "iteration": 433,
                        "passed_time": 1.257099893,
                        "remaining_time": 1.63944364,
                        "test": [
                          0.3238914887
                        ]
                      },
                      {
                        "learn": [
                          0.1371504109
                        ],
                        "iteration": 434,
                        "passed_time": 1.259282004,
                        "remaining_time": 1.635619154,
                        "test": [
                          0.3234885398
                        ]
                      },
                      {
                        "learn": [
                          0.137110599
                        ],
                        "iteration": 435,
                        "passed_time": 1.26134532,
                        "remaining_time": 1.631648534,
                        "test": [
                          0.3234531347
                        ]
                      },
                      {
                        "learn": [
                          0.1366890541
                        ],
                        "iteration": 436,
                        "passed_time": 1.263566985,
                        "remaining_time": 1.627890646,
                        "test": [
                          0.3232813184
                        ]
                      },
                      {
                        "learn": [
                          0.136388086
                        ],
                        "iteration": 437,
                        "passed_time": 1.265739402,
                        "remaining_time": 1.624076584,
                        "test": [
                          0.3230403559
                        ]
                      },
                      {
                        "learn": [
                          0.1360981387
                        ],
                        "iteration": 438,
                        "passed_time": 1.267914718,
                        "remaining_time": 1.620273706,
                        "test": [
                          0.3229272868
                        ]
                      },
                      {
                        "learn": [
                          0.1359083724
                        ],
                        "iteration": 439,
                        "passed_time": 1.27004493,
                        "remaining_time": 1.61642082,
                        "test": [
                          0.322672726
                        ]
                      },
                      {
                        "learn": [
                          0.1356260047
                        ],
                        "iteration": 440,
                        "passed_time": 1.272222776,
                        "remaining_time": 1.612636127,
                        "test": [
                          0.3224941482
                        ]
                      },
                      {
                        "learn": [
                          0.1353714991
                        ],
                        "iteration": 441,
                        "passed_time": 1.274508372,
                        "remaining_time": 1.608994732,
                        "test": [
                          0.3223039013
                        ]
                      },
                      {
                        "learn": [
                          0.1347548768
                        ],
                        "iteration": 442,
                        "passed_time": 1.276775152,
                        "remaining_time": 1.605335801,
                        "test": [
                          0.3219508971
                        ]
                      },
                      {
                        "learn": [
                          0.1343576421
                        ],
                        "iteration": 443,
                        "passed_time": 1.278962309,
                        "remaining_time": 1.601583432,
                        "test": [
                          0.3217321082
                        ]
                      },
                      {
                        "learn": [
                          0.1341487127
                        ],
                        "iteration": 444,
                        "passed_time": 1.281300912,
                        "remaining_time": 1.59802698,
                        "test": [
                          0.3215898718
                        ]
                      },
                      {
                        "learn": [
                          0.1339247442
                        ],
                        "iteration": 445,
                        "passed_time": 1.283546456,
                        "remaining_time": 1.594360395,
                        "test": [
                          0.3214231139
                        ]
                      },
                      {
                        "learn": [
                          0.1338951981
                        ],
                        "iteration": 446,
                        "passed_time": 1.285590313,
                        "remaining_time": 1.590450656,
                        "test": [
                          0.3214499251
                        ]
                      },
                      {
                        "learn": [
                          0.1337621344
                        ],
                        "iteration": 447,
                        "passed_time": 1.287801579,
                        "remaining_time": 1.586755516,
                        "test": [
                          0.3213144887
                        ]
                      },
                      {
                        "learn": [
                          0.1335524878
                        ],
                        "iteration": 448,
                        "passed_time": 1.289890452,
                        "remaining_time": 1.582916791,
                        "test": [
                          0.3213912267
                        ]
                      },
                      {
                        "learn": [
                          0.1331790539
                        ],
                        "iteration": 449,
                        "passed_time": 1.292173206,
                        "remaining_time": 1.579322807,
                        "test": [
                          0.3211688878
                        ]
                      },
                      {
                        "learn": [
                          0.132895605
                        ],
                        "iteration": 450,
                        "passed_time": 1.29445705,
                        "remaining_time": 1.575735965,
                        "test": [
                          0.320945605
                        ]
                      },
                      {
                        "learn": [
                          0.1326122206
                        ],
                        "iteration": 451,
                        "passed_time": 1.296837987,
                        "remaining_time": 1.572272604,
                        "test": [
                          0.3209001504
                        ]
                      },
                      {
                        "learn": [
                          0.1325683155
                        ],
                        "iteration": 452,
                        "passed_time": 1.298925236,
                        "remaining_time": 1.56845939,
                        "test": [
                          0.3208358789
                        ]
                      },
                      {
                        "learn": [
                          0.1320584619
                        ],
                        "iteration": 453,
                        "passed_time": 1.30135139,
                        "remaining_time": 1.565061363,
                        "test": [
                          0.3206229781
                        ]
                      },
                      {
                        "learn": [
                          0.1316602092
                        ],
                        "iteration": 454,
                        "passed_time": 1.303586322,
                        "remaining_time": 1.561438562,
                        "test": [
                          0.3202188705
                        ]
                      },
                      {
                        "learn": [
                          0.1314371189
                        ],
                        "iteration": 455,
                        "passed_time": 1.305742776,
                        "remaining_time": 1.557728224,
                        "test": [
                          0.3201477654
                        ]
                      },
                      {
                        "learn": [
                          0.1309045214
                        ],
                        "iteration": 456,
                        "passed_time": 1.308063079,
                        "remaining_time": 1.55421937,
                        "test": [
                          0.3198424299
                        ]
                      },
                      {
                        "learn": [
                          0.1306999442
                        ],
                        "iteration": 457,
                        "passed_time": 1.310280694,
                        "remaining_time": 1.550594184,
                        "test": [
                          0.31968769
                        ]
                      },
                      {
                        "learn": [
                          0.1301187539
                        ],
                        "iteration": 458,
                        "passed_time": 1.312552843,
                        "remaining_time": 1.547039408,
                        "test": [
                          0.3194794876
                        ]
                      },
                      {
                        "learn": [
                          0.129665333
                        ],
                        "iteration": 459,
                        "passed_time": 1.314881933,
                        "remaining_time": 1.543557052,
                        "test": [
                          0.3192735293
                        ]
                      },
                      {
                        "learn": [
                          0.129203558
                        ],
                        "iteration": 460,
                        "passed_time": 1.317281939,
                        "remaining_time": 1.540162614,
                        "test": [
                          0.3188387235
                        ]
                      },
                      {
                        "learn": [
                          0.1289862307
                        ],
                        "iteration": 461,
                        "passed_time": 1.319730168,
                        "remaining_time": 1.536828637,
                        "test": [
                          0.3187774107
                        ]
                      },
                      {
                        "learn": [
                          0.1285423661
                        ],
                        "iteration": 462,
                        "passed_time": 1.322021213,
                        "remaining_time": 1.53331618,
                        "test": [
                          0.3186160043
                        ]
                      },
                      {
                        "learn": [
                          0.1282472203
                        ],
                        "iteration": 463,
                        "passed_time": 1.324400423,
                        "remaining_time": 1.529910834,
                        "test": [
                          0.3187397835
                        ]
                      },
                      {
                        "learn": [
                          0.1278068167
                        ],
                        "iteration": 464,
                        "passed_time": 1.326669943,
                        "remaining_time": 1.526383698,
                        "test": [
                          0.3184308345
                        ]
                      },
                      {
                        "learn": [
                          0.1277192202
                        ],
                        "iteration": 465,
                        "passed_time": 1.328921176,
                        "remaining_time": 1.522841004,
                        "test": [
                          0.3183649202
                        ]
                      },
                      {
                        "learn": [
                          0.1275386591
                        ],
                        "iteration": 466,
                        "passed_time": 1.331192851,
                        "remaining_time": 1.519327173,
                        "test": [
                          0.3182639859
                        ]
                      },
                      {
                        "learn": [
                          0.1271161443
                        ],
                        "iteration": 467,
                        "passed_time": 1.33363098,
                        "remaining_time": 1.516007866,
                        "test": [
                          0.3181203293
                        ]
                      },
                      {
                        "learn": [
                          0.1269338785
                        ],
                        "iteration": 468,
                        "passed_time": 1.335793213,
                        "remaining_time": 1.512379948,
                        "test": [
                          0.3180159929
                        ]
                      },
                      {
                        "learn": [
                          0.1264930143
                        ],
                        "iteration": 469,
                        "passed_time": 1.338095013,
                        "remaining_time": 1.508915653,
                        "test": [
                          0.3179216073
                        ]
                      },
                      {
                        "learn": [
                          0.1261825538
                        ],
                        "iteration": 470,
                        "passed_time": 1.340269691,
                        "remaining_time": 1.505313517,
                        "test": [
                          0.3169880289
                        ]
                      },
                      {
                        "learn": [
                          0.1260638689
                        ],
                        "iteration": 471,
                        "passed_time": 1.34261987,
                        "remaining_time": 1.501913752,
                        "test": [
                          0.3168015691
                        ]
                      },
                      {
                        "learn": [
                          0.1258972431
                        ],
                        "iteration": 472,
                        "passed_time": 1.344785032,
                        "remaining_time": 1.498312287,
                        "test": [
                          0.3166797205
                        ]
                      },
                      {
                        "learn": [
                          0.1256250822
                        ],
                        "iteration": 473,
                        "passed_time": 1.346911127,
                        "remaining_time": 1.494673529,
                        "test": [
                          0.3164960229
                        ]
                      },
                      {
                        "learn": [
                          0.1252972956
                        ],
                        "iteration": 474,
                        "passed_time": 1.349074592,
                        "remaining_time": 1.491082444,
                        "test": [
                          0.3162619294
                        ]
                      },
                      {
                        "learn": [
                          0.125139913
                        ],
                        "iteration": 475,
                        "passed_time": 1.351589839,
                        "remaining_time": 1.487884613,
                        "test": [
                          0.3161853442
                        ]
                      },
                      {
                        "learn": [
                          0.1250303017
                        ],
                        "iteration": 476,
                        "passed_time": 1.353837423,
                        "remaining_time": 1.484396168,
                        "test": [
                          0.3161618665
                        ]
                      },
                      {
                        "learn": [
                          0.1247441436
                        ],
                        "iteration": 477,
                        "passed_time": 1.356241003,
                        "remaining_time": 1.481083271,
                        "test": [
                          0.3161415143
                        ]
                      },
                      {
                        "learn": [
                          0.1244120092
                        ],
                        "iteration": 478,
                        "passed_time": 1.358452635,
                        "remaining_time": 1.477565392,
                        "test": [
                          0.3159240057
                        ]
                      },
                      {
                        "learn": [
                          0.1241843242
                        ],
                        "iteration": 479,
                        "passed_time": 1.360831122,
                        "remaining_time": 1.474233715,
                        "test": [
                          0.3157854176
                        ]
                      },
                      {
                        "learn": [
                          0.1240435614
                        ],
                        "iteration": 480,
                        "passed_time": 1.363011004,
                        "remaining_time": 1.470691707,
                        "test": [
                          0.3158035435
                        ]
                      },
                      {
                        "learn": [
                          0.1238200598
                        ],
                        "iteration": 481,
                        "passed_time": 1.365404488,
                        "remaining_time": 1.467384906,
                        "test": [
                          0.3157564515
                        ]
                      },
                      {
                        "learn": [
                          0.1234707312
                        ],
                        "iteration": 482,
                        "passed_time": 1.367714198,
                        "remaining_time": 1.463992216,
                        "test": [
                          0.31556794
                        ]
                      },
                      {
                        "learn": [
                          0.1233098932
                        ],
                        "iteration": 483,
                        "passed_time": 1.36997934,
                        "remaining_time": 1.460556487,
                        "test": [
                          0.3155052193
                        ]
                      },
                      {
                        "learn": [
                          0.1230583395
                        ],
                        "iteration": 484,
                        "passed_time": 1.372310725,
                        "remaining_time": 1.457195925,
                        "test": [
                          0.3154293863
                        ]
                      },
                      {
                        "learn": [
                          0.1227130396
                        ],
                        "iteration": 485,
                        "passed_time": 1.37470789,
                        "remaining_time": 1.453909168,
                        "test": [
                          0.315181836
                        ]
                      },
                      {
                        "learn": [
                          0.1224878229
                        ],
                        "iteration": 486,
                        "passed_time": 1.377019507,
                        "remaining_time": 1.450535949,
                        "test": [
                          0.3150789738
                        ]
                      },
                      {
                        "learn": [
                          0.1223325054
                        ],
                        "iteration": 487,
                        "passed_time": 1.379263013,
                        "remaining_time": 1.44709562,
                        "test": [
                          0.315039615
                        ]
                      },
                      {
                        "learn": [
                          0.1222398723
                        ],
                        "iteration": 488,
                        "passed_time": 1.382865847,
                        "remaining_time": 1.445080671,
                        "test": [
                          0.3148783446
                        ]
                      },
                      {
                        "learn": [
                          0.1218457872
                        ],
                        "iteration": 489,
                        "passed_time": 1.385115003,
                        "remaining_time": 1.441650309,
                        "test": [
                          0.3147066945
                        ]
                      },
                      {
                        "learn": [
                          0.1215900467
                        ],
                        "iteration": 490,
                        "passed_time": 1.387332872,
                        "remaining_time": 1.438192326,
                        "test": [
                          0.3147120468
                        ]
                      },
                      {
                        "learn": [
                          0.1215132144
                        ],
                        "iteration": 491,
                        "passed_time": 1.389344376,
                        "remaining_time": 1.434526307,
                        "test": [
                          0.3146265265
                        ]
                      },
                      {
                        "learn": [
                          0.1212904566
                        ],
                        "iteration": 492,
                        "passed_time": 1.391431692,
                        "remaining_time": 1.430944965,
                        "test": [
                          0.3145289007
                        ]
                      },
                      {
                        "learn": [
                          0.1212414175
                        ],
                        "iteration": 493,
                        "passed_time": 1.393593823,
                        "remaining_time": 1.427446304,
                        "test": [
                          0.314507599
                        ]
                      },
                      {
                        "learn": [
                          0.1209119334
                        ],
                        "iteration": 494,
                        "passed_time": 1.395877391,
                        "remaining_time": 1.424076934,
                        "test": [
                          0.3143988507
                        ]
                      },
                      {
                        "learn": [
                          0.120664056
                        ],
                        "iteration": 495,
                        "passed_time": 1.398217224,
                        "remaining_time": 1.420769115,
                        "test": [
                          0.3143533852
                        ]
                      },
                      {
                        "learn": [
                          0.1205000367
                        ],
                        "iteration": 496,
                        "passed_time": 1.400843539,
                        "remaining_time": 1.417755131,
                        "test": [
                          0.3142603194
                        ]
                      },
                      {
                        "learn": [
                          0.120268644
                        ],
                        "iteration": 497,
                        "passed_time": 1.403210767,
                        "remaining_time": 1.414481536,
                        "test": [
                          0.3140306412
                        ]
                      },
                      {
                        "learn": [
                          0.1201187847
                        ],
                        "iteration": 498,
                        "passed_time": 1.405539438,
                        "remaining_time": 1.411172862,
                        "test": [
                          0.3139073523
                        ]
                      },
                      {
                        "learn": [
                          0.1198678398
                        ],
                        "iteration": 499,
                        "passed_time": 1.407812993,
                        "remaining_time": 1.407812993,
                        "test": [
                          0.3138504673
                        ]
                      },
                      {
                        "learn": [
                          0.1196069658
                        ],
                        "iteration": 500,
                        "passed_time": 1.41000601,
                        "remaining_time": 1.404377243,
                        "test": [
                          0.3137144597
                        ]
                      },
                      {
                        "learn": [
                          0.1191590351
                        ],
                        "iteration": 501,
                        "passed_time": 1.412304233,
                        "remaining_time": 1.401050813,
                        "test": [
                          0.3135621327
                        ]
                      },
                      {
                        "learn": [
                          0.119085834
                        ],
                        "iteration": 502,
                        "passed_time": 1.414410161,
                        "remaining_time": 1.397538469,
                        "test": [
                          0.3136289228
                        ]
                      },
                      {
                        "learn": [
                          0.1187430281
                        ],
                        "iteration": 503,
                        "passed_time": 1.416536016,
                        "remaining_time": 1.394051317,
                        "test": [
                          0.3133546368
                        ]
                      },
                      {
                        "learn": [
                          0.1184539807
                        ],
                        "iteration": 504,
                        "passed_time": 1.418680491,
                        "remaining_time": 1.390587808,
                        "test": [
                          0.3132599969
                        ]
                      },
                      {
                        "learn": [
                          0.1183774071
                        ],
                        "iteration": 505,
                        "passed_time": 1.421051005,
                        "remaining_time": 1.38735019,
                        "test": [
                          0.3131868428
                        ]
                      },
                      {
                        "learn": [
                          0.1182911035
                        ],
                        "iteration": 506,
                        "passed_time": 1.423158857,
                        "remaining_time": 1.383860584,
                        "test": [
                          0.3130907508
                        ]
                      },
                      {
                        "learn": [
                          0.1178885741
                        ],
                        "iteration": 507,
                        "passed_time": 1.425311409,
                        "remaining_time": 1.380419711,
                        "test": [
                          0.3128495857
                        ]
                      },
                      {
                        "learn": [
                          0.1176287316
                        ],
                        "iteration": 508,
                        "passed_time": 1.427569028,
                        "remaining_time": 1.377085251,
                        "test": [
                          0.3127660965
                        ]
                      },
                      {
                        "learn": [
                          0.1173253366
                        ],
                        "iteration": 509,
                        "passed_time": 1.429971332,
                        "remaining_time": 1.373894025,
                        "test": [
                          0.312593688
                        ]
                      },
                      {
                        "learn": [
                          0.1169589134
                        ],
                        "iteration": 510,
                        "passed_time": 1.432328241,
                        "remaining_time": 1.370662446,
                        "test": [
                          0.3124339644
                        ]
                      },
                      {
                        "learn": [
                          0.1166915672
                        ],
                        "iteration": 511,
                        "passed_time": 1.434659723,
                        "remaining_time": 1.367410049,
                        "test": [
                          0.312367437
                        ]
                      },
                      {
                        "learn": [
                          0.1164864869
                        ],
                        "iteration": 512,
                        "passed_time": 1.437047139,
                        "remaining_time": 1.36421434,
                        "test": [
                          0.3123874656
                        ]
                      },
                      {
                        "learn": [
                          0.1162208006
                        ],
                        "iteration": 513,
                        "passed_time": 1.441422528,
                        "remaining_time": 1.362901456,
                        "test": [
                          0.3122278563
                        ]
                      },
                      {
                        "learn": [
                          0.1160632668
                        ],
                        "iteration": 514,
                        "passed_time": 1.444605491,
                        "remaining_time": 1.360453715,
                        "test": [
                          0.3124047825
                        ]
                      },
                      {
                        "learn": [
                          0.1158491576
                        ],
                        "iteration": 515,
                        "passed_time": 1.447757032,
                        "remaining_time": 1.35797365,
                        "test": [
                          0.3123938166
                        ]
                      },
                      {
                        "learn": [
                          0.1155524222
                        ],
                        "iteration": 516,
                        "passed_time": 1.451716896,
                        "remaining_time": 1.356246153,
                        "test": [
                          0.3124510457
                        ]
                      },
                      {
                        "learn": [
                          0.1152066439
                        ],
                        "iteration": 517,
                        "passed_time": 1.455282656,
                        "remaining_time": 1.35414332,
                        "test": [
                          0.3123173034
                        ]
                      },
                      {
                        "learn": [
                          0.1149961569
                        ],
                        "iteration": 518,
                        "passed_time": 1.459092294,
                        "remaining_time": 1.352260874,
                        "test": [
                          0.3122832367
                        ]
                      },
                      {
                        "learn": [
                          0.1147442241
                        ],
                        "iteration": 519,
                        "passed_time": 1.461547435,
                        "remaining_time": 1.349120709,
                        "test": [
                          0.312136148
                        ]
                      },
                      {
                        "learn": [
                          0.1143856868
                        ],
                        "iteration": 520,
                        "passed_time": 1.463879816,
                        "remaining_time": 1.345870311,
                        "test": [
                          0.3110226192
                        ]
                      },
                      {
                        "learn": [
                          0.1140000021
                        ],
                        "iteration": 521,
                        "passed_time": 1.466276589,
                        "remaining_time": 1.342682394,
                        "test": [
                          0.3107791679
                        ]
                      },
                      {
                        "learn": [
                          0.1138648562
                        ],
                        "iteration": 522,
                        "passed_time": 1.468469344,
                        "remaining_time": 1.339311429,
                        "test": [
                          0.3106204346
                        ]
                      },
                      {
                        "learn": [
                          0.1137241614
                        ],
                        "iteration": 523,
                        "passed_time": 1.47074028,
                        "remaining_time": 1.336015979,
                        "test": [
                          0.3105597187
                        ]
                      },
                      {
                        "learn": [
                          0.1135849294
                        ],
                        "iteration": 524,
                        "passed_time": 1.472921026,
                        "remaining_time": 1.332642833,
                        "test": [
                          0.310557345
                        ]
                      },
                      {
                        "learn": [
                          0.1133892639
                        ],
                        "iteration": 525,
                        "passed_time": 1.474982192,
                        "remaining_time": 1.329166462,
                        "test": [
                          0.3105610441
                        ]
                      },
                      {
                        "learn": [
                          0.1132666948
                        ],
                        "iteration": 526,
                        "passed_time": 1.477159428,
                        "remaining_time": 1.325799638,
                        "test": [
                          0.3105199488
                        ]
                      },
                      {
                        "learn": [
                          0.1129431809
                        ],
                        "iteration": 527,
                        "passed_time": 1.479569636,
                        "remaining_time": 1.322645583,
                        "test": [
                          0.3101415077
                        ]
                      },
                      {
                        "learn": [
                          0.1127387165
                        ],
                        "iteration": 528,
                        "passed_time": 1.481986639,
                        "remaining_time": 1.319500391,
                        "test": [
                          0.3100673761
                        ]
                      },
                      {
                        "learn": [
                          0.112471392
                        ],
                        "iteration": 529,
                        "passed_time": 1.484216862,
                        "remaining_time": 1.316192311,
                        "test": [
                          0.3100613181
                        ]
                      },
                      {
                        "learn": [
                          0.1122540192
                        ],
                        "iteration": 530,
                        "passed_time": 1.486385125,
                        "remaining_time": 1.312833566,
                        "test": [
                          0.3100151248
                        ]
                      },
                      {
                        "learn": [
                          0.1118852872
                        ],
                        "iteration": 531,
                        "passed_time": 1.48859394,
                        "remaining_time": 1.30951497,
                        "test": [
                          0.3099302087
                        ]
                      },
                      {
                        "learn": [
                          0.1115412074
                        ],
                        "iteration": 532,
                        "passed_time": 1.490780671,
                        "remaining_time": 1.306181189,
                        "test": [
                          0.3097241093
                        ]
                      },
                      {
                        "learn": [
                          0.111379458
                        ],
                        "iteration": 533,
                        "passed_time": 1.493318278,
                        "remaining_time": 1.303157898,
                        "test": [
                          0.3096270245
                        ]
                      },
                      {
                        "learn": [
                          0.1110564596
                        ],
                        "iteration": 534,
                        "passed_time": 1.495495599,
                        "remaining_time": 1.299823278,
                        "test": [
                          0.3095055252
                        ]
                      },
                      {
                        "learn": [
                          0.1107810214
                        ],
                        "iteration": 535,
                        "passed_time": 1.497699282,
                        "remaining_time": 1.296515797,
                        "test": [
                          0.3093479537
                        ]
                      },
                      {
                        "learn": [
                          0.1106715264
                        ],
                        "iteration": 536,
                        "passed_time": 1.499869861,
                        "remaining_time": 1.293183884,
                        "test": [
                          0.3092698557
                        ]
                      },
                      {
                        "learn": [
                          0.1102055935
                        ],
                        "iteration": 537,
                        "passed_time": 1.502290137,
                        "remaining_time": 1.290070712,
                        "test": [
                          0.3088386345
                        ]
                      },
                      {
                        "learn": [
                          0.1100344435
                        ],
                        "iteration": 538,
                        "passed_time": 1.504430126,
                        "remaining_time": 1.286720386,
                        "test": [
                          0.3086853426
                        ]
                      },
                      {
                        "learn": [
                          0.1097436941
                        ],
                        "iteration": 539,
                        "passed_time": 1.506747625,
                        "remaining_time": 1.283525755,
                        "test": [
                          0.3077188267
                        ]
                      },
                      {
                        "learn": [
                          0.1094884018
                        ],
                        "iteration": 540,
                        "passed_time": 1.5091545,
                        "remaining_time": 1.280410195,
                        "test": [
                          0.3077454616
                        ]
                      },
                      {
                        "learn": [
                          0.1092300555
                        ],
                        "iteration": 541,
                        "passed_time": 1.511648028,
                        "remaining_time": 1.277370473,
                        "test": [
                          0.3075799481
                        ]
                      },
                      {
                        "learn": [
                          0.1090632569
                        ],
                        "iteration": 542,
                        "passed_time": 1.513977305,
                        "remaining_time": 1.274194528,
                        "test": [
                          0.3075021751
                        ]
                      },
                      {
                        "learn": [
                          0.1088677795
                        ],
                        "iteration": 543,
                        "passed_time": 1.516260136,
                        "remaining_time": 1.270982761,
                        "test": [
                          0.3075133911
                        ]
                      },
                      {
                        "learn": [
                          0.1084326205
                        ],
                        "iteration": 544,
                        "passed_time": 1.518646437,
                        "remaining_time": 1.267860787,
                        "test": [
                          0.3074971907
                        ]
                      },
                      {
                        "learn": [
                          0.108246037
                        ],
                        "iteration": 545,
                        "passed_time": 1.520761165,
                        "remaining_time": 1.264515694,
                        "test": [
                          0.3074632768
                        ]
                      },
                      {
                        "learn": [
                          0.1080066982
                        ],
                        "iteration": 546,
                        "passed_time": 1.523053445,
                        "remaining_time": 1.26132214,
                        "test": [
                          0.3073386476
                        ]
                      },
                      {
                        "learn": [
                          0.1079043185
                        ],
                        "iteration": 547,
                        "passed_time": 1.525295082,
                        "remaining_time": 1.258090104,
                        "test": [
                          0.307271781
                        ]
                      },
                      {
                        "learn": [
                          0.1076395572
                        ],
                        "iteration": 548,
                        "passed_time": 1.527579414,
                        "remaining_time": 1.25489675,
                        "test": [
                          0.3072064478
                        ]
                      },
                      {
                        "learn": [
                          0.1074106799
                        ],
                        "iteration": 549,
                        "passed_time": 1.529817101,
                        "remaining_time": 1.251668537,
                        "test": [
                          0.3071494883
                        ]
                      },
                      {
                        "learn": [
                          0.1072475163
                        ],
                        "iteration": 550,
                        "passed_time": 1.532137861,
                        "remaining_time": 1.248511614,
                        "test": [
                          0.3070995658
                        ]
                      },
                      {
                        "learn": [
                          0.1070261559
                        ],
                        "iteration": 551,
                        "passed_time": 1.534219315,
                        "remaining_time": 1.245163502,
                        "test": [
                          0.30699832
                        ]
                      },
                      {
                        "learn": [
                          0.1067919814
                        ],
                        "iteration": 552,
                        "passed_time": 1.536520707,
                        "remaining_time": 1.24199775,
                        "test": [
                          0.3067171216
                        ]
                      },
                      {
                        "learn": [
                          0.1065260133
                        ],
                        "iteration": 553,
                        "passed_time": 1.538852119,
                        "remaining_time": 1.238859287,
                        "test": [
                          0.3066648781
                        ]
                      },
                      {
                        "learn": [
                          0.1060592713
                        ],
                        "iteration": 554,
                        "passed_time": 1.541219354,
                        "remaining_time": 1.235752455,
                        "test": [
                          0.3064387758
                        ]
                      },
                      {
                        "learn": [
                          0.1056255944
                        ],
                        "iteration": 555,
                        "passed_time": 1.543571976,
                        "remaining_time": 1.232636614,
                        "test": [
                          0.3062355871
                        ]
                      },
                      {
                        "learn": [
                          0.105501513
                        ],
                        "iteration": 556,
                        "passed_time": 1.545755353,
                        "remaining_time": 1.229388907,
                        "test": [
                          0.306229301
                        ]
                      },
                      {
                        "learn": [
                          0.1053298734
                        ],
                        "iteration": 557,
                        "passed_time": 1.548048005,
                        "remaining_time": 1.226231574,
                        "test": [
                          0.3062005626
                        ]
                      },
                      {
                        "learn": [
                          0.1050910355
                        ],
                        "iteration": 558,
                        "passed_time": 1.550422664,
                        "remaining_time": 1.22314203,
                        "test": [
                          0.3061099121
                        ]
                      },
                      {
                        "learn": [
                          0.1049593827
                        ],
                        "iteration": 559,
                        "passed_time": 1.552666083,
                        "remaining_time": 1.219951922,
                        "test": [
                          0.3060143147
                        ]
                      },
                      {
                        "learn": [
                          0.1047296879
                        ],
                        "iteration": 560,
                        "passed_time": 1.558802487,
                        "remaining_time": 1.219811572,
                        "test": [
                          0.3058398567
                        ]
                      },
                      {
                        "learn": [
                          0.1043374396
                        ],
                        "iteration": 561,
                        "passed_time": 1.562684052,
                        "remaining_time": 1.217892553,
                        "test": [
                          0.3054783566
                        ]
                      },
                      {
                        "learn": [
                          0.1042763334
                        ],
                        "iteration": 562,
                        "passed_time": 1.566191858,
                        "remaining_time": 1.215676451,
                        "test": [
                          0.3054451511
                        ]
                      },
                      {
                        "learn": [
                          0.1041432773
                        ],
                        "iteration": 563,
                        "passed_time": 1.569570552,
                        "remaining_time": 1.213355959,
                        "test": [
                          0.3053815198
                        ]
                      },
                      {
                        "learn": [
                          0.1039587636
                        ],
                        "iteration": 564,
                        "passed_time": 1.572241595,
                        "remaining_time": 1.210486892,
                        "test": [
                          0.3053453912
                        ]
                      },
                      {
                        "learn": [
                          0.1037813829
                        ],
                        "iteration": 565,
                        "passed_time": 1.574435385,
                        "remaining_time": 1.207252574,
                        "test": [
                          0.3052607343
                        ]
                      },
                      {
                        "learn": [
                          0.1037575013
                        ],
                        "iteration": 566,
                        "passed_time": 1.576483259,
                        "remaining_time": 1.203910496,
                        "test": [
                          0.3052514552
                        ]
                      },
                      {
                        "learn": [
                          0.1036070727
                        ],
                        "iteration": 567,
                        "passed_time": 1.578629983,
                        "remaining_time": 1.200648156,
                        "test": [
                          0.3052811206
                        ]
                      },
                      {
                        "learn": [
                          0.1033883656
                        ],
                        "iteration": 568,
                        "passed_time": 1.580907007,
                        "remaining_time": 1.197488436,
                        "test": [
                          0.3047345159
                        ]
                      },
                      {
                        "learn": [
                          0.1032636928
                        ],
                        "iteration": 569,
                        "passed_time": 1.582937577,
                        "remaining_time": 1.194145892,
                        "test": [
                          0.304724558
                        ]
                      },
                      {
                        "learn": [
                          0.1030908196
                        ],
                        "iteration": 570,
                        "passed_time": 1.584954556,
                        "remaining_time": 1.190797731,
                        "test": [
                          0.3046321546
                        ]
                      },
                      {
                        "learn": [
                          0.102910581
                        ],
                        "iteration": 571,
                        "passed_time": 1.587298702,
                        "remaining_time": 1.187699029,
                        "test": [
                          0.3045496062
                        ]
                      },
                      {
                        "learn": [
                          0.1026505252
                        ],
                        "iteration": 572,
                        "passed_time": 1.589460034,
                        "remaining_time": 1.184466727,
                        "test": [
                          0.3043871986
                        ]
                      },
                      {
                        "learn": [
                          0.1026063536
                        ],
                        "iteration": 573,
                        "passed_time": 1.59171586,
                        "remaining_time": 1.181308286,
                        "test": [
                          0.3044287695
                        ]
                      },
                      {
                        "learn": [
                          0.1024072695
                        ],
                        "iteration": 574,
                        "passed_time": 1.594112841,
                        "remaining_time": 1.178257317,
                        "test": [
                          0.3043401925
                        ]
                      },
                      {
                        "learn": [
                          0.1022248037
                        ],
                        "iteration": 575,
                        "passed_time": 1.596280075,
                        "remaining_time": 1.1750395,
                        "test": [
                          0.3043306097
                        ]
                      },
                      {
                        "learn": [
                          0.1019876905
                        ],
                        "iteration": 576,
                        "passed_time": 1.598768813,
                        "remaining_time": 1.172061019,
                        "test": [
                          0.3041372014
                        ]
                      },
                      {
                        "learn": [
                          0.1018421424
                        ],
                        "iteration": 577,
                        "passed_time": 1.60127264,
                        "remaining_time": 1.169095249,
                        "test": [
                          0.3039190397
                        ]
                      },
                      {
                        "learn": [
                          0.1016129781
                        ],
                        "iteration": 578,
                        "passed_time": 1.603495826,
                        "remaining_time": 1.165927017,
                        "test": [
                          0.3038428714
                        ]
                      },
                      {
                        "learn": [
                          0.1013807328
                        ],
                        "iteration": 579,
                        "passed_time": 1.605777557,
                        "remaining_time": 1.162804438,
                        "test": [
                          0.3037193669
                        ]
                      },
                      {
                        "learn": [
                          0.1012221637
                        ],
                        "iteration": 580,
                        "passed_time": 1.608292983,
                        "remaining_time": 1.159853287,
                        "test": [
                          0.3035327773
                        ]
                      },
                      {
                        "learn": [
                          0.1011251921
                        ],
                        "iteration": 581,
                        "passed_time": 1.610463789,
                        "remaining_time": 1.156656124,
                        "test": [
                          0.3035414673
                        ]
                      },
                      {
                        "learn": [
                          0.100864043
                        ],
                        "iteration": 582,
                        "passed_time": 1.612948762,
                        "remaining_time": 1.153687193,
                        "test": [
                          0.3033842269
                        ]
                      },
                      {
                        "learn": [
                          0.1006436699
                        ],
                        "iteration": 583,
                        "passed_time": 1.615187277,
                        "remaining_time": 1.150544361,
                        "test": [
                          0.303311759
                        ]
                      },
                      {
                        "learn": [
                          0.1005160608
                        ],
                        "iteration": 584,
                        "passed_time": 1.617465045,
                        "remaining_time": 1.147432468,
                        "test": [
                          0.3032396614
                        ]
                      },
                      {
                        "learn": [
                          0.1002067629
                        ],
                        "iteration": 585,
                        "passed_time": 1.619791946,
                        "remaining_time": 1.144358133,
                        "test": [
                          0.3032455206
                        ]
                      },
                      {
                        "learn": [
                          0.1000749734
                        ],
                        "iteration": 586,
                        "passed_time": 1.622193289,
                        "remaining_time": 1.141338719,
                        "test": [
                          0.3032015237
                        ]
                      },
                      {
                        "learn": [
                          0.09994756595
                        ],
                        "iteration": 587,
                        "passed_time": 1.624354491,
                        "remaining_time": 1.138153147,
                        "test": [
                          0.3031940843
                        ]
                      },
                      {
                        "learn": [
                          0.09974991955
                        ],
                        "iteration": 588,
                        "passed_time": 1.626949818,
                        "remaining_time": 1.135273982,
                        "test": [
                          0.3031209434
                        ]
                      },
                      {
                        "learn": [
                          0.09957771523
                        ],
                        "iteration": 589,
                        "passed_time": 1.629710292,
                        "remaining_time": 1.132510542,
                        "test": [
                          0.303019045
                        ]
                      },
                      {
                        "learn": [
                          0.09947227511
                        ],
                        "iteration": 590,
                        "passed_time": 1.63204289,
                        "remaining_time": 1.129451002,
                        "test": [
                          0.3029713957
                        ]
                      },
                      {
                        "learn": [
                          0.09928527463
                        ],
                        "iteration": 591,
                        "passed_time": 1.634398007,
                        "remaining_time": 1.126409437,
                        "test": [
                          0.3029973773
                        ]
                      },
                      {
                        "learn": [
                          0.09918230901
                        ],
                        "iteration": 592,
                        "passed_time": 1.63677951,
                        "remaining_time": 1.123388298,
                        "test": [
                          0.3029864058
                        ]
                      },
                      {
                        "learn": [
                          0.09891915499
                        ],
                        "iteration": 593,
                        "passed_time": 1.639166415,
                        "remaining_time": 1.120373004,
                        "test": [
                          0.3029326467
                        ]
                      },
                      {
                        "learn": [
                          0.09870210529
                        ],
                        "iteration": 594,
                        "passed_time": 1.641379487,
                        "remaining_time": 1.1172415,
                        "test": [
                          0.3028254106
                        ]
                      },
                      {
                        "learn": [
                          0.09853072075
                        ],
                        "iteration": 595,
                        "passed_time": 1.64373381,
                        "remaining_time": 1.114208824,
                        "test": [
                          0.3028450043
                        ]
                      },
                      {
                        "learn": [
                          0.09831232026
                        ],
                        "iteration": 596,
                        "passed_time": 1.64611987,
                        "remaining_time": 1.111199845,
                        "test": [
                          0.302766397
                        ]
                      },
                      {
                        "learn": [
                          0.09820943041
                        ],
                        "iteration": 597,
                        "passed_time": 1.648575032,
                        "remaining_time": 1.108239403,
                        "test": [
                          0.3027347346
                        ]
                      },
                      {
                        "learn": [
                          0.09810989717
                        ],
                        "iteration": 598,
                        "passed_time": 1.650715354,
                        "remaining_time": 1.105069878,
                        "test": [
                          0.3027581751
                        ]
                      },
                      {
                        "learn": [
                          0.09792186599
                        ],
                        "iteration": 599,
                        "passed_time": 1.652897737,
                        "remaining_time": 1.101931825,
                        "test": [
                          0.3026711312
                        ]
                      },
                      {
                        "learn": [
                          0.09775323015
                        ],
                        "iteration": 600,
                        "passed_time": 1.655299886,
                        "remaining_time": 1.098942853,
                        "test": [
                          0.302650838
                        ]
                      },
                      {
                        "learn": [
                          0.09759086459
                        ],
                        "iteration": 601,
                        "passed_time": 1.657749287,
                        "remaining_time": 1.09598707,
                        "test": [
                          0.3025779513
                        ]
                      },
                      {
                        "learn": [
                          0.09734248719
                        ],
                        "iteration": 602,
                        "passed_time": 1.659993747,
                        "remaining_time": 1.092898039,
                        "test": [
                          0.3023312015
                        ]
                      },
                      {
                        "learn": [
                          0.09710135758
                        ],
                        "iteration": 603,
                        "passed_time": 1.662111291,
                        "remaining_time": 1.089728595,
                        "test": [
                          0.3022632598
                        ]
                      },
                      {
                        "learn": [
                          0.09702365918
                        ],
                        "iteration": 604,
                        "passed_time": 1.66426356,
                        "remaining_time": 1.0865853,
                        "test": [
                          0.3022198987
                        ]
                      },
                      {
                        "learn": [
                          0.09682225605
                        ],
                        "iteration": 605,
                        "passed_time": 1.666482703,
                        "remaining_time": 1.083488754,
                        "test": [
                          0.3021272399
                        ]
                      },
                      {
                        "learn": [
                          0.09648294129
                        ],
                        "iteration": 606,
                        "passed_time": 1.66893406,
                        "remaining_time": 1.080545446,
                        "test": [
                          0.3018018948
                        ]
                      },
                      {
                        "learn": [
                          0.09644087099
                        ],
                        "iteration": 607,
                        "passed_time": 1.670945602,
                        "remaining_time": 1.077320191,
                        "test": [
                          0.3017886983
                        ]
                      },
                      {
                        "learn": [
                          0.09640149331
                        ],
                        "iteration": 608,
                        "passed_time": 1.672975839,
                        "remaining_time": 1.074110924,
                        "test": [
                          0.301756986
                        ]
                      },
                      {
                        "learn": [
                          0.09623520172
                        ],
                        "iteration": 609,
                        "passed_time": 1.675168433,
                        "remaining_time": 1.071009326,
                        "test": [
                          0.3017831398
                        ]
                      },
                      {
                        "learn": [
                          0.09610004981
                        ],
                        "iteration": 610,
                        "passed_time": 1.677420484,
                        "remaining_time": 1.067948557,
                        "test": [
                          0.301781182
                        ]
                      },
                      {
                        "learn": [
                          0.09597642142
                        ],
                        "iteration": 611,
                        "passed_time": 1.679691854,
                        "remaining_time": 1.064902679,
                        "test": [
                          0.3017434621
                        ]
                      },
                      {
                        "learn": [
                          0.09589635235
                        ],
                        "iteration": 612,
                        "passed_time": 1.681845312,
                        "remaining_time": 1.061784887,
                        "test": [
                          0.3017331622
                        ]
                      },
                      {
                        "learn": [
                          0.09573908116
                        ],
                        "iteration": 613,
                        "passed_time": 1.684103804,
                        "remaining_time": 1.058736267,
                        "test": [
                          0.3013688869
                        ]
                      },
                      {
                        "learn": [
                          0.09559443044
                        ],
                        "iteration": 614,
                        "passed_time": 1.687310446,
                        "remaining_time": 1.056283775,
                        "test": [
                          0.301287594
                        ]
                      },
                      {
                        "learn": [
                          0.09531135416
                        ],
                        "iteration": 615,
                        "passed_time": 1.691439565,
                        "remaining_time": 1.054403885,
                        "test": [
                          0.3009083241
                        ]
                      },
                      {
                        "learn": [
                          0.09505432674
                        ],
                        "iteration": 616,
                        "passed_time": 1.694055682,
                        "remaining_time": 1.051577514,
                        "test": [
                          0.3008380453
                        ]
                      },
                      {
                        "learn": [
                          0.0949724208
                        ],
                        "iteration": 617,
                        "passed_time": 1.696699071,
                        "remaining_time": 1.048768681,
                        "test": [
                          0.3008099827
                        ]
                      },
                      {
                        "learn": [
                          0.0948587512
                        ],
                        "iteration": 618,
                        "passed_time": 1.699239833,
                        "remaining_time": 1.045897216,
                        "test": [
                          0.3007747241
                        ]
                      },
                      {
                        "learn": [
                          0.09473680756
                        ],
                        "iteration": 619,
                        "passed_time": 1.701780109,
                        "remaining_time": 1.043026519,
                        "test": [
                          0.3006991188
                        ]
                      },
                      {
                        "learn": [
                          0.09463803249
                        ],
                        "iteration": 620,
                        "passed_time": 1.704128157,
                        "remaining_time": 1.040039568,
                        "test": [
                          0.3006642406
                        ]
                      },
                      {
                        "learn": [
                          0.09453268328
                        ],
                        "iteration": 621,
                        "passed_time": 1.706444401,
                        "remaining_time": 1.037035343,
                        "test": [
                          0.3006516629
                        ]
                      },
                      {
                        "learn": [
                          0.09444373282
                        ],
                        "iteration": 622,
                        "passed_time": 1.710140215,
                        "remaining_time": 1.034868155,
                        "test": [
                          0.3006240729
                        ]
                      },
                      {
                        "learn": [
                          0.09404765388
                        ],
                        "iteration": 623,
                        "passed_time": 1.712555443,
                        "remaining_time": 1.031924434,
                        "test": [
                          0.3004959654
                        ]
                      },
                      {
                        "learn": [
                          0.09387516232
                        ],
                        "iteration": 624,
                        "passed_time": 1.714854339,
                        "remaining_time": 1.028912603,
                        "test": [
                          0.3000535961
                        ]
                      },
                      {
                        "learn": [
                          0.09378015951
                        ],
                        "iteration": 625,
                        "passed_time": 1.717206131,
                        "remaining_time": 1.025934653,
                        "test": [
                          0.3000009839
                        ]
                      },
                      {
                        "learn": [
                          0.09363508232
                        ],
                        "iteration": 626,
                        "passed_time": 1.719387231,
                        "remaining_time": 1.022857157,
                        "test": [
                          0.299882065
                        ]
                      },
                      {
                        "learn": [
                          0.09354854203
                        ],
                        "iteration": 627,
                        "passed_time": 1.721677751,
                        "remaining_time": 1.01984733,
                        "test": [
                          0.2998553339
                        ]
                      },
                      {
                        "learn": [
                          0.09333005871
                        ],
                        "iteration": 628,
                        "passed_time": 1.724180663,
                        "remaining_time": 1.016965065,
                        "test": [
                          0.2997181419
                        ]
                      },
                      {
                        "learn": [
                          0.09312706576
                        ],
                        "iteration": 629,
                        "passed_time": 1.726447675,
                        "remaining_time": 1.01394546,
                        "test": [
                          0.2992252905
                        ]
                      },
                      {
                        "learn": [
                          0.09305832394
                        ],
                        "iteration": 630,
                        "passed_time": 1.729025514,
                        "remaining_time": 1.011110007,
                        "test": [
                          0.2992019502
                        ]
                      },
                      {
                        "learn": [
                          0.09297506183
                        ],
                        "iteration": 631,
                        "passed_time": 1.731323508,
                        "remaining_time": 1.008112422,
                        "test": [
                          0.2991076509
                        ]
                      },
                      {
                        "learn": [
                          0.09292976387
                        ],
                        "iteration": 632,
                        "passed_time": 1.733448712,
                        "remaining_time": 1.005016868,
                        "test": [
                          0.299063082
                        ]
                      },
                      {
                        "learn": [
                          0.09287959927
                        ],
                        "iteration": 633,
                        "passed_time": 1.735733733,
                        "remaining_time": 1.002016635,
                        "test": [
                          0.2989981708
                        ]
                      },
                      {
                        "learn": [
                          0.09280203338
                        ],
                        "iteration": 634,
                        "passed_time": 1.737832946,
                        "remaining_time": 0.9989118506,
                        "test": [
                          0.2989427206
                        ]
                      },
                      {
                        "learn": [
                          0.09276401397
                        ],
                        "iteration": 635,
                        "passed_time": 1.740057982,
                        "remaining_time": 0.9958822411,
                        "test": [
                          0.2988968783
                        ]
                      },
                      {
                        "learn": [
                          0.09272838764
                        ],
                        "iteration": 636,
                        "passed_time": 1.742128918,
                        "remaining_time": 0.9927673425,
                        "test": [
                          0.2988506654
                        ]
                      },
                      {
                        "learn": [
                          0.09252407048
                        ],
                        "iteration": 637,
                        "passed_time": 1.74438199,
                        "remaining_time": 0.9897590603,
                        "test": [
                          0.2983465162
                        ]
                      },
                      {
                        "learn": [
                          0.09242204198
                        ],
                        "iteration": 638,
                        "passed_time": 1.746422521,
                        "remaining_time": 0.9866330674,
                        "test": [
                          0.2982866266
                        ]
                      },
                      {
                        "learn": [
                          0.09238135804
                        ],
                        "iteration": 639,
                        "passed_time": 1.7498113,
                        "remaining_time": 0.9842688561,
                        "test": [
                          0.2982244024
                        ]
                      },
                      {
                        "learn": [
                          0.09234354552
                        ],
                        "iteration": 640,
                        "passed_time": 1.752265263,
                        "remaining_time": 0.9813778931,
                        "test": [
                          0.2981634721
                        ]
                      },
                      {
                        "learn": [
                          0.0921614309
                        ],
                        "iteration": 641,
                        "passed_time": 1.754491886,
                        "remaining_time": 0.978361519,
                        "test": [
                          0.298041234
                        ]
                      },
                      {
                        "learn": [
                          0.09209897542
                        ],
                        "iteration": 642,
                        "passed_time": 1.756589776,
                        "remaining_time": 0.9752761277,
                        "test": [
                          0.2979841208
                        ]
                      },
                      {
                        "learn": [
                          0.09204357153
                        ],
                        "iteration": 643,
                        "passed_time": 1.758915238,
                        "remaining_time": 0.9723196037,
                        "test": [
                          0.297928045
                        ]
                      },
                      {
                        "learn": [
                          0.09195215559
                        ],
                        "iteration": 644,
                        "passed_time": 1.761258031,
                        "remaining_time": 0.9693745754,
                        "test": [
                          0.2977438875
                        ]
                      },
                      {
                        "learn": [
                          0.09168150275
                        ],
                        "iteration": 645,
                        "passed_time": 1.76372879,
                        "remaining_time": 0.9665015348,
                        "test": [
                          0.2976217777
                        ]
                      },
                      {
                        "learn": [
                          0.09155668384
                        ],
                        "iteration": 646,
                        "passed_time": 1.76611643,
                        "remaining_time": 0.963584389,
                        "test": [
                          0.2975772975
                        ]
                      },
                      {
                        "learn": [
                          0.091474119
                        ],
                        "iteration": 647,
                        "passed_time": 1.7683122,
                        "remaining_time": 0.960564652,
                        "test": [
                          0.2974029122
                        ]
                      },
                      {
                        "learn": [
                          0.09123840105
                        ],
                        "iteration": 648,
                        "passed_time": 1.770356374,
                        "remaining_time": 0.9574654659,
                        "test": [
                          0.2973549144
                        ]
                      },
                      {
                        "learn": [
                          0.09104788623
                        ],
                        "iteration": 649,
                        "passed_time": 1.772665942,
                        "remaining_time": 0.9545124303,
                        "test": [
                          0.2974174846
                        ]
                      },
                      {
                        "learn": [
                          0.09100477235
                        ],
                        "iteration": 650,
                        "passed_time": 1.774774649,
                        "remaining_time": 0.9514536903,
                        "test": [
                          0.2974274266
                        ]
                      },
                      {
                        "learn": [
                          0.09083923537
                        ],
                        "iteration": 651,
                        "passed_time": 1.777114632,
                        "remaining_time": 0.9485213065,
                        "test": [
                          0.2973750493
                        ]
                      },
                      {
                        "learn": [
                          0.09050341019
                        ],
                        "iteration": 652,
                        "passed_time": 1.779489392,
                        "remaining_time": 0.9456092174,
                        "test": [
                          0.2972757552
                        ]
                      },
                      {
                        "learn": [
                          0.09028225575
                        ],
                        "iteration": 653,
                        "passed_time": 1.781718872,
                        "remaining_time": 0.9426219111,
                        "test": [
                          0.297176125
                        ]
                      },
                      {
                        "learn": [
                          0.09005058083
                        ],
                        "iteration": 654,
                        "passed_time": 1.783900816,
                        "remaining_time": 0.93961188,
                        "test": [
                          0.2970638385
                        ]
                      },
                      {
                        "learn": [
                          0.08978382739
                        ],
                        "iteration": 655,
                        "passed_time": 1.786242434,
                        "remaining_time": 0.9366881055,
                        "test": [
                          0.296969471
                        ]
                      },
                      {
                        "learn": [
                          0.08959543377
                        ],
                        "iteration": 656,
                        "passed_time": 1.788664833,
                        "remaining_time": 0.9338082766,
                        "test": [
                          0.2968950237
                        ]
                      },
                      {
                        "learn": [
                          0.08932020559
                        ],
                        "iteration": 657,
                        "passed_time": 1.791128766,
                        "remaining_time": 0.9309514253,
                        "test": [
                          0.2968150731
                        ]
                      },
                      {
                        "learn": [
                          0.08923823877
                        ],
                        "iteration": 658,
                        "passed_time": 1.793357981,
                        "remaining_time": 0.927974312,
                        "test": [
                          0.2968136954
                        ]
                      },
                      {
                        "learn": [
                          0.08907137178
                        ],
                        "iteration": 659,
                        "passed_time": 1.79561104,
                        "remaining_time": 0.9250117481,
                        "test": [
                          0.2967770097
                        ]
                      },
                      {
                        "learn": [
                          0.0889034393
                        ],
                        "iteration": 660,
                        "passed_time": 1.797829257,
                        "remaining_time": 0.9220334615,
                        "test": [
                          0.2967336425
                        ]
                      },
                      {
                        "learn": [
                          0.0888232899
                        ],
                        "iteration": 661,
                        "passed_time": 1.800259894,
                        "remaining_time": 0.919165928,
                        "test": [
                          0.2967260093
                        ]
                      },
                      {
                        "learn": [
                          0.08872713803
                        ],
                        "iteration": 662,
                        "passed_time": 1.80250955,
                        "remaining_time": 0.9162077199,
                        "test": [
                          0.2966249566
                        ]
                      },
                      {
                        "learn": [
                          0.0885355201
                        ],
                        "iteration": 663,
                        "passed_time": 1.80479502,
                        "remaining_time": 0.9132697689,
                        "test": [
                          0.2965483349
                        ]
                      },
                      {
                        "learn": [
                          0.08821043382
                        ],
                        "iteration": 664,
                        "passed_time": 1.807115366,
                        "remaining_time": 0.9103513498,
                        "test": [
                          0.2963474214
                        ]
                      },
                      {
                        "learn": [
                          0.08807730498
                        ],
                        "iteration": 665,
                        "passed_time": 1.809487756,
                        "remaining_time": 0.9074608268,
                        "test": [
                          0.2963031417
                        ]
                      },
                      {
                        "learn": [
                          0.08793372294
                        ],
                        "iteration": 666,
                        "passed_time": 1.811908773,
                        "remaining_time": 0.9045961343,
                        "test": [
                          0.2962626594
                        ]
                      },
                      {
                        "learn": [
                          0.08778208147
                        ],
                        "iteration": 667,
                        "passed_time": 1.814268191,
                        "remaining_time": 0.901702155,
                        "test": [
                          0.296187164
                        ]
                      },
                      {
                        "learn": [
                          0.08768358234
                        ],
                        "iteration": 668,
                        "passed_time": 1.816465944,
                        "remaining_time": 0.8987297871,
                        "test": [
                          0.2961894845
                        ]
                      },
                      {
                        "learn": [
                          0.08762406106
                        ],
                        "iteration": 669,
                        "passed_time": 1.818780264,
                        "remaining_time": 0.8958171449,
                        "test": [
                          0.2962535936
                        ]
                      },
                      {
                        "learn": [
                          0.08759466356
                        ],
                        "iteration": 670,
                        "passed_time": 1.82087015,
                        "remaining_time": 0.8927962434,
                        "test": [
                          0.2962453507
                        ]
                      },
                      {
                        "learn": [
                          0.08748814165
                        ],
                        "iteration": 671,
                        "passed_time": 1.823353335,
                        "remaining_time": 0.88997008,
                        "test": [
                          0.2962068433
                        ]
                      },
                      {
                        "learn": [
                          0.08734422895
                        ],
                        "iteration": 672,
                        "passed_time": 1.825791858,
                        "remaining_time": 0.8871232355,
                        "test": [
                          0.2961272674
                        ]
                      },
                      {
                        "learn": [
                          0.08728851688
                        ],
                        "iteration": 673,
                        "passed_time": 1.827982558,
                        "remaining_time": 0.8841577357,
                        "test": [
                          0.2959893953
                        ]
                      },
                      {
                        "learn": [
                          0.08714604587
                        ],
                        "iteration": 674,
                        "passed_time": 1.830357623,
                        "remaining_time": 0.8812833001,
                        "test": [
                          0.2958035945
                        ]
                      },
                      {
                        "learn": [
                          0.08708048554
                        ],
                        "iteration": 675,
                        "passed_time": 1.832533068,
                        "remaining_time": 0.8783146658,
                        "test": [
                          0.2958028344
                        ]
                      },
                      {
                        "learn": [
                          0.0869682602
                        ],
                        "iteration": 676,
                        "passed_time": 1.834839579,
                        "remaining_time": 0.8754109072,
                        "test": [
                          0.2957503705
                        ]
                      },
                      {
                        "learn": [
                          0.08686690181
                        ],
                        "iteration": 677,
                        "passed_time": 1.837024259,
                        "remaining_time": 0.8724510493,
                        "test": [
                          0.2957264596
                        ]
                      },
                      {
                        "learn": [
                          0.08666483787
                        ],
                        "iteration": 678,
                        "passed_time": 1.839185209,
                        "remaining_time": 0.8694822562,
                        "test": [
                          0.2956220594
                        ]
                      },
                      {
                        "learn": [
                          0.08660256175
                        ],
                        "iteration": 679,
                        "passed_time": 1.841279312,
                        "remaining_time": 0.8664843823,
                        "test": [
                          0.2955772976
                        ]
                      },
                      {
                        "learn": [
                          0.08646160019
                        ],
                        "iteration": 680,
                        "passed_time": 1.843467563,
                        "remaining_time": 0.8635332637,
                        "test": [
                          0.2955890034
                        ]
                      },
                      {
                        "learn": [
                          0.08632661528
                        ],
                        "iteration": 681,
                        "passed_time": 1.845654428,
                        "remaining_time": 0.8605837364,
                        "test": [
                          0.2955134953
                        ]
                      },
                      {
                        "learn": [
                          0.08604471132
                        ],
                        "iteration": 682,
                        "passed_time": 1.847869877,
                        "remaining_time": 0.8576497085,
                        "test": [
                          0.2952343366
                        ]
                      },
                      {
                        "learn": [
                          0.08589872591
                        ],
                        "iteration": 683,
                        "passed_time": 1.850109467,
                        "remaining_time": 0.8547289348,
                        "test": [
                          0.2951621646
                        ]
                      },
                      {
                        "learn": [
                          0.08578182747
                        ],
                        "iteration": 684,
                        "passed_time": 1.852423792,
                        "remaining_time": 0.8518445175,
                        "test": [
                          0.2950959916
                        ]
                      },
                      {
                        "learn": [
                          0.08546955909
                        ],
                        "iteration": 685,
                        "passed_time": 1.854633735,
                        "remaining_time": 0.8489139837,
                        "test": [
                          0.2950524666
                        ]
                      },
                      {
                        "learn": [
                          0.08534205462
                        ],
                        "iteration": 686,
                        "passed_time": 1.8567264,
                        "remaining_time": 0.8459321154,
                        "test": [
                          0.2950220614
                        ]
                      },
                      {
                        "learn": [
                          0.08518381687
                        ],
                        "iteration": 687,
                        "passed_time": 1.858954481,
                        "remaining_time": 0.8430142413,
                        "test": [
                          0.2949867714
                        ]
                      },
                      {
                        "learn": [
                          0.08513199168
                        ],
                        "iteration": 688,
                        "passed_time": 1.861178645,
                        "remaining_time": 0.8400966018,
                        "test": [
                          0.2949806454
                        ]
                      },
                      {
                        "learn": [
                          0.08494096217
                        ],
                        "iteration": 689,
                        "passed_time": 1.863521227,
                        "remaining_time": 0.8372341744,
                        "test": [
                          0.2949739545
                        ]
                      },
                      {
                        "learn": [
                          0.08490124978
                        ],
                        "iteration": 690,
                        "passed_time": 1.865902984,
                        "remaining_time": 0.8343907699,
                        "test": [
                          0.2949700752
                        ]
                      },
                      {
                        "learn": [
                          0.08482569858
                        ],
                        "iteration": 691,
                        "passed_time": 1.868226052,
                        "remaining_time": 0.8315225781,
                        "test": [
                          0.2949485507
                        ]
                      },
                      {
                        "learn": [
                          0.08481324381
                        ],
                        "iteration": 692,
                        "passed_time": 1.870543473,
                        "remaining_time": 0.8286534576,
                        "test": [
                          0.294964398
                        ]
                      },
                      {
                        "learn": [
                          0.08469753389
                        ],
                        "iteration": 693,
                        "passed_time": 1.873487521,
                        "remaining_time": 0.8260622211,
                        "test": [
                          0.2950476937
                        ]
                      },
                      {
                        "learn": [
                          0.08450159053
                        ],
                        "iteration": 694,
                        "passed_time": 1.875912301,
                        "remaining_time": 0.8232420891,
                        "test": [
                          0.2950128251
                        ]
                      },
                      {
                        "learn": [
                          0.0843676955
                        ],
                        "iteration": 695,
                        "passed_time": 1.878374101,
                        "remaining_time": 0.8204392626,
                        "test": [
                          0.2950259961
                        ]
                      },
                      {
                        "learn": [
                          0.08425782281
                        ],
                        "iteration": 696,
                        "passed_time": 1.880659275,
                        "remaining_time": 0.8175606319,
                        "test": [
                          0.2950100075
                        ]
                      },
                      {
                        "learn": [
                          0.08424369064
                        ],
                        "iteration": 697,
                        "passed_time": 1.882731975,
                        "remaining_time": 0.8145917715,
                        "test": [
                          0.2950029966
                        ]
                      },
                      {
                        "learn": [
                          0.08415372536
                        ],
                        "iteration": 698,
                        "passed_time": 1.885097418,
                        "remaining_time": 0.8117515347,
                        "test": [
                          0.2949679837
                        ]
                      },
                      {
                        "learn": [
                          0.08404818857
                        ],
                        "iteration": 699,
                        "passed_time": 1.887672596,
                        "remaining_time": 0.8090025412,
                        "test": [
                          0.294930572
                        ]
                      },
                      {
                        "learn": [
                          0.08397705956
                        ],
                        "iteration": 700,
                        "passed_time": 1.889901178,
                        "remaining_time": 0.8061062084,
                        "test": [
                          0.2949322379
                        ]
                      },
                      {
                        "learn": [
                          0.08390884747
                        ],
                        "iteration": 701,
                        "passed_time": 1.891983365,
                        "remaining_time": 0.8031496335,
                        "test": [
                          0.2948926219
                        ]
                      },
                      {
                        "learn": [
                          0.08375861662
                        ],
                        "iteration": 702,
                        "passed_time": 1.894455708,
                        "remaining_time": 0.8003603773,
                        "test": [
                          0.2948236728
                        ]
                      },
                      {
                        "learn": [
                          0.08364113774
                        ],
                        "iteration": 703,
                        "passed_time": 1.896867,
                        "remaining_time": 0.7975463522,
                        "test": [
                          0.2947700582
                        ]
                      },
                      {
                        "learn": [
                          0.08352074954
                        ],
                        "iteration": 704,
                        "passed_time": 1.899010189,
                        "remaining_time": 0.7946212847,
                        "test": [
                          0.2947504306
                        ]
                      },
                      {
                        "learn": [
                          0.08344303928
                        ],
                        "iteration": 705,
                        "passed_time": 1.901191534,
                        "remaining_time": 0.7917143216,
                        "test": [
                          0.2947479809
                        ]
                      },
                      {
                        "learn": [
                          0.08332648938
                        ],
                        "iteration": 706,
                        "passed_time": 1.903631727,
                        "remaining_time": 0.7889166844,
                        "test": [
                          0.2947283721
                        ]
                      },
                      {
                        "learn": [
                          0.08309177604
                        ],
                        "iteration": 707,
                        "passed_time": 1.906147489,
                        "remaining_time": 0.7861512243,
                        "test": [
                          0.2946650448
                        ]
                      },
                      {
                        "learn": [
                          0.08299546889
                        ],
                        "iteration": 708,
                        "passed_time": 1.910298557,
                        "remaining_time": 0.7840576587,
                        "test": [
                          0.2945801721
                        ]
                      },
                      {
                        "learn": [
                          0.08293536606
                        ],
                        "iteration": 709,
                        "passed_time": 1.913688433,
                        "remaining_time": 0.7816473881,
                        "test": [
                          0.2945112378
                        ]
                      },
                      {
                        "learn": [
                          0.08286710728
                        ],
                        "iteration": 710,
                        "passed_time": 1.920201472,
                        "remaining_time": 0.780503833,
                        "test": [
                          0.2944770028
                        ]
                      },
                      {
                        "learn": [
                          0.08279931115
                        ],
                        "iteration": 711,
                        "passed_time": 1.923844245,
                        "remaining_time": 0.7781841892,
                        "test": [
                          0.2945335552
                        ]
                      },
                      {
                        "learn": [
                          0.08275284105
                        ],
                        "iteration": 712,
                        "passed_time": 1.929073834,
                        "remaining_time": 0.7764995657,
                        "test": [
                          0.2945081168
                        ]
                      },
                      {
                        "learn": [
                          0.08270510224
                        ],
                        "iteration": 713,
                        "passed_time": 1.931309499,
                        "remaining_time": 0.7736057658,
                        "test": [
                          0.2944689674
                        ]
                      },
                      {
                        "learn": [
                          0.08257279574
                        ],
                        "iteration": 714,
                        "passed_time": 1.933602495,
                        "remaining_time": 0.770736659,
                        "test": [
                          0.29442212
                        ]
                      },
                      {
                        "learn": [
                          0.08246646513
                        ],
                        "iteration": 715,
                        "passed_time": 1.935746221,
                        "remaining_time": 0.7678099537,
                        "test": [
                          0.2943570052
                        ]
                      },
                      {
                        "learn": [
                          0.08229014463
                        ],
                        "iteration": 716,
                        "passed_time": 1.938177638,
                        "remaining_time": 0.764998984,
                        "test": [
                          0.294188709
                        ]
                      },
                      {
                        "learn": [
                          0.08226883153
                        ],
                        "iteration": 717,
                        "passed_time": 1.940294962,
                        "remaining_time": 0.7620657093,
                        "test": [
                          0.2941766692
                        ]
                      },
                      {
                        "learn": [
                          0.08224774053
                        ],
                        "iteration": 718,
                        "passed_time": 1.942378395,
                        "remaining_time": 0.759121459,
                        "test": [
                          0.2941234484
                        ]
                      },
                      {
                        "learn": [
                          0.08219326163
                        ],
                        "iteration": 719,
                        "passed_time": 1.976650294,
                        "remaining_time": 0.7686973367,
                        "test": [
                          0.2940855778
                        ]
                      },
                      {
                        "learn": [
                          0.08211318847
                        ],
                        "iteration": 720,
                        "passed_time": 1.981287939,
                        "remaining_time": 0.7666842372,
                        "test": [
                          0.2940407125
                        ]
                      },
                      {
                        "learn": [
                          0.08205889526
                        ],
                        "iteration": 721,
                        "passed_time": 1.989763555,
                        "remaining_time": 0.7661416457,
                        "test": [
                          0.2940641736
                        ]
                      },
                      {
                        "learn": [
                          0.08202992095
                        ],
                        "iteration": 722,
                        "passed_time": 1.993232353,
                        "remaining_time": 0.7636588682,
                        "test": [
                          0.2940417301
                        ]
                      },
                      {
                        "learn": [
                          0.08201976823
                        ],
                        "iteration": 723,
                        "passed_time": 2.004097271,
                        "remaining_time": 0.7639928824,
                        "test": [
                          0.2940438167
                        ]
                      },
                      {
                        "learn": [
                          0.08194544769
                        ],
                        "iteration": 724,
                        "passed_time": 2.012075875,
                        "remaining_time": 0.7632011938,
                        "test": [
                          0.2939945766
                        ]
                      },
                      {
                        "learn": [
                          0.08194462627
                        ],
                        "iteration": 725,
                        "passed_time": 2.014096564,
                        "remaining_time": 0.7601411273,
                        "test": [
                          0.2939900193
                        ]
                      },
                      {
                        "learn": [
                          0.08190003973
                        ],
                        "iteration": 726,
                        "passed_time": 2.016413115,
                        "remaining_time": 0.7571950212,
                        "test": [
                          0.2939459862
                        ]
                      },
                      {
                        "learn": [
                          0.08168447034
                        ],
                        "iteration": 727,
                        "passed_time": 2.018642366,
                        "remaining_time": 0.7542180267,
                        "test": [
                          0.2938599831
                        ]
                      },
                      {
                        "learn": [
                          0.08163816655
                        ],
                        "iteration": 728,
                        "passed_time": 2.020940258,
                        "remaining_time": 0.7512686008,
                        "test": [
                          0.2938388993
                        ]
                      },
                      {
                        "learn": [
                          0.08151576077
                        ],
                        "iteration": 729,
                        "passed_time": 2.02348019,
                        "remaining_time": 0.7484104811,
                        "test": [
                          0.2938520362
                        ]
                      },
                      {
                        "learn": [
                          0.08150579119
                        ],
                        "iteration": 730,
                        "passed_time": 2.025643378,
                        "remaining_time": 0.7454145945,
                        "test": [
                          0.2938437033
                        ]
                      },
                      {
                        "learn": [
                          0.0813644144
                        ],
                        "iteration": 731,
                        "passed_time": 2.027905416,
                        "remaining_time": 0.7424571743,
                        "test": [
                          0.2938287715
                        ]
                      },
                      {
                        "learn": [
                          0.08131095444
                        ],
                        "iteration": 732,
                        "passed_time": 2.030277544,
                        "remaining_time": 0.7395417519,
                        "test": [
                          0.2938300951
                        ]
                      },
                      {
                        "learn": [
                          0.08113018246
                        ],
                        "iteration": 733,
                        "passed_time": 2.032557869,
                        "remaining_time": 0.7365945409,
                        "test": [
                          0.2937687461
                        ]
                      },
                      {
                        "learn": [
                          0.08101809128
                        ],
                        "iteration": 734,
                        "passed_time": 2.034776968,
                        "remaining_time": 0.7336270702,
                        "test": [
                          0.2937580845
                        ]
                      },
                      {
                        "learn": [
                          0.08089438561
                        ],
                        "iteration": 735,
                        "passed_time": 2.036914179,
                        "remaining_time": 0.73063226,
                        "test": [
                          0.2937146001
                        ]
                      },
                      {
                        "learn": [
                          0.08074685182
                        ],
                        "iteration": 736,
                        "passed_time": 2.039291211,
                        "remaining_time": 0.7277253576,
                        "test": [
                          0.2937336573
                        ]
                      },
                      {
                        "learn": [
                          0.08070573307
                        ],
                        "iteration": 737,
                        "passed_time": 2.041537757,
                        "remaining_time": 0.7247735669,
                        "test": [
                          0.2936938457
                        ]
                      },
                      {
                        "learn": [
                          0.08069359277
                        ],
                        "iteration": 738,
                        "passed_time": 2.043507501,
                        "remaining_time": 0.7217259239,
                        "test": [
                          0.2936910618
                        ]
                      },
                      {
                        "learn": [
                          0.08056951491
                        ],
                        "iteration": 739,
                        "passed_time": 2.045976255,
                        "remaining_time": 0.7188565222,
                        "test": [
                          0.2936751127
                        ]
                      },
                      {
                        "learn": [
                          0.08039942085
                        ],
                        "iteration": 740,
                        "passed_time": 2.050549704,
                        "remaining_time": 0.7167238507,
                        "test": [
                          0.2935893917
                        ]
                      },
                      {
                        "learn": [
                          0.0802870209
                        ],
                        "iteration": 741,
                        "passed_time": 2.057948655,
                        "remaining_time": 0.7155670527,
                        "test": [
                          0.2935770911
                        ]
                      },
                      {
                        "learn": [
                          0.08013093037
                        ],
                        "iteration": 742,
                        "passed_time": 2.06030286,
                        "remaining_time": 0.7126484992,
                        "test": [
                          0.2933772567
                        ]
                      },
                      {
                        "learn": [
                          0.08002720399
                        ],
                        "iteration": 743,
                        "passed_time": 2.062604639,
                        "remaining_time": 0.7097134242,
                        "test": [
                          0.293273919
                        ]
                      },
                      {
                        "learn": [
                          0.07988115522
                        ],
                        "iteration": 744,
                        "passed_time": 2.0648744,
                        "remaining_time": 0.70676909,
                        "test": [
                          0.2932814915
                        ]
                      },
                      {
                        "learn": [
                          0.07974968545
                        ],
                        "iteration": 745,
                        "passed_time": 2.067169802,
                        "remaining_time": 0.7038352946,
                        "test": [
                          0.2932676197
                        ]
                      },
                      {
                        "learn": [
                          0.07957999648
                        ],
                        "iteration": 746,
                        "passed_time": 2.069427251,
                        "remaining_time": 0.7008903542,
                        "test": [
                          0.2932065575
                        ]
                      },
                      {
                        "learn": [
                          0.07939781806
                        ],
                        "iteration": 747,
                        "passed_time": 2.071724151,
                        "remaining_time": 0.6979605429,
                        "test": [
                          0.2931689554
                        ]
                      },
                      {
                        "learn": [
                          0.07920906784
                        ],
                        "iteration": 748,
                        "passed_time": 2.073968558,
                        "remaining_time": 0.6950148305,
                        "test": [
                          0.2931314225
                        ]
                      },
                      {
                        "learn": [
                          0.07909274622
                        ],
                        "iteration": 749,
                        "passed_time": 2.07633076,
                        "remaining_time": 0.6921102534,
                        "test": [
                          0.2929812685
                        ]
                      },
                      {
                        "learn": [
                          0.0788695468
                        ],
                        "iteration": 750,
                        "passed_time": 2.078471548,
                        "remaining_time": 0.689133709,
                        "test": [
                          0.2929150095
                        ]
                      },
                      {
                        "learn": [
                          0.07880339777
                        ],
                        "iteration": 751,
                        "passed_time": 2.080610802,
                        "remaining_time": 0.6861588815,
                        "test": [
                          0.2928969656
                        ]
                      },
                      {
                        "learn": [
                          0.07867510788
                        ],
                        "iteration": 752,
                        "passed_time": 2.082717964,
                        "remaining_time": 0.6831757466,
                        "test": [
                          0.2928826852
                        ]
                      },
                      {
                        "learn": [
                          0.07852786661
                        ],
                        "iteration": 753,
                        "passed_time": 2.085383866,
                        "remaining_time": 0.6803772295,
                        "test": [
                          0.2928354225
                        ]
                      },
                      {
                        "learn": [
                          0.07846952088
                        ],
                        "iteration": 754,
                        "passed_time": 2.087778586,
                        "remaining_time": 0.6774910644,
                        "test": [
                          0.2927073649
                        ]
                      },
                      {
                        "learn": [
                          0.07831610264
                        ],
                        "iteration": 755,
                        "passed_time": 2.090005691,
                        "remaining_time": 0.6745521015,
                        "test": [
                          0.2926777627
                        ]
                      },
                      {
                        "learn": [
                          0.07823039989
                        ],
                        "iteration": 756,
                        "passed_time": 2.092162305,
                        "remaining_time": 0.6715923912,
                        "test": [
                          0.2925362676
                        ]
                      },
                      {
                        "learn": [
                          0.07817548401
                        ],
                        "iteration": 757,
                        "passed_time": 2.09430423,
                        "remaining_time": 0.6686301105,
                        "test": [
                          0.2925313936
                        ]
                      },
                      {
                        "learn": [
                          0.07799188944
                        ],
                        "iteration": 758,
                        "passed_time": 2.096616254,
                        "remaining_time": 0.6657240015,
                        "test": [
                          0.2924315776
                        ]
                      },
                      {
                        "learn": [
                          0.07784788471
                        ],
                        "iteration": 759,
                        "passed_time": 2.099044649,
                        "remaining_time": 0.6628562051,
                        "test": [
                          0.2924791855
                        ]
                      },
                      {
                        "learn": [
                          0.07778718472
                        ],
                        "iteration": 760,
                        "passed_time": 2.101321495,
                        "remaining_time": 0.6599419676,
                        "test": [
                          0.292454715
                        ]
                      },
                      {
                        "learn": [
                          0.07769424139
                        ],
                        "iteration": 761,
                        "passed_time": 2.103768745,
                        "remaining_time": 0.6570826264,
                        "test": [
                          0.292418237
                        ]
                      },
                      {
                        "learn": [
                          0.0776541624
                        ],
                        "iteration": 762,
                        "passed_time": 2.106207308,
                        "remaining_time": 0.6542216671,
                        "test": [
                          0.2924197307
                        ]
                      },
                      {
                        "learn": [
                          0.07755136493
                        ],
                        "iteration": 763,
                        "passed_time": 2.108534548,
                        "remaining_time": 0.6513274259,
                        "test": [
                          0.2924126959
                        ]
                      },
                      {
                        "learn": [
                          0.07745401155
                        ],
                        "iteration": 764,
                        "passed_time": 2.110741895,
                        "remaining_time": 0.6483978372,
                        "test": [
                          0.2922534557
                        ]
                      },
                      {
                        "learn": [
                          0.07734621343
                        ],
                        "iteration": 765,
                        "passed_time": 2.113324147,
                        "remaining_time": 0.6455846612,
                        "test": [
                          0.292233986
                        ]
                      },
                      {
                        "learn": [
                          0.07722870801
                        ],
                        "iteration": 766,
                        "passed_time": 2.115547063,
                        "remaining_time": 0.6426629277,
                        "test": [
                          0.2921496656
                        ]
                      },
                      {
                        "learn": [
                          0.07705354373
                        ],
                        "iteration": 767,
                        "passed_time": 2.118339514,
                        "remaining_time": 0.6399150615,
                        "test": [
                          0.2921038748
                        ]
                      },
                      {
                        "learn": [
                          0.07694091279
                        ],
                        "iteration": 768,
                        "passed_time": 2.120718274,
                        "remaining_time": 0.6370428105,
                        "test": [
                          0.2920674536
                        ]
                      },
                      {
                        "learn": [
                          0.07680377585
                        ],
                        "iteration": 769,
                        "passed_time": 2.122962525,
                        "remaining_time": 0.6341316633,
                        "test": [
                          0.2919991512
                        ]
                      },
                      {
                        "learn": [
                          0.07669309561
                        ],
                        "iteration": 770,
                        "passed_time": 2.125390555,
                        "remaining_time": 0.6312768314,
                        "test": [
                          0.2919822881
                        ]
                      },
                      {
                        "learn": [
                          0.07647298598
                        ],
                        "iteration": 771,
                        "passed_time": 2.127702033,
                        "remaining_time": 0.6283886833,
                        "test": [
                          0.2918714453
                        ]
                      },
                      {
                        "learn": [
                          0.07630987506
                        ],
                        "iteration": 772,
                        "passed_time": 2.129988007,
                        "remaining_time": 0.6254945376,
                        "test": [
                          0.2918187006
                        ]
                      },
                      {
                        "learn": [
                          0.07622602997
                        ],
                        "iteration": 773,
                        "passed_time": 2.132289013,
                        "remaining_time": 0.6226063527,
                        "test": [
                          0.2917372176
                        ]
                      },
                      {
                        "learn": [
                          0.07606725124
                        ],
                        "iteration": 774,
                        "passed_time": 2.134800577,
                        "remaining_time": 0.6197808127,
                        "test": [
                          0.2917207724
                        ]
                      },
                      {
                        "learn": [
                          0.07580266046
                        ],
                        "iteration": 775,
                        "passed_time": 2.137139021,
                        "remaining_time": 0.6169061092,
                        "test": [
                          0.2915928012
                        ]
                      },
                      {
                        "learn": [
                          0.0757400703
                        ],
                        "iteration": 776,
                        "passed_time": 2.139414629,
                        "remaining_time": 0.614014752,
                        "test": [
                          0.2916058955
                        ]
                      },
                      {
                        "learn": [
                          0.07564590505
                        ],
                        "iteration": 777,
                        "passed_time": 2.141927518,
                        "remaining_time": 0.6111926851,
                        "test": [
                          0.29156246
                        ]
                      },
                      {
                        "learn": [
                          0.07554505028
                        ],
                        "iteration": 778,
                        "passed_time": 2.14406741,
                        "remaining_time": 0.6082655938,
                        "test": [
                          0.2915915347
                        ]
                      },
                      {
                        "learn": [
                          0.07549207263
                        ],
                        "iteration": 779,
                        "passed_time": 2.146170515,
                        "remaining_time": 0.6053301453,
                        "test": [
                          0.2916205797
                        ]
                      },
                      {
                        "learn": [
                          0.07526720794
                        ],
                        "iteration": 780,
                        "passed_time": 2.14845988,
                        "remaining_time": 0.6024490574,
                        "test": [
                          0.2915166085
                        ]
                      },
                      {
                        "learn": [
                          0.0751754049
                        ],
                        "iteration": 781,
                        "passed_time": 2.150590406,
                        "remaining_time": 0.5995252026,
                        "test": [
                          0.2915100655
                        ]
                      },
                      {
                        "learn": [
                          0.07496548195
                        ],
                        "iteration": 782,
                        "passed_time": 2.152854476,
                        "remaining_time": 0.5966403849,
                        "test": [
                          0.291406709
                        ]
                      },
                      {
                        "learn": [
                          0.0748781262
                        ],
                        "iteration": 783,
                        "passed_time": 2.155172804,
                        "remaining_time": 0.5937720992,
                        "test": [
                          0.2913920304
                        ]
                      },
                      {
                        "learn": [
                          0.07483370594
                        ],
                        "iteration": 784,
                        "passed_time": 2.157427647,
                        "remaining_time": 0.5908878268,
                        "test": [
                          0.2913719564
                        ]
                      },
                      {
                        "learn": [
                          0.07472502535
                        ],
                        "iteration": 785,
                        "passed_time": 2.160042982,
                        "remaining_time": 0.5881033054,
                        "test": [
                          0.2913191692
                        ]
                      },
                      {
                        "learn": [
                          0.0745357025
                        ],
                        "iteration": 786,
                        "passed_time": 2.162466644,
                        "remaining_time": 0.5852673381,
                        "test": [
                          0.2912959507
                        ]
                      },
                      {
                        "learn": [
                          0.07440420523
                        ],
                        "iteration": 787,
                        "passed_time": 2.164905176,
                        "remaining_time": 0.5824364179,
                        "test": [
                          0.2912453025
                        ]
                      },
                      {
                        "learn": [
                          0.07429714612
                        ],
                        "iteration": 788,
                        "passed_time": 2.167129643,
                        "remaining_time": 0.5795492454,
                        "test": [
                          0.2912292885
                        ]
                      },
                      {
                        "learn": [
                          0.07418333397
                        ],
                        "iteration": 789,
                        "passed_time": 2.169566712,
                        "remaining_time": 0.5767202653,
                        "test": [
                          0.2911989279
                        ]
                      },
                      {
                        "learn": [
                          0.07400070394
                        ],
                        "iteration": 790,
                        "passed_time": 2.171884841,
                        "remaining_time": 0.5738608492,
                        "test": [
                          0.2911452879
                        ]
                      },
                      {
                        "learn": [
                          0.07388675726
                        ],
                        "iteration": 791,
                        "passed_time": 2.174433119,
                        "remaining_time": 0.5710632435,
                        "test": [
                          0.2910781179
                        ]
                      },
                      {
                        "learn": [
                          0.07375987482
                        ],
                        "iteration": 792,
                        "passed_time": 2.176880025,
                        "remaining_time": 0.5682398048,
                        "test": [
                          0.2910202089
                        ]
                      },
                      {
                        "learn": [
                          0.07367402755
                        ],
                        "iteration": 793,
                        "passed_time": 2.179170083,
                        "remaining_time": 0.5653766211,
                        "test": [
                          0.2910365125
                        ]
                      },
                      {
                        "learn": [
                          0.07364821342
                        ],
                        "iteration": 794,
                        "passed_time": 2.181432323,
                        "remaining_time": 0.5625077059,
                        "test": [
                          0.2910359922
                        ]
                      },
                      {
                        "learn": [
                          0.07355164877
                        ],
                        "iteration": 795,
                        "passed_time": 2.183656945,
                        "remaining_time": 0.5596306744,
                        "test": [
                          0.291069353
                        ]
                      },
                      {
                        "learn": [
                          0.07345994754
                        ],
                        "iteration": 796,
                        "passed_time": 2.185988243,
                        "remaining_time": 0.5567824507,
                        "test": [
                          0.2910600304
                        ]
                      },
                      {
                        "learn": [
                          0.07343852025
                        ],
                        "iteration": 797,
                        "passed_time": 2.188137065,
                        "remaining_time": 0.5538893322,
                        "test": [
                          0.2910498945
                        ]
                      },
                      {
                        "learn": [
                          0.07337494393
                        ],
                        "iteration": 798,
                        "passed_time": 2.190425109,
                        "remaining_time": 0.5510331,
                        "test": [
                          0.2910258505
                        ]
                      },
                      {
                        "learn": [
                          0.07325133891
                        ],
                        "iteration": 799,
                        "passed_time": 2.192705127,
                        "remaining_time": 0.5481762817,
                        "test": [
                          0.2909672401
                        ]
                      },
                      {
                        "learn": [
                          0.07307719322
                        ],
                        "iteration": 800,
                        "passed_time": 2.195092098,
                        "remaining_time": 0.545347475,
                        "test": [
                          0.2908615786
                        ]
                      },
                      {
                        "learn": [
                          0.073000202
                        ],
                        "iteration": 801,
                        "passed_time": 2.197372186,
                        "remaining_time": 0.5424933825,
                        "test": [
                          0.2908400282
                        ]
                      },
                      {
                        "learn": [
                          0.07293019515
                        ],
                        "iteration": 802,
                        "passed_time": 2.19980601,
                        "remaining_time": 0.5396784359,
                        "test": [
                          0.2908210263
                        ]
                      },
                      {
                        "learn": [
                          0.07278196085
                        ],
                        "iteration": 803,
                        "passed_time": 2.201994816,
                        "remaining_time": 0.5368047063,
                        "test": [
                          0.2907497674
                        ]
                      },
                      {
                        "learn": [
                          0.07276823161
                        ],
                        "iteration": 804,
                        "passed_time": 2.204200814,
                        "remaining_time": 0.533936843,
                        "test": [
                          0.2907485892
                        ]
                      },
                      {
                        "learn": [
                          0.07274313139
                        ],
                        "iteration": 805,
                        "passed_time": 2.206384143,
                        "remaining_time": 0.531065166,
                        "test": [
                          0.2907624154
                        ]
                      },
                      {
                        "learn": [
                          0.07273117332
                        ],
                        "iteration": 806,
                        "passed_time": 2.208539077,
                        "remaining_time": 0.5281884039,
                        "test": [
                          0.2907553132
                        ]
                      },
                      {
                        "learn": [
                          0.07262349807
                        ],
                        "iteration": 807,
                        "passed_time": 2.210794725,
                        "remaining_time": 0.5253373603,
                        "test": [
                          0.290789781
                        ]
                      },
                      {
                        "learn": [
                          0.07252761262
                        ],
                        "iteration": 808,
                        "passed_time": 2.213135337,
                        "remaining_time": 0.5225078484,
                        "test": [
                          0.2907409319
                        ]
                      },
                      {
                        "learn": [
                          0.07243366459
                        ],
                        "iteration": 809,
                        "passed_time": 2.215301903,
                        "remaining_time": 0.5196387181,
                        "test": [
                          0.2906622144
                        ]
                      },
                      {
                        "learn": [
                          0.07228446535
                        ],
                        "iteration": 810,
                        "passed_time": 2.217622974,
                        "remaining_time": 0.5168073268,
                        "test": [
                          0.2906458983
                        ]
                      },
                      {
                        "learn": [
                          0.07226042283
                        ],
                        "iteration": 811,
                        "passed_time": 2.219890895,
                        "remaining_time": 0.5139648871,
                        "test": [
                          0.290654508
                        ]
                      },
                      {
                        "learn": [
                          0.07211871809
                        ],
                        "iteration": 812,
                        "passed_time": 2.222277976,
                        "remaining_time": 0.5111512688,
                        "test": [
                          0.2906242725
                        ]
                      },
                      {
                        "learn": [
                          0.07205083097
                        ],
                        "iteration": 813,
                        "passed_time": 2.224440946,
                        "remaining_time": 0.5082874889,
                        "test": [
                          0.2906174293
                        ]
                      },
                      {
                        "learn": [
                          0.07184688708
                        ],
                        "iteration": 814,
                        "passed_time": 2.226809726,
                        "remaining_time": 0.5054721465,
                        "test": [
                          0.2904666323
                        ]
                      },
                      {
                        "learn": [
                          0.07177765182
                        ],
                        "iteration": 815,
                        "passed_time": 2.229285253,
                        "remaining_time": 0.5026819689,
                        "test": [
                          0.2904584377
                        ]
                      },
                      {
                        "learn": [
                          0.07162160891
                        ],
                        "iteration": 816,
                        "passed_time": 2.231554147,
                        "remaining_time": 0.4998462777,
                        "test": [
                          0.2904133281
                        ]
                      },
                      {
                        "learn": [
                          0.07158558848
                        ],
                        "iteration": 817,
                        "passed_time": 2.233670615,
                        "remaining_time": 0.4969780586,
                        "test": [
                          0.2903985865
                        ]
                      },
                      {
                        "learn": [
                          0.07147257351
                        ],
                        "iteration": 818,
                        "passed_time": 2.235981631,
                        "remaining_time": 0.4941546705,
                        "test": [
                          0.2904010377
                        ]
                      },
                      {
                        "learn": [
                          0.07126315733
                        ],
                        "iteration": 819,
                        "passed_time": 2.238464626,
                        "remaining_time": 0.4913702838,
                        "test": [
                          0.2901948634
                        ]
                      },
                      {
                        "learn": [
                          0.07111473142
                        ],
                        "iteration": 820,
                        "passed_time": 2.241054062,
                        "remaining_time": 0.4886098381,
                        "test": [
                          0.2901858734
                        ]
                      },
                      {
                        "learn": [
                          0.07102849585
                        ],
                        "iteration": 821,
                        "passed_time": 2.243290744,
                        "remaining_time": 0.4857734215,
                        "test": [
                          0.2901841341
                        ]
                      },
                      {
                        "learn": [
                          0.07093635659
                        ],
                        "iteration": 822,
                        "passed_time": 2.245513728,
                        "remaining_time": 0.4829355162,
                        "test": [
                          0.2901503662
                        ]
                      },
                      {
                        "learn": [
                          0.07088195595
                        ],
                        "iteration": 823,
                        "passed_time": 2.247753983,
                        "remaining_time": 0.4801027926,
                        "test": [
                          0.2900330839
                        ]
                      },
                      {
                        "learn": [
                          0.07079274795
                        ],
                        "iteration": 824,
                        "passed_time": 2.250118789,
                        "remaining_time": 0.477297925,
                        "test": [
                          0.2900225221
                        ]
                      },
                      {
                        "learn": [
                          0.07075318309
                        ],
                        "iteration": 825,
                        "passed_time": 2.252247295,
                        "remaining_time": 0.4744443454,
                        "test": [
                          0.289984211
                        ]
                      },
                      {
                        "learn": [
                          0.07070296107
                        ],
                        "iteration": 826,
                        "passed_time": 2.254385326,
                        "remaining_time": 0.4715945119,
                        "test": [
                          0.2898997879
                        ]
                      },
                      {
                        "learn": [
                          0.07064268762
                        ],
                        "iteration": 827,
                        "passed_time": 2.256565979,
                        "remaining_time": 0.4687552516,
                        "test": [
                          0.2899349302
                        ]
                      },
                      {
                        "learn": [
                          0.07058718019
                        ],
                        "iteration": 828,
                        "passed_time": 2.258801757,
                        "remaining_time": 0.4659289511,
                        "test": [
                          0.2898492911
                        ]
                      },
                      {
                        "learn": [
                          0.07051619794
                        ],
                        "iteration": 829,
                        "passed_time": 2.261260753,
                        "remaining_time": 0.4631497927,
                        "test": [
                          0.2898364196
                        ]
                      },
                      {
                        "learn": [
                          0.0704175654
                        ],
                        "iteration": 830,
                        "passed_time": 2.263335747,
                        "remaining_time": 0.4602933107,
                        "test": [
                          0.2898098149
                        ]
                      },
                      {
                        "learn": [
                          0.0702893955
                        ],
                        "iteration": 831,
                        "passed_time": 2.268247267,
                        "remaining_time": 0.4580114674,
                        "test": [
                          0.2898131679
                        ]
                      },
                      {
                        "learn": [
                          0.0702289704
                        ],
                        "iteration": 832,
                        "passed_time": 2.270541169,
                        "remaining_time": 0.4551985296,
                        "test": [
                          0.2897946013
                        ]
                      },
                      {
                        "learn": [
                          0.070071156
                        ],
                        "iteration": 833,
                        "passed_time": 2.272879703,
                        "remaining_time": 0.4523957203,
                        "test": [
                          0.2896644337
                        ]
                      },
                      {
                        "learn": [
                          0.06993677135
                        ],
                        "iteration": 834,
                        "passed_time": 2.274974868,
                        "remaining_time": 0.449545932,
                        "test": [
                          0.2896347925
                        ]
                      },
                      {
                        "learn": [
                          0.06990428734
                        ],
                        "iteration": 835,
                        "passed_time": 2.277222262,
                        "remaining_time": 0.4467278122,
                        "test": [
                          0.2896239181
                        ]
                      },
                      {
                        "learn": [
                          0.06975865468
                        ],
                        "iteration": 836,
                        "passed_time": 2.279512323,
                        "remaining_time": 0.4439193651,
                        "test": [
                          0.2895447868
                        ]
                      },
                      {
                        "learn": [
                          0.06964647003
                        ],
                        "iteration": 837,
                        "passed_time": 2.28305702,
                        "remaining_time": 0.4413546984,
                        "test": [
                          0.2895015187
                        ]
                      },
                      {
                        "learn": [
                          0.06958546335
                        ],
                        "iteration": 838,
                        "passed_time": 2.285995704,
                        "remaining_time": 0.4386714044,
                        "test": [
                          0.2894654964
                        ]
                      },
                      {
                        "learn": [
                          0.06940200007
                        ],
                        "iteration": 839,
                        "passed_time": 2.289143815,
                        "remaining_time": 0.4360273933,
                        "test": [
                          0.289339952
                        ]
                      },
                      {
                        "learn": [
                          0.06933067202
                        ],
                        "iteration": 840,
                        "passed_time": 2.291724448,
                        "remaining_time": 0.4332748956,
                        "test": [
                          0.2893328409
                        ]
                      },
                      {
                        "learn": [
                          0.06927481589
                        ],
                        "iteration": 841,
                        "passed_time": 2.293859368,
                        "remaining_time": 0.4304391688,
                        "test": [
                          0.2893223245
                        ]
                      },
                      {
                        "learn": [
                          0.06916862857
                        ],
                        "iteration": 842,
                        "passed_time": 2.296093126,
                        "remaining_time": 0.4276235123,
                        "test": [
                          0.2892903752
                        ]
                      },
                      {
                        "learn": [
                          0.06911035753
                        ],
                        "iteration": 843,
                        "passed_time": 2.299773601,
                        "remaining_time": 0.4250766371,
                        "test": [
                          0.2892662134
                        ]
                      },
                      {
                        "learn": [
                          0.06901576093
                        ],
                        "iteration": 844,
                        "passed_time": 2.310012008,
                        "remaining_time": 0.4237300133,
                        "test": [
                          0.2892607839
                        ]
                      },
                      {
                        "learn": [
                          0.06890366218
                        ],
                        "iteration": 845,
                        "passed_time": 2.31368878,
                        "remaining_time": 0.421167934,
                        "test": [
                          0.2892565632
                        ]
                      },
                      {
                        "learn": [
                          0.06878397593
                        ],
                        "iteration": 846,
                        "passed_time": 2.322026908,
                        "remaining_time": 0.4194452385,
                        "test": [
                          0.2892196993
                        ]
                      },
                      {
                        "learn": [
                          0.06860822283
                        ],
                        "iteration": 847,
                        "passed_time": 2.329401819,
                        "remaining_time": 0.4175342883,
                        "test": [
                          0.2891489353
                        ]
                      },
                      {
                        "learn": [
                          0.06852938626
                        ],
                        "iteration": 848,
                        "passed_time": 2.332945102,
                        "remaining_time": 0.4149289875,
                        "test": [
                          0.2890238564
                        ]
                      },
                      {
                        "learn": [
                          0.06845828776
                        ],
                        "iteration": 849,
                        "passed_time": 2.335660071,
                        "remaining_time": 0.4121753067,
                        "test": [
                          0.2890000026
                        ]
                      },
                      {
                        "learn": [
                          0.06836774815
                        ],
                        "iteration": 850,
                        "passed_time": 2.337918499,
                        "remaining_time": 0.4093417818,
                        "test": [
                          0.2889478194
                        ]
                      },
                      {
                        "learn": [
                          0.06821779332
                        ],
                        "iteration": 851,
                        "passed_time": 2.341264079,
                        "remaining_time": 0.4066984551,
                        "test": [
                          0.2888800419
                        ]
                      },
                      {
                        "learn": [
                          0.06810231982
                        ],
                        "iteration": 852,
                        "passed_time": 2.344143598,
                        "remaining_time": 0.4039731639,
                        "test": [
                          0.2888235822
                        ]
                      },
                      {
                        "learn": [
                          0.06800468939
                        ],
                        "iteration": 853,
                        "passed_time": 2.347320279,
                        "remaining_time": 0.4012983147,
                        "test": [
                          0.2886952916
                        ]
                      },
                      {
                        "learn": [
                          0.06796320693
                        ],
                        "iteration": 854,
                        "passed_time": 2.349917757,
                        "remaining_time": 0.3985240641,
                        "test": [
                          0.2887193987
                        ]
                      },
                      {
                        "learn": [
                          0.06791454443
                        ],
                        "iteration": 855,
                        "passed_time": 2.352329755,
                        "remaining_time": 0.3957190242,
                        "test": [
                          0.28860531
                        ]
                      },
                      {
                        "learn": [
                          0.0678556538
                        ],
                        "iteration": 856,
                        "passed_time": 2.354900533,
                        "remaining_time": 0.3929413959,
                        "test": [
                          0.2885812597
                        ]
                      },
                      {
                        "learn": [
                          0.06773145991
                        ],
                        "iteration": 857,
                        "passed_time": 2.364539034,
                        "remaining_time": 0.3913339659,
                        "test": [
                          0.2885255165
                        ]
                      },
                      {
                        "learn": [
                          0.06755356352
                        ],
                        "iteration": 858,
                        "passed_time": 2.36749286,
                        "remaining_time": 0.3886105859,
                        "test": [
                          0.2884637413
                        ]
                      },
                      {
                        "learn": [
                          0.06750997151
                        ],
                        "iteration": 859,
                        "passed_time": 2.370709836,
                        "remaining_time": 0.3859295082,
                        "test": [
                          0.2884301544
                        ]
                      },
                      {
                        "learn": [
                          0.06737871039
                        ],
                        "iteration": 860,
                        "passed_time": 2.373032668,
                        "remaining_time": 0.3831028349,
                        "test": [
                          0.2883983634
                        ]
                      },
                      {
                        "learn": [
                          0.06733922141
                        ],
                        "iteration": 861,
                        "passed_time": 2.375274984,
                        "remaining_time": 0.3802644405,
                        "test": [
                          0.2883910864
                        ]
                      },
                      {
                        "learn": [
                          0.06720339926
                        ],
                        "iteration": 862,
                        "passed_time": 2.378290892,
                        "remaining_time": 0.3775502343,
                        "test": [
                          0.2883495834
                        ]
                      },
                      {
                        "learn": [
                          0.06716345834
                        ],
                        "iteration": 863,
                        "passed_time": 2.381468843,
                        "remaining_time": 0.3748608364,
                        "test": [
                          0.2883305868
                        ]
                      },
                      {
                        "learn": [
                          0.06705813507
                        ],
                        "iteration": 864,
                        "passed_time": 2.384703608,
                        "remaining_time": 0.3721791758,
                        "test": [
                          0.2883210619
                        ]
                      },
                      {
                        "learn": [
                          0.06694334907
                        ],
                        "iteration": 865,
                        "passed_time": 2.387066545,
                        "remaining_time": 0.3693613361,
                        "test": [
                          0.288247515
                        ]
                      },
                      {
                        "learn": [
                          0.0667871874
                        ],
                        "iteration": 866,
                        "passed_time": 2.38955511,
                        "remaining_time": 0.3665638173,
                        "test": [
                          0.2881520617
                        ]
                      },
                      {
                        "learn": [
                          0.06664727978
                        ],
                        "iteration": 867,
                        "passed_time": 2.393149746,
                        "remaining_time": 0.3639352149,
                        "test": [
                          0.2881259199
                        ]
                      },
                      {
                        "learn": [
                          0.06657142554
                        ],
                        "iteration": 868,
                        "passed_time": 2.395659536,
                        "remaining_time": 0.3611408507,
                        "test": [
                          0.2880718713
                        ]
                      },
                      {
                        "learn": [
                          0.06653009794
                        ],
                        "iteration": 869,
                        "passed_time": 2.397725146,
                        "remaining_time": 0.358280769,
                        "test": [
                          0.2880490535
                        ]
                      },
                      {
                        "learn": [
                          0.06642537727
                        ],
                        "iteration": 870,
                        "passed_time": 2.40018042,
                        "remaining_time": 0.355480223,
                        "test": [
                          0.2880182266
                        ]
                      },
                      {
                        "learn": [
                          0.06632019835
                        ],
                        "iteration": 871,
                        "passed_time": 2.403839138,
                        "remaining_time": 0.3528571212,
                        "test": [
                          0.2879182895
                        ]
                      },
                      {
                        "learn": [
                          0.06624358971
                        ],
                        "iteration": 872,
                        "passed_time": 2.407153499,
                        "remaining_time": 0.3501815514,
                        "test": [
                          0.2879058001
                        ]
                      },
                      {
                        "learn": [
                          0.06616076594
                        ],
                        "iteration": 873,
                        "passed_time": 2.409439645,
                        "remaining_time": 0.3473562874,
                        "test": [
                          0.2878892067
                        ]
                      },
                      {
                        "learn": [
                          0.06611473793
                        ],
                        "iteration": 874,
                        "passed_time": 2.413032649,
                        "remaining_time": 0.3447189498,
                        "test": [
                          0.2878694399
                        ]
                      },
                      {
                        "learn": [
                          0.06598029722
                        ],
                        "iteration": 875,
                        "passed_time": 2.416181922,
                        "remaining_time": 0.3420166191,
                        "test": [
                          0.2878288617
                        ]
                      },
                      {
                        "learn": [
                          0.06591995116
                        ],
                        "iteration": 876,
                        "passed_time": 2.41847732,
                        "remaining_time": 0.3391935124,
                        "test": [
                          0.2877964507
                        ]
                      },
                      {
                        "learn": [
                          0.06588373192
                        ],
                        "iteration": 877,
                        "passed_time": 2.421180025,
                        "remaining_time": 0.3364282039,
                        "test": [
                          0.2878032606
                        ]
                      },
                      {
                        "learn": [
                          0.06579050163
                        ],
                        "iteration": 878,
                        "passed_time": 2.426059702,
                        "remaining_time": 0.3339627121,
                        "test": [
                          0.2877769364
                        ]
                      },
                      {
                        "learn": [
                          0.06572223762
                        ],
                        "iteration": 879,
                        "passed_time": 2.42940724,
                        "remaining_time": 0.3312828055,
                        "test": [
                          0.287756248
                        ]
                      },
                      {
                        "learn": [
                          0.06560003322
                        ],
                        "iteration": 880,
                        "passed_time": 2.437571487,
                        "remaining_time": 0.3292519943,
                        "test": [
                          0.2876843355
                        ]
                      },
                      {
                        "learn": [
                          0.06550172887
                        ],
                        "iteration": 881,
                        "passed_time": 2.445551426,
                        "remaining_time": 0.3271826171,
                        "test": [
                          0.2876734569
                        ]
                      },
                      {
                        "learn": [
                          0.06549387788
                        ],
                        "iteration": 882,
                        "passed_time": 2.453268779,
                        "remaining_time": 0.325065059,
                        "test": [
                          0.2876891693
                        ]
                      },
                      {
                        "learn": [
                          0.0654214882
                        ],
                        "iteration": 883,
                        "passed_time": 2.461385107,
                        "remaining_time": 0.322987186,
                        "test": [
                          0.2876213796
                        ]
                      },
                      {
                        "learn": [
                          0.06531540965
                        ],
                        "iteration": 884,
                        "passed_time": 2.469948573,
                        "remaining_time": 0.3209537694,
                        "test": [
                          0.2876352536
                        ]
                      },
                      {
                        "learn": [
                          0.06529663451
                        ],
                        "iteration": 885,
                        "passed_time": 2.473259303,
                        "remaining_time": 0.3182297523,
                        "test": [
                          0.2876448223
                        ]
                      },
                      {
                        "learn": [
                          0.06522363348
                        ],
                        "iteration": 886,
                        "passed_time": 2.481182196,
                        "remaining_time": 0.3160919822,
                        "test": [
                          0.2876238404
                        ]
                      },
                      {
                        "learn": [
                          0.06516911947
                        ],
                        "iteration": 887,
                        "passed_time": 2.491645035,
                        "remaining_time": 0.314261536,
                        "test": [
                          0.2876229678
                        ]
                      },
                      {
                        "learn": [
                          0.06505620626
                        ],
                        "iteration": 888,
                        "passed_time": 2.499788242,
                        "remaining_time": 0.3121220415,
                        "test": [
                          0.2876188858
                        ]
                      },
                      {
                        "learn": [
                          0.0649081067
                        ],
                        "iteration": 889,
                        "passed_time": 2.504219013,
                        "remaining_time": 0.3095102151,
                        "test": [
                          0.2875624875
                        ]
                      },
                      {
                        "learn": [
                          0.06480040119
                        ],
                        "iteration": 890,
                        "passed_time": 2.511885897,
                        "remaining_time": 0.3072901939,
                        "test": [
                          0.2876284888
                        ]
                      },
                      {
                        "learn": [
                          0.06471789881
                        ],
                        "iteration": 891,
                        "passed_time": 2.520215932,
                        "remaining_time": 0.3051382519,
                        "test": [
                          0.2876312899
                        ]
                      },
                      {
                        "learn": [
                          0.06465282617
                        ],
                        "iteration": 892,
                        "passed_time": 2.528243527,
                        "remaining_time": 0.3029362345,
                        "test": [
                          0.2876097867
                        ]
                      },
                      {
                        "learn": [
                          0.0645338647
                        ],
                        "iteration": 893,
                        "passed_time": 2.536023149,
                        "remaining_time": 0.3006917828,
                        "test": [
                          0.2875349687
                        ]
                      },
                      {
                        "learn": [
                          0.06443393652
                        ],
                        "iteration": 894,
                        "passed_time": 2.539676257,
                        "remaining_time": 0.2979508458,
                        "test": [
                          0.2874947923
                        ]
                      },
                      {
                        "learn": [
                          0.06437223811
                        ],
                        "iteration": 895,
                        "passed_time": 2.547606147,
                        "remaining_time": 0.2957042849,
                        "test": [
                          0.2873164169
                        ]
                      },
                      {
                        "learn": [
                          0.06431778446
                        ],
                        "iteration": 896,
                        "passed_time": 2.555445616,
                        "remaining_time": 0.2934346694,
                        "test": [
                          0.2873139797
                        ]
                      },
                      {
                        "learn": [
                          0.06420600936
                        ],
                        "iteration": 897,
                        "passed_time": 2.56554383,
                        "remaining_time": 0.2914092101,
                        "test": [
                          0.2872604886
                        ]
                      },
                      {
                        "learn": [
                          0.06412864704
                        ],
                        "iteration": 898,
                        "passed_time": 2.569158015,
                        "remaining_time": 0.2886373299,
                        "test": [
                          0.2872464519
                        ]
                      },
                      {
                        "learn": [
                          0.06410333448
                        ],
                        "iteration": 899,
                        "passed_time": 2.58158368,
                        "remaining_time": 0.2868426311,
                        "test": [
                          0.2872381557
                        ]
                      },
                      {
                        "learn": [
                          0.06404655937
                        ],
                        "iteration": 900,
                        "passed_time": 2.589262807,
                        "remaining_time": 0.2845027946,
                        "test": [
                          0.2872064548
                        ]
                      },
                      {
                        "learn": [
                          0.06397633523
                        ],
                        "iteration": 901,
                        "passed_time": 2.597045976,
                        "remaining_time": 0.2821624231,
                        "test": [
                          0.2872040497
                        ]
                      },
                      {
                        "learn": [
                          0.06396947722
                        ],
                        "iteration": 902,
                        "passed_time": 2.600700355,
                        "remaining_time": 0.2793664833,
                        "test": [
                          0.2872186765
                        ]
                      },
                      {
                        "learn": [
                          0.06392141966
                        ],
                        "iteration": 903,
                        "passed_time": 2.608811501,
                        "remaining_time": 0.2770419293,
                        "test": [
                          0.2871802899
                        ]
                      },
                      {
                        "learn": [
                          0.06387905359
                        ],
                        "iteration": 904,
                        "passed_time": 2.616892926,
                        "remaining_time": 0.2747014674,
                        "test": [
                          0.2871748148
                        ]
                      },
                      {
                        "learn": [
                          0.06383093589
                        ],
                        "iteration": 905,
                        "passed_time": 2.624838175,
                        "remaining_time": 0.2723342035,
                        "test": [
                          0.2871514187
                        ]
                      },
                      {
                        "learn": [
                          0.06372524963
                        ],
                        "iteration": 906,
                        "passed_time": 2.63311163,
                        "remaining_time": 0.2699882928,
                        "test": [
                          0.287151586
                        ]
                      },
                      {
                        "learn": [
                          0.0636339351
                        ],
                        "iteration": 907,
                        "passed_time": 2.635507811,
                        "remaining_time": 0.267033831,
                        "test": [
                          0.2872163663
                        ]
                      },
                      {
                        "learn": [
                          0.06356903341
                        ],
                        "iteration": 908,
                        "passed_time": 2.638005703,
                        "remaining_time": 0.2640907799,
                        "test": [
                          0.28715787
                        ]
                      },
                      {
                        "learn": [
                          0.06349313366
                        ],
                        "iteration": 909,
                        "passed_time": 2.640346383,
                        "remaining_time": 0.2611331588,
                        "test": [
                          0.2870844062
                        ]
                      },
                      {
                        "learn": [
                          0.0633426267
                        ],
                        "iteration": 910,
                        "passed_time": 2.642967235,
                        "remaining_time": 0.2582042633,
                        "test": [
                          0.2870388649
                        ]
                      },
                      {
                        "learn": [
                          0.06329726436
                        ],
                        "iteration": 911,
                        "passed_time": 2.645207133,
                        "remaining_time": 0.2552392848,
                        "test": [
                          0.287035287
                        ]
                      },
                      {
                        "learn": [
                          0.06323558173
                        ],
                        "iteration": 912,
                        "passed_time": 2.647483456,
                        "remaining_time": 0.2522793655,
                        "test": [
                          0.287014706
                        ]
                      },
                      {
                        "learn": [
                          0.06308027246
                        ],
                        "iteration": 913,
                        "passed_time": 2.64975834,
                        "remaining_time": 0.2493208066,
                        "test": [
                          0.2870578143
                        ]
                      },
                      {
                        "learn": [
                          0.06307146248
                        ],
                        "iteration": 914,
                        "passed_time": 2.651853469,
                        "remaining_time": 0.2463470436,
                        "test": [
                          0.2870527532
                        ]
                      },
                      {
                        "learn": [
                          0.06297976131
                        ],
                        "iteration": 915,
                        "passed_time": 2.654101544,
                        "remaining_time": 0.2433892246,
                        "test": [
                          0.287008866
                        ]
                      },
                      {
                        "learn": [
                          0.06286710527
                        ],
                        "iteration": 916,
                        "passed_time": 2.656478857,
                        "remaining_time": 0.2404446511,
                        "test": [
                          0.2869029516
                        ]
                      },
                      {
                        "learn": [
                          0.06279454893
                        ],
                        "iteration": 917,
                        "passed_time": 2.658759459,
                        "remaining_time": 0.237492675,
                        "test": [
                          0.2868760593
                        ]
                      },
                      {
                        "learn": [
                          0.06265825408
                        ],
                        "iteration": 918,
                        "passed_time": 2.661220053,
                        "remaining_time": 0.2345580243,
                        "test": [
                          0.2868054027
                        ]
                      },
                      {
                        "learn": [
                          0.06255221982
                        ],
                        "iteration": 919,
                        "passed_time": 2.663493966,
                        "remaining_time": 0.231608171,
                        "test": [
                          0.2867593384
                        ]
                      },
                      {
                        "learn": [
                          0.06241126606
                        ],
                        "iteration": 920,
                        "passed_time": 2.6657655,
                        "remaining_time": 0.2286595815,
                        "test": [
                          0.2867274326
                        ]
                      },
                      {
                        "learn": [
                          0.06232222872
                        ],
                        "iteration": 921,
                        "passed_time": 2.668173789,
                        "remaining_time": 0.2257240298,
                        "test": [
                          0.2866341267
                        ]
                      },
                      {
                        "learn": [
                          0.06224640314
                        ],
                        "iteration": 922,
                        "passed_time": 2.671362856,
                        "remaining_time": 0.2228547562,
                        "test": [
                          0.2866198582
                        ]
                      },
                      {
                        "learn": [
                          0.06220164171
                        ],
                        "iteration": 923,
                        "passed_time": 2.673626128,
                        "remaining_time": 0.2199086426,
                        "test": [
                          0.2866173495
                        ]
                      },
                      {
                        "learn": [
                          0.06211324184
                        ],
                        "iteration": 924,
                        "passed_time": 2.675769504,
                        "remaining_time": 0.2169542841,
                        "test": [
                          0.2865630168
                        ]
                      },
                      {
                        "learn": [
                          0.06196144155
                        ],
                        "iteration": 925,
                        "passed_time": 2.678012825,
                        "remaining_time": 0.2140096642,
                        "test": [
                          0.2865133413
                        ]
                      },
                      {
                        "learn": [
                          0.06192392304
                        ],
                        "iteration": 926,
                        "passed_time": 2.680170611,
                        "remaining_time": 0.2110598216,
                        "test": [
                          0.2865023355
                        ]
                      },
                      {
                        "learn": [
                          0.06186703419
                        ],
                        "iteration": 927,
                        "passed_time": 2.682361256,
                        "remaining_time": 0.2081142354,
                        "test": [
                          0.2864960851
                        ]
                      },
                      {
                        "learn": [
                          0.06177948854
                        ],
                        "iteration": 928,
                        "passed_time": 2.684662208,
                        "remaining_time": 0.2051787048,
                        "test": [
                          0.2864517882
                        ]
                      },
                      {
                        "learn": [
                          0.06168016573
                        ],
                        "iteration": 929,
                        "passed_time": 2.686954766,
                        "remaining_time": 0.2022439071,
                        "test": [
                          0.2864363662
                        ]
                      },
                      {
                        "learn": [
                          0.0616223245
                        ],
                        "iteration": 930,
                        "passed_time": 2.689085955,
                        "remaining_time": 0.1992985294,
                        "test": [
                          0.2864284564
                        ]
                      },
                      {
                        "learn": [
                          0.0615641011
                        ],
                        "iteration": 931,
                        "passed_time": 2.691380374,
                        "remaining_time": 0.1963668084,
                        "test": [
                          0.28641017
                        ]
                      },
                      {
                        "learn": [
                          0.06151871598
                        ],
                        "iteration": 932,
                        "passed_time": 2.693496425,
                        "remaining_time": 0.1934236447,
                        "test": [
                          0.2864151649
                        ]
                      },
                      {
                        "learn": [
                          0.06139517517
                        ],
                        "iteration": 933,
                        "passed_time": 2.695718144,
                        "remaining_time": 0.190489719,
                        "test": [
                          0.286615973
                        ]
                      },
                      {
                        "learn": [
                          0.061311113
                        ],
                        "iteration": 934,
                        "passed_time": 2.698026313,
                        "remaining_time": 0.1875633266,
                        "test": [
                          0.2865848966
                        ]
                      },
                      {
                        "learn": [
                          0.06127737625
                        ],
                        "iteration": 935,
                        "passed_time": 2.699990439,
                        "remaining_time": 0.1846147308,
                        "test": [
                          0.2865416879
                        ]
                      },
                      {
                        "learn": [
                          0.06120119613
                        ],
                        "iteration": 936,
                        "passed_time": 2.702328286,
                        "remaining_time": 0.181693364,
                        "test": [
                          0.2865050689
                        ]
                      },
                      {
                        "learn": [
                          0.06107603872
                        ],
                        "iteration": 937,
                        "passed_time": 2.704644466,
                        "remaining_time": 0.178771809,
                        "test": [
                          0.2864643274
                        ]
                      },
                      {
                        "learn": [
                          0.060964283
                        ],
                        "iteration": 938,
                        "passed_time": 2.706819345,
                        "remaining_time": 0.1758423642,
                        "test": [
                          0.2864192713
                        ]
                      },
                      {
                        "learn": [
                          0.06083501822
                        ],
                        "iteration": 939,
                        "passed_time": 2.70903471,
                        "remaining_time": 0.1729171092,
                        "test": [
                          0.286291714
                        ]
                      },
                      {
                        "learn": [
                          0.06075556361
                        ],
                        "iteration": 940,
                        "passed_time": 2.7113695,
                        "remaining_time": 0.1700008507,
                        "test": [
                          0.2862916312
                        ]
                      },
                      {
                        "learn": [
                          0.0606897585
                        ],
                        "iteration": 941,
                        "passed_time": 2.713696963,
                        "remaining_time": 0.1670853757,
                        "test": [
                          0.2862906186
                        ]
                      },
                      {
                        "learn": [
                          0.06062657932
                        ],
                        "iteration": 942,
                        "passed_time": 2.717027866,
                        "remaining_time": 0.164231801,
                        "test": [
                          0.2862705872
                        ]
                      },
                      {
                        "learn": [
                          0.06059632118
                        ],
                        "iteration": 943,
                        "passed_time": 2.727858035,
                        "remaining_time": 0.1618220868,
                        "test": [
                          0.2862632703
                        ]
                      },
                      {
                        "learn": [
                          0.06045737226
                        ],
                        "iteration": 944,
                        "passed_time": 2.730121055,
                        "remaining_time": 0.1588959344,
                        "test": [
                          0.2861810707
                        ]
                      },
                      {
                        "learn": [
                          0.06032042154
                        ],
                        "iteration": 945,
                        "passed_time": 2.732426334,
                        "remaining_time": 0.1559735962,
                        "test": [
                          0.2861825692
                        ]
                      },
                      {
                        "learn": [
                          0.06018809857
                        ],
                        "iteration": 946,
                        "passed_time": 2.734673406,
                        "remaining_time": 0.1530493036,
                        "test": [
                          0.2861354442
                        ]
                      },
                      {
                        "learn": [
                          0.06016939064
                        ],
                        "iteration": 947,
                        "passed_time": 2.736807329,
                        "remaining_time": 0.1501202332,
                        "test": [
                          0.2861441612
                        ]
                      },
                      {
                        "learn": [
                          0.06012014034
                        ],
                        "iteration": 948,
                        "passed_time": 2.738968315,
                        "remaining_time": 0.147194293,
                        "test": [
                          0.2861254775
                        ]
                      },
                      {
                        "learn": [
                          0.06011896681
                        ],
                        "iteration": 949,
                        "passed_time": 2.740921568,
                        "remaining_time": 0.1442590299,
                        "test": [
                          0.2861245319
                        ]
                      },
                      {
                        "learn": [
                          0.06007579261
                        ],
                        "iteration": 950,
                        "passed_time": 2.743163983,
                        "remaining_time": 0.141340731,
                        "test": [
                          0.2860614339
                        ]
                      },
                      {
                        "learn": [
                          0.05996222297
                        ],
                        "iteration": 951,
                        "passed_time": 2.7452949,
                        "remaining_time": 0.1384182302,
                        "test": [
                          0.2860931784
                        ]
                      },
                      {
                        "learn": [
                          0.05995810526
                        ],
                        "iteration": 952,
                        "passed_time": 2.747632532,
                        "remaining_time": 0.1355075855,
                        "test": [
                          0.2860926044
                        ]
                      },
                      {
                        "learn": [
                          0.0599462075
                        ],
                        "iteration": 953,
                        "passed_time": 2.749819058,
                        "remaining_time": 0.132590856,
                        "test": [
                          0.2860902173
                        ]
                      },
                      {
                        "learn": [
                          0.0598823636
                        ],
                        "iteration": 954,
                        "passed_time": 2.752363188,
                        "remaining_time": 0.1296925062,
                        "test": [
                          0.2861013477
                        ]
                      },
                      {
                        "learn": [
                          0.05976836382
                        ],
                        "iteration": 955,
                        "passed_time": 2.754810053,
                        "remaining_time": 0.1267904208,
                        "test": [
                          0.2860882832
                        ]
                      },
                      {
                        "learn": [
                          0.05975275021
                        ],
                        "iteration": 956,
                        "passed_time": 2.756986154,
                        "remaining_time": 0.1238771208,
                        "test": [
                          0.28606358
                        ]
                      },
                      {
                        "learn": [
                          0.05969277797
                        ],
                        "iteration": 957,
                        "passed_time": 2.759174349,
                        "remaining_time": 0.12096589,
                        "test": [
                          0.286052423
                        ]
                      },
                      {
                        "learn": [
                          0.05962385266
                        ],
                        "iteration": 958,
                        "passed_time": 2.761361936,
                        "remaining_time": 0.1180561412,
                        "test": [
                          0.286052888
                        ]
                      },
                      {
                        "learn": [
                          0.05957976493
                        ],
                        "iteration": 959,
                        "passed_time": 2.76365625,
                        "remaining_time": 0.1151523437,
                        "test": [
                          0.2860603726
                        ]
                      },
                      {
                        "learn": [
                          0.05954325608
                        ],
                        "iteration": 960,
                        "passed_time": 2.765933809,
                        "remaining_time": 0.1122491348,
                        "test": [
                          0.2860350163
                        ]
                      },
                      {
                        "learn": [
                          0.05944067491
                        ],
                        "iteration": 961,
                        "passed_time": 2.768210506,
                        "remaining_time": 0.1093471925,
                        "test": [
                          0.2859971256
                        ]
                      },
                      {
                        "learn": [
                          0.05938995942
                        ],
                        "iteration": 962,
                        "passed_time": 2.770407095,
                        "remaining_time": 0.106443471,
                        "test": [
                          0.2859820022
                        ]
                      },
                      {
                        "learn": [
                          0.05929503043
                        ],
                        "iteration": 963,
                        "passed_time": 2.772660837,
                        "remaining_time": 0.1035433508,
                        "test": [
                          0.2859092641
                        ]
                      },
                      {
                        "learn": [
                          0.05921471014
                        ],
                        "iteration": 964,
                        "passed_time": 2.775497484,
                        "remaining_time": 0.1006657118,
                        "test": [
                          0.2858256632
                        ]
                      },
                      {
                        "learn": [
                          0.0591391622
                        ],
                        "iteration": 965,
                        "passed_time": 2.777962097,
                        "remaining_time": 0.09777506347,
                        "test": [
                          0.2858429467
                        ]
                      },
                      {
                        "learn": [
                          0.05907402297
                        ],
                        "iteration": 966,
                        "passed_time": 2.780773247,
                        "remaining_time": 0.09489712217,
                        "test": [
                          0.2858246487
                        ]
                      },
                      {
                        "learn": [
                          0.0590123625
                        ],
                        "iteration": 967,
                        "passed_time": 2.783135592,
                        "remaining_time": 0.09200448239,
                        "test": [
                          0.2858267793
                        ]
                      },
                      {
                        "learn": [
                          0.05892658679
                        ],
                        "iteration": 968,
                        "passed_time": 2.785809134,
                        "remaining_time": 0.08912289283,
                        "test": [
                          0.2858581833
                        ]
                      },
                      {
                        "learn": [
                          0.05886757358
                        ],
                        "iteration": 969,
                        "passed_time": 2.788433222,
                        "remaining_time": 0.08624020273,
                        "test": [
                          0.2858584883
                        ]
                      },
                      {
                        "learn": [
                          0.05881220127
                        ],
                        "iteration": 970,
                        "passed_time": 2.790826754,
                        "remaining_time": 0.08335115948,
                        "test": [
                          0.2858471892
                        ]
                      },
                      {
                        "learn": [
                          0.05874600669
                        ],
                        "iteration": 971,
                        "passed_time": 2.793014172,
                        "remaining_time": 0.08045719837,
                        "test": [
                          0.2857037488
                        ]
                      },
                      {
                        "learn": [
                          0.05870898704
                        ],
                        "iteration": 972,
                        "passed_time": 2.795116298,
                        "remaining_time": 0.07756232276,
                        "test": [
                          0.2856968892
                        ]
                      },
                      {
                        "learn": [
                          0.05866898766
                        ],
                        "iteration": 973,
                        "passed_time": 2.797404186,
                        "remaining_time": 0.07467403372,
                        "test": [
                          0.28562194
                        ]
                      },
                      {
                        "learn": [
                          0.05861609928
                        ],
                        "iteration": 974,
                        "passed_time": 2.799809188,
                        "remaining_time": 0.07178997917,
                        "test": [
                          0.2856281761
                        ]
                      },
                      {
                        "learn": [
                          0.05854971701
                        ],
                        "iteration": 975,
                        "passed_time": 2.802227514,
                        "remaining_time": 0.06890723395,
                        "test": [
                          0.2855879634
                        ]
                      },
                      {
                        "learn": [
                          0.05850252519
                        ],
                        "iteration": 976,
                        "passed_time": 2.804380488,
                        "remaining_time": 0.06601919266,
                        "test": [
                          0.2855971078
                        ]
                      },
                      {
                        "learn": [
                          0.05841738383
                        ],
                        "iteration": 977,
                        "passed_time": 2.806557855,
                        "remaining_time": 0.06313320328,
                        "test": [
                          0.2855745758
                        ]
                      },
                      {
                        "learn": [
                          0.05841681108
                        ],
                        "iteration": 978,
                        "passed_time": 2.808497058,
                        "remaining_time": 0.06024355282,
                        "test": [
                          0.2855723836
                        ]
                      },
                      {
                        "learn": [
                          0.05832779633
                        ],
                        "iteration": 979,
                        "passed_time": 2.811402362,
                        "remaining_time": 0.05737555841,
                        "test": [
                          0.2855028855
                        ]
                      },
                      {
                        "learn": [
                          0.05825167847
                        ],
                        "iteration": 980,
                        "passed_time": 2.814085608,
                        "remaining_time": 0.05450318711,
                        "test": [
                          0.28548969
                        ]
                      },
                      {
                        "learn": [
                          0.05820148864
                        ],
                        "iteration": 981,
                        "passed_time": 2.816606524,
                        "remaining_time": 0.05162822548,
                        "test": [
                          0.2854791411
                        ]
                      },
                      {
                        "learn": [
                          0.05817259292
                        ],
                        "iteration": 982,
                        "passed_time": 2.819141554,
                        "remaining_time": 0.0487542283,
                        "test": [
                          0.285486662
                        ]
                      },
                      {
                        "learn": [
                          0.05814934866
                        ],
                        "iteration": 983,
                        "passed_time": 2.821414621,
                        "remaining_time": 0.04587666051,
                        "test": [
                          0.2854778484
                        ]
                      },
                      {
                        "learn": [
                          0.0580832946
                        ],
                        "iteration": 984,
                        "passed_time": 2.82378672,
                        "remaining_time": 0.04300182823,
                        "test": [
                          0.2854556097
                        ]
                      },
                      {
                        "learn": [
                          0.05801564303
                        ],
                        "iteration": 985,
                        "passed_time": 2.826124547,
                        "remaining_time": 0.04012752907,
                        "test": [
                          0.2854341788
                        ]
                      },
                      {
                        "learn": [
                          0.05795305291
                        ],
                        "iteration": 986,
                        "passed_time": 2.82861654,
                        "remaining_time": 0.03725634754,
                        "test": [
                          0.2854356954
                        ]
                      },
                      {
                        "learn": [
                          0.05791553403
                        ],
                        "iteration": 987,
                        "passed_time": 2.830907178,
                        "remaining_time": 0.03438348799,
                        "test": [
                          0.2854154416
                        ]
                      },
                      {
                        "learn": [
                          0.05786779532
                        ],
                        "iteration": 988,
                        "passed_time": 2.833137496,
                        "remaining_time": 0.03151113494,
                        "test": [
                          0.2853551299
                        ]
                      },
                      {
                        "learn": [
                          0.05778793505
                        ],
                        "iteration": 989,
                        "passed_time": 2.835339199,
                        "remaining_time": 0.02863978989,
                        "test": [
                          0.2853523671
                        ]
                      },
                      {
                        "learn": [
                          0.05767207818
                        ],
                        "iteration": 990,
                        "passed_time": 2.837585212,
                        "remaining_time": 0.0257701987,
                        "test": [
                          0.2853220769
                        ]
                      },
                      {
                        "learn": [
                          0.05763895455
                        ],
                        "iteration": 991,
                        "passed_time": 2.839699671,
                        "remaining_time": 0.0229008038,
                        "test": [
                          0.2853434812
                        ]
                      },
                      {
                        "learn": [
                          0.05754168395
                        ],
                        "iteration": 992,
                        "passed_time": 2.841819399,
                        "remaining_time": 0.02003296656,
                        "test": [
                          0.2853407543
                        ]
                      },
                      {
                        "learn": [
                          0.05741244199
                        ],
                        "iteration": 993,
                        "passed_time": 2.843893642,
                        "remaining_time": 0.01716636001,
                        "test": [
                          0.2853107733
                        ]
                      },
                      {
                        "learn": [
                          0.05727957395
                        ],
                        "iteration": 994,
                        "passed_time": 2.847523903,
                        "remaining_time": 0.01430916534,
                        "test": [
                          0.2852600378
                        ]
                      },
                      {
                        "learn": [
                          0.05724445398
                        ],
                        "iteration": 995,
                        "passed_time": 2.852679408,
                        "remaining_time": 0.01145654381,
                        "test": [
                          0.2852730467
                        ]
                      },
                      {
                        "learn": [
                          0.05719440407
                        ],
                        "iteration": 996,
                        "passed_time": 2.8550659,
                        "remaining_time": 0.008590970611,
                        "test": [
                          0.2852757761
                        ]
                      },
                      {
                        "learn": [
                          0.05712105422
                        ],
                        "iteration": 997,
                        "passed_time": 2.857330993,
                        "remaining_time": 0.005726114215,
                        "test": [
                          0.2852477696
                        ]
                      },
                      {
                        "learn": [
                          0.05704872138
                        ],
                        "iteration": 998,
                        "passed_time": 2.859547474,
                        "remaining_time": 0.002862409884,
                        "test": [
                          0.285246136
                        ]
                      },
                      {
                        "learn": [
                          0.056988932
                        ],
                        "iteration": 999,
                        "passed_time": 2.861678063,
                        "remaining_time": 0,
                        "test": [
                          0.285225483
                        ]
                      }
                    ],
                    "meta": {
                      "test_sets": [
                        "test"
                      ],
                      "test_metrics": [
                        {
                          "best_value": "Min",
                          "name": "RMSE"
                        }
                      ],
                      "learn_metrics": [
                        {
                          "best_value": "Min",
                          "name": "RMSE"
                        }
                      ],
                      "launch_mode": "Train",
                      "parameters": "",
                      "iteration_count": 1000,
                      "learn_sets": [
                        "learn"
                      ],
                      "name": "experiment"
                    }
                  }
                }
              }
            },
            "layout": "IPY_MODEL_ed7a40ba69b148289215ba7d261a88df"
          }
        }
      }
    }
  },
  "cells": [
    {
      "cell_type": "code",
      "execution_count": null,
      "metadata": {
        "id": "8RX1q3614wVV"
      },
      "outputs": [],
      "source": [
        "from sklearn.ensemble import StackingClassifier, StackingRegressor, BaggingRegressor, BaggingClassifier, GradientBoostingRegressor,GradientBoostingClassifier, RandomForestClassifier, RandomForestRegressor\n",
        "from sklearn.svm import LinearSVC\n",
        "import pandas as pd\n",
        "import numpy as np"
      ]
    },
    {
      "cell_type": "code",
      "source": [
        "df1 = pd.read_csv(\"balanced_bank_preprocessed.csv\") "
      ],
      "metadata": {
        "id": "LgmR8V-C5WFx"
      },
      "execution_count": null,
      "outputs": []
    },
    {
      "cell_type": "code",
      "source": [
        "df1.drop(df1.columns[0], axis = 1, inplace = True)\n",
        "df1.head()"
      ],
      "metadata": {
        "colab": {
          "base_uri": "https://localhost:8080/",
          "height": 270
        },
        "id": "E8BHpyL25e6H",
        "outputId": "eb983100-42f9-4235-eba3-5eabbabd9a40"
      },
      "execution_count": null,
      "outputs": [
        {
          "output_type": "execute_result",
          "data": {
            "text/plain": [
              "         job_cl  marital_cl  education_cl  default_cl  housing_cl  loan_cl  \\\n",
              "0 34579       0           1             0           0           0        0   \n",
              "1 446         2           0             3           0           1        0   \n",
              "2 20173       0           0             0           0           1        0   \n",
              "3 18171       0           0             1           0           0        1   \n",
              "4 30128       4           1             0           0           0        0   \n",
              "\n",
              "         contact_cl  month_cl  day_of_week_cl  duration  campaign  pdays  \\\n",
              "0 34579           0         2               3       143         1    999   \n",
              "1 446             1         2               1      1623         1    999   \n",
              "2 20173           0         5               0       610         2    999   \n",
              "3 18171           1         4               2      1089         2    999   \n",
              "4 30128           0         1               3       211         1    999   \n",
              "\n",
              "         previous  poutcome_cl  emp.var.rate  cons.price.idx  cons.conf.idx  \\\n",
              "0 34579         1            1          -1.8          92.893          -46.2   \n",
              "1 446           0            0           1.1          93.994          -36.4   \n",
              "2 20173         0            0           1.4          93.444          -36.1   \n",
              "3 18171         0            0           1.4          93.918          -42.7   \n",
              "4 30128         0            0          -1.8          93.075          -47.1   \n",
              "\n",
              "         euribor3m  nr.employed  y_cl  \n",
              "0 34579      1.266       5099.1     0  \n",
              "1 446        4.857       5191.0     1  \n",
              "2 20173      4.965       5228.1     1  \n",
              "3 18171      4.963       5228.1     1  \n",
              "4 30128      1.365       5099.1     0  "
            ],
            "text/html": [
              "\n",
              "  <div id=\"df-f774c373-44d4-419a-94ab-f033ec8ef067\">\n",
              "    <div class=\"colab-df-container\">\n",
              "      <div>\n",
              "<style scoped>\n",
              "    .dataframe tbody tr th:only-of-type {\n",
              "        vertical-align: middle;\n",
              "    }\n",
              "\n",
              "    .dataframe tbody tr th {\n",
              "        vertical-align: top;\n",
              "    }\n",
              "\n",
              "    .dataframe thead th {\n",
              "        text-align: right;\n",
              "    }\n",
              "</style>\n",
              "<table border=\"1\" class=\"dataframe\">\n",
              "  <thead>\n",
              "    <tr style=\"text-align: right;\">\n",
              "      <th></th>\n",
              "      <th></th>\n",
              "      <th>job_cl</th>\n",
              "      <th>marital_cl</th>\n",
              "      <th>education_cl</th>\n",
              "      <th>default_cl</th>\n",
              "      <th>housing_cl</th>\n",
              "      <th>loan_cl</th>\n",
              "      <th>contact_cl</th>\n",
              "      <th>month_cl</th>\n",
              "      <th>day_of_week_cl</th>\n",
              "      <th>duration</th>\n",
              "      <th>campaign</th>\n",
              "      <th>pdays</th>\n",
              "      <th>previous</th>\n",
              "      <th>poutcome_cl</th>\n",
              "      <th>emp.var.rate</th>\n",
              "      <th>cons.price.idx</th>\n",
              "      <th>cons.conf.idx</th>\n",
              "      <th>euribor3m</th>\n",
              "      <th>nr.employed</th>\n",
              "      <th>y_cl</th>\n",
              "    </tr>\n",
              "  </thead>\n",
              "  <tbody>\n",
              "    <tr>\n",
              "      <th>0</th>\n",
              "      <th>34579</th>\n",
              "      <td>0</td>\n",
              "      <td>1</td>\n",
              "      <td>0</td>\n",
              "      <td>0</td>\n",
              "      <td>0</td>\n",
              "      <td>0</td>\n",
              "      <td>0</td>\n",
              "      <td>2</td>\n",
              "      <td>3</td>\n",
              "      <td>143</td>\n",
              "      <td>1</td>\n",
              "      <td>999</td>\n",
              "      <td>1</td>\n",
              "      <td>1</td>\n",
              "      <td>-1.8</td>\n",
              "      <td>92.893</td>\n",
              "      <td>-46.2</td>\n",
              "      <td>1.266</td>\n",
              "      <td>5099.1</td>\n",
              "      <td>0</td>\n",
              "    </tr>\n",
              "    <tr>\n",
              "      <th>1</th>\n",
              "      <th>446</th>\n",
              "      <td>2</td>\n",
              "      <td>0</td>\n",
              "      <td>3</td>\n",
              "      <td>0</td>\n",
              "      <td>1</td>\n",
              "      <td>0</td>\n",
              "      <td>1</td>\n",
              "      <td>2</td>\n",
              "      <td>1</td>\n",
              "      <td>1623</td>\n",
              "      <td>1</td>\n",
              "      <td>999</td>\n",
              "      <td>0</td>\n",
              "      <td>0</td>\n",
              "      <td>1.1</td>\n",
              "      <td>93.994</td>\n",
              "      <td>-36.4</td>\n",
              "      <td>4.857</td>\n",
              "      <td>5191.0</td>\n",
              "      <td>1</td>\n",
              "    </tr>\n",
              "    <tr>\n",
              "      <th>2</th>\n",
              "      <th>20173</th>\n",
              "      <td>0</td>\n",
              "      <td>0</td>\n",
              "      <td>0</td>\n",
              "      <td>0</td>\n",
              "      <td>1</td>\n",
              "      <td>0</td>\n",
              "      <td>0</td>\n",
              "      <td>5</td>\n",
              "      <td>0</td>\n",
              "      <td>610</td>\n",
              "      <td>2</td>\n",
              "      <td>999</td>\n",
              "      <td>0</td>\n",
              "      <td>0</td>\n",
              "      <td>1.4</td>\n",
              "      <td>93.444</td>\n",
              "      <td>-36.1</td>\n",
              "      <td>4.965</td>\n",
              "      <td>5228.1</td>\n",
              "      <td>1</td>\n",
              "    </tr>\n",
              "    <tr>\n",
              "      <th>3</th>\n",
              "      <th>18171</th>\n",
              "      <td>0</td>\n",
              "      <td>0</td>\n",
              "      <td>1</td>\n",
              "      <td>0</td>\n",
              "      <td>0</td>\n",
              "      <td>1</td>\n",
              "      <td>1</td>\n",
              "      <td>4</td>\n",
              "      <td>2</td>\n",
              "      <td>1089</td>\n",
              "      <td>2</td>\n",
              "      <td>999</td>\n",
              "      <td>0</td>\n",
              "      <td>0</td>\n",
              "      <td>1.4</td>\n",
              "      <td>93.918</td>\n",
              "      <td>-42.7</td>\n",
              "      <td>4.963</td>\n",
              "      <td>5228.1</td>\n",
              "      <td>1</td>\n",
              "    </tr>\n",
              "    <tr>\n",
              "      <th>4</th>\n",
              "      <th>30128</th>\n",
              "      <td>4</td>\n",
              "      <td>1</td>\n",
              "      <td>0</td>\n",
              "      <td>0</td>\n",
              "      <td>0</td>\n",
              "      <td>0</td>\n",
              "      <td>0</td>\n",
              "      <td>1</td>\n",
              "      <td>3</td>\n",
              "      <td>211</td>\n",
              "      <td>1</td>\n",
              "      <td>999</td>\n",
              "      <td>0</td>\n",
              "      <td>0</td>\n",
              "      <td>-1.8</td>\n",
              "      <td>93.075</td>\n",
              "      <td>-47.1</td>\n",
              "      <td>1.365</td>\n",
              "      <td>5099.1</td>\n",
              "      <td>0</td>\n",
              "    </tr>\n",
              "  </tbody>\n",
              "</table>\n",
              "</div>\n",
              "      <button class=\"colab-df-convert\" onclick=\"convertToInteractive('df-f774c373-44d4-419a-94ab-f033ec8ef067')\"\n",
              "              title=\"Convert this dataframe to an interactive table.\"\n",
              "              style=\"display:none;\">\n",
              "        \n",
              "  <svg xmlns=\"http://www.w3.org/2000/svg\" height=\"24px\"viewBox=\"0 0 24 24\"\n",
              "       width=\"24px\">\n",
              "    <path d=\"M0 0h24v24H0V0z\" fill=\"none\"/>\n",
              "    <path d=\"M18.56 5.44l.94 2.06.94-2.06 2.06-.94-2.06-.94-.94-2.06-.94 2.06-2.06.94zm-11 1L8.5 8.5l.94-2.06 2.06-.94-2.06-.94L8.5 2.5l-.94 2.06-2.06.94zm10 10l.94 2.06.94-2.06 2.06-.94-2.06-.94-.94-2.06-.94 2.06-2.06.94z\"/><path d=\"M17.41 7.96l-1.37-1.37c-.4-.4-.92-.59-1.43-.59-.52 0-1.04.2-1.43.59L10.3 9.45l-7.72 7.72c-.78.78-.78 2.05 0 2.83L4 21.41c.39.39.9.59 1.41.59.51 0 1.02-.2 1.41-.59l7.78-7.78 2.81-2.81c.8-.78.8-2.07 0-2.86zM5.41 20L4 18.59l7.72-7.72 1.47 1.35L5.41 20z\"/>\n",
              "  </svg>\n",
              "      </button>\n",
              "      \n",
              "  <style>\n",
              "    .colab-df-container {\n",
              "      display:flex;\n",
              "      flex-wrap:wrap;\n",
              "      gap: 12px;\n",
              "    }\n",
              "\n",
              "    .colab-df-convert {\n",
              "      background-color: #E8F0FE;\n",
              "      border: none;\n",
              "      border-radius: 50%;\n",
              "      cursor: pointer;\n",
              "      display: none;\n",
              "      fill: #1967D2;\n",
              "      height: 32px;\n",
              "      padding: 0 0 0 0;\n",
              "      width: 32px;\n",
              "    }\n",
              "\n",
              "    .colab-df-convert:hover {\n",
              "      background-color: #E2EBFA;\n",
              "      box-shadow: 0px 1px 2px rgba(60, 64, 67, 0.3), 0px 1px 3px 1px rgba(60, 64, 67, 0.15);\n",
              "      fill: #174EA6;\n",
              "    }\n",
              "\n",
              "    [theme=dark] .colab-df-convert {\n",
              "      background-color: #3B4455;\n",
              "      fill: #D2E3FC;\n",
              "    }\n",
              "\n",
              "    [theme=dark] .colab-df-convert:hover {\n",
              "      background-color: #434B5C;\n",
              "      box-shadow: 0px 1px 3px 1px rgba(0, 0, 0, 0.15);\n",
              "      filter: drop-shadow(0px 1px 2px rgba(0, 0, 0, 0.3));\n",
              "      fill: #FFFFFF;\n",
              "    }\n",
              "  </style>\n",
              "\n",
              "      <script>\n",
              "        const buttonEl =\n",
              "          document.querySelector('#df-f774c373-44d4-419a-94ab-f033ec8ef067 button.colab-df-convert');\n",
              "        buttonEl.style.display =\n",
              "          google.colab.kernel.accessAllowed ? 'block' : 'none';\n",
              "\n",
              "        async function convertToInteractive(key) {\n",
              "          const element = document.querySelector('#df-f774c373-44d4-419a-94ab-f033ec8ef067');\n",
              "          const dataTable =\n",
              "            await google.colab.kernel.invokeFunction('convertToInteractive',\n",
              "                                                     [key], {});\n",
              "          if (!dataTable) return;\n",
              "\n",
              "          const docLinkHtml = 'Like what you see? Visit the ' +\n",
              "            '<a target=\"_blank\" href=https://colab.research.google.com/notebooks/data_table.ipynb>data table notebook</a>'\n",
              "            + ' to learn more about interactive tables.';\n",
              "          element.innerHTML = '';\n",
              "          dataTable['output_type'] = 'display_data';\n",
              "          await google.colab.output.renderOutput(dataTable, element);\n",
              "          const docLink = document.createElement('div');\n",
              "          docLink.innerHTML = docLinkHtml;\n",
              "          element.appendChild(docLink);\n",
              "        }\n",
              "      </script>\n",
              "    </div>\n",
              "  </div>\n",
              "  "
            ]
          },
          "metadata": {},
          "execution_count": 4
        }
      ]
    },
    {
      "cell_type": "code",
      "source": [
        "df1.info() "
      ],
      "metadata": {
        "colab": {
          "base_uri": "https://localhost:8080/"
        },
        "id": "bHnCoJGw5hbs",
        "outputId": "a9fce03d-f7e1-467b-8440-44071704dced"
      },
      "execution_count": null,
      "outputs": [
        {
          "output_type": "stream",
          "name": "stdout",
          "text": [
            "<class 'pandas.core.frame.DataFrame'>\n",
            "MultiIndex: 9280 entries, (0, 34579) to (9279, 16807)\n",
            "Data columns (total 20 columns):\n",
            " #   Column          Non-Null Count  Dtype  \n",
            "---  ------          --------------  -----  \n",
            " 0   job_cl          9280 non-null   int64  \n",
            " 1   marital_cl      9280 non-null   int64  \n",
            " 2   education_cl    9280 non-null   int64  \n",
            " 3   default_cl      9280 non-null   int64  \n",
            " 4   housing_cl      9280 non-null   int64  \n",
            " 5   loan_cl         9280 non-null   int64  \n",
            " 6   contact_cl      9280 non-null   int64  \n",
            " 7   month_cl        9280 non-null   int64  \n",
            " 8   day_of_week_cl  9280 non-null   int64  \n",
            " 9   duration        9280 non-null   int64  \n",
            " 10  campaign        9280 non-null   int64  \n",
            " 11  pdays           9280 non-null   int64  \n",
            " 12  previous        9280 non-null   int64  \n",
            " 13  poutcome_cl     9280 non-null   int64  \n",
            " 14  emp.var.rate    9280 non-null   float64\n",
            " 15  cons.price.idx  9280 non-null   float64\n",
            " 16  cons.conf.idx   9280 non-null   float64\n",
            " 17  euribor3m       9280 non-null   float64\n",
            " 18  nr.employed     9280 non-null   float64\n",
            " 19  y_cl            9280 non-null   int64  \n",
            "dtypes: float64(5), int64(15)\n",
            "memory usage: 2.1 MB\n"
          ]
        }
      ]
    },
    {
      "cell_type": "code",
      "source": [
        "X = df1.iloc[:, :-1].values\n",
        "y = df1.iloc[:, 19].values"
      ],
      "metadata": {
        "id": "IrzJA94D5mR5"
      },
      "execution_count": null,
      "outputs": []
    },
    {
      "cell_type": "code",
      "source": [
        "from sklearn.model_selection import train_test_split\n",
        "X_train, X_test, y_train, y_test = train_test_split(X, y, test_size=0.25)"
      ],
      "metadata": {
        "id": "AR-Zdmww5xNj"
      },
      "execution_count": null,
      "outputs": []
    },
    {
      "cell_type": "code",
      "source": [
        "from sklearn.preprocessing import StandardScaler\n",
        "\n",
        "scaler = StandardScaler()\n",
        "scaler.fit(X_train)\n",
        "\n",
        "X_train = scaler.transform(X_train)\n",
        "X_test = scaler.transform(X_test)"
      ],
      "metadata": {
        "id": "ApGJom2G50vp"
      },
      "execution_count": null,
      "outputs": []
    },
    {
      "cell_type": "code",
      "source": [
        "from sklearn.ensemble import BaggingClassifier\n",
        "from sklearn.metrics import classification_report, confusion_matrix"
      ],
      "metadata": {
        "id": "XAODoOBj539H"
      },
      "execution_count": null,
      "outputs": []
    },
    {
      "cell_type": "code",
      "source": [
        "clf = BaggingClassifier()\n",
        "clf.fit(X_train, y_train)"
      ],
      "metadata": {
        "colab": {
          "base_uri": "https://localhost:8080/"
        },
        "id": "W-efCoT25_KL",
        "outputId": "61fe02a1-f390-42ce-92a1-2694cbd4f1f7"
      },
      "execution_count": null,
      "outputs": [
        {
          "output_type": "execute_result",
          "data": {
            "text/plain": [
              "BaggingClassifier()"
            ]
          },
          "metadata": {},
          "execution_count": 10
        }
      ]
    },
    {
      "cell_type": "code",
      "source": [
        "y_pred = clf.predict(X_test)\n",
        "print(confusion_matrix(y_test, y_pred))\n",
        "print(classification_report(y_test, y_pred))\n",
        "print(clf.score(X_test, y_test))"
      ],
      "metadata": {
        "colab": {
          "base_uri": "https://localhost:8080/"
        },
        "id": "5FjsulUU5_uX",
        "outputId": "1d03706e-6a34-4b9f-8db8-4d4a9705ba22"
      },
      "execution_count": null,
      "outputs": [
        {
          "output_type": "stream",
          "name": "stdout",
          "text": [
            "[[1024  160]\n",
            " [ 157  979]]\n",
            "              precision    recall  f1-score   support\n",
            "\n",
            "           0       0.87      0.86      0.87      1184\n",
            "           1       0.86      0.86      0.86      1136\n",
            "\n",
            "    accuracy                           0.86      2320\n",
            "   macro avg       0.86      0.86      0.86      2320\n",
            "weighted avg       0.86      0.86      0.86      2320\n",
            "\n",
            "0.8633620689655173\n"
          ]
        }
      ]
    },
    {
      "cell_type": "code",
      "source": [
        "X_ = df1.iloc[:, :-2].values\n",
        "y_ = df1.iloc[:, 18].values #квартальный показатель"
      ],
      "metadata": {
        "id": "VIH_DIgh8Ioh"
      },
      "execution_count": null,
      "outputs": []
    },
    {
      "cell_type": "code",
      "source": [
        "from sklearn.ensemble import BaggingRegressor\n",
        "from sklearn.metrics import r2_score, mean_squared_error, mean_absolute_error"
      ],
      "metadata": {
        "id": "EsSUHBEx68k-"
      },
      "execution_count": null,
      "outputs": []
    },
    {
      "cell_type": "code",
      "source": [
        "X_reg_train, X_reg_test, y_reg_train, y_reg_test = train_test_split(X_, y_, test_size=0.25)"
      ],
      "metadata": {
        "id": "c03k19bM7HYQ"
      },
      "execution_count": null,
      "outputs": []
    },
    {
      "cell_type": "code",
      "source": [
        "from sklearn.model_selection import learning_curve \n",
        "from sklearn.metrics import make_scorer\n",
        "from sklearn.linear_model import Lasso, Ridge, LassoCV, LinearRegression\n",
        "from sklearn.preprocessing import StandardScaler\n",
        "from sklearn.model_selection import GridSearchCV\n",
        "\n",
        "reg = BaggingRegressor()\n",
        "reg.fit(X_reg_train, y_reg_train)\n",
        "y_reg_pred = reg.predict(X_reg_test)\n",
        "MSE = mean_squared_error(y_reg_test, y_reg_pred) \n",
        "print(\"MSE: \", MSE)\n",
        "print(\"RMSE:\", np.sqrt(MSE))\n",
        "MAE = mean_absolute_error(y_reg_test, y_reg_pred)\n",
        "print(\"MAE: \", MAE)\n",
        "print(\"R2: \", r2_score(y_reg_test, y_reg_pred))"
      ],
      "metadata": {
        "colab": {
          "base_uri": "https://localhost:8080/"
        },
        "id": "CltTOq137xgW",
        "outputId": "122cba3c-3c53-4389-be29-460e44363d93"
      },
      "execution_count": null,
      "outputs": [
        {
          "output_type": "stream",
          "name": "stdout",
          "text": [
            "MSE:  0.0009441379310362466\n",
            "RMSE: 0.03072682754591249\n",
            "MAE:  0.00063793106027929\n",
            "R2:  0.9999998750298472\n"
          ]
        }
      ]
    },
    {
      "cell_type": "code",
      "source": [
        "from sklearn.ensemble import GradientBoostingClassifier"
      ],
      "metadata": {
        "id": "PbUkDke_-Fhx"
      },
      "execution_count": null,
      "outputs": []
    },
    {
      "cell_type": "code",
      "source": [
        "clf = GradientBoostingClassifier()\n",
        "clf.fit(X_train, y_train)"
      ],
      "metadata": {
        "colab": {
          "base_uri": "https://localhost:8080/"
        },
        "id": "T34ieTO9-KHK",
        "outputId": "6a8bba79-7c3e-4130-a2d6-58f546f3f19c"
      },
      "execution_count": null,
      "outputs": [
        {
          "output_type": "execute_result",
          "data": {
            "text/plain": [
              "GradientBoostingClassifier()"
            ]
          },
          "metadata": {},
          "execution_count": 17
        }
      ]
    },
    {
      "cell_type": "code",
      "source": [
        "y_pred = clf.predict(X_test)\n",
        "print(confusion_matrix(y_test, y_pred))\n",
        "print(classification_report(y_test, y_pred))\n",
        "print(clf.score(X_test, y_test))"
      ],
      "metadata": {
        "colab": {
          "base_uri": "https://localhost:8080/"
        },
        "id": "q7jXiW3N-Nfj",
        "outputId": "fae9dcee-15d6-4f20-d4ad-bca066a0d7cb"
      },
      "execution_count": null,
      "outputs": [
        {
          "output_type": "stream",
          "name": "stdout",
          "text": [
            "[[ 992  192]\n",
            " [  89 1047]]\n",
            "              precision    recall  f1-score   support\n",
            "\n",
            "           0       0.92      0.84      0.88      1184\n",
            "           1       0.85      0.92      0.88      1136\n",
            "\n",
            "    accuracy                           0.88      2320\n",
            "   macro avg       0.88      0.88      0.88      2320\n",
            "weighted avg       0.88      0.88      0.88      2320\n",
            "\n",
            "0.8788793103448276\n"
          ]
        }
      ]
    },
    {
      "cell_type": "code",
      "source": [
        "from sklearn.ensemble import GradientBoostingRegressor"
      ],
      "metadata": {
        "id": "D56_AJ7t-oMA"
      },
      "execution_count": null,
      "outputs": []
    },
    {
      "cell_type": "code",
      "source": [
        "reg = GradientBoostingRegressor()\n",
        "reg.fit(X_reg_train, y_reg_train)\n",
        "y_reg_pred = reg.predict(X_reg_test)\n",
        "MSE = mean_squared_error(y_reg_test, y_reg_pred) \n",
        "print(\"MSE: \", MSE)\n",
        "print(\"RMSE:\", np.sqrt(MSE))\n",
        "MAE = mean_absolute_error(y_reg_test, y_reg_pred)\n",
        "print(\"MAE: \", MAE)\n",
        "print(\"R2: \", r2_score(y_reg_test, y_reg_pred))"
      ],
      "metadata": {
        "colab": {
          "base_uri": "https://localhost:8080/"
        },
        "id": "6PHYGr_i-0cR",
        "outputId": "85832514-51cc-4cd4-c4be-e136ab4773f0"
      },
      "execution_count": null,
      "outputs": [
        {
          "output_type": "stream",
          "name": "stdout",
          "text": [
            "MSE:  0.062049087012476856\n",
            "RMSE: 0.24909654155061417\n",
            "MAE:  0.05697150562777967\n",
            "R2:  0.9999917869162693\n"
          ]
        }
      ]
    },
    {
      "cell_type": "code",
      "source": [
        "from sklearn.linear_model import LogisticRegression\n",
        "from sklearn.ensemble import StackingClassifier\n",
        "from sklearn.pipeline import make_pipeline"
      ],
      "metadata": {
        "id": "TiLnjNw4-71m"
      },
      "execution_count": null,
      "outputs": []
    },
    {
      "cell_type": "code",
      "source": [
        "base_learners = [\n",
        "                 ('rf_1', RandomForestClassifier(n_estimators=10, random_state=42)),\n",
        "                 ('rf_2', LogisticRegression())             \n",
        "                ]\n",
        "clf = StackingClassifier(estimators=base_learners,\n",
        "                         final_estimator=LogisticRegression(),  \n",
        "                         cv=10)\n",
        "clf.fit(X_train, y_train)"
      ],
      "metadata": {
        "colab": {
          "base_uri": "https://localhost:8080/"
        },
        "id": "JqSDPKp1_mz6",
        "outputId": "ae34d340-1384-4264-f844-9500ce0bc30b"
      },
      "execution_count": null,
      "outputs": [
        {
          "output_type": "execute_result",
          "data": {
            "text/plain": [
              "StackingClassifier(cv=10,\n",
              "                   estimators=[('rf_1',\n",
              "                                RandomForestClassifier(n_estimators=10,\n",
              "                                                       random_state=42)),\n",
              "                               ('rf_2', LogisticRegression())],\n",
              "                   final_estimator=LogisticRegression())"
            ]
          },
          "metadata": {},
          "execution_count": 22
        }
      ]
    },
    {
      "cell_type": "code",
      "source": [
        "y_pred = clf.predict(X_test)\n",
        "print(confusion_matrix(y_test, y_pred))\n",
        "print(classification_report(y_test, y_pred))\n",
        "print(clf.score(X_test, y_test))"
      ],
      "metadata": {
        "colab": {
          "base_uri": "https://localhost:8080/"
        },
        "id": "J16v0Jaj_taP",
        "outputId": "a8faf22a-315e-4e23-95c0-898cf1fd088a"
      },
      "execution_count": null,
      "outputs": [
        {
          "output_type": "stream",
          "name": "stdout",
          "text": [
            "[[1004  180]\n",
            " [ 116 1020]]\n",
            "              precision    recall  f1-score   support\n",
            "\n",
            "           0       0.90      0.85      0.87      1184\n",
            "           1       0.85      0.90      0.87      1136\n",
            "\n",
            "    accuracy                           0.87      2320\n",
            "   macro avg       0.87      0.87      0.87      2320\n",
            "weighted avg       0.87      0.87      0.87      2320\n",
            "\n",
            "0.8724137931034482\n"
          ]
        }
      ]
    },
    {
      "cell_type": "code",
      "source": [
        "from sklearn.ensemble import StackingRegressor"
      ],
      "metadata": {
        "id": "XAfewbN-Am4M"
      },
      "execution_count": null,
      "outputs": []
    },
    {
      "cell_type": "code",
      "source": [
        "base_learners = [\n",
        "    ('rf', RandomForestRegressor(n_estimators=10, random_state=42)),\n",
        "    ('svr', make_pipeline(StandardScaler(), LinearRegression()))]\n",
        "\n",
        "clf = StackingRegressor(estimators = base_learners)\n",
        "clf.fit(X_reg_train, y_reg_train)\n",
        "y_reg_pred = reg.predict(X_reg_test)\n",
        "MSE = mean_squared_error(y_reg_test, y_reg_pred) \n",
        "print(\"MSE: \", MSE)\n",
        "print(\"RMSE:\", np.sqrt(MSE))\n",
        "MAE = mean_absolute_error(y_reg_test, y_reg_pred)\n",
        "print(\"MAE: \", MAE)\n",
        "print(\"R2: \", r2_score(y_reg_test, y_reg_pred))"
      ],
      "metadata": {
        "colab": {
          "base_uri": "https://localhost:8080/"
        },
        "id": "malzPaKVAs8P",
        "outputId": "790baa9d-761d-478e-fea2-3d1f8bf026f4"
      },
      "execution_count": null,
      "outputs": [
        {
          "output_type": "stream",
          "name": "stdout",
          "text": [
            "MSE:  0.062049087012476856\n",
            "RMSE: 0.24909654155061417\n",
            "MAE:  0.05697150562777967\n",
            "R2:  0.9999917869162693\n"
          ]
        }
      ]
    },
    {
      "cell_type": "code",
      "source": [
        "!pip install catboost\n",
        "!pip install ipywidgets\n",
        "from catboost import * \n",
        "from catboost import datasets"
      ],
      "metadata": {
        "colab": {
          "base_uri": "https://localhost:8080/"
        },
        "id": "XqGUVs-ruLhx",
        "outputId": "47e48ed6-0f93-447e-b680-702169bb1af5"
      },
      "execution_count": null,
      "outputs": [
        {
          "output_type": "stream",
          "name": "stdout",
          "text": [
            "Collecting catboost\n",
            "  Downloading catboost-1.0.5-cp37-none-manylinux1_x86_64.whl (76.6 MB)\n",
            "\u001b[K     |████████████████████████████████| 76.6 MB 1.2 MB/s \n",
            "\u001b[?25hRequirement already satisfied: graphviz in /usr/local/lib/python3.7/dist-packages (from catboost) (0.10.1)\n",
            "Requirement already satisfied: scipy in /usr/local/lib/python3.7/dist-packages (from catboost) (1.4.1)\n",
            "Requirement already satisfied: pandas>=0.24.0 in /usr/local/lib/python3.7/dist-packages (from catboost) (1.3.5)\n",
            "Requirement already satisfied: six in /usr/local/lib/python3.7/dist-packages (from catboost) (1.15.0)\n",
            "Requirement already satisfied: plotly in /usr/local/lib/python3.7/dist-packages (from catboost) (5.5.0)\n",
            "Requirement already satisfied: matplotlib in /usr/local/lib/python3.7/dist-packages (from catboost) (3.2.2)\n",
            "Requirement already satisfied: numpy>=1.16.0 in /usr/local/lib/python3.7/dist-packages (from catboost) (1.21.6)\n",
            "Requirement already satisfied: pytz>=2017.3 in /usr/local/lib/python3.7/dist-packages (from pandas>=0.24.0->catboost) (2022.1)\n",
            "Requirement already satisfied: python-dateutil>=2.7.3 in /usr/local/lib/python3.7/dist-packages (from pandas>=0.24.0->catboost) (2.8.2)\n",
            "Requirement already satisfied: cycler>=0.10 in /usr/local/lib/python3.7/dist-packages (from matplotlib->catboost) (0.11.0)\n",
            "Requirement already satisfied: kiwisolver>=1.0.1 in /usr/local/lib/python3.7/dist-packages (from matplotlib->catboost) (1.4.2)\n",
            "Requirement already satisfied: pyparsing!=2.0.4,!=2.1.2,!=2.1.6,>=2.0.1 in /usr/local/lib/python3.7/dist-packages (from matplotlib->catboost) (3.0.8)\n",
            "Requirement already satisfied: typing-extensions in /usr/local/lib/python3.7/dist-packages (from kiwisolver>=1.0.1->matplotlib->catboost) (4.2.0)\n",
            "Requirement already satisfied: tenacity>=6.2.0 in /usr/local/lib/python3.7/dist-packages (from plotly->catboost) (8.0.1)\n",
            "Installing collected packages: catboost\n",
            "Successfully installed catboost-1.0.5\n",
            "Requirement already satisfied: ipywidgets in /usr/local/lib/python3.7/dist-packages (7.7.0)\n",
            "Requirement already satisfied: widgetsnbextension~=3.6.0 in /usr/local/lib/python3.7/dist-packages (from ipywidgets) (3.6.0)\n",
            "Requirement already satisfied: ipython-genutils~=0.2.0 in /usr/local/lib/python3.7/dist-packages (from ipywidgets) (0.2.0)\n",
            "Requirement already satisfied: nbformat>=4.2.0 in /usr/local/lib/python3.7/dist-packages (from ipywidgets) (5.3.0)\n",
            "Requirement already satisfied: traitlets>=4.3.1 in /usr/local/lib/python3.7/dist-packages (from ipywidgets) (5.1.1)\n",
            "Requirement already satisfied: ipykernel>=4.5.1 in /usr/local/lib/python3.7/dist-packages (from ipywidgets) (4.10.1)\n",
            "Requirement already satisfied: ipython>=4.0.0 in /usr/local/lib/python3.7/dist-packages (from ipywidgets) (5.5.0)\n",
            "Requirement already satisfied: jupyterlab-widgets>=1.0.0 in /usr/local/lib/python3.7/dist-packages (from ipywidgets) (1.1.0)\n",
            "Requirement already satisfied: jupyter-client in /usr/local/lib/python3.7/dist-packages (from ipykernel>=4.5.1->ipywidgets) (5.3.5)\n",
            "Requirement already satisfied: tornado>=4.0 in /usr/local/lib/python3.7/dist-packages (from ipykernel>=4.5.1->ipywidgets) (5.1.1)\n",
            "Requirement already satisfied: decorator in /usr/local/lib/python3.7/dist-packages (from ipython>=4.0.0->ipywidgets) (4.4.2)\n",
            "Requirement already satisfied: pygments in /usr/local/lib/python3.7/dist-packages (from ipython>=4.0.0->ipywidgets) (2.6.1)\n",
            "Requirement already satisfied: pickleshare in /usr/local/lib/python3.7/dist-packages (from ipython>=4.0.0->ipywidgets) (0.7.5)\n",
            "Requirement already satisfied: prompt-toolkit<2.0.0,>=1.0.4 in /usr/local/lib/python3.7/dist-packages (from ipython>=4.0.0->ipywidgets) (1.0.18)\n",
            "Requirement already satisfied: simplegeneric>0.8 in /usr/local/lib/python3.7/dist-packages (from ipython>=4.0.0->ipywidgets) (0.8.1)\n",
            "Requirement already satisfied: pexpect in /usr/local/lib/python3.7/dist-packages (from ipython>=4.0.0->ipywidgets) (4.8.0)\n",
            "Requirement already satisfied: setuptools>=18.5 in /usr/local/lib/python3.7/dist-packages (from ipython>=4.0.0->ipywidgets) (57.4.0)\n",
            "Requirement already satisfied: jupyter-core in /usr/local/lib/python3.7/dist-packages (from nbformat>=4.2.0->ipywidgets) (4.10.0)\n",
            "Requirement already satisfied: jsonschema>=2.6 in /usr/local/lib/python3.7/dist-packages (from nbformat>=4.2.0->ipywidgets) (4.3.3)\n",
            "Requirement already satisfied: fastjsonschema in /usr/local/lib/python3.7/dist-packages (from nbformat>=4.2.0->ipywidgets) (2.15.3)\n",
            "Requirement already satisfied: importlib-metadata in /usr/local/lib/python3.7/dist-packages (from jsonschema>=2.6->nbformat>=4.2.0->ipywidgets) (4.11.3)\n",
            "Requirement already satisfied: pyrsistent!=0.17.0,!=0.17.1,!=0.17.2,>=0.14.0 in /usr/local/lib/python3.7/dist-packages (from jsonschema>=2.6->nbformat>=4.2.0->ipywidgets) (0.18.1)\n",
            "Requirement already satisfied: typing-extensions in /usr/local/lib/python3.7/dist-packages (from jsonschema>=2.6->nbformat>=4.2.0->ipywidgets) (4.2.0)\n",
            "Requirement already satisfied: attrs>=17.4.0 in /usr/local/lib/python3.7/dist-packages (from jsonschema>=2.6->nbformat>=4.2.0->ipywidgets) (21.4.0)\n",
            "Requirement already satisfied: importlib-resources>=1.4.0 in /usr/local/lib/python3.7/dist-packages (from jsonschema>=2.6->nbformat>=4.2.0->ipywidgets) (5.7.1)\n",
            "Requirement already satisfied: zipp>=3.1.0 in /usr/local/lib/python3.7/dist-packages (from importlib-resources>=1.4.0->jsonschema>=2.6->nbformat>=4.2.0->ipywidgets) (3.8.0)\n",
            "Requirement already satisfied: wcwidth in /usr/local/lib/python3.7/dist-packages (from prompt-toolkit<2.0.0,>=1.0.4->ipython>=4.0.0->ipywidgets) (0.2.5)\n",
            "Requirement already satisfied: six>=1.9.0 in /usr/local/lib/python3.7/dist-packages (from prompt-toolkit<2.0.0,>=1.0.4->ipython>=4.0.0->ipywidgets) (1.15.0)\n",
            "Requirement already satisfied: notebook>=4.4.1 in /usr/local/lib/python3.7/dist-packages (from widgetsnbextension~=3.6.0->ipywidgets) (5.3.1)\n",
            "Requirement already satisfied: Send2Trash in /usr/local/lib/python3.7/dist-packages (from notebook>=4.4.1->widgetsnbextension~=3.6.0->ipywidgets) (1.8.0)\n",
            "Requirement already satisfied: terminado>=0.8.1 in /usr/local/lib/python3.7/dist-packages (from notebook>=4.4.1->widgetsnbextension~=3.6.0->ipywidgets) (0.13.3)\n",
            "Requirement already satisfied: jinja2 in /usr/local/lib/python3.7/dist-packages (from notebook>=4.4.1->widgetsnbextension~=3.6.0->ipywidgets) (2.11.3)\n",
            "Requirement already satisfied: nbconvert in /usr/local/lib/python3.7/dist-packages (from notebook>=4.4.1->widgetsnbextension~=3.6.0->ipywidgets) (5.6.1)\n",
            "Requirement already satisfied: pyzmq>=13 in /usr/local/lib/python3.7/dist-packages (from jupyter-client->ipykernel>=4.5.1->ipywidgets) (22.3.0)\n",
            "Requirement already satisfied: python-dateutil>=2.1 in /usr/local/lib/python3.7/dist-packages (from jupyter-client->ipykernel>=4.5.1->ipywidgets) (2.8.2)\n",
            "Requirement already satisfied: ptyprocess in /usr/local/lib/python3.7/dist-packages (from terminado>=0.8.1->notebook>=4.4.1->widgetsnbextension~=3.6.0->ipywidgets) (0.7.0)\n",
            "Requirement already satisfied: MarkupSafe>=0.23 in /usr/local/lib/python3.7/dist-packages (from jinja2->notebook>=4.4.1->widgetsnbextension~=3.6.0->ipywidgets) (2.0.1)\n",
            "Requirement already satisfied: defusedxml in /usr/local/lib/python3.7/dist-packages (from nbconvert->notebook>=4.4.1->widgetsnbextension~=3.6.0->ipywidgets) (0.7.1)\n",
            "Requirement already satisfied: mistune<2,>=0.8.1 in /usr/local/lib/python3.7/dist-packages (from nbconvert->notebook>=4.4.1->widgetsnbextension~=3.6.0->ipywidgets) (0.8.4)\n",
            "Requirement already satisfied: testpath in /usr/local/lib/python3.7/dist-packages (from nbconvert->notebook>=4.4.1->widgetsnbextension~=3.6.0->ipywidgets) (0.6.0)\n",
            "Requirement already satisfied: pandocfilters>=1.4.1 in /usr/local/lib/python3.7/dist-packages (from nbconvert->notebook>=4.4.1->widgetsnbextension~=3.6.0->ipywidgets) (1.5.0)\n",
            "Requirement already satisfied: bleach in /usr/local/lib/python3.7/dist-packages (from nbconvert->notebook>=4.4.1->widgetsnbextension~=3.6.0->ipywidgets) (5.0.0)\n",
            "Requirement already satisfied: entrypoints>=0.2.2 in /usr/local/lib/python3.7/dist-packages (from nbconvert->notebook>=4.4.1->widgetsnbextension~=3.6.0->ipywidgets) (0.4)\n",
            "Requirement already satisfied: webencodings in /usr/local/lib/python3.7/dist-packages (from bleach->nbconvert->notebook>=4.4.1->widgetsnbextension~=3.6.0->ipywidgets) (0.5.1)\n"
          ]
        }
      ]
    },
    {
      "cell_type": "code",
      "source": [
        "from catboost import CatBoostClassifier\n",
        "\n",
        "#установка параметров\n",
        "model = CatBoostClassifier (\n",
        "    task_type = \"CPU\",\n",
        "    iterations = 200,\n",
        "    learning_rate = 0.1,\n",
        "    use_best_model = True,\n",
        "    loss_function = \"CrossEntropy\"\n",
        ")\n",
        "\n",
        "model.fit (\n",
        "    X_train, y_train,\n",
        "    eval_set = (X_test, y_test),\n",
        "    verbose = 30,\n",
        "    plot = True\n",
        ")\n",
        "\n",
        "y_pred = model.predict(X_test)\n",
        "print(model.score(X_test, y_test))"
      ],
      "metadata": {
        "colab": {
          "base_uri": "https://localhost:8080/",
          "height": 260,
          "referenced_widgets": [
            "308527d5e26742889be256633106c20f"
          ]
        },
        "id": "XI_AWaH3utuE",
        "outputId": "90e0de51-d10e-441b-f0d9-ccf72dd1dbca"
      },
      "execution_count": null,
      "outputs": [
        {
          "output_type": "display_data",
          "data": {
            "text/plain": [
              "MetricVisualizer(layout=Layout(align_self='stretch', height='500px'))"
            ],
            "application/vnd.jupyter.widget-view+json": {
              "version_major": 2,
              "version_minor": 0,
              "model_id": "308527d5e26742889be256633106c20f"
            }
          },
          "metadata": {}
        },
        {
          "output_type": "stream",
          "name": "stdout",
          "text": [
            "0:\tlearn: 0.5957722\ttest: 0.5955455\tbest: 0.5955455 (0)\ttotal: 50.5ms\tremaining: 10s\n",
            "30:\tlearn: 0.2741745\ttest: 0.2975468\tbest: 0.2975468 (30)\ttotal: 154ms\tremaining: 840ms\n",
            "60:\tlearn: 0.2494112\ttest: 0.2863406\tbest: 0.2863406 (60)\ttotal: 265ms\tremaining: 603ms\n",
            "90:\tlearn: 0.2350867\ttest: 0.2812326\tbest: 0.2812326 (90)\ttotal: 381ms\tremaining: 456ms\n",
            "120:\tlearn: 0.2195411\ttest: 0.2771401\tbest: 0.2770700 (119)\ttotal: 593ms\tremaining: 387ms\n",
            "150:\tlearn: 0.2071426\ttest: 0.2766512\tbest: 0.2766512 (150)\ttotal: 930ms\tremaining: 302ms\n",
            "180:\tlearn: 0.1969893\ttest: 0.2763034\tbest: 0.2759529 (168)\ttotal: 1.16s\tremaining: 122ms\n",
            "199:\tlearn: 0.1905708\ttest: 0.2768243\tbest: 0.2759529 (168)\ttotal: 1.23s\tremaining: 0us\n",
            "\n",
            "bestTest = 0.2759529165\n",
            "bestIteration = 168\n",
            "\n",
            "Shrink model to first 169 iterations.\n",
            "0.8875\n"
          ]
        }
      ]
    },
    {
      "cell_type": "code",
      "source": [
        "from catboost import CatBoostRegressor\n",
        "\n",
        "model = CatBoostRegressor (\n",
        "    task_type = \"CPU\",\n",
        "    learning_rate = 0.1,\n",
        "    use_best_model = True,\n",
        "    loss_function = \"RMSE\"\n",
        ")\n",
        "\n",
        "model.fit (\n",
        "    X_reg_train, y_reg_train,\n",
        "    eval_set = (X_reg_test, y_reg_test),\n",
        "    verbose = False,\n",
        "    plot = True\n",
        ")\n",
        "\n",
        "y_reg_pred = model.predict(X_reg_test)\n",
        "print(model.score(X_reg_test, y_reg_test))"
      ],
      "metadata": {
        "colab": {
          "base_uri": "https://localhost:8080/",
          "height": 34,
          "referenced_widgets": [
            "2c765a3fddc347e2b70b461a04508177"
          ]
        },
        "id": "ua2wt9aVw3tO",
        "outputId": "6484c573-f3b6-4aab-811a-ce7706b64c12"
      },
      "execution_count": null,
      "outputs": [
        {
          "output_type": "display_data",
          "data": {
            "text/plain": [
              "MetricVisualizer(layout=Layout(align_self='stretch', height='500px'))"
            ],
            "application/vnd.jupyter.widget-view+json": {
              "version_major": 2,
              "version_minor": 0,
              "model_id": "2c765a3fddc347e2b70b461a04508177"
            }
          },
          "metadata": {}
        },
        {
          "output_type": "stream",
          "name": "stdout",
          "text": [
            "0.9999892313503438\n"
          ]
        }
      ]
    },
    {
      "cell_type": "code",
      "source": [
        "MSE = mean_squared_error(y_reg_test, y_reg_pred) \n",
        "print(\"MSE: \", MSE)\n",
        "print(\"RMSE:\", np.sqrt(MSE))\n",
        "MAE = mean_absolute_error(y_reg_test, y_reg_pred)\n",
        "print(\"MAE: \", MAE)\n",
        "print(\"R2: \", r2_score(y_reg_test, y_reg_pred))"
      ],
      "metadata": {
        "colab": {
          "base_uri": "https://localhost:8080/"
        },
        "id": "km8HI1fLxIbu",
        "outputId": "0e3e4640-b67b-45ec-988c-768160e0f578"
      },
      "execution_count": null,
      "outputs": [
        {
          "output_type": "stream",
          "name": "stdout",
          "text": [
            "MSE:  0.08135615092193477\n",
            "RMSE: 0.2852299965325084\n",
            "MAE:  0.0723459383885703\n",
            "R2:  0.9999892313503438\n"
          ]
        }
      ]
    }
  ]
}