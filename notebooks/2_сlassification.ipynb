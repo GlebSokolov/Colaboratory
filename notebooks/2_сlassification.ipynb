{
  "cells": [
    {
      "cell_type": "markdown",
      "metadata": {
        "id": "7r_tfOXJFAPz"
      },
      "source": [
        "# Задание 1"
      ]
    },
    {
      "cell_type": "code",
      "execution_count": 329,
      "metadata": {
        "colab": {
          "base_uri": "https://localhost:8080/"
        },
        "id": "r_nwpe1WJLVo",
        "outputId": "7e920ed6-0608-40a1-89b9-bce6a541163c"
      },
      "outputs": [
        {
          "output_type": "stream",
          "name": "stdout",
          "text": [
            "Requirement already satisfied: scikit-learn in /usr/local/lib/python3.7/dist-packages (1.0.2)\n",
            "Requirement already satisfied: scipy>=1.1.0 in /usr/local/lib/python3.7/dist-packages (from scikit-learn) (1.4.1)\n",
            "Requirement already satisfied: numpy>=1.14.6 in /usr/local/lib/python3.7/dist-packages (from scikit-learn) (1.21.5)\n",
            "Requirement already satisfied: joblib>=0.11 in /usr/local/lib/python3.7/dist-packages (from scikit-learn) (1.1.0)\n",
            "Requirement already satisfied: threadpoolctl>=2.0.0 in /usr/local/lib/python3.7/dist-packages (from scikit-learn) (3.1.0)\n"
          ]
        }
      ],
      "source": [
        "# https://scikit-learn.org/stable/install.html\n",
        "\n",
        "!pip install scikit-learn"
      ]
    },
    {
      "cell_type": "code",
      "execution_count": 330,
      "metadata": {
        "id": "WoY_ywGz4Cdj"
      },
      "outputs": [],
      "source": [
        "import pandas as pd\n",
        "\n",
        "dataset = pd.read_csv('balanced_bank_preprocessed.csv')\n",
        "del dataset['Unnamed: 0']"
      ]
    },
    {
      "cell_type": "code",
      "execution_count": 331,
      "metadata": {
        "colab": {
          "base_uri": "https://localhost:8080/",
          "height": 300
        },
        "id": "N27Xpvxy4Fr7",
        "outputId": "398cf51d-d9e3-4279-f126-9a8c92293793"
      },
      "outputs": [
        {
          "output_type": "execute_result",
          "data": {
            "text/plain": [
              "   age  job_cl  marital_cl  education_cl  default_cl  housing_cl  loan_cl  \\\n",
              "0   35       0           1             0           0           0        0   \n",
              "1   42       2           0             3           0           1        0   \n",
              "2   36       0           0             0           0           1        0   \n",
              "3   37       0           0             1           0           0        1   \n",
              "4   31       4           1             0           0           0        0   \n",
              "\n",
              "   contact_cl  month_cl  day_of_week_cl  ...  campaign  pdays  previous  \\\n",
              "0           0         2               3  ...         1    999         1   \n",
              "1           1         2               1  ...         1    999         0   \n",
              "2           0         5               0  ...         2    999         0   \n",
              "3           1         4               2  ...         2    999         0   \n",
              "4           0         1               3  ...         1    999         0   \n",
              "\n",
              "   poutcome_cl  emp.var.rate  cons.price.idx  cons.conf.idx  euribor3m  \\\n",
              "0            1          -1.8          92.893          -46.2      1.266   \n",
              "1            0           1.1          93.994          -36.4      4.857   \n",
              "2            0           1.4          93.444          -36.1      4.965   \n",
              "3            0           1.4          93.918          -42.7      4.963   \n",
              "4            0          -1.8          93.075          -47.1      1.365   \n",
              "\n",
              "   nr.employed  y_cl  \n",
              "0       5099.1     0  \n",
              "1       5191.0     1  \n",
              "2       5228.1     1  \n",
              "3       5228.1     1  \n",
              "4       5099.1     0  \n",
              "\n",
              "[5 rows x 21 columns]"
            ],
            "text/html": [
              "\n",
              "  <div id=\"df-ad09faa1-9ccb-4fc4-8b8f-4e577023e2f9\">\n",
              "    <div class=\"colab-df-container\">\n",
              "      <div>\n",
              "<style scoped>\n",
              "    .dataframe tbody tr th:only-of-type {\n",
              "        vertical-align: middle;\n",
              "    }\n",
              "\n",
              "    .dataframe tbody tr th {\n",
              "        vertical-align: top;\n",
              "    }\n",
              "\n",
              "    .dataframe thead th {\n",
              "        text-align: right;\n",
              "    }\n",
              "</style>\n",
              "<table border=\"1\" class=\"dataframe\">\n",
              "  <thead>\n",
              "    <tr style=\"text-align: right;\">\n",
              "      <th></th>\n",
              "      <th>age</th>\n",
              "      <th>job_cl</th>\n",
              "      <th>marital_cl</th>\n",
              "      <th>education_cl</th>\n",
              "      <th>default_cl</th>\n",
              "      <th>housing_cl</th>\n",
              "      <th>loan_cl</th>\n",
              "      <th>contact_cl</th>\n",
              "      <th>month_cl</th>\n",
              "      <th>day_of_week_cl</th>\n",
              "      <th>...</th>\n",
              "      <th>campaign</th>\n",
              "      <th>pdays</th>\n",
              "      <th>previous</th>\n",
              "      <th>poutcome_cl</th>\n",
              "      <th>emp.var.rate</th>\n",
              "      <th>cons.price.idx</th>\n",
              "      <th>cons.conf.idx</th>\n",
              "      <th>euribor3m</th>\n",
              "      <th>nr.employed</th>\n",
              "      <th>y_cl</th>\n",
              "    </tr>\n",
              "  </thead>\n",
              "  <tbody>\n",
              "    <tr>\n",
              "      <th>0</th>\n",
              "      <td>35</td>\n",
              "      <td>0</td>\n",
              "      <td>1</td>\n",
              "      <td>0</td>\n",
              "      <td>0</td>\n",
              "      <td>0</td>\n",
              "      <td>0</td>\n",
              "      <td>0</td>\n",
              "      <td>2</td>\n",
              "      <td>3</td>\n",
              "      <td>...</td>\n",
              "      <td>1</td>\n",
              "      <td>999</td>\n",
              "      <td>1</td>\n",
              "      <td>1</td>\n",
              "      <td>-1.8</td>\n",
              "      <td>92.893</td>\n",
              "      <td>-46.2</td>\n",
              "      <td>1.266</td>\n",
              "      <td>5099.1</td>\n",
              "      <td>0</td>\n",
              "    </tr>\n",
              "    <tr>\n",
              "      <th>1</th>\n",
              "      <td>42</td>\n",
              "      <td>2</td>\n",
              "      <td>0</td>\n",
              "      <td>3</td>\n",
              "      <td>0</td>\n",
              "      <td>1</td>\n",
              "      <td>0</td>\n",
              "      <td>1</td>\n",
              "      <td>2</td>\n",
              "      <td>1</td>\n",
              "      <td>...</td>\n",
              "      <td>1</td>\n",
              "      <td>999</td>\n",
              "      <td>0</td>\n",
              "      <td>0</td>\n",
              "      <td>1.1</td>\n",
              "      <td>93.994</td>\n",
              "      <td>-36.4</td>\n",
              "      <td>4.857</td>\n",
              "      <td>5191.0</td>\n",
              "      <td>1</td>\n",
              "    </tr>\n",
              "    <tr>\n",
              "      <th>2</th>\n",
              "      <td>36</td>\n",
              "      <td>0</td>\n",
              "      <td>0</td>\n",
              "      <td>0</td>\n",
              "      <td>0</td>\n",
              "      <td>1</td>\n",
              "      <td>0</td>\n",
              "      <td>0</td>\n",
              "      <td>5</td>\n",
              "      <td>0</td>\n",
              "      <td>...</td>\n",
              "      <td>2</td>\n",
              "      <td>999</td>\n",
              "      <td>0</td>\n",
              "      <td>0</td>\n",
              "      <td>1.4</td>\n",
              "      <td>93.444</td>\n",
              "      <td>-36.1</td>\n",
              "      <td>4.965</td>\n",
              "      <td>5228.1</td>\n",
              "      <td>1</td>\n",
              "    </tr>\n",
              "    <tr>\n",
              "      <th>3</th>\n",
              "      <td>37</td>\n",
              "      <td>0</td>\n",
              "      <td>0</td>\n",
              "      <td>1</td>\n",
              "      <td>0</td>\n",
              "      <td>0</td>\n",
              "      <td>1</td>\n",
              "      <td>1</td>\n",
              "      <td>4</td>\n",
              "      <td>2</td>\n",
              "      <td>...</td>\n",
              "      <td>2</td>\n",
              "      <td>999</td>\n",
              "      <td>0</td>\n",
              "      <td>0</td>\n",
              "      <td>1.4</td>\n",
              "      <td>93.918</td>\n",
              "      <td>-42.7</td>\n",
              "      <td>4.963</td>\n",
              "      <td>5228.1</td>\n",
              "      <td>1</td>\n",
              "    </tr>\n",
              "    <tr>\n",
              "      <th>4</th>\n",
              "      <td>31</td>\n",
              "      <td>4</td>\n",
              "      <td>1</td>\n",
              "      <td>0</td>\n",
              "      <td>0</td>\n",
              "      <td>0</td>\n",
              "      <td>0</td>\n",
              "      <td>0</td>\n",
              "      <td>1</td>\n",
              "      <td>3</td>\n",
              "      <td>...</td>\n",
              "      <td>1</td>\n",
              "      <td>999</td>\n",
              "      <td>0</td>\n",
              "      <td>0</td>\n",
              "      <td>-1.8</td>\n",
              "      <td>93.075</td>\n",
              "      <td>-47.1</td>\n",
              "      <td>1.365</td>\n",
              "      <td>5099.1</td>\n",
              "      <td>0</td>\n",
              "    </tr>\n",
              "  </tbody>\n",
              "</table>\n",
              "<p>5 rows × 21 columns</p>\n",
              "</div>\n",
              "      <button class=\"colab-df-convert\" onclick=\"convertToInteractive('df-ad09faa1-9ccb-4fc4-8b8f-4e577023e2f9')\"\n",
              "              title=\"Convert this dataframe to an interactive table.\"\n",
              "              style=\"display:none;\">\n",
              "        \n",
              "  <svg xmlns=\"http://www.w3.org/2000/svg\" height=\"24px\"viewBox=\"0 0 24 24\"\n",
              "       width=\"24px\">\n",
              "    <path d=\"M0 0h24v24H0V0z\" fill=\"none\"/>\n",
              "    <path d=\"M18.56 5.44l.94 2.06.94-2.06 2.06-.94-2.06-.94-.94-2.06-.94 2.06-2.06.94zm-11 1L8.5 8.5l.94-2.06 2.06-.94-2.06-.94L8.5 2.5l-.94 2.06-2.06.94zm10 10l.94 2.06.94-2.06 2.06-.94-2.06-.94-.94-2.06-.94 2.06-2.06.94z\"/><path d=\"M17.41 7.96l-1.37-1.37c-.4-.4-.92-.59-1.43-.59-.52 0-1.04.2-1.43.59L10.3 9.45l-7.72 7.72c-.78.78-.78 2.05 0 2.83L4 21.41c.39.39.9.59 1.41.59.51 0 1.02-.2 1.41-.59l7.78-7.78 2.81-2.81c.8-.78.8-2.07 0-2.86zM5.41 20L4 18.59l7.72-7.72 1.47 1.35L5.41 20z\"/>\n",
              "  </svg>\n",
              "      </button>\n",
              "      \n",
              "  <style>\n",
              "    .colab-df-container {\n",
              "      display:flex;\n",
              "      flex-wrap:wrap;\n",
              "      gap: 12px;\n",
              "    }\n",
              "\n",
              "    .colab-df-convert {\n",
              "      background-color: #E8F0FE;\n",
              "      border: none;\n",
              "      border-radius: 50%;\n",
              "      cursor: pointer;\n",
              "      display: none;\n",
              "      fill: #1967D2;\n",
              "      height: 32px;\n",
              "      padding: 0 0 0 0;\n",
              "      width: 32px;\n",
              "    }\n",
              "\n",
              "    .colab-df-convert:hover {\n",
              "      background-color: #E2EBFA;\n",
              "      box-shadow: 0px 1px 2px rgba(60, 64, 67, 0.3), 0px 1px 3px 1px rgba(60, 64, 67, 0.15);\n",
              "      fill: #174EA6;\n",
              "    }\n",
              "\n",
              "    [theme=dark] .colab-df-convert {\n",
              "      background-color: #3B4455;\n",
              "      fill: #D2E3FC;\n",
              "    }\n",
              "\n",
              "    [theme=dark] .colab-df-convert:hover {\n",
              "      background-color: #434B5C;\n",
              "      box-shadow: 0px 1px 3px 1px rgba(0, 0, 0, 0.15);\n",
              "      filter: drop-shadow(0px 1px 2px rgba(0, 0, 0, 0.3));\n",
              "      fill: #FFFFFF;\n",
              "    }\n",
              "  </style>\n",
              "\n",
              "      <script>\n",
              "        const buttonEl =\n",
              "          document.querySelector('#df-ad09faa1-9ccb-4fc4-8b8f-4e577023e2f9 button.colab-df-convert');\n",
              "        buttonEl.style.display =\n",
              "          google.colab.kernel.accessAllowed ? 'block' : 'none';\n",
              "\n",
              "        async function convertToInteractive(key) {\n",
              "          const element = document.querySelector('#df-ad09faa1-9ccb-4fc4-8b8f-4e577023e2f9');\n",
              "          const dataTable =\n",
              "            await google.colab.kernel.invokeFunction('convertToInteractive',\n",
              "                                                     [key], {});\n",
              "          if (!dataTable) return;\n",
              "\n",
              "          const docLinkHtml = 'Like what you see? Visit the ' +\n",
              "            '<a target=\"_blank\" href=https://colab.research.google.com/notebooks/data_table.ipynb>data table notebook</a>'\n",
              "            + ' to learn more about interactive tables.';\n",
              "          element.innerHTML = '';\n",
              "          dataTable['output_type'] = 'display_data';\n",
              "          await google.colab.output.renderOutput(dataTable, element);\n",
              "          const docLink = document.createElement('div');\n",
              "          docLink.innerHTML = docLinkHtml;\n",
              "          element.appendChild(docLink);\n",
              "        }\n",
              "      </script>\n",
              "    </div>\n",
              "  </div>\n",
              "  "
            ]
          },
          "metadata": {},
          "execution_count": 331
        }
      ],
      "source": [
        "dataset.head()"
      ]
    },
    {
      "cell_type": "code",
      "execution_count": 332,
      "metadata": {
        "colab": {
          "base_uri": "https://localhost:8080/"
        },
        "id": "KhuaRCdnZ3Us",
        "outputId": "83750f4b-0f46-4c91-9e72-3c59668054cb"
      },
      "outputs": [
        {
          "output_type": "execute_result",
          "data": {
            "text/plain": [
              "array([ 0,  2,  4,  1,  5,  3,  6, 11, 10,  9,  8,  7])"
            ]
          },
          "metadata": {},
          "execution_count": 332
        }
      ],
      "source": [
        "dataset[\"job_cl\"].unique()"
      ]
    },
    {
      "cell_type": "code",
      "source": [
        "dataset_2 = dataset.drop(['marital_cl',\n",
        "                                  'education_cl', 'default_cl',\\\n",
        "                                  'housing_cl', 'loan_cl',\\\n",
        "                                  'contact_cl', 'month_cl',\\\n",
        "                                  'day_of_week_cl', 'job_cl',\\\n",
        "                                  'poutcome_cl'], axis=1)"
      ],
      "metadata": {
        "id": "RspHQqfwr-z7"
      },
      "execution_count": 333,
      "outputs": []
    },
    {
      "cell_type": "code",
      "execution_count": 334,
      "metadata": {
        "id": "m1KPJlC84Hpk"
      },
      "outputs": [],
      "source": [
        "X = dataset_2.iloc[:, :-1].values\n",
        "y = dataset[\"y_cl\"]"
      ]
    },
    {
      "cell_type": "code",
      "execution_count": 335,
      "metadata": {
        "id": "gXrc12mv4KPy"
      },
      "outputs": [],
      "source": [
        "# https://scikit-learn.org/stable/modules/generated/sklearn.model_selection.train_test_split.html\n",
        "from sklearn.model_selection import train_test_split\n",
        "X_train, X_test, y_train, y_test = train_test_split(X, y, test_size=0.20) # Разбитие на обучающие и тестовые выборки"
      ]
    },
    {
      "cell_type": "code",
      "execution_count": 336,
      "metadata": {
        "cellView": "code",
        "id": "52DfYDfT4ZyT"
      },
      "outputs": [],
      "source": [
        "# https://scikit-learn.org/stable/modules/generated/sklearn.preprocessing.StandardScaler.html\n",
        "\n",
        "# Стандартизация и подготовка данных\n",
        "\n",
        "from sklearn.preprocessing import StandardScaler\n",
        "scaler = StandardScaler()\n",
        "scaler.fit(X_train)\n",
        "\n",
        "X_train = scaler.transform(X_train) \n",
        "X_test = scaler.transform(X_test) "
      ]
    },
    {
      "cell_type": "code",
      "execution_count": 337,
      "metadata": {
        "colab": {
          "base_uri": "https://localhost:8080/"
        },
        "id": "mL2AoRqV6yET",
        "outputId": "4ae0e2cf-5087-40cf-f3a5-caac7f1bdf75"
      },
      "outputs": [
        {
          "output_type": "execute_result",
          "data": {
            "text/plain": [
              "array([[ 1.36036634, -0.61851464, -0.13385853, ...,  0.70789338,\n",
              "         1.00996634,  0.64792139],\n",
              "       [-0.12769059, -0.73000431, -0.13385853, ...,  0.70789338,\n",
              "         1.01155294,  0.64792139],\n",
              "       [ 1.19502668, -0.75787673, -0.58009369, ...,  2.47777741,\n",
              "        -1.16790762, -1.34627454],\n",
              "       ...,\n",
              "       [-0.45836991, -1.03660091,  2.98978761, ...,  0.76378446,\n",
              "         1.0665551 ,  1.074346  ],\n",
              "       [ 0.20298873,  1.63357674, -0.13385853, ..., -1.11788172,\n",
              "        -0.88919476, -0.40837029],\n",
              "       [-0.54103974, -0.28683286,  0.31237664, ...,  0.50295944,\n",
              "        -1.09386626, -1.96579708]])"
            ]
          },
          "metadata": {},
          "execution_count": 337
        }
      ],
      "source": [
        "X_train"
      ]
    },
    {
      "cell_type": "markdown",
      "metadata": {
        "id": "8pNqV3CmvsLS"
      },
      "source": [
        "# Классификация\n",
        "\n",
        "**Классификация** — один из разделов машинного обучения, посвященный решению следующей задачи. Имеется множество объектов (ситуаций), разделённых некоторым образом на классы. Задано конечное множество объектов, для которых известно, к каким классам они относятся. Это множество называется обучающей выборкой. Классовая принадлежность остальных объектов не известна. Требуется построить алгоритм, способный классифицировать произвольный объект из исходного множества.\n",
        "\n",
        "**Классифицировать объект** — значит, указать номер (или наименование класса), к которому относится данный объект.\n"
      ]
    },
    {
      "cell_type": "markdown",
      "metadata": {
        "id": "GpANvD33vzxa"
      },
      "source": [
        "## Формальные постановки задачи классификации\n",
        "\n",
        "### **Классическая постановка**\n",
        "Пусть $X$ — множество описаний объектов, $Y$ — конечное множество номеров (имён, меток) классов. Существует неизвестная целевая зависимость — отображение $y^{*}:\\; X\\to Y$, значения которой известны только на объектах конечной обучающей выборки $X^m = \\{(x_1,y_1),\\dots,(x_m,y_m)\\}$. Требуется построить алгоритм $a:\\; X\\to Y$, способный классифицировать произвольный объект $x \\in X$.\n",
        "\n",
        "### **Вероятностная постановка**\n",
        "Более общей считается вероятностная постановка задачи. Предполагается, что множество пар «объект, класс» $X \\times Y$ является вероятностным пространством с неизвестной вероятностной мерой $\\mathsf P$. Имеется конечная обучающая выборка наблюдений $X^m = \\{(x_1,y_1),\\dots,(x_m,y_m)\\}$, сгенерированная согласно вероятностной мере $\\mathsf P$. Требуется построить алгоритм $a:\\; X\\to Y$, способный классифицировать произвольный объект $x \\in X$."
      ]
    },
    {
      "cell_type": "markdown",
      "metadata": {
        "id": "ezRZuQ36EneM"
      },
      "source": [
        "## Метод k-ближайших соседей (K-Nearest Neighbors)"
      ]
    },
    {
      "cell_type": "markdown",
      "metadata": {
        "id": "jTdWBwnNxxf7"
      },
      "source": [
        "Этот метод работает с помощью поиска кратчайшей дистанции между тестируемым объектом и ближайшими к нему классифицированным объектами из обучающего набора. Классифицируемый объект будет относится к тому классу, к которому принадлежит ближайший объект набора.\n",
        "\n",
        "https://stackabuse.com/k-nearest-neighbors-algorithm-in-python-and-scikit-learn/"
      ]
    },
    {
      "cell_type": "code",
      "execution_count": 338,
      "metadata": {
        "colab": {
          "base_uri": "https://localhost:8080/"
        },
        "id": "pDylEwmj4fiC",
        "outputId": "877a9b81-e3af-4574-83bf-e6bc3a024735"
      },
      "outputs": [
        {
          "output_type": "execute_result",
          "data": {
            "text/plain": [
              "KNeighborsClassifier(n_neighbors=21)"
            ]
          },
          "metadata": {},
          "execution_count": 338
        }
      ],
      "source": [
        "# https://scikit-learn.org/stable/modules/generated/sklearn.neighbors.KNeighborsClassifier.html\n",
        "from sklearn.neighbors import KNeighborsClassifier\n",
        "clf = KNeighborsClassifier(n_neighbors=21)\n",
        "clf.fit(X_train, y_train) # алгоритм оценки для классификатора"
      ]
    },
    {
      "cell_type": "code",
      "execution_count": 339,
      "metadata": {
        "colab": {
          "base_uri": "https://localhost:8080/"
        },
        "id": "3Mv4ILtg5Zxb",
        "outputId": "b77decaa-4698-405a-ccbc-bc3ff34b036d"
      },
      "outputs": [
        {
          "output_type": "stream",
          "name": "stdout",
          "text": [
            "[[812 160]\n",
            " [ 85 799]]\n",
            "              precision    recall  f1-score   support\n",
            "\n",
            "           0       0.91      0.84      0.87       972\n",
            "           1       0.83      0.90      0.87       884\n",
            "\n",
            "    accuracy                           0.87      1856\n",
            "   macro avg       0.87      0.87      0.87      1856\n",
            "weighted avg       0.87      0.87      0.87      1856\n",
            "\n"
          ]
        }
      ],
      "source": [
        "# https://scikit-learn.org/stable/modules/generated/sklearn.metrics.classification_report.html\n",
        "# https://scikit-learn.org/stable/modules/generated/sklearn.metrics.confusion_matrix.html\n",
        "from sklearn.metrics import classification_report, confusion_matrix\n",
        "\n",
        "y_pred = clf.predict(X_test)\n",
        "print(confusion_matrix(y_test, y_pred))\n",
        "print(classification_report(y_test, y_pred))\n",
        "#https://towardsdatascience.com/accuracy-precision-recall-or-f1-331fb37c5cb9"
      ]
    },
    {
      "cell_type": "markdown",
      "metadata": {
        "id": "fO2iu8jO9AGb"
      },
      "source": [
        "## Классификатор дерева решений (Decision Tree Classifier)"
      ]
    },
    {
      "cell_type": "markdown",
      "metadata": {
        "id": "odJU4VYdHs4s"
      },
      "source": [
        "Этот классификатор разбивает данные на всё меньшие и меньшие подмножества на основе разных критериев, т. е. у каждого подмножества своя сортирующая категория. С каждым разделением количество объектов определённого критерия уменьшается.\n",
        "\n",
        "Классификация подойдёт к концу, когда сеть дойдёт до подмножества только с одним объектом. Если объединить несколько подобных деревьев решений, то получится так называемый Случайный Лес (англ. Random Forest).\n",
        "\n",
        "https://stackabuse.com/decision-trees-in-python-with-scikit-learn/"
      ]
    },
    {
      "cell_type": "code",
      "execution_count": 340,
      "metadata": {
        "id": "reVnBBzL9DNr"
      },
      "outputs": [],
      "source": [
        "# https://scikit-learn.org/stable/modules/tree.html\n",
        "from sklearn import tree\n",
        "\n",
        "clf = tree.DecisionTreeClassifier()\n",
        "clf = clf.fit(X_train, y_train)"
      ]
    },
    {
      "cell_type": "code",
      "execution_count": 341,
      "metadata": {
        "colab": {
          "base_uri": "https://localhost:8080/"
        },
        "id": "Sc4c08EB978a",
        "outputId": "a152876a-4aca-4a10-ca8e-3472ec5aba8e"
      },
      "outputs": [
        {
          "output_type": "stream",
          "name": "stdout",
          "text": [
            "[[831 141]\n",
            " [148 736]]\n",
            "              precision    recall  f1-score   support\n",
            "\n",
            "           0       0.85      0.85      0.85       972\n",
            "           1       0.84      0.83      0.84       884\n",
            "\n",
            "    accuracy                           0.84      1856\n",
            "   macro avg       0.84      0.84      0.84      1856\n",
            "weighted avg       0.84      0.84      0.84      1856\n",
            "\n"
          ]
        }
      ],
      "source": [
        "y_pred = clf.predict(X_test)\n",
        "print(confusion_matrix(y_test, y_pred))\n",
        "print(classification_report(y_test, y_pred))"
      ]
    },
    {
      "cell_type": "markdown",
      "metadata": {
        "id": "KhlGvZSf_20s"
      },
      "source": [
        "## Наивный байесовский классификатор (Naive Bayes)"
      ]
    },
    {
      "cell_type": "markdown",
      "metadata": {
        "id": "LQEQoLGBHxxj"
      },
      "source": [
        "Такой классификатор вычисляет вероятность принадлежности объекта к какому-то классу. Эта вероятность вычисляется из шанса, что какое-то событие произойдёт, с опорой на уже на произошедшие события.\n",
        "\n",
        "Каждый параметр классифицируемого объекта считается независимым от других параметров.\n",
        "\n",
        "https://stackabuse.com/the-naive-bayes-algorithm-in-python-with-scikit-learn/"
      ]
    },
    {
      "cell_type": "code",
      "execution_count": 342,
      "metadata": {
        "colab": {
          "base_uri": "https://localhost:8080/"
        },
        "id": "t5SZ8-41AD7T",
        "outputId": "e9b507fb-5721-4539-e878-ef4442a1e210"
      },
      "outputs": [
        {
          "output_type": "execute_result",
          "data": {
            "text/plain": [
              "GaussianNB()"
            ]
          },
          "metadata": {},
          "execution_count": 342
        }
      ],
      "source": [
        "# https://scikit-learn.org/stable/modules/generated/sklearn.naive_bayes.GaussianNB.html\n",
        "from sklearn.naive_bayes import GaussianNB\n",
        "\n",
        "clf = GaussianNB()\n",
        "clf.fit(X_train, y_train)"
      ]
    },
    {
      "cell_type": "code",
      "execution_count": 343,
      "metadata": {
        "colab": {
          "base_uri": "https://localhost:8080/"
        },
        "id": "F1FwdF_3Adqj",
        "outputId": "f1910a9b-3094-4460-fe57-74bfff223798"
      },
      "outputs": [
        {
          "output_type": "stream",
          "name": "stdout",
          "text": [
            "[[807 165]\n",
            " [232 652]]\n",
            "              precision    recall  f1-score   support\n",
            "\n",
            "           0       0.78      0.83      0.80       972\n",
            "           1       0.80      0.74      0.77       884\n",
            "\n",
            "    accuracy                           0.79      1856\n",
            "   macro avg       0.79      0.78      0.78      1856\n",
            "weighted avg       0.79      0.79      0.79      1856\n",
            "\n"
          ]
        }
      ],
      "source": [
        "y_pred = clf.predict(X_test)\n",
        "print(confusion_matrix(y_test, y_pred))\n",
        "print(classification_report(y_test, y_pred))"
      ]
    },
    {
      "cell_type": "markdown",
      "metadata": {
        "id": "be-gSxzoBefL"
      },
      "source": [
        "## Метод опорных векторов (Support Vector Machines)"
      ]
    },
    {
      "cell_type": "markdown",
      "metadata": {
        "id": "whG1wh_FH22s"
      },
      "source": [
        "Работа метода опорных векторов заключается в рисовании линии между разными кластерами точек, которые нужно сгруппировать в классы. С одной стороны линии будут точки, принадлежащие одному классу, с другой стороны — к другому классу.\n",
        "\n",
        "Классификатор будет пытаться увеличить расстояние между рисуемыми линиями и точками на разных сторонах, чтобы увеличить свою «уверенность» определения класса. Когда все точки построены, сторона, на которую они падают — это класс, которому эти точки принадлежат.\n",
        "\n",
        "https://stackabuse.com/implementing-svm-and-kernel-svm-with-pythons-scikit-learn/"
      ]
    },
    {
      "cell_type": "code",
      "execution_count": 344,
      "metadata": {
        "colab": {
          "base_uri": "https://localhost:8080/"
        },
        "id": "DhmuMLCkAwRb",
        "outputId": "8bee5258-d2d2-44da-a8f1-fb9e30447dae"
      },
      "outputs": [
        {
          "output_type": "execute_result",
          "data": {
            "text/plain": [
              "SVC()"
            ]
          },
          "metadata": {},
          "execution_count": 344
        }
      ],
      "source": [
        "# https://scikit-learn.org/stable/modules/svm.html\n",
        "from sklearn import svm\n",
        "clf = svm.SVC()\n",
        "clf.fit(X_train, y_train)"
      ]
    },
    {
      "cell_type": "code",
      "execution_count": 345,
      "metadata": {
        "colab": {
          "base_uri": "https://localhost:8080/"
        },
        "id": "87JsABK4C48U",
        "outputId": "74ad7291-4872-4e06-89dc-6745eac1e881"
      },
      "outputs": [
        {
          "output_type": "stream",
          "name": "stdout",
          "text": [
            "[[793 179]\n",
            " [ 58 826]]\n",
            "              precision    recall  f1-score   support\n",
            "\n",
            "           0       0.93      0.82      0.87       972\n",
            "           1       0.82      0.93      0.87       884\n",
            "\n",
            "    accuracy                           0.87      1856\n",
            "   macro avg       0.88      0.88      0.87      1856\n",
            "weighted avg       0.88      0.87      0.87      1856\n",
            "\n"
          ]
        }
      ],
      "source": [
        "y_pred = clf.predict(X_test)\n",
        "print(confusion_matrix(y_test, y_pred))\n",
        "print(classification_report(y_test, y_pred))"
      ]
    },
    {
      "cell_type": "markdown",
      "metadata": {
        "id": "2O9HRxFuDsAz"
      },
      "source": [
        "## Логистическая регрессия (Logistic Regression)\n"
      ]
    },
    {
      "cell_type": "markdown",
      "metadata": {
        "id": "YqqsXN4rH47j"
      },
      "source": [
        "\n",
        "\n",
        "Логистическая регрессия выводит прогнозы о точках в бинарном масштабе — нулевом или единичном. Если значение чего-либо равно либо больше 0.5, то объект классифицируется в большую сторону (к единице). Если значение меньше 0.5 — в меньшую (к нулю).\n",
        "\n",
        "У каждого признака есть своя метка, равная только 0 или только 1. Логистическая регрессия является линейным классификатором и поэтому используется, когда в данных прослеживается какая-то линейная зависимость.\n",
        "\n",
        "https://ru.wikipedia.org/wiki/Логистическая_регрессия"
      ]
    },
    {
      "cell_type": "code",
      "execution_count": 346,
      "metadata": {
        "colab": {
          "base_uri": "https://localhost:8080/"
        },
        "id": "sVLskEW9Du_b",
        "outputId": "077d153d-1c72-4b99-80e6-b22680d5d570"
      },
      "outputs": [
        {
          "output_type": "execute_result",
          "data": {
            "text/plain": [
              "LogisticRegression()"
            ]
          },
          "metadata": {},
          "execution_count": 346
        }
      ],
      "source": [
        "# https://scikit-learn.org/stable/modules/generated/sklearn.linear_model.LogisticRegression.html\n",
        "from sklearn.linear_model import LogisticRegression\n",
        "\n",
        "clf = LogisticRegression()\n",
        "clf.fit(X_train, y_train)"
      ]
    },
    {
      "cell_type": "code",
      "execution_count": 347,
      "metadata": {
        "colab": {
          "base_uri": "https://localhost:8080/"
        },
        "id": "yZcw3VF_D60r",
        "outputId": "6a99ad35-f77d-4077-8c30-7489cfc66737"
      },
      "outputs": [
        {
          "output_type": "stream",
          "name": "stdout",
          "text": [
            "[[817 155]\n",
            " [130 754]]\n",
            "              precision    recall  f1-score   support\n",
            "\n",
            "           0       0.86      0.84      0.85       972\n",
            "           1       0.83      0.85      0.84       884\n",
            "\n",
            "    accuracy                           0.85      1856\n",
            "   macro avg       0.85      0.85      0.85      1856\n",
            "weighted avg       0.85      0.85      0.85      1856\n",
            "\n"
          ]
        }
      ],
      "source": [
        "y_pred = clf.predict(X_test)\n",
        "print(confusion_matrix(y_test, y_pred))\n",
        "print(classification_report(y_test, y_pred))"
      ]
    },
    {
      "cell_type": "markdown",
      "metadata": {
        "id": "h8cXVToX_eRd"
      },
      "source": [
        "## from sklearn.linear_model import Perceptron"
      ]
    },
    {
      "cell_type": "code",
      "execution_count": 348,
      "metadata": {
        "colab": {
          "base_uri": "https://localhost:8080/"
        },
        "id": "oAtOuTbb_gjG",
        "outputId": "415ac950-31ef-4707-cf07-394cfe1f0925"
      },
      "outputs": [
        {
          "output_type": "execute_result",
          "data": {
            "text/plain": [
              "Perceptron()"
            ]
          },
          "metadata": {},
          "execution_count": 348
        }
      ],
      "source": [
        "from sklearn.linear_model import Perceptron\n",
        "\n",
        "clf = Perceptron()\n",
        "clf.fit(X_train, y_train)"
      ]
    },
    {
      "cell_type": "code",
      "execution_count": 348,
      "metadata": {
        "id": "inFsOEZ8_rit"
      },
      "outputs": [],
      "source": [
        ""
      ]
    },
    {
      "cell_type": "markdown",
      "metadata": {
        "id": "ik2jokpPNHha"
      },
      "source": [
        "# Разделение выборки"
      ]
    },
    {
      "cell_type": "code",
      "execution_count": 349,
      "metadata": {
        "id": "wsFrnzfbOqBb"
      },
      "outputs": [],
      "source": [
        "import pandas as pd\n",
        "\n",
        "dataset = pd.read_csv('balanced_bank_preprocessed.csv')\n",
        "del dataset['Unnamed: 0']"
      ]
    },
    {
      "cell_type": "code",
      "execution_count": 350,
      "metadata": {
        "id": "t2BUa2OqO67C"
      },
      "outputs": [],
      "source": [
        "X = dataset.iloc[:, :-1].values\n",
        "y = dataset.iloc[:, 4].values"
      ]
    },
    {
      "cell_type": "code",
      "execution_count": 351,
      "metadata": {
        "colab": {
          "base_uri": "https://localhost:8080/"
        },
        "id": "vKgLP7OSOxUz",
        "outputId": "154ebe24-2205-431f-8b66-fb68a9c0132f"
      },
      "outputs": [
        {
          "output_type": "stream",
          "name": "stdout",
          "text": [
            "dict_values([6210, 1214])\n",
            "dict_values([289, 1567])\n"
          ]
        }
      ],
      "source": [
        "from sklearn.model_selection import train_test_split\n",
        "\n",
        "from collections import Counter\n",
        "\n",
        "X_train, X_test, y_train, y_test = train_test_split(X, y, test_size=0.20)\n",
        "print(Counter(y_train).values())\n",
        "print(Counter(y_test).values())"
      ]
    },
    {
      "cell_type": "code",
      "execution_count": 352,
      "metadata": {
        "colab": {
          "base_uri": "https://localhost:8080/"
        },
        "id": "XrTxB6H9QnB8",
        "outputId": "7ba37c31-2180-44d6-a4af-15b86bedc556"
      },
      "outputs": [
        {
          "output_type": "stream",
          "name": "stdout",
          "text": [
            "dict_values([6222, 1202])\n",
            "dict_values([1555, 301])\n"
          ]
        }
      ],
      "source": [
        "from sklearn.model_selection import train_test_split\n",
        "X_train, X_test, y_train, y_test = train_test_split(X, y, test_size=0.20, stratify=y)\n",
        "print(Counter(y_train).values())\n",
        "print(Counter(y_test).values())"
      ]
    },
    {
      "cell_type": "markdown",
      "metadata": {
        "id": "yn_MmhpSM0a6"
      },
      "source": [
        "# Кросс-валидация"
      ]
    },
    {
      "cell_type": "code",
      "execution_count": 353,
      "metadata": {
        "id": "nBKQ7kCtTPib"
      },
      "outputs": [],
      "source": [
        "import pandas as pd\n",
        "\n",
        "dataset = pd.read_csv('balanced_bank_preprocessed.csv')\n",
        "del dataset['Unnamed: 0']"
      ]
    },
    {
      "cell_type": "code",
      "execution_count": 354,
      "metadata": {
        "id": "FvMsRqj5TSqT"
      },
      "outputs": [],
      "source": [
        "X = dataset.iloc[:, :-1].values\n",
        "y = dataset.iloc[:, 4].values"
      ]
    },
    {
      "cell_type": "code",
      "execution_count": 355,
      "metadata": {
        "colab": {
          "base_uri": "https://localhost:8080/"
        },
        "id": "RRJyNONgNqQi",
        "outputId": "fa177285-4a1a-4e93-d326-132861f758ba"
      },
      "outputs": [
        {
          "output_type": "stream",
          "name": "stdout",
          "text": [
            "TRAIN: [1628 1638 1642 ... 9277 9278 9279] TEST: [   0    1    2 ... 1890 1891 1892]\n",
            "TRAIN: [   0    1    2 ... 9277 9278 9279] TEST: [1628 1638 1642 ... 3750 3751 3752]\n",
            "TRAIN: [   0    1    2 ... 9277 9278 9279] TEST: [3493 3496 3506 ... 5575 5577 5578]\n",
            "TRAIN: [   0    1    2 ... 9277 9278 9279] TEST: [5539 5554 5557 ... 7441 7443 7444]\n",
            "TRAIN: [   0    1    2 ... 7441 7443 7444] TEST: [7261 7295 7301 ... 9277 9278 9279]\n"
          ]
        }
      ],
      "source": [
        "from sklearn.model_selection import StratifiedKFold\n",
        "\n",
        "skf = StratifiedKFold(n_splits=5)\n",
        "for train_index, test_index in skf.split(X, y):\n",
        "  print(\"TRAIN:\", train_index, \"TEST:\", test_index)\n",
        "  X_train, X_test = X[train_index], X[test_index]\n",
        "  y_train, y_test = y[train_index], y[test_index]"
      ]
    },
    {
      "cell_type": "code",
      "execution_count": 356,
      "metadata": {
        "colab": {
          "base_uri": "https://localhost:8080/"
        },
        "id": "bepAcDhYTu-D",
        "outputId": "90976f96-0fce-463b-a9cb-8753dfa2d01d"
      },
      "outputs": [
        {
          "output_type": "stream",
          "name": "stdout",
          "text": [
            "              precision    recall  f1-score   support\n",
            "\n",
            "           0       0.86      0.95      0.90      1556\n",
            "           1       0.44      0.20      0.27       300\n",
            "\n",
            "    accuracy                           0.83      1856\n",
            "   macro avg       0.65      0.57      0.59      1856\n",
            "weighted avg       0.79      0.83      0.80      1856\n",
            "\n",
            "0.8292025862068966\n",
            "              precision    recall  f1-score   support\n",
            "\n",
            "           0       0.86      0.95      0.90      1556\n",
            "           1       0.42      0.17      0.24       300\n",
            "\n",
            "    accuracy                           0.83      1856\n",
            "   macro avg       0.64      0.56      0.57      1856\n",
            "weighted avg       0.79      0.83      0.80      1856\n",
            "\n",
            "0.8270474137931034\n",
            "              precision    recall  f1-score   support\n",
            "\n",
            "           0       0.86      0.95      0.90      1555\n",
            "           1       0.40      0.18      0.25       301\n",
            "\n",
            "    accuracy                           0.82      1856\n",
            "   macro avg       0.63      0.56      0.58      1856\n",
            "weighted avg       0.78      0.82      0.79      1856\n",
            "\n",
            "0.8232758620689655\n",
            "              precision    recall  f1-score   support\n",
            "\n",
            "           0       0.85      0.96      0.90      1555\n",
            "           1       0.41      0.15      0.22       301\n",
            "\n",
            "    accuracy                           0.83      1856\n",
            "   macro avg       0.63      0.55      0.56      1856\n",
            "weighted avg       0.78      0.83      0.79      1856\n",
            "\n",
            "0.8275862068965517\n",
            "              precision    recall  f1-score   support\n",
            "\n",
            "           0       0.85      0.94      0.89      1555\n",
            "           1       0.34      0.16      0.22       301\n",
            "\n",
            "    accuracy                           0.81      1856\n",
            "   macro avg       0.60      0.55      0.56      1856\n",
            "weighted avg       0.77      0.81      0.78      1856\n",
            "\n",
            "0.8135775862068966\n"
          ]
        }
      ],
      "source": [
        "from sklearn.model_selection import StratifiedKFold\n",
        "\n",
        "skf = StratifiedKFold(n_splits=5)\n",
        "for train_index, test_index in skf.split(X, y):\n",
        "  X_train, X_test = X[train_index], X[test_index]\n",
        "  y_train, y_test = y[train_index], y[test_index]\n",
        "  clf = KNeighborsClassifier(n_neighbors=5)\n",
        "  clf.fit(X_train, y_train)\n",
        "  y_pred = clf.predict(X_test)\n",
        "  print(classification_report(y_test, y_pred))\n",
        "  print(clf.score(X_test, y_test))"
      ]
    },
    {
      "cell_type": "markdown",
      "metadata": {
        "id": "1g8Ca3-nM6e6"
      },
      "source": [
        "# Подбор гиперпараметров"
      ]
    },
    {
      "cell_type": "code",
      "execution_count": 357,
      "metadata": {
        "colab": {
          "base_uri": "https://localhost:8080/"
        },
        "id": "qQ9_wRWLUP67",
        "outputId": "6bc5192b-1a35-43ce-e884-981d931865d1"
      },
      "outputs": [
        {
          "output_type": "execute_result",
          "data": {
            "text/plain": [
              "{'mean_fit_time': array([0.00495586, 0.00192232, 0.00205564, 0.0020216 , 0.00224204,\n",
              "        0.00211134, 0.00566378, 0.00204229, 0.0042737 , 0.00287914,\n",
              "        0.00263686, 0.00200214, 0.00384493, 0.0020288 , 0.00208282,\n",
              "        0.00208845, 0.00235472, 0.00206647, 0.0034668 , 0.00145698]),\n",
              " 'mean_score_time': array([0.37360129, 0.30471354, 0.32165308, 0.43023062, 0.418891  ,\n",
              "        0.42927413, 0.58850412, 0.48966079, 0.49551854, 0.413726  ,\n",
              "        0.44030266, 0.41205454, 0.41084824, 0.44891829, 0.39071465,\n",
              "        0.34593344, 0.40344505, 0.40958495, 0.41466217, 0.25450497]),\n",
              " 'mean_test_score': array([0.78717616, 0.83028007, 0.81236489, 0.82906759, 0.8186974 ,\n",
              "        0.83055006, 0.82758737, 0.83418779, 0.82758692, 0.83297449,\n",
              "        0.82920317, 0.8316276 , 0.8290684 , 0.83310953, 0.83176228,\n",
              "        0.83391716, 0.83283972, 0.83553359, 0.83405184, 0.835399  ]),\n",
              " 'param_n_neighbors': masked_array(data=[1, 2, 3, 4, 5, 6, 7, 8, 9, 10, 11, 12, 13, 14, 15, 16,\n",
              "                    17, 18, 19, 20],\n",
              "              mask=[False, False, False, False, False, False, False, False,\n",
              "                    False, False, False, False, False, False, False, False,\n",
              "                    False, False, False, False],\n",
              "        fill_value='?',\n",
              "             dtype=object),\n",
              " 'params': [{'n_neighbors': 1},\n",
              "  {'n_neighbors': 2},\n",
              "  {'n_neighbors': 3},\n",
              "  {'n_neighbors': 4},\n",
              "  {'n_neighbors': 5},\n",
              "  {'n_neighbors': 6},\n",
              "  {'n_neighbors': 7},\n",
              "  {'n_neighbors': 8},\n",
              "  {'n_neighbors': 9},\n",
              "  {'n_neighbors': 10},\n",
              "  {'n_neighbors': 11},\n",
              "  {'n_neighbors': 12},\n",
              "  {'n_neighbors': 13},\n",
              "  {'n_neighbors': 14},\n",
              "  {'n_neighbors': 15},\n",
              "  {'n_neighbors': 16},\n",
              "  {'n_neighbors': 17},\n",
              "  {'n_neighbors': 18},\n",
              "  {'n_neighbors': 19},\n",
              "  {'n_neighbors': 20}],\n",
              " 'rank_test_score': array([20, 12, 19, 15, 18, 11, 16,  3, 17,  7, 13, 10, 14,  6,  9,  5,  8,\n",
              "         1,  4,  2], dtype=int32),\n",
              " 'split0_test_score': array([0.78922559, 0.82962963, 0.80673401, 0.83299663, 0.81279461,\n",
              "        0.82760943, 0.82558923, 0.82760943, 0.82289562, 0.82693603,\n",
              "        0.82491582, 0.82828283, 0.82626263, 0.83232323, 0.83097643,\n",
              "        0.83434343, 0.83164983, 0.83569024, 0.83367003, 0.83569024]),\n",
              " 'split1_test_score': array([0.79057239, 0.83636364, 0.81750842, 0.83030303, 0.81548822,\n",
              "        0.83097643, 0.82558923, 0.83232323, 0.82154882, 0.83232323,\n",
              "        0.82760943, 0.83367003, 0.83030303, 0.82693603, 0.82828283,\n",
              "        0.82962963, 0.83299663, 0.83434343, 0.83367003, 0.83367003]),\n",
              " 'split2_test_score': array([0.80673401, 0.83030303, 0.81885522, 0.82828283, 0.82424242,\n",
              "        0.82962963, 0.82626263, 0.83232323, 0.83097643, 0.83636364,\n",
              "        0.83030303, 0.83097643, 0.83030303, 0.83367003, 0.83232323,\n",
              "        0.83434343, 0.82962963, 0.83367003, 0.83164983, 0.83434343]),\n",
              " 'split3_test_score': array([0.76632997, 0.82558923, 0.80942761, 0.82693603, 0.81279461,\n",
              "        0.83030303, 0.82424242, 0.83434343, 0.82962963, 0.83367003,\n",
              "        0.82962963, 0.83030303, 0.82558923, 0.83434343, 0.83232323,\n",
              "        0.83636364, 0.83501684, 0.83703704, 0.83636364, 0.83569024]),\n",
              " 'split4_test_score': array([0.78301887, 0.82951482, 0.80929919, 0.82681941, 0.82816712,\n",
              "        0.83423181, 0.83625337, 0.84433962, 0.8328841 , 0.83557951,\n",
              "        0.83355795, 0.83490566, 0.8328841 , 0.83827493, 0.83490566,\n",
              "        0.83490566, 0.83490566, 0.83692722, 0.83490566, 0.83760108]),\n",
              " 'std_fit_time': array([3.74861512e-03, 1.25367771e-04, 3.46982182e-05, 5.67639339e-05,\n",
              "        5.45882408e-04, 2.46017365e-04, 4.79883366e-03, 5.91485695e-05,\n",
              "        2.69550490e-03, 1.59705301e-03, 1.21141525e-03, 9.43196193e-05,\n",
              "        3.81395570e-03, 5.95056857e-05, 1.98075596e-04, 2.69088296e-05,\n",
              "        6.45305624e-04, 7.37273519e-05, 3.81652472e-03, 6.23988384e-05]),\n",
              " 'std_score_time': array([0.06600102, 0.07085055, 0.027113  , 0.04211894, 0.0322656 ,\n",
              "        0.03545113, 0.06810629, 0.09249604, 0.05961885, 0.03960947,\n",
              "        0.07088987, 0.03768298, 0.05122366, 0.11067355, 0.01619948,\n",
              "        0.03415253, 0.04904036, 0.06114117, 0.22594914, 0.01483404]),\n",
              " 'std_test_score': array([0.0130391 , 0.00346477, 0.00486443, 0.00233141, 0.00633099,\n",
              "        0.00215836, 0.00438243, 0.00553736, 0.00452081, 0.00333597,\n",
              "        0.00287322, 0.00237837, 0.00274172, 0.00366738, 0.00215566,\n",
              "        0.00226754, 0.00203731, 0.00135029, 0.00155786, 0.00135073])}"
            ]
          },
          "metadata": {},
          "execution_count": 357
        }
      ],
      "source": [
        "# https://scikit-learn.org/stable/modules/generated/sklearn.model_selection.GridSearchCV.html\n",
        "from sklearn.model_selection import GridSearchCV\n",
        "import numpy as np\n",
        "\n",
        "from sklearn.neighbors import KNeighborsClassifier\n",
        "\n",
        "parameters = { 'n_neighbors': np.arange(1, 21, 1) }\n",
        "\n",
        "knn = KNeighborsClassifier()\n",
        "\n",
        "clf = GridSearchCV(knn, parameters)\n",
        "\n",
        "clf.fit(X_train, y_train)\n",
        "\n",
        "clf.best_params_\n",
        "\n",
        "clf.cv_results_"
      ]
    },
    {
      "cell_type": "code",
      "source": [
        "y_pred = clf.predict(X_test)\n",
        "print(confusion_matrix(y_test, y_pred))\n",
        "print(classification_report(y_test, y_pred))\n",
        "print(clf.score(X_test, y_test))"
      ],
      "metadata": {
        "colab": {
          "base_uri": "https://localhost:8080/"
        },
        "id": "o21H9xU2qQEz",
        "outputId": "4b9e44e2-c3b4-4378-a352-b6b9f50a7017"
      },
      "execution_count": 358,
      "outputs": [
        {
          "output_type": "stream",
          "name": "stdout",
          "text": [
            "[[1537   18]\n",
            " [ 290   11]]\n",
            "              precision    recall  f1-score   support\n",
            "\n",
            "           0       0.84      0.99      0.91      1555\n",
            "           1       0.38      0.04      0.07       301\n",
            "\n",
            "    accuracy                           0.83      1856\n",
            "   macro avg       0.61      0.51      0.49      1856\n",
            "weighted avg       0.77      0.83      0.77      1856\n",
            "\n",
            "0.834051724137931\n"
          ]
        }
      ]
    },
    {
      "cell_type": "markdown",
      "source": [
        "# Задание 2"
      ],
      "metadata": {
        "id": "mcRBV_pw8Sg6"
      }
    },
    {
      "cell_type": "code",
      "source": [
        "from sklearn.metrics import accuracy_score, recall_score, roc_curve, roc_auc_score\n",
        "import matplotlib.pyplot as plt"
      ],
      "metadata": {
        "id": "SROw1S7v9LOI"
      },
      "execution_count": 359,
      "outputs": []
    },
    {
      "cell_type": "code",
      "source": [
        "Loss = ({'model' : [], 'test_accuracy' : [], 'test_recall' :[] , 'test_auc' :[]}) #Датафрейм для метрик качества\n",
        "df_Loss = pd.DataFrame(Loss)"
      ],
      "metadata": {
        "id": "JCK5r7En8We5"
      },
      "execution_count": 360,
      "outputs": []
    },
    {
      "cell_type": "code",
      "source": [
        "X = dataset_2.iloc[:, :-1].values\n",
        "y = dataset[\"y_cl\"]"
      ],
      "metadata": {
        "id": "PcVro3xT8uVB"
      },
      "execution_count": 361,
      "outputs": []
    },
    {
      "cell_type": "code",
      "source": [
        "X_train, X_test, y_train, y_test = train_test_split(X, y, test_size=0.20) # Разбитие на обучающие и тестовые выборки"
      ],
      "metadata": {
        "id": "kFhz26jo88-R"
      },
      "execution_count": 362,
      "outputs": []
    },
    {
      "cell_type": "code",
      "source": [
        "scaler = StandardScaler()\n",
        "scaler.fit(X_train)\n",
        "\n",
        "X_train = scaler.transform(X_train) \n",
        "X_test = scaler.transform(X_test) "
      ],
      "metadata": {
        "id": "lS091v6C9GbB"
      },
      "execution_count": 363,
      "outputs": []
    },
    {
      "cell_type": "code",
      "source": [
        "def loss_func(df, model, y_test, y_pred):  # функция потерь (для оценки качества обученной модели)\n",
        "  te_ac = accuracy_score(y_test, y_pred).round(4) # Точность\n",
        "  te_rec = recall_score(y_test, y_pred).round(4) # Отзыв\n",
        "  te_auc = roc_auc_score(y_test, y_pred).round(4)\n",
        "  new_row = {'model' : model, 'test_accuracy' : te_ac, 'test_recall' : te_rec, 'test_auc' : te_auc}\n",
        "  df = df.append(new_row, ignore_index = True)\n",
        "  return df"
      ],
      "metadata": {
        "id": "E75hkUDT9Iri"
      },
      "execution_count": 364,
      "outputs": []
    },
    {
      "cell_type": "markdown",
      "source": [
        "## KNN"
      ],
      "metadata": {
        "id": "KBEPqYSaydwq"
      }
    },
    {
      "cell_type": "code",
      "source": [
        "def KNN(X_train, X_test, y_train, k_neighbors):\n",
        "  y_pred_knn = []\n",
        "  y_train = np.array(y_train)\n",
        "  for test_value in X_test: \n",
        "    min_metric = [] # Минимальное расстояние между векторами\n",
        "    for i in range(len(X_train)):\n",
        "      min_metric.append((np.sqrt(np.sum((test_value - X_train[i])**2)), y_train[i]))\n",
        "    m = sorted(min_metric)[:k_neighbors]\n",
        "    first_class = 0\n",
        "    second_class = 0\n",
        "    for i in range(len(m)):\n",
        "      if m[i][1] == 1:\n",
        "        first_class += 1\n",
        "        continue\n",
        "      second_class += 1\n",
        "    if first_class > second_class:\n",
        "      y_pred_knn.append(1)\n",
        "      continue\n",
        "    y_pred_knn.append(0)\n",
        "  return y_pred_knn"
      ],
      "metadata": {
        "id": "j5G2qQGn56-B"
      },
      "execution_count": 365,
      "outputs": []
    },
    {
      "cell_type": "code",
      "source": [
        "y_pred_knn = KNN(X_train, X_test, y_train, 21)\n",
        "loss_func(df_Loss, \"KNN\", y_test, y_pred_knn)"
      ],
      "metadata": {
        "colab": {
          "base_uri": "https://localhost:8080/",
          "height": 81
        },
        "id": "7W5BcuuR-JuZ",
        "outputId": "cda4b9c2-e73d-4757-9610-41cc735a0166"
      },
      "execution_count": 367,
      "outputs": [
        {
          "output_type": "execute_result",
          "data": {
            "text/plain": [
              "  model  test_accuracy  test_recall  test_auc\n",
              "0   KNN         0.8669       0.8852     0.867"
            ],
            "text/html": [
              "\n",
              "  <div id=\"df-32baadaf-4c0c-4f3b-a997-edb20c195e6c\">\n",
              "    <div class=\"colab-df-container\">\n",
              "      <div>\n",
              "<style scoped>\n",
              "    .dataframe tbody tr th:only-of-type {\n",
              "        vertical-align: middle;\n",
              "    }\n",
              "\n",
              "    .dataframe tbody tr th {\n",
              "        vertical-align: top;\n",
              "    }\n",
              "\n",
              "    .dataframe thead th {\n",
              "        text-align: right;\n",
              "    }\n",
              "</style>\n",
              "<table border=\"1\" class=\"dataframe\">\n",
              "  <thead>\n",
              "    <tr style=\"text-align: right;\">\n",
              "      <th></th>\n",
              "      <th>model</th>\n",
              "      <th>test_accuracy</th>\n",
              "      <th>test_recall</th>\n",
              "      <th>test_auc</th>\n",
              "    </tr>\n",
              "  </thead>\n",
              "  <tbody>\n",
              "    <tr>\n",
              "      <th>0</th>\n",
              "      <td>KNN</td>\n",
              "      <td>0.8669</td>\n",
              "      <td>0.8852</td>\n",
              "      <td>0.867</td>\n",
              "    </tr>\n",
              "  </tbody>\n",
              "</table>\n",
              "</div>\n",
              "      <button class=\"colab-df-convert\" onclick=\"convertToInteractive('df-32baadaf-4c0c-4f3b-a997-edb20c195e6c')\"\n",
              "              title=\"Convert this dataframe to an interactive table.\"\n",
              "              style=\"display:none;\">\n",
              "        \n",
              "  <svg xmlns=\"http://www.w3.org/2000/svg\" height=\"24px\"viewBox=\"0 0 24 24\"\n",
              "       width=\"24px\">\n",
              "    <path d=\"M0 0h24v24H0V0z\" fill=\"none\"/>\n",
              "    <path d=\"M18.56 5.44l.94 2.06.94-2.06 2.06-.94-2.06-.94-.94-2.06-.94 2.06-2.06.94zm-11 1L8.5 8.5l.94-2.06 2.06-.94-2.06-.94L8.5 2.5l-.94 2.06-2.06.94zm10 10l.94 2.06.94-2.06 2.06-.94-2.06-.94-.94-2.06-.94 2.06-2.06.94z\"/><path d=\"M17.41 7.96l-1.37-1.37c-.4-.4-.92-.59-1.43-.59-.52 0-1.04.2-1.43.59L10.3 9.45l-7.72 7.72c-.78.78-.78 2.05 0 2.83L4 21.41c.39.39.9.59 1.41.59.51 0 1.02-.2 1.41-.59l7.78-7.78 2.81-2.81c.8-.78.8-2.07 0-2.86zM5.41 20L4 18.59l7.72-7.72 1.47 1.35L5.41 20z\"/>\n",
              "  </svg>\n",
              "      </button>\n",
              "      \n",
              "  <style>\n",
              "    .colab-df-container {\n",
              "      display:flex;\n",
              "      flex-wrap:wrap;\n",
              "      gap: 12px;\n",
              "    }\n",
              "\n",
              "    .colab-df-convert {\n",
              "      background-color: #E8F0FE;\n",
              "      border: none;\n",
              "      border-radius: 50%;\n",
              "      cursor: pointer;\n",
              "      display: none;\n",
              "      fill: #1967D2;\n",
              "      height: 32px;\n",
              "      padding: 0 0 0 0;\n",
              "      width: 32px;\n",
              "    }\n",
              "\n",
              "    .colab-df-convert:hover {\n",
              "      background-color: #E2EBFA;\n",
              "      box-shadow: 0px 1px 2px rgba(60, 64, 67, 0.3), 0px 1px 3px 1px rgba(60, 64, 67, 0.15);\n",
              "      fill: #174EA6;\n",
              "    }\n",
              "\n",
              "    [theme=dark] .colab-df-convert {\n",
              "      background-color: #3B4455;\n",
              "      fill: #D2E3FC;\n",
              "    }\n",
              "\n",
              "    [theme=dark] .colab-df-convert:hover {\n",
              "      background-color: #434B5C;\n",
              "      box-shadow: 0px 1px 3px 1px rgba(0, 0, 0, 0.15);\n",
              "      filter: drop-shadow(0px 1px 2px rgba(0, 0, 0, 0.3));\n",
              "      fill: #FFFFFF;\n",
              "    }\n",
              "  </style>\n",
              "\n",
              "      <script>\n",
              "        const buttonEl =\n",
              "          document.querySelector('#df-32baadaf-4c0c-4f3b-a997-edb20c195e6c button.colab-df-convert');\n",
              "        buttonEl.style.display =\n",
              "          google.colab.kernel.accessAllowed ? 'block' : 'none';\n",
              "\n",
              "        async function convertToInteractive(key) {\n",
              "          const element = document.querySelector('#df-32baadaf-4c0c-4f3b-a997-edb20c195e6c');\n",
              "          const dataTable =\n",
              "            await google.colab.kernel.invokeFunction('convertToInteractive',\n",
              "                                                     [key], {});\n",
              "          if (!dataTable) return;\n",
              "\n",
              "          const docLinkHtml = 'Like what you see? Visit the ' +\n",
              "            '<a target=\"_blank\" href=https://colab.research.google.com/notebooks/data_table.ipynb>data table notebook</a>'\n",
              "            + ' to learn more about interactive tables.';\n",
              "          element.innerHTML = '';\n",
              "          dataTable['output_type'] = 'display_data';\n",
              "          await google.colab.output.renderOutput(dataTable, element);\n",
              "          const docLink = document.createElement('div');\n",
              "          docLink.innerHTML = docLinkHtml;\n",
              "          element.appendChild(docLink);\n",
              "        }\n",
              "      </script>\n",
              "    </div>\n",
              "  </div>\n",
              "  "
            ]
          },
          "metadata": {},
          "execution_count": 367
        }
      ]
    },
    {
      "cell_type": "markdown",
      "source": [
        "## Naive Bayes"
      ],
      "metadata": {
        "id": "Pmy0QMJDCEGI"
      }
    },
    {
      "cell_type": "markdown",
      "source": [
        "### Гауссовский наивный байесовский классификатор\n",
        "\n",
        "В гауссовском наивном байесовском методе предполагается, что непрерывные значения, связанные с каждым признаком, распределены в соответствии с гауссовым распределением. При построении он дает кривую в форме колокола, которая симметрична относительно среднего значения признаков, как показано ниже:"
      ],
      "metadata": {
        "id": "csRFc6yaNFOu"
      }
    },
    {
      "cell_type": "code",
      "source": [
        "from IPython.display import Image\n",
        "Image('naive-bayes-classification-1.png')"
      ],
      "metadata": {
        "colab": {
          "base_uri": "https://localhost:8080/",
          "height": 427
        },
        "id": "QNCAuSAkNUpm",
        "outputId": "d1cdb64b-87f9-436c-eab0-c7757af70bf4"
      },
      "execution_count": 368,
      "outputs": [
        {
          "output_type": "execute_result",
          "data": {
            "text/plain": [
              "<IPython.core.display.Image object>"
            ],
            "image/png": "[encoded data removed]"
          },
          "metadata": {},
          "execution_count": 368
        }
      ]
    },
    {
      "cell_type": "code",
      "source": [
        "# обучение модели на тренировочном наборе\n",
        "from sklearn.naive_bayes import GaussianNB\n",
        "gnb = GaussianNB()\n",
        "gnb.fit(X_train, y_train)\n",
        " \n",
        "# делать прогнозы на тестовом наборе\n",
        "y_pred_NB = gnb.predict(X_test)\n",
        " \n",
        "# сравнение фактических значений ответа (y_test) с прогнозируемыми значениями ответа (y_pred)\n",
        "loss_func(df_Loss, \"Naive Bayes\", y_test, y_pred_NB)"
      ],
      "metadata": {
        "colab": {
          "base_uri": "https://localhost:8080/",
          "height": 81
        },
        "id": "MbSDGImqGIS_",
        "outputId": "795b04db-a8cb-46ff-ef49-1040bdc8c2cb"
      },
      "execution_count": 369,
      "outputs": [
        {
          "output_type": "execute_result",
          "data": {
            "text/plain": [
              "         model  test_accuracy  test_recall  test_auc\n",
              "0  Naive Bayes          0.792       0.7584    0.7918"
            ],
            "text/html": [
              "\n",
              "  <div id=\"df-90f6c6ef-fb9e-4972-824c-988682d080d6\">\n",
              "    <div class=\"colab-df-container\">\n",
              "      <div>\n",
              "<style scoped>\n",
              "    .dataframe tbody tr th:only-of-type {\n",
              "        vertical-align: middle;\n",
              "    }\n",
              "\n",
              "    .dataframe tbody tr th {\n",
              "        vertical-align: top;\n",
              "    }\n",
              "\n",
              "    .dataframe thead th {\n",
              "        text-align: right;\n",
              "    }\n",
              "</style>\n",
              "<table border=\"1\" class=\"dataframe\">\n",
              "  <thead>\n",
              "    <tr style=\"text-align: right;\">\n",
              "      <th></th>\n",
              "      <th>model</th>\n",
              "      <th>test_accuracy</th>\n",
              "      <th>test_recall</th>\n",
              "      <th>test_auc</th>\n",
              "    </tr>\n",
              "  </thead>\n",
              "  <tbody>\n",
              "    <tr>\n",
              "      <th>0</th>\n",
              "      <td>Naive Bayes</td>\n",
              "      <td>0.792</td>\n",
              "      <td>0.7584</td>\n",
              "      <td>0.7918</td>\n",
              "    </tr>\n",
              "  </tbody>\n",
              "</table>\n",
              "</div>\n",
              "      <button class=\"colab-df-convert\" onclick=\"convertToInteractive('df-90f6c6ef-fb9e-4972-824c-988682d080d6')\"\n",
              "              title=\"Convert this dataframe to an interactive table.\"\n",
              "              style=\"display:none;\">\n",
              "        \n",
              "  <svg xmlns=\"http://www.w3.org/2000/svg\" height=\"24px\"viewBox=\"0 0 24 24\"\n",
              "       width=\"24px\">\n",
              "    <path d=\"M0 0h24v24H0V0z\" fill=\"none\"/>\n",
              "    <path d=\"M18.56 5.44l.94 2.06.94-2.06 2.06-.94-2.06-.94-.94-2.06-.94 2.06-2.06.94zm-11 1L8.5 8.5l.94-2.06 2.06-.94-2.06-.94L8.5 2.5l-.94 2.06-2.06.94zm10 10l.94 2.06.94-2.06 2.06-.94-2.06-.94-.94-2.06-.94 2.06-2.06.94z\"/><path d=\"M17.41 7.96l-1.37-1.37c-.4-.4-.92-.59-1.43-.59-.52 0-1.04.2-1.43.59L10.3 9.45l-7.72 7.72c-.78.78-.78 2.05 0 2.83L4 21.41c.39.39.9.59 1.41.59.51 0 1.02-.2 1.41-.59l7.78-7.78 2.81-2.81c.8-.78.8-2.07 0-2.86zM5.41 20L4 18.59l7.72-7.72 1.47 1.35L5.41 20z\"/>\n",
              "  </svg>\n",
              "      </button>\n",
              "      \n",
              "  <style>\n",
              "    .colab-df-container {\n",
              "      display:flex;\n",
              "      flex-wrap:wrap;\n",
              "      gap: 12px;\n",
              "    }\n",
              "\n",
              "    .colab-df-convert {\n",
              "      background-color: #E8F0FE;\n",
              "      border: none;\n",
              "      border-radius: 50%;\n",
              "      cursor: pointer;\n",
              "      display: none;\n",
              "      fill: #1967D2;\n",
              "      height: 32px;\n",
              "      padding: 0 0 0 0;\n",
              "      width: 32px;\n",
              "    }\n",
              "\n",
              "    .colab-df-convert:hover {\n",
              "      background-color: #E2EBFA;\n",
              "      box-shadow: 0px 1px 2px rgba(60, 64, 67, 0.3), 0px 1px 3px 1px rgba(60, 64, 67, 0.15);\n",
              "      fill: #174EA6;\n",
              "    }\n",
              "\n",
              "    [theme=dark] .colab-df-convert {\n",
              "      background-color: #3B4455;\n",
              "      fill: #D2E3FC;\n",
              "    }\n",
              "\n",
              "    [theme=dark] .colab-df-convert:hover {\n",
              "      background-color: #434B5C;\n",
              "      box-shadow: 0px 1px 3px 1px rgba(0, 0, 0, 0.15);\n",
              "      filter: drop-shadow(0px 1px 2px rgba(0, 0, 0, 0.3));\n",
              "      fill: #FFFFFF;\n",
              "    }\n",
              "  </style>\n",
              "\n",
              "      <script>\n",
              "        const buttonEl =\n",
              "          document.querySelector('#df-90f6c6ef-fb9e-4972-824c-988682d080d6 button.colab-df-convert');\n",
              "        buttonEl.style.display =\n",
              "          google.colab.kernel.accessAllowed ? 'block' : 'none';\n",
              "\n",
              "        async function convertToInteractive(key) {\n",
              "          const element = document.querySelector('#df-90f6c6ef-fb9e-4972-824c-988682d080d6');\n",
              "          const dataTable =\n",
              "            await google.colab.kernel.invokeFunction('convertToInteractive',\n",
              "                                                     [key], {});\n",
              "          if (!dataTable) return;\n",
              "\n",
              "          const docLinkHtml = 'Like what you see? Visit the ' +\n",
              "            '<a target=\"_blank\" href=https://colab.research.google.com/notebooks/data_table.ipynb>data table notebook</a>'\n",
              "            + ' to learn more about interactive tables.';\n",
              "          element.innerHTML = '';\n",
              "          dataTable['output_type'] = 'display_data';\n",
              "          await google.colab.output.renderOutput(dataTable, element);\n",
              "          const docLink = document.createElement('div');\n",
              "          docLink.innerHTML = docLinkHtml;\n",
              "          element.appendChild(docLink);\n",
              "        }\n",
              "      </script>\n",
              "    </div>\n",
              "  </div>\n",
              "  "
            ]
          },
          "metadata": {},
          "execution_count": 369
        }
      ]
    },
    {
      "cell_type": "markdown",
      "source": [
        "# Результаты"
      ],
      "metadata": {
        "id": "E_SW_PApO2-3"
      }
    },
    {
      "cell_type": "code",
      "source": [
        "plt.figure(figsize = (15,10))\n",
        "models = ['KNN', 'Naive Bayes']\n",
        "y_native = []\n",
        "y_native.append(y_pred_knn)\n",
        "y_native.append(y_pred_NB)\n",
        "for n in range(len(y_native)):\n",
        "    fpr, tpr, _ = roc_curve(y_test, y_native[n])\n",
        "    auc = roc_auc_score(y_test, y_native[n])\n",
        "    lw = 1.5\n",
        "    plt.plot(fpr,tpr,label=str(models[n])+\" AUC=\"+str(auc.round(4)),lw=lw)\n",
        "plt.plot([0, 1], [0, 1], lw=lw, linestyle='--')\n",
        "plt.ylabel('True Positive Rate')\n",
        "plt.xlabel('False Positive Rate')\n",
        "plt.legend(loc=0)\n",
        "plt.show()"
      ],
      "metadata": {
        "colab": {
          "base_uri": "https://localhost:8080/",
          "height": 606
        },
        "id": "GQsH9VfYOMee",
        "outputId": "f2df71a7-95a3-4042-f57a-48cd55e9cb4a"
      },
      "execution_count": 371,
      "outputs": [
        {
          "output_type": "display_data",
          "data": {
            "text/plain": [
              "<Figure size 1080x720 with 1 Axes>"
            ],
            "image/png": "[encoded data removed]"
          },
          "metadata": {
            "needs_background": "light"
          }
        }
      ]
    }
  ],
  "metadata": {
    "colab": {
      "collapsed_sections": [],
      "name": "2_Classification.ipynb",
      "provenance": [],
      "toc_visible": true
    },
    "kernelspec": {
      "display_name": "Python 3",
      "name": "python3"
    }
  },
  "nbformat": 4,
  "nbformat_minor": 0
}