{
 "cells": [
  {
   "cell_type": "code",
   "execution_count": 1,
   "id": "2e135d7d",
   "metadata": {},
   "outputs": [
    {
     "name": "stdout",
     "output_type": "stream",
     "text": [
      "1 2 4 5 6 9\n"
     ]
    }
   ],
   "source": [
    "a = [4,1,3,6,3,7,9,2,7,5]\n",
    "res = set(filter(lambda x: a.count(x) == 1,a))\n",
    "print(*res)"
   ]
  },
  {
   "cell_type": "code",
   "execution_count": null,
   "id": "2e58d55c",
   "metadata": {},
   "outputs": [],
   "source": []
  }
 ],
 "metadata": {
  "kernelspec": {
   "display_name": "Python 3 (ipykernel)",
   "language": "python",
   "name": "python3"
  },
  "language_info": {
   "codemirror_mode": {
    "name": "ipython",
    "version": 3
   },
   "file_extension": ".py",
   "mimetype": "text/x-python",
   "name": "python",
   "nbconvert_exporter": "python",
   "pygments_lexer": "ipython3",
   "version": "3.9.3"
  }
 },
 "nbformat": 4,
 "nbformat_minor": 5
}
